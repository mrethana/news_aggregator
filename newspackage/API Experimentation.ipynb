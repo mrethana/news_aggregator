{
 "cells": [
  {
   "cell_type": "code",
   "execution_count": 1,
   "metadata": {},
   "outputs": [],
   "source": [
    "import requests\n",
    "import re\n",
    "import numpy as np\n",
    "import time\n",
    "from bs4 import BeautifulSoup\n",
    "import pandas as pd\n",
    "import json \n",
    "import requests\n",
    "import datetime\n",
    "from datetime import date\n",
    "pd.set_option('max_colwidth', 800)"
   ]
  },
  {
   "cell_type": "code",
   "execution_count": 2,
   "metadata": {},
   "outputs": [],
   "source": [
    "from newsapi import NewsApiClient\n",
    "newsapi = NewsApiClient(api_key='a539d7df2c7b43e1ac4d12f386d901e8')"
   ]
  },
  {
   "cell_type": "code",
   "execution_count": 3,
   "metadata": {},
   "outputs": [],
   "source": [
    "x = newsapi.get_top_headlines(country='us', page_size=50, category = 'health')"
   ]
  },
  {
   "cell_type": "code",
   "execution_count": 4,
   "metadata": {},
   "outputs": [],
   "source": [
    "nyt_api_key = '13bd501bc77542a58e2e6678619b0d60'"
   ]
  },
  {
   "cell_type": "code",
   "execution_count": 5,
   "metadata": {},
   "outputs": [],
   "source": [
    "today = int(str(date.today()).replace('-',''))\n",
    "last_week = int(str(date.today() - datetime.timedelta(days = 14)).replace('-',''))"
   ]
  },
  {
   "cell_type": "markdown",
   "metadata": {},
   "source": [
    "# NYT"
   ]
  },
  {
   "cell_type": "code",
   "execution_count": 6,
   "metadata": {},
   "outputs": [],
   "source": [
    "today = int(str(date.today()).replace('-',''))\n",
    "last_week = int(str(date.today() - datetime.timedelta(days = 14)).replace('-',''))\n",
    "image_dict = {'keto': 'https://theindianspot.com/wp-content/uploads/2017/09/KETO-DIET-ALL-YOU-WANT-TO-KNOW.jpg',\n",
    "             'ketogenic': 'https://theindianspot.com/wp-content/uploads/2017/09/KETO-DIET-ALL-YOU-WANT-TO-KNOW.jpg',\n",
    "             'paleo': 'https://images.agoramedia.com/everydayhealth/gcms/Can-the-Paleo-Diet-Help-Diabetes-1440x810.jpg',\n",
    "            'paleolithic': 'https://images.agoramedia.com/everydayhealth/gcms/Can-the-Paleo-Diet-Help-Diabetes-1440x810.jpg',\n",
    "             'vegan': 'https://familydoctor.org/wp-content/uploads/2011/09/shutterstock_413417941-705x468.jpg',\n",
    "             'vegetarian': 'https://encrypted-tbn0.gstatic.com/images?q=tbn:ANd9GcQo-azo8tn-BcljdjG3wp5Oub2vmC3OvDJ2-EXIhxB5dG3EJAq-'}\n",
    "\n",
    "def NYT_title_clean(df):\n",
    "    titles = []\n",
    "    for index, row in df.iterrows():\n",
    "        title = row.headline['main']\n",
    "        titles.append(title)\n",
    "    df['title'] = titles\n",
    "    return df\n",
    "\n",
    "def NYT_dropped_rows(df):\n",
    "    df = df.drop(['blog','byline','headline','keywords','multimedia','news_desk','print_page','score','type_of_material','uri'],axis =1)\n",
    "    df.pub_date = pd.to_datetime(df.pub_date).dt.date\n",
    "    df.word_count = round(df.word_count / 150)\n",
    "    df.document_type = 'text'\n",
    "    df['expertise'] = 'Intermediate'\n",
    "    return df\n",
    "\n",
    "def NYT_dataframe_clean(df):\n",
    "    dataframe = NYT_title_clean(df)\n",
    "    dataframe = NYT_dropped_rows(dataframe)\n",
    "    return dataframe\n",
    "\n",
    "def NYT_api_call_section_based(section, source, page, start, end, key):\n",
    "    url = 'http://api.nytimes.com/svc/search/v2/articlesearch.json?fq=section_name:({section_name})&page={page}&source:({source})&begin_date={start}&end_date={end}&api-key={api}'.format(section_name = section, page = page, source = source, start = start, end = end, api = key)\n",
    "    resp = requests.get(url=url)\n",
    "    data = json.loads(resp.text)\n",
    "    df = pd.DataFrame(data['response']['docs'])\n",
    "    df = NYT_dataframe_clean(df)\n",
    "    df['param'] = section\n",
    "    df['image_url'] = 'https://encrypted-tbn0.gstatic.com/images?q=tbn:ANd9GcSHEtiVXw8Wi1tp56Nzd5rH_EoOAJA2RInEWvf5h5CQ-6O_YZp7dw'\n",
    "    return df\n",
    "\n",
    "def NYT_api_call_parameter_ALLTIME(param, page, key):\n",
    "    url = 'http://api.nytimes.com/svc/search/v2/articlesearch.json?q={param}&page={page}&sort=newest&&api-key={api}'.format(param = param, page = page, api = key)\n",
    "    resp = requests.get(url=url)\n",
    "    data = json.loads(resp.text)\n",
    "    df = pd.DataFrame(data['response']['docs'])\n",
    "    df = NYT_dataframe_clean(df)\n",
    "    df['param'] = param\n",
    "    df['image_url'] = image_dict[param]\n",
    "    return df\n",
    "\n",
    "def diet_NYT():\n",
    "    empty = pd.DataFrame()\n",
    "    for word in ['keto','ketogenic','paleo','paleolithic','vegan','vegetarian']:\n",
    "        df = NYT_api_call_parameter_ALLTIME(word,0,nyt_api_key)\n",
    "        empty = empty.append(df, sort=True)\n",
    "        print('Pulled '+word)\n",
    "        time.sleep(2)\n",
    "    empty = empty.drop(['abstract','section_name'],axis = 1)\n",
    "    empty = empty.rename(index=str, columns={\"_id\": \"source_id\", \"document_type\": \"medium\",'pub_date':'date','snippet':'description','word_count':'length'})\n",
    "    return empty\n",
    "\n",
    "# def general_health():\n",
    "#     empty = pd.DataFrame()\n",
    "#     for page in [0,1]:\n",
    "#         df = NYT_api_call_section_based('Health', 'The New York Times',page, last_week, today, nyt_api_key)\n",
    "#         empty = empty.append(df)\n",
    "#         time.sleep(2)\n",
    "#     return empty\n",
    "\n",
    "def intermediate_search():\n",
    "    # df1 = general_health()\n",
    "    df2 = diet_NYT()\n",
    "    # frames = [df1,df2]\n",
    "    # result = pd.concat(frames)\n",
    "    return df2 #result"
   ]
  },
  {
   "cell_type": "markdown",
   "metadata": {},
   "source": [
    "# Social Media"
   ]
  },
  {
   "cell_type": "code",
   "execution_count": 54,
   "metadata": {},
   "outputs": [],
   "source": [
    "all_handles = ['@ATPScience1', '@waitrose', '@MicrobiomeInst', '@veganrecipescom', '@cldiet', '@Onnit', '@vegsoc', '@VeganKosher', '@TheVeganSociety', '@vegan', '@Keto_Recipes_', '@the52diet', '@IFdiet', '@microbiome', '@metagenomics', '@microbiome_news', '@TheGutStuff', '@MyGutHealth', '@PaleoFX', '@PaleoFoundation', '@ThePaleoDiet', '@PaleoComfort', '@cavemanketo', '@KetoFlu', '@TheKetoKitchen_', '@EatKetoWithMe', '@KetoConnect', '@KetoDietZone', '@Ketogenic', '@USDANutrition', '@FoodRev', '@CSPI', '@simplyrecipes', '@FoodNetwork', '@CookingChannel', '@tasty', '@nytfood', '@finecooking', '@mrcookingpanda', '@FODMAPeveryday', '@FODMAPLife', '@FodmappedInfo', '@thefodmapdoctor', '@SimplyGlutenFre', '@gfliving', '@sibotest', '@manjulaskitchen', '@VegTimes', '@CookingLight', '@mealprepwl', '@thehealthygut', '@VitalGutHealth', '@pureguthealth', '@PaleoForBegin', '@PaleoLeap', '@ThePaleoMom', '@paleomagazine', '@PaleoHacks', '@paleogrubs', '@naturalgourmet', '@Low_Carb_Keto', '@NutritionTwins', '@mckelhill', '@WomensFitnessAu', '@WomensHealthMag', '@MensHealthMag', '@mjfit', '@thugkitchen', '@Leslie_Klenke', '@insidePN', '@ThisMamaCooks', '@EdibleWildFood', '@TheEarthDieter', '@HarvardHealth', '@EverydayHealth', '@DailyHealthTips']"
   ]
  },
  {
   "cell_type": "code",
   "execution_count": 8,
   "metadata": {},
   "outputs": [],
   "source": [
    "import tweepy\n",
    "\n",
    "auth = tweepy.OAuthHandler('UGxquWoEO6bisCK6FGhBlrKYp', 'dRw1GVeyzgdfYQD1S4aEZRGaGCep9QusVZWI9gt4uHriOZG4WI')\n",
    "auth.set_access_token('333368932-TP9Vp0cWTZ8FywrhtYj3kSvDjhcSPuISON7ROh4f', 'k42e1QG5t72HiDzi4M7WxRfTUvUodZLKFT6268Eb6mLzw')\n",
    "api = tweepy.API(auth)"
   ]
  },
  {
   "cell_type": "code",
   "execution_count": 10,
   "metadata": {},
   "outputs": [],
   "source": [
    "test = api.get_user('@DailyHealthTips')"
   ]
  },
  {
   "cell_type": "code",
   "execution_count": 20,
   "metadata": {},
   "outputs": [],
   "source": [
    "trial = api.user_timeline('@DailyHealthTips')"
   ]
  },
  {
   "cell_type": "code",
   "execution_count": 67,
   "metadata": {},
   "outputs": [
    {
     "data": {
      "text/plain": [
       "'Facial Flushing: Should You Worry If Your Face Turns Red When You Drink? #AskADoctor #DailyHealthTips… https://t.co/gamBbBOOkg'"
      ]
     },
     "execution_count": 67,
     "metadata": {},
     "output_type": "execute_result"
    }
   ],
   "source": [
    "trial[0].text"
   ]
  },
  {
   "cell_type": "code",
   "execution_count": 49,
   "metadata": {},
   "outputs": [
    {
     "data": {
      "text/plain": [
       "'AskADoctor'"
      ]
     },
     "execution_count": 49,
     "metadata": {},
     "output_type": "execute_result"
    }
   ],
   "source": [
    "trial[0].entities['hashtags'][0]['text']"
   ]
  },
  {
   "cell_type": "code",
   "execution_count": 64,
   "metadata": {},
   "outputs": [],
   "source": [
    "tweets = [{'title':tweet.id, 'date':tweet.created_at.date().strftime('%Y-%m-%d'), \n",
    "           'description': tweet.text, 'source':tweet.user.screen_name, 'formality': 'Informal'} for tweet in trial]"
   ]
  },
  {
   "cell_type": "code",
   "execution_count": 65,
   "metadata": {},
   "outputs": [
    {
     "data": {
      "text/plain": [
       "{'id': 1061974494808629249,\n",
       " 'date': '2018-11-12',\n",
       " 'text': b'Largest Health Q&amp;A site. \\nAsk a Doctor Online at \\nhttps://t.co/kQBzB69Ql9 \\n\\n#oilyskin #moisturizer\\xe2\\x80\\xa6 https://t.co/TIsWSmyUo3',\n",
       " 'name': 'DailyHealthTips'}"
      ]
     },
     "execution_count": 65,
     "metadata": {},
     "output_type": "execute_result"
    }
   ],
   "source": [
    "tweets[1]"
   ]
  },
  {
   "cell_type": "code",
   "execution_count": null,
   "metadata": {},
   "outputs": [],
   "source": [
    "https://twitter.com/i/web/status/1060826864720248832"
   ]
  },
  {
   "cell_type": "code",
   "execution_count": 32,
   "metadata": {},
   "outputs": [],
   "source": [
    "from IPython.core.display import HTML, Image"
   ]
  },
  {
   "cell_type": "code",
   "execution_count": null,
   "metadata": {},
   "outputs": [],
   "source": [
    "display(HTML(\"<a href=\"+link+\">\"+source_name+': '+title+\"</a>\"))"
   ]
  },
  {
   "cell_type": "code",
   "execution_count": 29,
   "metadata": {},
   "outputs": [],
   "source": [
    "import requests\n",
    "\n",
    "class Tweet(object):\n",
    "    def __init__(self, s, embed_str=False):\n",
    "        if not embed_str:\n",
    "            # Use Twitter's oEmbed API\n",
    "            # https://dev.twitter.com/web/embedded-tweets\n",
    "            api = 'https://publish.twitter.com/oembed?url={}'.format(s)\n",
    "            response = requests.get(api)\n",
    "            self.text = response.json()[\"html\"]\n",
    "        else:\n",
    "            self.text = s\n",
    "\n",
    "    def _repr_html_(self):\n",
    "        return self.text\n"
   ]
  },
  {
   "cell_type": "code",
   "execution_count": 52,
   "metadata": {},
   "outputs": [
    {
     "data": {
      "text/html": [
       "<blockquote class=\"twitter-tweet\"><p lang=\"en\" dir=\"ltr\">Facial Flushing: Should You Worry If Your Face Turns Red When You Drink? <a href=\"https://twitter.com/hashtag/AskADoctor?src=hash&amp;ref_src=twsrc%5Etfw\">#AskADoctor</a> <a href=\"https://twitter.com/hashtag/DailyHealthTips?src=hash&amp;ref_src=twsrc%5Etfw\">#DailyHealthTips</a> <a href=\"https://twitter.com/hashtag/HealthcareMagic?src=hash&amp;ref_src=twsrc%5Etfw\">#HealthcareMagic</a> <a href=\"https://t.co/zuYYVHdMXt\">https://t.co/zuYYVHdMXt</a></p>&mdash; Daily Health Tips (@DailyHealthTips) <a href=\"https://twitter.com/DailyHealthTips/status/1062019789294579719?ref_src=twsrc%5Etfw\">November 12, 2018</a></blockquote>\n",
       "<script async src=\"https://platform.twitter.com/widgets.js\" charset=\"utf-8\"></script>\n"
      ],
      "text/plain": [
       "<__main__.Tweet at 0x10b574fd0>"
      ]
     },
     "metadata": {},
     "output_type": "display_data"
    },
    {
     "data": {
      "text/html": [
       "<blockquote class=\"twitter-tweet\"><p lang=\"en\" dir=\"ltr\">Largest Health Q&amp;A site. <br>Ask a Doctor Online at <a href=\"https://t.co/kQBzB69Ql9\">https://t.co/kQBzB69Ql9</a> <a href=\"https://twitter.com/hashtag/oilyskin?src=hash&amp;ref_src=twsrc%5Etfw\">#oilyskin</a> <a href=\"https://twitter.com/hashtag/moisturizer?src=hash&amp;ref_src=twsrc%5Etfw\">#moisturizer</a> <a href=\"https://twitter.com/hashtag/noncomedogenicproducts?src=hash&amp;ref_src=twsrc%5Etfw\">#noncomedogenicproducts</a> <a href=\"https://twitter.com/hashtag/AskADoctor?src=hash&amp;ref_src=twsrc%5Etfw\">#AskADoctor</a> <a href=\"https://twitter.com/hashtag/DailyHealthTips?src=hash&amp;ref_src=twsrc%5Etfw\">#DailyHealthTips</a> <a href=\"https://twitter.com/hashtag/HealthcareMagic?src=hash&amp;ref_src=twsrc%5Etfw\">#HealthcareMagic</a> <a href=\"https://t.co/QO98e3RpKA\">pic.twitter.com/QO98e3RpKA</a></p>&mdash; Daily Health Tips (@DailyHealthTips) <a href=\"https://twitter.com/DailyHealthTips/status/1061974494808629249?ref_src=twsrc%5Etfw\">November 12, 2018</a></blockquote>\n",
       "<script async src=\"https://platform.twitter.com/widgets.js\" charset=\"utf-8\"></script>\n"
      ],
      "text/plain": [
       "<__main__.Tweet at 0x10b574b38>"
      ]
     },
     "metadata": {},
     "output_type": "display_data"
    }
   ],
   "source": [
    "display(Tweet('https://twitter.com/DailyHealthTips/status/1062019789294579719'))\n",
    "display(Tweet('https://twitter.com/DailyHealthTips/status/1061974494808629249'))"
   ]
  },
  {
   "cell_type": "code",
   "execution_count": 28,
   "metadata": {},
   "outputs": [
    {
     "data": {
      "text/plain": [
       "[['1062019789294579719',\n",
       "  datetime.datetime(2018, 11, 12, 16, 30, 23),\n",
       "  b'Facial Flushing: Should You Worry If Your Face Turns Red When You Drink? #AskADoctor #DailyHealthTips\\xe2\\x80\\xa6 https://t.co/gamBbBOOkg'],\n",
       " ['1061974494808629249',\n",
       "  datetime.datetime(2018, 11, 12, 13, 30, 24),\n",
       "  b'Largest Health Q&amp;A site. \\nAsk a Doctor Online at \\nhttps://t.co/kQBzB69Ql9 \\n\\n#oilyskin #moisturizer\\xe2\\x80\\xa6 https://t.co/TIsWSmyUo3'],\n",
       " ['1061929159721697280',\n",
       "  datetime.datetime(2018, 11, 12, 10, 30, 16),\n",
       "  b'5 Tips for Driving When You Have Arthritis or Back Problems #AskADoctor #DailyHealthTips #HealthcareMagic \\n\\nhttps://t.co/6FY34TEDL3'],\n",
       " ['1061868710925873154',\n",
       "  datetime.datetime(2018, 11, 12, 6, 30, 3),\n",
       "  b'Largest Health Q&amp;A site. \\nAsk a Doctor Online at \\nhttps://t.co/kQBzB69Ql9 \\n\\n#obesity #AskADoctor #DailyHealthTips\\xe2\\x80\\xa6 https://t.co/lbLUKkwgS2'],\n",
       " ['1061808322393849857',\n",
       "  datetime.datetime(2018, 11, 12, 2, 30, 6),\n",
       "  b'10 Anti-Aging Foods to Support Your 40s-and-Beyond Body #AskADoctor #DailyHealthTips #HealthcareMagic\\n\\nhttps://t.co/oDbfLDlIS2'],\n",
       " ['1061763044391444481',\n",
       "  datetime.datetime(2018, 11, 11, 23, 30, 11),\n",
       "  b'Largest Health Q&amp;A site. \\nAsk a Doctor Online at \\nhttps://t.co/kQBzB69Ql9 \\n\\n#Dandelionroottea #cleansekidneys\\xe2\\x80\\xa6 https://t.co/KFJeBghqcU'],\n",
       " ['1061665610822807552',\n",
       "  datetime.datetime(2018, 11, 11, 17, 3, 1),\n",
       "  b'10 Traits of Highly Likable People  #AskADoctor #DailyHealthTips #HealthcareMagic \\n\\nhttps://t.co/TQukhrqchu'],\n",
       " ['1061563182492368896',\n",
       "  datetime.datetime(2018, 11, 11, 10, 16),\n",
       "  b'Open Insulin\\xe2\\x80\\x99 Could Change the Future of Diabetes Treatment \\xe2\\x80\\x94 But Is It Safe?  #AskADoctor #DailyHealthTips\\xe2\\x80\\xa6 https://t.co/suiyzrOFMc'],\n",
       " ['1061506346200260608',\n",
       "  datetime.datetime(2018, 11, 11, 6, 30, 9),\n",
       "  b'Largest Health Q&amp;A site. \\nAsk a Doctor Online at \\nhttps://t.co/kQBzB69Ql9 \\n\\n#usingearplugs #headphones\\xe2\\x80\\xa6 https://t.co/AYxU3cnQqk'],\n",
       " ['1061445929612558338',\n",
       "  datetime.datetime(2018, 11, 11, 2, 30, 4),\n",
       "  b'Can fermented dairy shield you against heart disease?  #AskADoctor #DailyHealthTips #HealthcareMagic \\n\\nhttps://t.co/1N9rl5BJJj'],\n",
       " ['1061400654999097344',\n",
       "  datetime.datetime(2018, 11, 10, 23, 30, 10),\n",
       "  b'Largest Health Q&amp;A site. \\nAsk a Doctor Online at \\nhttps://t.co/kQBzB69Ql9 \\n\\n#usesoftbristlebrush\\xe2\\x80\\xa6 https://t.co/qpPVo18DVK'],\n",
       " ['1061294994387025922',\n",
       "  datetime.datetime(2018, 11, 10, 16, 30, 19),\n",
       "  b'Living Well with Rheumatoid Arthritis: 7 Tips from People with RA #AskADoctor #DailyHealthTips #HealthcareMagic \\n\\nhttps://t.co/6FOoejizzI'],\n",
       " ['1061249671190974465',\n",
       "  datetime.datetime(2018, 11, 10, 13, 30, 13),\n",
       "  b'Largest Health Q&amp;A site. \\nAsk a Doctor Online at \\nhttps://t.co/kQBzB69Ql9 \\n\\n#spicyfoods #stomachulcers #AskADoctor\\xe2\\x80\\xa6 https://t.co/HGqiwtDkbm'],\n",
       " ['1061189229122871298',\n",
       "  datetime.datetime(2018, 11, 10, 9, 30, 2),\n",
       "  b'When Should Men See a Dermatologist for Adult Acne? #AskADoctor #DailyHealthTips #HealthcareMagic \\n\\nhttps://t.co/Q8AE0g2k6J'],\n",
       " ['1061128844621631488',\n",
       "  datetime.datetime(2018, 11, 10, 5, 30, 6),\n",
       "  b'Largest Health Q&amp;A site. \\nAsk a Doctor Online at \\nhttps://t.co/kQBzB69Ql9 \\n\\n#sparetime #talkwithyourpartner\\xe2\\x80\\xa6 https://t.co/Hsp6YmgTVB'],\n",
       " ['1061083538857095168',\n",
       "  datetime.datetime(2018, 11, 10, 2, 30, 4),\n",
       "  b'Mysterious Fevers and Pain? You May Have Autoinflammatory Disease  #AskADoctor #DailyHealthTips #HealthcareMagic \\n\\nhttps://t.co/abo1X6adn4'],\n",
       " ['1061038267976572928',\n",
       "  datetime.datetime(2018, 11, 9, 23, 30, 10),\n",
       "  b'Largest Health Q&amp;A site. \\nAsk a Doctor Online at \\nhttps://t.co/kQBzB69Ql9 \\n\\n#Exerciselowersbloodsugar #AskADoctor\\xe2\\x80\\xa6 https://t.co/vHe8HRHIt1'],\n",
       " ['1060932535327318016',\n",
       "  datetime.datetime(2018, 11, 9, 16, 30, 2),\n",
       "  b'Menstrual Clots During Heavy Periods: What\\xe2\\x80\\x99s Normal &amp; What\\xe2\\x80\\x99s Not? #AskADoctor #DailyHealthTips #HealthcareMagic\\n\\nhttps://t.co/ioPjztuSAc'],\n",
       " ['1060887362576760833',\n",
       "  datetime.datetime(2018, 11, 9, 13, 30, 32),\n",
       "  b'Largest Health Q&amp;A site. \\nAsk a Doctor Online at \\nhttps://t.co/kQBzB69Ql9 \\n\\n#exercisetime #donotexercise\\xe2\\x80\\xa6 https://t.co/pNAp8LnD9Z'],\n",
       " ['1060826864720248832',\n",
       "  datetime.datetime(2018, 11, 9, 9, 30, 8),\n",
       "  b'Your Anxiety Loves Sugar. Eat These 3 Things Instead #AskADoctor #DailyHealthTips #HealthcareMagic\\n\\nhttps://t.co/l1Jbjjiwz9']]"
      ]
     },
     "execution_count": 28,
     "metadata": {},
     "output_type": "execute_result"
    }
   ],
   "source": [
    "outtweets"
   ]
  },
  {
   "cell_type": "code",
   "execution_count": 12,
   "metadata": {},
   "outputs": [
    {
     "ename": "AttributeError",
     "evalue": "'User' object has no attribute 'keys'",
     "output_type": "error",
     "traceback": [
      "\u001b[0;31m---------------------------------------------------------------------------\u001b[0m",
      "\u001b[0;31mAttributeError\u001b[0m                            Traceback (most recent call last)",
      "\u001b[0;32m<ipython-input-12-5c454cc94213>\u001b[0m in \u001b[0;36m<module>\u001b[0;34m()\u001b[0m\n\u001b[0;32m----> 1\u001b[0;31m \u001b[0mtest\u001b[0m\u001b[0;34m.\u001b[0m\u001b[0mkeys\u001b[0m\u001b[0;34m(\u001b[0m\u001b[0;34m)\u001b[0m\u001b[0;34m\u001b[0m\u001b[0m\n\u001b[0m",
      "\u001b[0;31mAttributeError\u001b[0m: 'User' object has no attribute 'keys'"
     ]
    }
   ],
   "source": [
    "test.keys()"
   ]
  },
  {
   "cell_type": "code",
   "execution_count": null,
   "metadata": {},
   "outputs": [],
   "source": []
  }
 ],
 "metadata": {
  "kernelspec": {
   "display_name": "Python 3",
   "language": "python",
   "name": "python3"
  },
  "language_info": {
   "codemirror_mode": {
    "name": "ipython",
    "version": 3
   },
   "file_extension": ".py",
   "mimetype": "text/x-python",
   "name": "python",
   "nbconvert_exporter": "python",
   "pygments_lexer": "ipython3",
   "version": "3.6.5"
  }
 },
 "nbformat": 4,
 "nbformat_minor": 2
}
