{
 "cells": [
  {
   "cell_type": "code",
   "execution_count": 20,
   "metadata": {},
   "outputs": [],
   "source": [
    "import requests\n",
    "import re\n",
    "import numpy as np\n",
    "import time\n",
    "from bs4 import BeautifulSoup\n",
    "import pandas as pd\n",
    "import json \n",
    "import requests\n",
    "import datetime\n",
    "from datetime import date\n",
    "import warnings\n",
    "warnings.filterwarnings(\"ignore\")\n",
    "pd.set_option('max_colwidth', 800)\n",
    "import random"
   ]
  },
  {
   "cell_type": "code",
   "execution_count": 2,
   "metadata": {},
   "outputs": [],
   "source": [
    "from newsapi import NewsApiClient\n",
    "newsapi = NewsApiClient(api_key='a539d7df2c7b43e1ac4d12f386d901e8')"
   ]
  },
  {
   "cell_type": "code",
   "execution_count": 3,
   "metadata": {},
   "outputs": [],
   "source": [
    "x = newsapi.get_top_headlines(country='us', page_size=50, category = 'health')"
   ]
  },
  {
   "cell_type": "code",
   "execution_count": 4,
   "metadata": {},
   "outputs": [],
   "source": [
    "nyt_api_key = '13bd501bc77542a58e2e6678619b0d60'"
   ]
  },
  {
   "cell_type": "code",
   "execution_count": 5,
   "metadata": {},
   "outputs": [],
   "source": [
    "today = int(str(date.today()).replace('-',''))\n",
    "last_week = int(str(date.today() - datetime.timedelta(days = 14)).replace('-',''))"
   ]
  },
  {
   "cell_type": "markdown",
   "metadata": {},
   "source": [
    "# NYT & NewsAPI"
   ]
  },
  {
   "cell_type": "code",
   "execution_count": 6,
   "metadata": {},
   "outputs": [],
   "source": [
    "import requests\n",
    "import re\n",
    "import numpy as np\n",
    "import time\n",
    "from bs4 import BeautifulSoup\n",
    "import pandas as pd\n",
    "import json\n",
    "import requests\n",
    "import datetime\n",
    "from datetime import date\n",
    "from apikeys import *\n",
    "from info import *\n",
    "\n",
    "#dates to use for API call\n",
    "today = int(str(date.today()).replace('-',''))\n",
    "last_week = int(str(date.today() - datetime.timedelta(days = 14)).replace('-',''))\n",
    "\n",
    "#NEW YORK TIMES\n",
    "#clean the response from NYT API\n",
    "def NYT_title_clean(df):\n",
    "    titles = []\n",
    "    for index, row in df.iterrows():\n",
    "        title = row.headline['main']\n",
    "        titles.append(title)\n",
    "    df['title'] = titles\n",
    "    return df\n",
    "\n",
    "def NYT_dropped_rows(df):\n",
    "    df.pub_date = pd.to_datetime(df.pub_date).dt.date\n",
    "    df.word_count = round(df.word_count / 150)\n",
    "    df.document_type = 'text'\n",
    "    df['formality'] = 'Intermediate'\n",
    "    return df\n",
    "\n",
    "def NYT_dataframe_clean(df):\n",
    "    dataframe = NYT_title_clean(df)\n",
    "    dataframe = NYT_dropped_rows(dataframe)\n",
    "    return dataframe\n",
    "\n",
    "def NYT_api_call_section_based(section, source, page, start, end, key):\n",
    "    url = 'http://api.nytimes.com/svc/search/v2/articlesearch.json?fq=section_name:({section_name})&page={page}&source:({source})&begin_date={start}&end_date={end}&api-key={api}'.format(section_name = section, page = page, source = source, start = start, end = end, api = key)\n",
    "    resp = requests.get(url=url)\n",
    "    data = json.loads(resp.text)\n",
    "    df = pd.DataFrame(data['response']['docs'])\n",
    "    df = NYT_dataframe_clean(df)\n",
    "    df['param'] = section\n",
    "    df['image_url'] = 'https://encrypted-tbn0.gstatic.com/images?q=tbn:ANd9GcSHEtiVXw8Wi1tp56Nzd5rH_EoOAJA2RInEWvf5h5CQ-6O_YZp7dw'\n",
    "    return df\n",
    "\n",
    "def NYT_api_call_parameter_ALLTIME(param, page, key):\n",
    "    url = 'http://api.nytimes.com/svc/search/v2/articlesearch.json?q={param}&page={page}&sort=newest&&api-key={api}'.format(param = param, page = page, api = key)\n",
    "    resp = requests.get(url=url)\n",
    "    data = json.loads(resp.text)\n",
    "    df = pd.DataFrame(data['response']['docs'])\n",
    "    df = NYT_dataframe_clean(df)\n",
    "    df['param'] = param\n",
    "    df['image_url'] = 'https://greaterbostonhcs.com/wp-content/uploads/2016/05/Nutrition.jpg'\n",
    "    return df\n",
    "\n",
    "def NYT_pull(categories):\n",
    "    empty = pd.DataFrame()\n",
    "    for word in categories:\n",
    "        try:\n",
    "            df = NYT_api_call_parameter_ALLTIME(word,0,nyt_api_key)\n",
    "            empty = empty.append(df, sort=True)\n",
    "            print('Pulled '+word)\n",
    "            time.sleep(2)\n",
    "        except:\n",
    "            print(word + \" EXCEPTION!!!!\")\n",
    "    empty = empty.drop(['abstract','section_name'],axis = 1)\n",
    "    empty = empty.rename(index=str, columns={\"_id\": \"source_id\", \"document_type\": \"medium\",'pub_date':'date','snippet':'description','word_count':'length'})\n",
    "    return empty\n",
    "\n",
    "#NEWSAPI\n",
    "\n",
    "def rename_columns(df):\n",
    "    df = df.rename(index=str, columns={'publishedAt':'date','url':'web_url','urlToImage':'image_url'})\n",
    "    return df\n",
    "\n",
    "def add_words(df):\n",
    "    lengths = []\n",
    "    for string in df.content:\n",
    "        try:\n",
    "            lengths.append(round(int(string[string.find('+')+1:string.find(' chars')]) / 4 / 250))\n",
    "        except:\n",
    "            lengths.append(4)\n",
    "    return lengths\n",
    "\n",
    "def split_source_info(list_of_dicts):\n",
    "    for item in list_of_dicts:\n",
    "        item['source_id'] = item['source']['id']\n",
    "        item['source'] = item['source']['name']\n",
    "\n",
    "def pull_articles(parameter):\n",
    "    article_results_rel = newsapi.get_everything(q=parameter,sort_by = 'relevancy',language='en', page_size=10, sources=sources_joined)\n",
    "    article_results_rel = article_results_rel['articles']\n",
    "    split_source_info(article_results_rel)\n",
    "    return article_results_rel\n",
    "\n",
    "def clean_articles(list_of_dicts, search_param):\n",
    "    df = pd.DataFrame(list_of_dicts)\n",
    "    try:\n",
    "        df['medium'] = 'text'\n",
    "        df['param'] = search_param\n",
    "        df['publishedAt'] = df['publishedAt'].apply(lambda x: pd.to_datetime(x).date().strftime('%Y-%m-%d'))\n",
    "        df['formality'] = 'Intermediate'\n",
    "        df['length'] = add_words(df)\n",
    "        df = rename_columns(df)\n",
    "        print(search_param)\n",
    "    except:\n",
    "        pass\n",
    "    return df\n",
    "\n",
    "\n",
    "def call_news_api(categories):\n",
    "    empty_df = pd.DataFrame()\n",
    "    for category in categories:\n",
    "        dicts = pull_articles(category)\n",
    "        df = clean_articles(dicts, category)\n",
    "        try:\n",
    "            empty_df = empty_df.append(df, sort=True)\n",
    "        except:\n",
    "            pass\n",
    "        print(len(empty_df.index))\n",
    "    return empty_df\n"
   ]
  },
  {
   "cell_type": "markdown",
   "metadata": {},
   "source": [
    "# Social Media"
   ]
  },
  {
   "cell_type": "code",
   "execution_count": 140,
   "metadata": {},
   "outputs": [],
   "source": [
    "nutrition_cats = ['aminos','keto','pressure cooked carbs','sprouted carbs','mct','coconut','farm','corn-fed','amino','cruciferous','wheat','vegetiable','cooking','factory','anti-biotic','grass-fed','plant','animal','blood','refined','simple','complex','white','brown','foodmap'\n",
    ",'gluten','vegan','vegetarian','gut','paleo','ketogenic','infloamation','vegetiable oil','organic','gluten free','vegan diet','vegetarian diet','intermittent fasting','night shade','root veggies','cruciferous vegetables','grains','glysophate','pesticides','factory farming','free range','anti-biotic free','sprouts','beans','legumes'\n",
    ",'lectins','dark leafy greens','foodmap diet','paleo diet','ketogenic diet','micronutrient','macronutrient','diabetes','meal prep','leaky gut','fat on nutrion label','lean protein','cholestrol','natural sugars','brain fog','mct oil','coconut oil','pressure cooked carbs','sprouted carbs','sourdough','bcaas','essential amino acids','wild fish','farm raised fish','corn-fed beef'\n",
    ",'wild game','bioavailability','amino acids','meat','sprouted','vitamins','supplements','auto-immune','hormone','gluconeogenesis','bad fat','good fat','anti-inflammatory','inflammation','energy','mood','gut brain connection','wheat belly','fermented','vegetable oils','cooking oils','fat loss','grass-fed dairy','grass-fed protein','plant based protein'\n",
    ",'animal protein','protein','sugar','blood glucose','fiber','starch','refined sugar','refined carbs','simple carbs','complex carbs','carbs','white hdl fat','brown ldl fat','fats','prebiotic','enzymes','probiotic','microbiome','gut health']\n"
   ]
  },
  {
   "cell_type": "code",
   "execution_count": 159,
   "metadata": {},
   "outputs": [],
   "source": [
    "import tweepy\n",
    "from apikeys import *\n",
    "import pandas as pd\n",
    "import json\n",
    "import requests\n",
    "import datetime\n",
    "from datetime import date\n",
    "from info import *\n",
    "\n",
    "auth = tweepy.OAuthHandler(twitter_1, twitter_2)\n",
    "auth.set_access_token(twitter_3, twitter_4)\n",
    "api = tweepy.API(auth)\n",
    "#all twitter handles to scrape\n",
    "twitter_handles = ['@ATPScience1', '@waitrose', '@MicrobiomeInst']#, '@veganrecipescom', '@cldiet', '@Onnit', '@vegsoc', '@VeganKosher', '@TheVeganSociety', '@vegan', '@Keto_Recipes_', '@the52diet', '@IFdiet', '@microbiome', '@metagenomics', '@microbiome_news', '@TheGutStuff', '@MyGutHealth', '@PaleoFX',\n",
    "# '@PaleoFoundation', '@ThePaleoDiet', '@PaleoComfort', '@cavemanketo', '@KetoFlu', '@TheKetoKitchen_', '@EatKetoWithMe', '@KetoConnect', '@KetoDietZone', '@Ketogenic', '@USDANutrition', '@FoodRev', '@CSPI', '@simplyrecipes', '@FoodNetwork', '@CookingChannel', '@tasty', '@nytfood', '@finecooking', '@mrcookingpanda'\n",
    "# , '@FODMAPeveryday', '@FODMAPLife', '@FodmappedInfo', '@thefodmapdoctor', '@SimplyGlutenFre', '@gfliving', '@sibotest', '@manjulaskitchen', '@VegTimes', '@CookingLight', '@mealprepwl', '@thehealthygut', '@VitalGutHealth', '@pureguthealth', '@PaleoForBegin', '@PaleoLeap', '@ThePaleoMom', '@paleomagazine', '@PaleoHacks', '@paleogrubs',\n",
    "# '@naturalgourmet', '@Low_Carb_Keto', '@NutritionTwins', '@mckelhill', '@WomensFitnessAu', '@WomensHealthMag', '@MensHealthMag', '@mjfit', '@thugkitchen', '@Leslie_Klenke', '@insidePN', '@ThisMamaCooks', '@EdibleWildFood', '@TheEarthDieter', '@HarvardHealth', '@EverydayHealth', '@DailyHealthTips']\n",
    "\n",
    "#clean response from twitter\n",
    "nutrition_cats = ['aminos','keto','pressure cooked carbs','sprouted carbs','mct','coconut','farm','corn-fed','amino','cruciferous','wheat','vegetiable','cooking','factory','anti-biotic','grass-fed','plant','animal','blood','refined','simple','complex','white','brown','foodmap'\n",
    ",'gluten','vegan','vegetarian','gut','paleo','ketogenic','infloamation','vegetiable oil','organic','gluten free','vegan diet','vegetarian diet','intermittent fasting','night shade','root veggies','cruciferous vegetables','grains','glysophate','pesticides','factory farming','free range','anti-biotic free','sprouts','beans','legumes'\n",
    ",'lectins','dark leafy greens','foodmap diet','paleo diet','ketogenic diet','micronutrient','macronutrient','diabetes','meal prep','leaky gut','fat on nutrion label','lean protein','cholestrol','natural sugars','brain fog','mct oil','coconut oil','pressure cooked carbs','sprouted carbs','sourdough','bcaas','essential amino acids','wild fish','farm raised fish','corn-fed beef'\n",
    ",'wild game','bioavailability','amino acids','meat','sprouted','vitamins','supplements','auto-immune','hormone','gluconeogenesis','bad fat','good fat','anti-inflammatory','inflammation','energy','mood','gut brain connection','wheat belly','fermented','vegetable oils','cooking oils','fat loss','grass-fed dairy','grass-fed protein','plant based protein'\n",
    ",'animal protein','protein','sugar','blood glucose','fiber','starch','refined sugar','refined carbs','simple carbs','complex carbs','carbs','white hdl fat','brown ldl fat','fats','prebiotic','enzymes','probiotic','microbiome','gut health']\n",
    "\n",
    "def tokenize_text(words):\n",
    "    tokenizer = RegexpTokenizer('[A-Za-z]\\w+')\n",
    "    all_tokens = tokenizer.tokenize(words)\n",
    "    case_insensitive = [token.lower() for token in all_tokens]\n",
    "    bigrams = list(ngrams(case_insensitive,2))\n",
    "    joined = [' '.join(gram) for gram in bigrams]\n",
    "    trigrams = list(ngrams(case_insensitive,3))\n",
    "    tri_joined = [' '.join(gram) for gram in trigrams]\n",
    "    case_insensitive.extend(joined)\n",
    "    case_insensitive.extend(tri_joined)\n",
    "    return set(case_insensitive)\n",
    "\n",
    "def clean_tweets(data, categories):\n",
    "    topics = []\n",
    "    topics2 = []\n",
    "    topics3 = []\n",
    "    topics4 = []\n",
    "    topics5 = []\n",
    "    for tweet in data:\n",
    "        categories_dict = {1:'null',2:'null',3:'null',4:'null',5:'null'}\n",
    "        words = tokenize_text(tweet.text)\n",
    "        print(words)\n",
    "        intersection = list(words.intersection(categories))\n",
    "        if len(intersection) > 0:\n",
    "            for i in list(range(0,len(intersection))):\n",
    "                categories_dict[i+1] = intersection[i]\n",
    "        else:\n",
    "            categories_dict[1] = 'general'\n",
    "        topics.append(categories_dict[1])\n",
    "        topics2.append(categories_dict[2])\n",
    "        topics3.append(categories_dict[3])\n",
    "        topics4.append(categories_dict[4])\n",
    "        topics5.append(categories_dict[5])\n",
    "    tweets = [{'title':tweet.id, 'date':tweet.created_at.date().strftime('%Y-%m-%d'),\n",
    "       'description': tweet.text, 'source':tweet.user.screen_name,'source_id':tweet.user.id_str,\n",
    "       'formality': 'Informal','difficulty':'Easy',\n",
    "       'length': 1,'medium':'text'} for tweet in data]\n",
    "    tweets = pd.DataFrame(tweets)\n",
    "    tweets['param_1'] = topics\n",
    "    tweets['param_2'] = topics2\n",
    "    tweets['param_3'] = topics3\n",
    "    tweets['param_4'] = topics4\n",
    "    tweets['param_5'] = topics5\n",
    "    return tweets\n",
    "\n",
    "\n",
    "\n",
    "\n",
    "#CALL API\n",
    "def twitter_api_call(list_handles, categories):\n",
    "    empty = pd.DataFrame()\n",
    "    for handle in list_handles:\n",
    "        user_tweets = pd.DataFrame(clean_tweets(api.user_timeline(handle), categories))\n",
    "        empty = empty.append(user_tweets, sort=True)\n",
    "        print(handle)\n",
    "    empty.title = empty.title.astype('str')\n",
    "    empty['web_url'] = 'https://twitter.com/'+empty.source+'/status/'+empty.title\n",
    "    empty['image_url'] = empty['web_url']\n",
    "    return empty\n",
    "import requests\n",
    "\n",
    "class Tweet(object):\n",
    "    def __init__(self, s, embed_str=False):\n",
    "        if not embed_str:\n",
    "            # Use Twitter's oEmbed API\n",
    "            # https://dev.twitter.com/web/embedded-tweets\n",
    "            api = 'https://publish.twitter.com/oembed?url={}'.format(s)\n",
    "            response = requests.get(api)\n",
    "            self.text = response.json()[\"html\"]\n",
    "        else:\n",
    "            self.text = s\n",
    "\n",
    "    def _repr_html_(self):\n",
    "        return self.text\n"
   ]
  },
  {
   "cell_type": "code",
   "execution_count": 107,
   "metadata": {},
   "outputs": [],
   "source": [
    "import nltk\n",
    "from nltk import word_tokenize\n",
    "from nltk.util import ngrams\n",
    "from collections import Counter\n",
    "from nltk.tokenize import RegexpTokenizer"
   ]
  },
  {
   "cell_type": "code",
   "execution_count": 123,
   "metadata": {},
   "outputs": [],
   "source": [
    "def tokenize_text(words):\n",
    "    tokenizer = RegexpTokenizer('[A-Za-z]\\w+')\n",
    "    all_tokens = tokenizer.tokenize(words)\n",
    "    case_insensitive = [token.lower() for token in all_tokens]\n",
    "    bigrams = list(ngrams(token,2))\n",
    "    joined = [' '.join(gram) for gram in bigrams]\n",
    "    case_insensitive.extend(joined)\n",
    "    return set(case_insensitive)"
   ]
  },
  {
   "cell_type": "markdown",
   "metadata": {},
   "source": [
    "# Youtube "
   ]
  },
  {
   "cell_type": "code",
   "execution_count": 8,
   "metadata": {},
   "outputs": [],
   "source": [
    "from apiclient.discovery import build\n",
    "from apiclient.errors import HttpError\n",
    "from oauth2client.tools import argparser\n",
    "import pandas as pd\n",
    "import pprint\n",
    "import pafy\n",
    "import warnings\n",
    "warnings.filterwarnings(\"ignore\")\n",
    "from apikeys import *\n",
    "from info import *\n",
    "\n",
    "\n",
    "DEVELOPER_KEY = youtube_key\n",
    "YOUTUBE_API_SERVICE_NAME = \"youtube\"\n",
    "YOUTUBE_API_VERSION = \"v3\"\n",
    "\n",
    "\n",
    "def clean_youtube_time(string):\n",
    "    if 'H' in string:\n",
    "        minutes = int(string[string.find('H')+1:string.find('M')])\n",
    "        hours = int(string[string.find('T')+1:string.find('H')]) * 60\n",
    "        time = minutes + hours\n",
    "    else:\n",
    "        if 'M' in string:\n",
    "            time = int(string[string.find('T')+1:string.find('M')])\n",
    "        else:\n",
    "            time = 1\n",
    "    return time\n",
    "\n",
    "def youtube_search(q, max_results=10,order=\"date\", token=None, location=None, location_radius=None):\n",
    "\n",
    "    youtube = build(YOUTUBE_API_SERVICE_NAME, YOUTUBE_API_VERSION,developerKey=DEVELOPER_KEY)\n",
    "\n",
    "    search_response = youtube.search().list(\n",
    "    q=q,\n",
    "    type=\"video\",\n",
    "    pageToken=token,\n",
    "    order = order,\n",
    "    part=\"id,snippet\", # Part signifies the different types of data you want\n",
    "    maxResults=max_results,\n",
    "    location=location,\n",
    "    locationRadius=location_radius).execute()\n",
    "\n",
    "    all_dicts = []\n",
    "\n",
    "    for search_result in search_response.get(\"items\", []):\n",
    "        if search_result[\"id\"][\"kind\"] == \"youtube#video\":\n",
    "\n",
    "            title = (search_result['snippet']['title'])\n",
    "\n",
    "            videoId = (search_result['id']['videoId'])\n",
    "\n",
    "            response = youtube.videos().list(\n",
    "            part='statistics, snippet, contentDetails',\n",
    "            id=search_result['id']['videoId']).execute()\n",
    "\n",
    "            channelId = (response['items'][0]['snippet']['channelId'])\n",
    "            channelTitle = (response['items'][0]['snippet']['channelTitle'])\n",
    "            categoryId = (response['items'][0]['snippet']['categoryId'])\n",
    "            favoriteCount = (response['items'][0]['statistics']['favoriteCount'])\n",
    "            viewCount = (response['items'][0]['statistics']['viewCount'])\n",
    "            date = pd.to_datetime((response['items'][0]['snippet']['publishedAt'])).date().strftime('%Y-%m-%d')\n",
    "            description = response['items'][0]['snippet']['localized']['description']\n",
    "            url = 'https://www.youtube.com/watch?v='+videoId\n",
    "            image_url = response['items'][0]['snippet']['thumbnails']['default']['url']\n",
    "            length = clean_youtube_time(response['items'][0]['contentDetails']['duration'])\n",
    "\n",
    "        if 'commentCount' in response['items'][0]['statistics'].keys():\n",
    "            commentCount = (response['items'][0]['statistics']['commentCount'])\n",
    "        else:\n",
    "            commentCount = []\n",
    "\n",
    "        if 'tags' in response['items'][0]['snippet'].keys():\n",
    "            tags = (response['items'][0]['snippet']['tags'])\n",
    "        else:\n",
    "            tags = []\n",
    "\n",
    "        youtube_dict = {'tags':tags,'source_id': channelId,'source': channelTitle,'categoryId':categoryId,'title':title,'videoId':videoId,'viewCount':viewCount,'commentCount':commentCount,'favoriteCount':favoriteCount,\n",
    "                        'formality':'Intermediate', 'medium':'video','date':date, 'description': description, 'web_url':url, 'image_url':image_url, 'length':length}\n",
    "        all_dicts.append(youtube_dict)\n",
    "    return pd.DataFrame(all_dicts)\n",
    "\n",
    "def add_category(df, categories):\n",
    "    # cats = ['keto','ketogenic','paleo','paleolithic','vegan','vegetarian']\n",
    "    all_params = []\n",
    "    for index, row in df.iterrows():\n",
    "        try:\n",
    "            intersect = list(set(row.tags).intersection(categories))\n",
    "            if len(intersect) > 0:\n",
    "                category = intersect[0]\n",
    "            else:\n",
    "                category = row.tags[0]\n",
    "        except:\n",
    "            category = 'none'\n",
    "        all_params.append(category)\n",
    "    df['param'] = all_params\n",
    "    return df\n",
    "\n",
    "def youtube_api_call(list_accounts, categories):\n",
    "    empty_df = pd.DataFrame()\n",
    "    errors = []\n",
    "    for account in list_accounts:\n",
    "        try:\n",
    "            df = youtube_search(account)\n",
    "            df = add_category(df, categories)\n",
    "            empty_df = empty_df.append(df, sort=True)\n",
    "            print(account)\n",
    "        except:\n",
    "            print(account + \" EXCEPTION!!!!\")\n",
    "    return empty_df"
   ]
  },
  {
   "cell_type": "markdown",
   "metadata": {},
   "source": [
    "# FB AND INSTA"
   ]
  },
  {
   "cell_type": "code",
   "execution_count": 156,
   "metadata": {},
   "outputs": [],
   "source": [
    "wall_search = \"https://graph.facebook.com/v3.2/WellNYT/feed/?access_token=EAACl5okwUhQBAAKh8AmW6y0njZBuMKZAZB8ANIrdMGKQoySrLXKBfZANfL6n1h0ePv4GdzzZA1cLfOfUbeYervGzZCjB0NqpGXZBXScxCz7ZA9jGoxmEVWVAcGX1hq92EDV3zHeGIxOoWIEZAQmbkQsQdbKNaIXI0rqAubLHvrHwNGwIPRI29rz9gLYSrVDQ7RsMZD\""
   ]
  },
  {
   "cell_type": "code",
   "execution_count": 157,
   "metadata": {},
   "outputs": [],
   "source": [
    "response = requests.get(wall_search)\n"
   ]
  },
  {
   "cell_type": "code",
   "execution_count": 158,
   "metadata": {},
   "outputs": [
    {
     "data": {
      "text/plain": [
       "{'error': {'message': \"(#10) To use 'Page Public Content Access', your use of this endpoint must be reviewed and approved by Facebook. To submit this 'Page Public Content Access' feature for review please read our documentation on reviewable features: https://developers.facebook.com/docs/apps/review.\",\n",
       "  'type': 'OAuthException',\n",
       "  'code': 10,\n",
       "  'fbtrace_id': 'DRIOJeRua/e'}}"
      ]
     },
     "execution_count": 158,
     "metadata": {},
     "output_type": "execute_result"
    }
   ],
   "source": [
    "response.json()"
   ]
  },
  {
   "cell_type": "code",
   "execution_count": 28,
   "metadata": {},
   "outputs": [],
   "source": [
    "\n",
    "\n",
    "nyt_fb_post = ['https://www.facebook.com/WellNYT/posts/2030812243705795', 'https://www.facebook.com/WellNYT/posts/2027922970661389',\n",
    "              'https://www.facebook.com/WellNYT/posts/2027920193995000','https://www.facebook.com/WellNYT/posts/2023650137755339',\n",
    "              'https://www.facebook.com/WellNYT/posts/2022428551210831','https://www.facebook.com/WellNYT/posts/2022404617879891']\n",
    "\n",
    "nyt_fb_vid = ['https://www.facebook.com/WellNYT/videos/vl.215269862225520/1148312565289105/?type=1','https://www.facebook.com/WellNYT/videos/vl.215269862225520/1146634572123571/?type=1',\n",
    "         'https://www.facebook.com/WellNYT/videos/vl.215269862225520/1146398342147194/?type=1', 'https://www.facebook.com/WellNYT/videos/1437656589688033/'\n",
    "         ,'https://www.facebook.com/WellNYT/videos/1408624012591291/','https://www.facebook.com/WellNYT/videos/1390021831118176/','https://www.facebook.com/WellNYT/videos/1363150167138676/',\n",
    "         'https://www.facebook.com/WellNYT/videos/1362877763832583/']\n",
    "\n",
    "def random_cat(list_categories, length):\n",
    "    cats = []\n",
    "    for i in list(range(0,length)):\n",
    "        cats.append(random.choice(list_categories))\n",
    "    return cats\n",
    "\n",
    "def random_length(length):\n",
    "    lengths = []\n",
    "    for i in list(range(0,length)):\n",
    "        lengths.append(random.randint(0, 15))\n",
    "    return lengths\n",
    "\n",
    "\n",
    "categories = ['vegan','keto','vegetarian','paleo']\n",
    "\n",
    "def create_sample_fb(list_urls, categories_list, medium_type):\n",
    "    df = pd.DataFrame()\n",
    "    df['web_url'] = list_urls\n",
    "    df['image_url'] = list_urls\n",
    "    df['description'] = 'Facebook Dummy Data'\n",
    "    df['title'] = 'Facebook Dummy Data'\n",
    "    df['date'] = '2018-12-26'\n",
    "    df['medium'] = medium_type\n",
    "    df['source'] = 'NYT Health'\n",
    "    df['source_id'] = 'Facebook'\n",
    "    df['formality'] = 'Informal'\n",
    "    df['difficulty'] = 'Medium'\n",
    "    length = len(df.web_url)\n",
    "    df['length'] = random_length(length)\n",
    "    df['param'] = random_cat(categories_list,length)\n",
    "    return df\n",
    "    "
   ]
  },
  {
   "cell_type": "code",
   "execution_count": 31,
   "metadata": {},
   "outputs": [],
   "source": [
    "insta_post = ['https://www.instagram.com/p/Br2LWE1hHOc/','https://www.instagram.com/p/Br2LHsDB4rL/',\n",
    "                 'https://www.instagram.com/p/Br2K-V8heFw/','https://www.instagram.com/p/Br1R6cjBI5j/',\n",
    "                 'https://www.instagram.com/p/Br1RjfphbWn/','https://www.instagram.com/p/Br1RYYthKBq/',\n",
    "                 'https://www.instagram.com/p/Bruqo-ihpaH/','https://www.instagram.com/p/BruqhH9BlJ0/',\n",
    "                 'https://www.instagram.com/p/Brrp-7PBqlf/','https://www.instagram.com/p/BrrpzXIBbgC/','https://www.instagram.com/p/Brmjo72ByfA/',\n",
    "                 'https://www.instagram.com/p/Brmjeg4huS_/','https://www.instagram.com/p/BrmjRICBXVk/','https://www.instagram.com/p/BrmhYKiBli5/']\n",
    "\n",
    "def create_sample_insta(list_urls, categories_list):\n",
    "    df = pd.DataFrame()\n",
    "    df['web_url'] = list_urls\n",
    "    df['image_url'] = list_urls\n",
    "    df['description'] = 'Instagram Dummy Data'\n",
    "    df['title'] = 'Instagram Dummy Data'\n",
    "    df['date'] = '2018-12-26'\n",
    "    df['source'] = 'Daily Health Tips'\n",
    "    df['source_id'] = 'Instagram'\n",
    "    df['formality'] = 'Informal'\n",
    "    df['difficulty'] = 'Easy'\n",
    "    df['medium'] = 'video'\n",
    "    length = len(df.web_url)\n",
    "    df['length'] = random_length(length)\n",
    "    df['param'] = random_cat(categories_list,length)\n",
    "    return df"
   ]
  },
  {
   "cell_type": "markdown",
   "metadata": {},
   "source": [
    "# AUDIO"
   ]
  },
  {
   "cell_type": "code",
   "execution_count": 299,
   "metadata": {},
   "outputs": [],
   "source": [
    "import requests\n",
    "import json\n",
    "import feedparser\n",
    "import pandas as pd\n",
    "import re\n",
    "import time\n",
    "\n",
    "\n",
    "def feed_urls(search_words, media_value='podcast', entity_value='podcast'):\n",
    "#     Args:\n",
    "#         search_words: The URL-encoded text string to be searched for\n",
    "#         media_value: {movie, podcast, music, musicVideo, audiobook,\n",
    "#                     shortFilm, tvShow, software, ebook, all} optional\n",
    "#                     An optional variable, which indicates the media type to be searched for.\n",
    "#         entity_value: Optional\n",
    "\n",
    "    payload = {'term': search_words, 'media': media_value, 'entity' : entity_value}\n",
    "    itunes_request = requests.get('https://itunes.apple.com/search', params=payload)\n",
    "    itunes_result_json = itunes_request.json()\n",
    "    result_count = itunes_result_json[\"resultCount\"]\n",
    "    if result_count > 0:\n",
    "        feed_url = itunes_result_json[\"results\"][0]['feedUrl']\n",
    "    else:\n",
    "        feed_url = \"None\"\n",
    "    return feed_url\n",
    "\n",
    "def fix_podcast_length(time):\n",
    "    hours = int(time[0:2]) * 60\n",
    "    minutes = int(time[4:5])\n",
    "    length = hours + minutes\n",
    "    return length\n",
    "\n",
    "def df_podcast_episodes(feed_url):\n",
    "    print(feed_url)\n",
    "    if(len(feed_url) > 0):\n",
    "        feed = feedparser.parse(feed_url)\n",
    "        episodes = []\n",
    "        for episode in feed.entries:\n",
    "            info = dict()\n",
    "            info['title'] = episode['title'] if 'title' in episode else ''\n",
    "            info['description']= episode['summary'] if 'summary' in episode else ''\n",
    "            info['length']= fix_podcast_length(episode['itunes_duration']) if 'itunes_duration' in episode else 1\n",
    "            info['date']= pd.to_datetime(episode['published']).date().strftime('%Y-%m-%d') if 'published' in episode else ''\n",
    "            info['medium'] = 'audio'\n",
    "            info['formality'] = 'Intermediate'\n",
    "            info['source'] = feed['feed']['title'] if 'title' in feed['feed'] else ''\n",
    "            info['source_id'] = feed['feed']['title_detail']['base'] if 'title_detail' in feed['feed'] else ''\n",
    "            try:\n",
    "                info['web_url'] = episode['links'][0]['href'] if 'links' in episode else ''\n",
    "            except:\n",
    "                info['web_url'] = feed['feed']['title_detail']['base'] if 'title_detail' in feed['feed'] else ''\n",
    "            info['image_url'] = feed['feed']['image']['href'] if 'image' in feed['feed'] else ''\n",
    "            episodes.append(info)\n",
    "        df = pd.DataFrame(episodes)\n",
    "        return df\n",
    "    else:\n",
    "        print(\"No response!\")\n",
    "\n",
    "def add_category_to_audio(df, categories):\n",
    "    all_params = []\n",
    "    for index, row in df.iterrows():\n",
    "        try:\n",
    "            words = set(re.sub(\"[^\\w]\", \" \",  row.description).split())\n",
    "            intersect = list(words.intersection(categories))\n",
    "            if len(intersect) > 0:\n",
    "                category = intersect[0]\n",
    "            else:\n",
    "                category = 'general'\n",
    "        except:\n",
    "            category = 'general'\n",
    "        all_params.append(category)\n",
    "    df['param'] = all_params\n",
    "    return df\n",
    "\n",
    "def call_podcast_api(categories, podcasts):\n",
    "    empty = pd.DataFrame()\n",
    "    for podcast in podcasts:\n",
    "        if podcast == 'None':\n",
    "            pass\n",
    "        else:\n",
    "            try:\n",
    "                url = feed_urls(podcast)\n",
    "                df = df_podcast_episodes(url)\n",
    "                df = add_category_to_audio(df, categories)\n",
    "                empty = empty.append(df, sort=True)\n",
    "                print('SUCCESS!')\n",
    "                time.sleep(2)\n",
    "            except:\n",
    "                print('EXCEPTION')\n",
    "                time.sleep(2)\n",
    "    return empty\n"
   ]
  },
  {
   "cell_type": "markdown",
   "metadata": {},
   "source": [
    "# EBOOKS"
   ]
  },
  {
   "cell_type": "code",
   "execution_count": 334,
   "metadata": {},
   "outputs": [],
   "source": [
    "pd.set_option('display.max_columns', None)"
   ]
  },
  {
   "cell_type": "code",
   "execution_count": 368,
   "metadata": {},
   "outputs": [],
   "source": [
    "def clean_ebook_date(df):\n",
    "    dates = []\n",
    "    for index, row in df.iterrows():\n",
    "        date = pd.to_datetime(row.date).date().strftime('%Y-%m-%d')\n",
    "        dates.append(date)\n",
    "    df['date'] = dates\n",
    "    return df\n",
    "\n",
    "\n",
    "def ebook_search(search_word, media_value='ebook', entity_value='ebook'):\n",
    "    payload = {'term': search_word, 'media': media_value, 'entity' : entity_value}\n",
    "    itunes_request = requests.get('https://itunes.apple.com/search', params=payload)\n",
    "    itunes_result_json = itunes_request.json()\n",
    "    result_count = itunes_result_json[\"resultCount\"]\n",
    "    if result_count > 0:\n",
    "        df = pd.DataFrame(itunes_result_json['results'])\n",
    "        #NOTE LENGTH IS ACTUALLY THE PRICE BUT USE SAME LABEL FOR CONSISTENCY\n",
    "        df = df.rename(index = str, columns= {'artistName': 'source','trackViewUrl':'web_url',\n",
    "                                        'artworkUrl100':'image_url','price': 'length','releaseDate':'date','trackName':'title'})\n",
    "        df['source_id'] = 'Itunes Ebook'\n",
    "        df['formality'] = 'Formal'\n",
    "        df['medium'] = 'text'\n",
    "        df['param'] = search_word\n",
    "        df = df.fillna(1)\n",
    "        return clean_ebook_date(df)\n",
    "    else:\n",
    "        print('No Results!')\n",
    "        return 'Empty'\n",
    "\n",
    "def call_ebook_api(categories):\n",
    "    empty = pd.DataFrame()\n",
    "    for category in categories:\n",
    "        df = ebook_search(category)\n",
    "        if type(df) != str:\n",
    "            empty = empty.append(df, sort=True)\n",
    "            time.sleep(2)\n",
    "            print('Added '+category)\n",
    "        else:\n",
    "            pass\n",
    "    return empty\n"
   ]
  },
  {
   "cell_type": "markdown",
   "metadata": {},
   "source": [
    "# Movies/Docs"
   ]
  },
  {
   "cell_type": "code",
   "execution_count": 472,
   "metadata": {},
   "outputs": [],
   "source": [
    "def add_category_to_movie(df, categories):\n",
    "    all_params = []\n",
    "    for index, row in df.iterrows():\n",
    "        try:\n",
    "            words = set(re.sub(\"[^\\w]\", \" \",  row.description).split())\n",
    "            intersect = list(words.intersection(categories))\n",
    "            if len(intersect) > 0:\n",
    "                category = intersect[0]\n",
    "            else:\n",
    "                category = 'general'\n",
    "        except:\n",
    "            category = 'general'\n",
    "        all_params.append(category)\n",
    "    df['param'] = all_params\n",
    "    return df\n",
    "\n",
    "def movie_search(search_word,categories, media_value='movie', entity_value='movie'):\n",
    "    payload = {'term': search_word, 'media': media_value, 'entity' : entity_value}\n",
    "    itunes_request = requests.get('https://itunes.apple.com/search', params=payload)\n",
    "    itunes_result_json = itunes_request.json()\n",
    "    result_count = itunes_result_json[\"resultCount\"]\n",
    "    if result_count > 0:\n",
    "        df = pd.DataFrame(itunes_result_json['results'])\n",
    "        df = df.rename(index = str, columns= {'artistName': 'source','trackViewUrl':'web_url',\n",
    "                                        'artworkUrl100':'image_url','trackTimeMillis': 'length'\n",
    "                                              ,'releaseDate':'date','trackName':'title', 'longDescription':'description'})\n",
    "        df['source_id'] = 'Itunes Movie'\n",
    "        df['formality'] = 'Formal'\n",
    "        df['medium'] = 'video'\n",
    "        df['length'] = round(df['length'] / 60000)\n",
    "        df = df.fillna(1)\n",
    "        df = clean_ebook_date(df)\n",
    "        return add_category_to_movie(df,categories)\n",
    "    else:\n",
    "        print('No Results!')\n",
    "        return 'Empty'\n",
    "\n",
    "def call_movie_api(movies, categories):\n",
    "    empty = pd.DataFrame()\n",
    "    for movie in movies:\n",
    "        try:\n",
    "            df = movie_search(movie, categories)\n",
    "            if type(df) != str:\n",
    "                empty = empty.append(df, sort=True)\n",
    "                time.sleep(5)\n",
    "                print('Added '+movie)\n",
    "            else:\n",
    "                time.sleep(5)\n",
    "        except:\n",
    "            print(movie + ' EXCEPTION')\n",
    "    return empty\n"
   ]
  },
  {
   "cell_type": "markdown",
   "metadata": {},
   "source": [
    "# AUDIOBOOKS"
   ]
  },
  {
   "cell_type": "code",
   "execution_count": 487,
   "metadata": {},
   "outputs": [],
   "source": [
    "\n",
    "def audiobook_search(search_word, media_value='audiobook', entity_value='audiobook'):\n",
    "    payload = {'term': search_word, 'media': media_value, 'entity' : entity_value}\n",
    "    itunes_request = requests.get('https://itunes.apple.com/search', params=payload)\n",
    "    itunes_result_json = itunes_request.json()\n",
    "    result_count = itunes_result_json[\"resultCount\"]\n",
    "    if result_count > 0:\n",
    "        df = pd.DataFrame(itunes_result_json['results'])\n",
    "        #NOTE LENGTH IS ACTUALLY THE PRICE BUT USE SAME LABEL FOR CONSISTENCY\n",
    "        df = df.rename(index = str, columns= {'artistName': 'source','collectionViewUrl':'web_url',\n",
    "                                        'artworkUrl100':'image_url','collectionPrice': 'length','releaseDate':'date','collectionName':'title'})\n",
    "        df['source_id'] = 'Itunes Audiobook'\n",
    "        df['formality'] = 'Formal'\n",
    "        df['medium'] = 'audio'\n",
    "        df['param'] = search_word\n",
    "        df = df.fillna(1)\n",
    "        return clean_ebook_date(df)\n",
    "    else:\n",
    "        print('No Results!')\n",
    "        return 'Empty'\n",
    "\n",
    "def call_audiobook_api(categories):\n",
    "    empty = pd.DataFrame()\n",
    "    for category in categories:\n",
    "        df = audiobook_search(category)\n",
    "        if type(df) != str:\n",
    "            empty = empty.append(df, sort=True)\n",
    "            time.sleep(2)\n",
    "            print('Added '+category)\n",
    "        else:\n",
    "            pass\n",
    "    return empty"
   ]
  },
  {
   "cell_type": "markdown",
   "metadata": {},
   "source": [
    "# BLOGS"
   ]
  },
  {
   "cell_type": "code",
   "execution_count": 166,
   "metadata": {},
   "outputs": [],
   "source": [
    "import requests\n",
    "import re\n",
    "import numpy as np\n",
    "import time\n",
    "from bs4 import BeautifulSoup"
   ]
  },
  {
   "cell_type": "code",
   "execution_count": 410,
   "metadata": {},
   "outputs": [],
   "source": [
    "html_page = requests.get('https://www.everydayhealth.com/search/keto/?iid=gnav_head_search')\n",
    "soup = BeautifulSoup(html_page.content, 'html.parser', from_encoding='utf-8')\n",
    "results = soup.findAll('a')\n",
    "dates = [pd.to_datetime(date.text).date().strftime('%Y-%m-%d') for date in soup.findAll(\"div\", class_=\"resultDate\")]\n",
    "results = [result.get('href') for result in results]"
   ]
  },
  {
   "cell_type": "code",
   "execution_count": 422,
   "metadata": {},
   "outputs": [
    {
     "data": {
      "text/plain": [
       "'https://www.everydayhealth.com/search/keto/?iid=gnav_head_search'"
      ]
     },
     "execution_count": 422,
     "metadata": {},
     "output_type": "execute_result"
    }
   ],
   "source": [
    "'https://www.everydayhealth.com/search/%s/?iid=gnav_head_search'%'keto'"
   ]
  },
  {
   "cell_type": "code",
   "execution_count": 411,
   "metadata": {},
   "outputs": [
    {
     "data": {
      "text/plain": [
       "['2018-12-18',\n",
       " '2018-10-10',\n",
       " '2018-12-14',\n",
       " '2018-11-30',\n",
       " '2018-08-27',\n",
       " '2018-12-18',\n",
       " '2018-10-24',\n",
       " '2018-11-20',\n",
       " '2018-10-16',\n",
       " '2018-11-19']"
      ]
     },
     "execution_count": 411,
     "metadata": {},
     "output_type": "execute_result"
    }
   ],
   "source": [
    "dates"
   ]
  },
  {
   "cell_type": "code",
   "execution_count": 412,
   "metadata": {},
   "outputs": [
    {
     "data": {
      "text/plain": [
       "'2018-12-18'"
      ]
     },
     "execution_count": 412,
     "metadata": {},
     "output_type": "execute_result"
    }
   ],
   "source": [
    "pd.to_datetime(dates[0]).date().strftime('%Y-%m-%d')"
   ]
  },
  {
   "cell_type": "code",
   "execution_count": 413,
   "metadata": {},
   "outputs": [],
   "source": [
    "results = ['https:'+result for result in results if str(result)[:6] == '//www.' \n",
    "           if 'search' not in result \n",
    "           if 'keto' in result]"
   ]
  },
  {
   "cell_type": "code",
   "execution_count": 414,
   "metadata": {},
   "outputs": [
    {
     "data": {
      "text/plain": [
       "['https://www.everydayhealth.com/ketogenic-diet/diet/types-targeted-keto-high-protein-keto-keto-cycling-more/',\n",
       " 'https://www.everydayhealth.com/ketogenic-diet/diet/burning-questions-about-keto-diet-answered/',\n",
       " 'https://www.everydayhealth.com/ketogenic-diet/keto-binge-eating-disorder/',\n",
       " 'https://www.everydayhealth.com/ketogenic-diet/diet/best-fruits-eat-on-keto-diet/',\n",
       " 'https://www.everydayhealth.com/ketogenic-diet/diet/what-keto-cycling-can-it-help-you-stick-with-ketogenic-diet/',\n",
       " 'https://www.everydayhealth.com/columns/my-health-story/ketogenic-diet-made-me-thinner-quit-keto-anyway/',\n",
       " 'https://www.everydayhealth.com/ketogenic-diet/all-about-keto-flu-dangers-management-tips-more/',\n",
       " 'https://www.everydayhealth.com/ketogenic-diet/diet/keto-thanksgiving-recipes-low-carb-meal/',\n",
       " 'https://www.everydayhealth.com/ketogenic-diet/diet/spooky-keto-diet-halloween-recipes/',\n",
       " 'https://www.everydayhealth.com/ketogenic-diet/diet/healthy-foods-not-allowed-on-keto-diet/']"
      ]
     },
     "execution_count": 414,
     "metadata": {},
     "output_type": "execute_result"
    }
   ],
   "source": [
    "results"
   ]
  },
  {
   "cell_type": "code",
   "execution_count": 415,
   "metadata": {},
   "outputs": [],
   "source": [
    "from nltk.tokenize import RegexpTokenizer\n",
    "def tokenize_text(text):\n",
    "    tokenizer = RegexpTokenizer('[A-Za-z]\\w+')\n",
    "    all_tokens = tokenizer.tokenize(text)\n",
    "    text = \" \".join(all_tokens)\n",
    "    return text"
   ]
  },
  {
   "cell_type": "code",
   "execution_count": 418,
   "metadata": {},
   "outputs": [],
   "source": [
    "def scrape_articles(results,dates):\n",
    "    df = pd.DataFrame(results,columns=['web_url'])\n",
    "    all_text = []\n",
    "    all_titles = []\n",
    "    all_lengths = []\n",
    "    for result in results:\n",
    "        html_page = requests.get(result) \n",
    "        soup = BeautifulSoup(html_page.content, 'html.parser', from_encoding=\"iso-8859-1\")\n",
    "        all_titles.append(soup.title.string)\n",
    "#         author = soup.find(\"h3\", class_=\"byline_text\").text.replace('By','').strip()\n",
    "        article = soup.findAll('p')\n",
    "        body = tokenize_text(article[3].text)\n",
    "        all_text.append(body)\n",
    "        length = len(body) /4/ 250\n",
    "        if length > 5:\n",
    "            all_lengths.append(length)\n",
    "        else:\n",
    "            all_lengths.append(5)\n",
    "    df['description'] = all_text\n",
    "    df['title'] = all_titles\n",
    "    df['image_url'] = 'https://static1.squarespace.com/static/5ab11d8f75f9ee24a7bf7183/t/5b855f85758d46c5adb43368/1535563805366/EDH.png'\n",
    "    df['length'] = all_lengths\n",
    "    df['source'] = 'Everyday Health'\n",
    "    df['source_id'] = 'Blog'\n",
    "    df['formality'] = 'Intermediate'\n",
    "    df['medium'] = 'text'\n",
    "    df['date'] = dates\n",
    "    return df"
   ]
  },
  {
   "cell_type": "code",
   "execution_count": 419,
   "metadata": {},
   "outputs": [],
   "source": [
    "x = scrape_articles(results,dates)"
   ]
  },
  {
   "cell_type": "code",
   "execution_count": 420,
   "metadata": {},
   "outputs": [
    {
     "data": {
      "text/html": [
       "<div>\n",
       "<style scoped>\n",
       "    .dataframe tbody tr th:only-of-type {\n",
       "        vertical-align: middle;\n",
       "    }\n",
       "\n",
       "    .dataframe tbody tr th {\n",
       "        vertical-align: top;\n",
       "    }\n",
       "\n",
       "    .dataframe thead th {\n",
       "        text-align: right;\n",
       "    }\n",
       "</style>\n",
       "<table border=\"1\" class=\"dataframe\">\n",
       "  <thead>\n",
       "    <tr style=\"text-align: right;\">\n",
       "      <th></th>\n",
       "      <th>web_url</th>\n",
       "      <th>description</th>\n",
       "      <th>title</th>\n",
       "      <th>image_url</th>\n",
       "      <th>length</th>\n",
       "      <th>source</th>\n",
       "      <th>formality</th>\n",
       "      <th>medium</th>\n",
       "      <th>date</th>\n",
       "    </tr>\n",
       "  </thead>\n",
       "  <tbody>\n",
       "    <tr>\n",
       "      <th>0</th>\n",
       "      <td>https://www.everydayhealth.com/ketogenic-diet/diet/types-targeted-keto-high-protein-keto-keto-cycling-more/</td>\n",
       "      <td>Some ketogenic or ketoâ diet devotees stay true to the diet percent of the time while others have found they need little more carbohydrates or protein Thatâ inspired some to tweak the low carb high fat diet to meet their needs As result several spins on the keto diet have emerged Kristen Kizer RD registered clinical dietitian at Houston Methodist Hospital in Houston says that all of these diets have one thing in common keto diet to me would be any diet that gets body into ketosis she says Ketosis occurs when the body turns to fat as its main source of energy instead of carbohydrates says Amy Shapiro RD theÂ New York Cityâ based founder ofÂ Real Nutrition Keeping the body in ketosis for extended periods of time may lead to weight loss according to aÂ study published in Experimental Crit...</td>\n",
       "      <td>Ketogenic Diet Types: Targeted Keto, High-Protein Keto, Keto Cycling, More | Everyday Health</td>\n",
       "      <td>https://static1.squarespace.com/static/5ab11d8f75f9ee24a7bf7183/t/5b855f85758d46c5adb43368/1535563805366/EDH.png</td>\n",
       "      <td>12.267</td>\n",
       "      <td>Everyday Health</td>\n",
       "      <td>Intermediate</td>\n",
       "      <td>text</td>\n",
       "      <td>2018-12-18</td>\n",
       "    </tr>\n",
       "    <tr>\n",
       "      <th>1</th>\n",
       "      <td>https://www.everydayhealth.com/ketogenic-diet/diet/burning-questions-about-keto-diet-answered/</td>\n",
       "      <td>When it seems like everyone not just celebrities is on the ketogenic diet you want to know if itâ ll work for you The so called keto diet is high fat moderate protein very lowÂ carb plan But while people say that you can eat all the butter and bacon you want is that really true or healthy for that matter And is the keto diet actually the best way to lose weight Can it cause more problems than it solves Here are your top questions answered Is the Keto Diet Healthy In reality you donâ have to go on the keto diet in order to be healthy The keto diet is therapeutic diet used to control seizures in people who have epilepsy according to the Epilepsy Foundation For these people keto diet may be necessary for their health But today the diet has become trendy and many people are using it to los...</td>\n",
       "      <td>15 Burning Questions About the Keto Diet, Answered | Everyday Health</td>\n",
       "      <td>https://static1.squarespace.com/static/5ab11d8f75f9ee24a7bf7183/t/5b855f85758d46c5adb43368/1535563805366/EDH.png</td>\n",
       "      <td>16.759</td>\n",
       "      <td>Everyday Health</td>\n",
       "      <td>Intermediate</td>\n",
       "      <td>text</td>\n",
       "      <td>2018-10-10</td>\n",
       "    </tr>\n",
       "    <tr>\n",
       "      <th>2</th>\n",
       "      <td>https://www.everydayhealth.com/ketogenic-diet/keto-binge-eating-disorder/</td>\n",
       "      <td>One of the major reasons the ketogenic diet often leads to temporary weight loss is because itâ so restrictive but thatâ the very same reason why it can sometimes worsen binge eating disorders The super popular but little studied keto diet places specific guidelines on how much of each macronutrient to eat each day with daily calories usually being made up of percent fat percent protein and percent carbs This means drastic cuts to the typical Americanâ carb intake usually amounting to no more than to grams of carbohydrates per day says Colleen Oâ Sullivan member of the nutrition services team at Timberline Knolls Residential Treatment Center in Lemont Illinois This sort of restrictive keto diet food list can be problematic for someone with binge eating disorder which involves eating la...</td>\n",
       "      <td>Keto and Binge Eating Disorder 101 | Everyday Health</td>\n",
       "      <td>https://static1.squarespace.com/static/5ab11d8f75f9ee24a7bf7183/t/5b855f85758d46c5adb43368/1535563805366/EDH.png</td>\n",
       "      <td>6.138</td>\n",
       "      <td>Everyday Health</td>\n",
       "      <td>Intermediate</td>\n",
       "      <td>text</td>\n",
       "      <td>2018-12-14</td>\n",
       "    </tr>\n",
       "    <tr>\n",
       "      <th>3</th>\n",
       "      <td>https://www.everydayhealth.com/ketogenic-diet/diet/best-fruits-eat-on-keto-diet/</td>\n",
       "      <td>November The keto diet can help increase your chances of weight loss But if you donâ eat the right kinds of fruit and in the right amount you may kick yourself out of ketosis and stall your weight loss efforts</td>\n",
       "      <td>10 Best Fruits to Eat on a Keto Diet | Everyday Health</td>\n",
       "      <td>https://static1.squarespace.com/static/5ab11d8f75f9ee24a7bf7183/t/5b855f85758d46c5adb43368/1535563805366/EDH.png</td>\n",
       "      <td>5.000</td>\n",
       "      <td>Everyday Health</td>\n",
       "      <td>Intermediate</td>\n",
       "      <td>text</td>\n",
       "      <td>2018-11-30</td>\n",
       "    </tr>\n",
       "    <tr>\n",
       "      <th>4</th>\n",
       "      <td>https://www.everydayhealth.com/ketogenic-diet/diet/what-keto-cycling-can-it-help-you-stick-with-ketogenic-diet/</td>\n",
       "      <td>By now youâ ve likely heard about the ketogenic diet the trendy weight loss plan that calls for dramatically reducing how many carbs you eat moderating your protein and upping your fat intake As result of following the ketogenic diet or ketoÂ for short for few days your body will enter ketosis state that some research links to weight loss better glucose control and improved cholesterol Not all health experts would recommend the diet though as it can lead to kidney stones increased intake of badâ fats nutrient deficiencies decreased bone density and stomach problems various research suggests RELATED The Must Know Risks and Benefits of the Ketogenic DietAnother big downside of keto is the fact that keeping the body in ketosis is very difficult to maintain When following the keto diet you...</td>\n",
       "      <td>What Is Keto Cycling and Can It Help You Stick With the Ketogenic Diet? | Everyday Health</td>\n",
       "      <td>https://static1.squarespace.com/static/5ab11d8f75f9ee24a7bf7183/t/5b855f85758d46c5adb43368/1535563805366/EDH.png</td>\n",
       "      <td>8.374</td>\n",
       "      <td>Everyday Health</td>\n",
       "      <td>Intermediate</td>\n",
       "      <td>text</td>\n",
       "      <td>2018-08-27</td>\n",
       "    </tr>\n",
       "    <tr>\n",
       "      <th>5</th>\n",
       "      <td>https://www.everydayhealth.com/columns/my-health-story/ketogenic-diet-made-me-thinner-quit-keto-anyway/</td>\n",
       "      <td>Medically reviewed by Kelly Kennedy RDWhen stepped on the scale and the needle raced past knew had problem was always thin and active as young man In college was feet inches tall and weighed pounds lbs Now closing in on half century of life over two decades of desk jobs had since passed The birth of my son made sleeping more of hobby than necessity The long hours and the stress of owning my own business caused me to make my food choices based on speed and price rather than nutrition and fuel My body was running on Coca Cola bagels and pizza So shouldnâ have been surprised when the needle on the scale settled at pounds but was still shocked You never think you are going to become statistic But as more and more Americans become overweight was part of not so exclusive club When started lo...</td>\n",
       "      <td>The Ketogenic Diet Made Me Thinner â But I Quit Keto Anyway | Everyday Health</td>\n",
       "      <td>https://static1.squarespace.com/static/5ab11d8f75f9ee24a7bf7183/t/5b855f85758d46c5adb43368/1535563805366/EDH.png</td>\n",
       "      <td>15.476</td>\n",
       "      <td>Everyday Health</td>\n",
       "      <td>Intermediate</td>\n",
       "      <td>text</td>\n",
       "      <td>2018-12-18</td>\n",
       "    </tr>\n",
       "    <tr>\n",
       "      <th>6</th>\n",
       "      <td>https://www.everydayhealth.com/ketogenic-diet/all-about-keto-flu-dangers-management-tips-more/</td>\n",
       "      <td>Youâ ve undoubtedly heard about the ketogenic diet high fat low carb approach that forces the body to burn fat for fuel and decided to consider it for weight loss more energy or any of the other touted benefits of the plan But youâ ve heard the stories Several days into the keto diet people start to feel sluggish with headaches difficulty concentrating and muscle cramps Some get diarrhea or alternatively constipation Such symptoms are commonly referred to as the keto flu says Amy Gorin RDN in Jersey City New Jersey owner of Amy Gorin Nutrition But they arenâ the result of an infection of any sort like influenza Rather theyâ re byproduct of the body adjusting to very low carb diet as it depletes stored glucose The body turns to stored fat for energy instead triggering state of ketosis w...</td>\n",
       "      <td>All About the Keto Flu: Dangers, Management Tips, More | Everyday Health</td>\n",
       "      <td>https://static1.squarespace.com/static/5ab11d8f75f9ee24a7bf7183/t/5b855f85758d46c5adb43368/1535563805366/EDH.png</td>\n",
       "      <td>11.773</td>\n",
       "      <td>Everyday Health</td>\n",
       "      <td>Intermediate</td>\n",
       "      <td>text</td>\n",
       "      <td>2018-10-24</td>\n",
       "    </tr>\n",
       "    <tr>\n",
       "      <th>7</th>\n",
       "      <td>https://www.everydayhealth.com/ketogenic-diet/diet/keto-thanksgiving-recipes-low-carb-meal/</td>\n",
       "      <td>November You donâ have to stress about staying on track with your keto diet this Thanksgiving thanks to these low carb recipe alternatives to traditional holiday foods</td>\n",
       "      <td>9 Keto Thanksgiving Recipes for a Low-Carb Meal | Everyday Health</td>\n",
       "      <td>https://static1.squarespace.com/static/5ab11d8f75f9ee24a7bf7183/t/5b855f85758d46c5adb43368/1535563805366/EDH.png</td>\n",
       "      <td>5.000</td>\n",
       "      <td>Everyday Health</td>\n",
       "      <td>Intermediate</td>\n",
       "      <td>text</td>\n",
       "      <td>2018-11-20</td>\n",
       "    </tr>\n",
       "    <tr>\n",
       "      <th>8</th>\n",
       "      <td>https://www.everydayhealth.com/ketogenic-diet/diet/spooky-keto-diet-halloween-recipes/</td>\n",
       "      <td>October Get in the spooky spirit with these high fat low carb treats perfect to snack on while you greet trick or treaters or to take to your Halloween bash</td>\n",
       "      <td>8 Spooky Keto Diet Halloween Recipes | Everyday Health</td>\n",
       "      <td>https://static1.squarespace.com/static/5ab11d8f75f9ee24a7bf7183/t/5b855f85758d46c5adb43368/1535563805366/EDH.png</td>\n",
       "      <td>5.000</td>\n",
       "      <td>Everyday Health</td>\n",
       "      <td>Intermediate</td>\n",
       "      <td>text</td>\n",
       "      <td>2018-10-16</td>\n",
       "    </tr>\n",
       "    <tr>\n",
       "      <th>9</th>\n",
       "      <td>https://www.everydayhealth.com/ketogenic-diet/diet/healthy-foods-not-allowed-on-keto-diet/</td>\n",
       "      <td>The keto diet is known for its extremes By nature the keto diet isnâ fully balanced saysÂ Keri Glassman RD nutritionist in New York City Just look at the ratios in usual keto diet food list People on keto diet aim to eat upwards of percent of their calories from fat Theyâ ll also eat very few carbs So for the most part youâ ll skip out on fruits legumes like beans and lentils most dairy starchy vegetables and whole grains And while you donâ need fruit alone or beans alone to be healthy when taken altogether and eliminating multiple foods you can wind up with less than nutritious diet RELATED The Biggest Keto Diet Dangers You Need to Know AboutBecause of keto restrictions often patients on theÂ diet are at risk for deficiencies in essential nutrients like vitamins including B12 vitamin ...</td>\n",
       "      <td>10 Healthy Foods Not Allowed on the Keto Diet | Everyday Health</td>\n",
       "      <td>https://static1.squarespace.com/static/5ab11d8f75f9ee24a7bf7183/t/5b855f85758d46c5adb43368/1535563805366/EDH.png</td>\n",
       "      <td>7.263</td>\n",
       "      <td>Everyday Health</td>\n",
       "      <td>Intermediate</td>\n",
       "      <td>text</td>\n",
       "      <td>2018-11-19</td>\n",
       "    </tr>\n",
       "  </tbody>\n",
       "</table>\n",
       "</div>"
      ],
      "text/plain": [
       "                                                                                                           web_url  \\\n",
       "0      https://www.everydayhealth.com/ketogenic-diet/diet/types-targeted-keto-high-protein-keto-keto-cycling-more/   \n",
       "1                   https://www.everydayhealth.com/ketogenic-diet/diet/burning-questions-about-keto-diet-answered/   \n",
       "2                                        https://www.everydayhealth.com/ketogenic-diet/keto-binge-eating-disorder/   \n",
       "3                                 https://www.everydayhealth.com/ketogenic-diet/diet/best-fruits-eat-on-keto-diet/   \n",
       "4  https://www.everydayhealth.com/ketogenic-diet/diet/what-keto-cycling-can-it-help-you-stick-with-ketogenic-diet/   \n",
       "5          https://www.everydayhealth.com/columns/my-health-story/ketogenic-diet-made-me-thinner-quit-keto-anyway/   \n",
       "6                   https://www.everydayhealth.com/ketogenic-diet/all-about-keto-flu-dangers-management-tips-more/   \n",
       "7                      https://www.everydayhealth.com/ketogenic-diet/diet/keto-thanksgiving-recipes-low-carb-meal/   \n",
       "8                           https://www.everydayhealth.com/ketogenic-diet/diet/spooky-keto-diet-halloween-recipes/   \n",
       "9                       https://www.everydayhealth.com/ketogenic-diet/diet/healthy-foods-not-allowed-on-keto-diet/   \n",
       "\n",
       "                                                                                                                                                                                                                                                                                                                                                                                                                                                                                                                                                                                                                                                                                                                                                                                                                       description  \\\n",
       "0  Some ketogenic or ketoâ diet devotees stay true to the diet percent of the time while others have found they need little more carbohydrates or protein Thatâ inspired some to tweak the low carb high fat diet to meet their needs As result several spins on the keto diet have emerged Kristen Kizer RD registered clinical dietitian at Houston Methodist Hospital in Houston says that all of these diets have one thing in common keto diet to me would be any diet that gets body into ketosis she says Ketosis occurs when the body turns to fat as its main source of energy instead of carbohydrates says Amy Shapiro RD theÂ New York Cityâ based founder ofÂ Real Nutrition Keeping the body in ketosis for extended periods of time may lead to weight loss according to aÂ study published in Experimental Crit...   \n",
       "1  When it seems like everyone not just celebrities is on the ketogenic diet you want to know if itâ ll work for you The so called keto diet is high fat moderate protein very lowÂ carb plan But while people say that you can eat all the butter and bacon you want is that really true or healthy for that matter And is the keto diet actually the best way to lose weight Can it cause more problems than it solves Here are your top questions answered Is the Keto Diet Healthy In reality you donâ have to go on the keto diet in order to be healthy The keto diet is therapeutic diet used to control seizures in people who have epilepsy according to the Epilepsy Foundation For these people keto diet may be necessary for their health But today the diet has become trendy and many people are using it to los...   \n",
       "2  One of the major reasons the ketogenic diet often leads to temporary weight loss is because itâ so restrictive but thatâ the very same reason why it can sometimes worsen binge eating disorders The super popular but little studied keto diet places specific guidelines on how much of each macronutrient to eat each day with daily calories usually being made up of percent fat percent protein and percent carbs This means drastic cuts to the typical Americanâ carb intake usually amounting to no more than to grams of carbohydrates per day says Colleen Oâ Sullivan member of the nutrition services team at Timberline Knolls Residential Treatment Center in Lemont Illinois This sort of restrictive keto diet food list can be problematic for someone with binge eating disorder which involves eating la...   \n",
       "3                                                                                                                                                                                                                                                                                                                                                                                                                                                                                                                                                                                                                November The keto diet can help increase your chances of weight loss But if you donâ eat the right kinds of fruit and in the right amount you may kick yourself out of ketosis and stall your weight loss efforts   \n",
       "4  By now youâ ve likely heard about the ketogenic diet the trendy weight loss plan that calls for dramatically reducing how many carbs you eat moderating your protein and upping your fat intake As result of following the ketogenic diet or ketoÂ for short for few days your body will enter ketosis state that some research links to weight loss better glucose control and improved cholesterol Not all health experts would recommend the diet though as it can lead to kidney stones increased intake of badâ fats nutrient deficiencies decreased bone density and stomach problems various research suggests RELATED The Must Know Risks and Benefits of the Ketogenic DietAnother big downside of keto is the fact that keeping the body in ketosis is very difficult to maintain When following the keto diet you...   \n",
       "5  Medically reviewed by Kelly Kennedy RDWhen stepped on the scale and the needle raced past knew had problem was always thin and active as young man In college was feet inches tall and weighed pounds lbs Now closing in on half century of life over two decades of desk jobs had since passed The birth of my son made sleeping more of hobby than necessity The long hours and the stress of owning my own business caused me to make my food choices based on speed and price rather than nutrition and fuel My body was running on Coca Cola bagels and pizza So shouldnâ have been surprised when the needle on the scale settled at pounds but was still shocked You never think you are going to become statistic But as more and more Americans become overweight was part of not so exclusive club When started lo...   \n",
       "6  Youâ ve undoubtedly heard about the ketogenic diet high fat low carb approach that forces the body to burn fat for fuel and decided to consider it for weight loss more energy or any of the other touted benefits of the plan But youâ ve heard the stories Several days into the keto diet people start to feel sluggish with headaches difficulty concentrating and muscle cramps Some get diarrhea or alternatively constipation Such symptoms are commonly referred to as the keto flu says Amy Gorin RDN in Jersey City New Jersey owner of Amy Gorin Nutrition But they arenâ the result of an infection of any sort like influenza Rather theyâ re byproduct of the body adjusting to very low carb diet as it depletes stored glucose The body turns to stored fat for energy instead triggering state of ketosis w...   \n",
       "7                                                                                                                                                                                                                                                                                                                                                                                                                                                                                                                                                                                                                                                          November You donâ have to stress about staying on track with your keto diet this Thanksgiving thanks to these low carb recipe alternatives to traditional holiday foods   \n",
       "8                                                                                                                                                                                                                                                                                                                                                                                                                                                                                                                                                                                                                                                                     October Get in the spooky spirit with these high fat low carb treats perfect to snack on while you greet trick or treaters or to take to your Halloween bash   \n",
       "9  The keto diet is known for its extremes By nature the keto diet isnâ fully balanced saysÂ Keri Glassman RD nutritionist in New York City Just look at the ratios in usual keto diet food list People on keto diet aim to eat upwards of percent of their calories from fat Theyâ ll also eat very few carbs So for the most part youâ ll skip out on fruits legumes like beans and lentils most dairy starchy vegetables and whole grains And while you donâ need fruit alone or beans alone to be healthy when taken altogether and eliminating multiple foods you can wind up with less than nutritious diet RELATED The Biggest Keto Diet Dangers You Need to Know AboutBecause of keto restrictions often patients on theÂ diet are at risk for deficiencies in essential nutrients like vitamins including B12 vitamin ...   \n",
       "\n",
       "                                                                                          title  \\\n",
       "0  Ketogenic Diet Types: Targeted Keto, High-Protein Keto, Keto Cycling, More | Everyday Health   \n",
       "1                          15 Burning Questions About the Keto Diet, Answered | Everyday Health   \n",
       "2                                          Keto and Binge Eating Disorder 101 | Everyday Health   \n",
       "3                                        10 Best Fruits to Eat on a Keto Diet | Everyday Health   \n",
       "4     What Is Keto Cycling and Can It Help You Stick With the Ketogenic Diet? | Everyday Health   \n",
       "5               The Ketogenic Diet Made Me Thinner â But I Quit Keto Anyway | Everyday Health   \n",
       "6                      All About the Keto Flu: Dangers, Management Tips, More | Everyday Health   \n",
       "7                             9 Keto Thanksgiving Recipes for a Low-Carb Meal | Everyday Health   \n",
       "8                                        8 Spooky Keto Diet Halloween Recipes | Everyday Health   \n",
       "9                               10 Healthy Foods Not Allowed on the Keto Diet | Everyday Health   \n",
       "\n",
       "                                                                                                          image_url  \\\n",
       "0  https://static1.squarespace.com/static/5ab11d8f75f9ee24a7bf7183/t/5b855f85758d46c5adb43368/1535563805366/EDH.png   \n",
       "1  https://static1.squarespace.com/static/5ab11d8f75f9ee24a7bf7183/t/5b855f85758d46c5adb43368/1535563805366/EDH.png   \n",
       "2  https://static1.squarespace.com/static/5ab11d8f75f9ee24a7bf7183/t/5b855f85758d46c5adb43368/1535563805366/EDH.png   \n",
       "3  https://static1.squarespace.com/static/5ab11d8f75f9ee24a7bf7183/t/5b855f85758d46c5adb43368/1535563805366/EDH.png   \n",
       "4  https://static1.squarespace.com/static/5ab11d8f75f9ee24a7bf7183/t/5b855f85758d46c5adb43368/1535563805366/EDH.png   \n",
       "5  https://static1.squarespace.com/static/5ab11d8f75f9ee24a7bf7183/t/5b855f85758d46c5adb43368/1535563805366/EDH.png   \n",
       "6  https://static1.squarespace.com/static/5ab11d8f75f9ee24a7bf7183/t/5b855f85758d46c5adb43368/1535563805366/EDH.png   \n",
       "7  https://static1.squarespace.com/static/5ab11d8f75f9ee24a7bf7183/t/5b855f85758d46c5adb43368/1535563805366/EDH.png   \n",
       "8  https://static1.squarespace.com/static/5ab11d8f75f9ee24a7bf7183/t/5b855f85758d46c5adb43368/1535563805366/EDH.png   \n",
       "9  https://static1.squarespace.com/static/5ab11d8f75f9ee24a7bf7183/t/5b855f85758d46c5adb43368/1535563805366/EDH.png   \n",
       "\n",
       "   length           source     formality medium        date  \n",
       "0  12.267  Everyday Health  Intermediate   text  2018-12-18  \n",
       "1  16.759  Everyday Health  Intermediate   text  2018-10-10  \n",
       "2   6.138  Everyday Health  Intermediate   text  2018-12-14  \n",
       "3   5.000  Everyday Health  Intermediate   text  2018-11-30  \n",
       "4   8.374  Everyday Health  Intermediate   text  2018-08-27  \n",
       "5  15.476  Everyday Health  Intermediate   text  2018-12-18  \n",
       "6  11.773  Everyday Health  Intermediate   text  2018-10-24  \n",
       "7   5.000  Everyday Health  Intermediate   text  2018-11-20  \n",
       "8   5.000  Everyday Health  Intermediate   text  2018-10-16  \n",
       "9   7.263  Everyday Health  Intermediate   text  2018-11-19  "
      ]
     },
     "execution_count": 420,
     "metadata": {},
     "output_type": "execute_result"
    }
   ],
   "source": [
    "x"
   ]
  },
  {
   "cell_type": "code",
   "execution_count": 268,
   "metadata": {},
   "outputs": [
    {
     "name": "stdout",
     "output_type": "stream",
     "text": [
      "Ketogenic Diet Types: Targeted Keto, High-Protein Keto, Keto Cycling, More | Everyday Health\n"
     ]
    }
   ],
   "source": [
    "print(soup.title.string)"
   ]
  },
  {
   "cell_type": "code",
   "execution_count": 301,
   "metadata": {},
   "outputs": [],
   "source": [
    "web = requests.get(results[2])\n",
    "soup = BeautifulSoup(web.content, 'html.parser', from_encoding='utf-8')\n",
    "# results = soup.findAll('a')"
   ]
  },
  {
   "cell_type": "code",
   "execution_count": 302,
   "metadata": {},
   "outputs": [],
   "source": [
    "article = soup.findAll('p')"
   ]
  },
  {
   "cell_type": "code",
   "execution_count": 382,
   "metadata": {},
   "outputs": [],
   "source": [
    "x = soup.find(\"div\", class_=\"updated_text\").text.replace('Last Updated:','').replace('/','-')"
   ]
  },
  {
   "cell_type": "code",
   "execution_count": 383,
   "metadata": {},
   "outputs": [
    {
     "data": {
      "text/plain": [
       "'12-14-2018'"
      ]
     },
     "execution_count": 383,
     "metadata": {},
     "output_type": "execute_result"
    }
   ],
   "source": [
    "x"
   ]
  },
  {
   "cell_type": "code",
   "execution_count": 371,
   "metadata": {},
   "outputs": [
    {
     "data": {
      "text/plain": [
       "'Moira Lawler'"
      ]
     },
     "execution_count": 371,
     "metadata": {},
     "output_type": "execute_result"
    }
   ],
   "source": [
    "x.text.replace('By','').strip()"
   ]
  },
  {
   "cell_type": "code",
   "execution_count": 330,
   "metadata": {},
   "outputs": [
    {
     "data": {
      "text/plain": [
       "6348"
      ]
     },
     "execution_count": 330,
     "metadata": {},
     "output_type": "execute_result"
    }
   ],
   "source": [
    "len(article[3].text)"
   ]
  },
  {
   "cell_type": "code",
   "execution_count": null,
   "metadata": {},
   "outputs": [],
   "source": [
    "article = soup.findAll('p')\n",
    "        paragraphs = []\n",
    "        list_ = []\n",
    "        for p in range(0,len(article)):\n",
    "            text = article[p].text\n",
    "            paragraphs.append(text)\n",
    "        article_ = ' '.join(paragraphs)"
   ]
  },
  {
   "cell_type": "code",
   "execution_count": 191,
   "metadata": {},
   "outputs": [
    {
     "data": {
      "text/plain": [
       "'/high-cholesterol/?iid=gnav_nav_high'"
      ]
     },
     "execution_count": 191,
     "metadata": {},
     "output_type": "execute_result"
    }
   ],
   "source": [
    "results[20].get('href')"
   ]
  },
  {
   "cell_type": "code",
   "execution_count": 173,
   "metadata": {},
   "outputs": [
    {
     "data": {
      "text/plain": [
       "<Response [200]>"
      ]
     },
     "execution_count": 173,
     "metadata": {},
     "output_type": "execute_result"
    }
   ],
   "source": [
    "requests.get('https://www.coursera.org/specializations/python')"
   ]
  },
  {
   "cell_type": "code",
   "execution_count": 426,
   "metadata": {},
   "outputs": [
    {
     "ename": "SyntaxError",
     "evalue": "unexpected EOF while parsing (<ipython-input-426-518301cba935>, line 71)",
     "output_type": "error",
     "traceback": [
      "\u001b[0;36m  File \u001b[0;32m\"<ipython-input-426-518301cba935>\"\u001b[0;36m, line \u001b[0;32m71\u001b[0m\n\u001b[0;31m    #     return empty\u001b[0m\n\u001b[0m                      ^\u001b[0m\n\u001b[0;31mSyntaxError\u001b[0m\u001b[0;31m:\u001b[0m unexpected EOF while parsing\n"
     ]
    }
   ],
   "source": [
    "# def search_everyday_health(term):\n",
    "#     html_page = requests.get('https://www.everydayhealth.com/search/%s/?iid=gnav_head_search'%term)\n",
    "#     soup = BeautifulSoup(html_page.content, 'html.parser', from_encoding='utf-8')\n",
    "#     results = soup.findAll('a')\n",
    "#     dates = [pd.to_datetime(date.text).date().strftime('%Y-%m-%d') for date in soup.findAll(\"div\", class_=\"resultDate\")]\n",
    "#     results = [result.get('href') for result in results]\n",
    "#     results = ['https:'+result for result in results if str(result)[:6] == '//www.' if 'search' not in result if term in result]\n",
    "#     return results, dates\n",
    "\n",
    "# def tokenize_text(text):\n",
    "#     tokenizer = RegexpTokenizer('[A-Za-z]\\w+')\n",
    "#     all_tokens = tokenizer.tokenize(text)\n",
    "#     text = \" \".join(all_tokens)\n",
    "#     return text\n",
    "\n",
    "def scrape_articles(results,dates,term, categories):\n",
    "    df = pd.DataFrame(results,columns=['web_url'])\n",
    "    all_text = []\n",
    "    all_titles = []\n",
    "    all_lengths = []\n",
    "    all_categories2 = []\n",
    "    all_categories3 = []\n",
    "    all_categories4 = []\n",
    "    all_categories5 = []\n",
    "    for result in results:\n",
    "        html_page = requests.get(result)\n",
    "        soup = BeautifulSoup(html_page.content, 'html.parser', from_encoding=\"iso-8859-1\")\n",
    "        all_titles.append(soup.title.string)\n",
    "#         author = soup.find(\"h3\", class_=\"byline_text\").text.replace('By','').strip()\n",
    "        article = soup.findAll('p')\n",
    "        body = tokenize_text(article[3].text)\n",
    "        all_text.append(body)\n",
    "        category_dict = find_categories(body, categories)\n",
    "        all_categories2.append(category_dict[1])\n",
    "        all_categories3.append(category_dict[2])\n",
    "        all_categories4.append(category_dict[3])\n",
    "        all_categories5.append(category_dict[4])\n",
    "        length = len(body) /4/ 250\n",
    "        if length > 5:\n",
    "            all_lengths.append(length)\n",
    "        else:\n",
    "            all_lengths.append(5)\n",
    "    df['description'] = all_text\n",
    "    df['title'] = all_titles\n",
    "    df['image_url'] = 'https://static1.squarespace.com/static/5ab11d8f75f9ee24a7bf7183/t/5b855f85758d46c5adb43368/1535563805366/EDH.png'\n",
    "    df['length'] = all_lengths\n",
    "    df['source'] = 'Everyday Health'\n",
    "    df['source_id'] = 'Blog'\n",
    "    df['formality'] = 'Intermediate'\n",
    "    df['medium'] = 'text'\n",
    "    df['date'] = dates\n",
    "    df['param_1'] = term\n",
    "    df['param_2'] = all_categories2\n",
    "    df['param_3'] = all_categories2\n",
    "    df['param_4'] = all_categories2\n",
    "    df['param_5'] = all_categories2\n",
    "    df['difficulty'] = random_difficulties(len(df['title']))\n",
    "#     return df\n",
    "\n",
    "# def scrape_everyday_health(categories):\n",
    "#     empty = pd.DataFrame()\n",
    "#     for category in categories:\n",
    "#         print(category)\n",
    "#         try:\n",
    "#             results, dates = search_everyday_health(category)\n",
    "#             df = scrape_articles(results, dates, category, categories)\n",
    "#             empty = empty.append(df, sort=True)\n",
    "#             print('SUCCESS!')\n",
    "#         except:\n",
    "#             print('EXCEPTION')\n",
    "#     return empty\n"
   ]
  },
  {
   "cell_type": "code",
   "execution_count": null,
   "metadata": {},
   "outputs": [],
   "source": []
  }
 ],
 "metadata": {
  "kernelspec": {
   "display_name": "Python 3",
   "language": "python",
   "name": "python3"
  },
  "language_info": {
   "codemirror_mode": {
    "name": "ipython",
    "version": 3
   },
   "file_extension": ".py",
   "mimetype": "text/x-python",
   "name": "python",
   "nbconvert_exporter": "python",
   "pygments_lexer": "ipython3",
   "version": "3.6.5"
  }
 },
 "nbformat": 4,
 "nbformat_minor": 2
}
