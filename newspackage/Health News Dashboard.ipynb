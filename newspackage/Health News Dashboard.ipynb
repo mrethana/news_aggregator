{
 "cells": [
  {
   "cell_type": "code",
   "execution_count": 1,
   "metadata": {
    "extensions": {
     "jupyter_dashboards": {
      "version": 1,
      "views": {
       "grid_default": {
        "hidden": true
       },
       "report_default": {
        "hidden": false
       }
      }
     }
    }
   },
   "outputs": [
    {
     "name": "stdout",
     "output_type": "stream",
     "text": [
      "Database session created\n"
     ]
    }
   ],
   "source": [
    "import ipywidgets as widgets\n",
    "from ipywidgets import interact, interactive, fixed, interact_manual\n",
    "import ipywidgets as widgets\n",
    "from IPython.display import Image\n",
    "from IPython.core.display import HTML \n",
    "import time\n",
    "from ipywidgets import FloatProgress\n",
    "from IPython.display import display\n",
    "from bs4 import BeautifulSoup\n",
    "import requests\n",
    "import re\n",
    "from os import path\n",
    "from PIL import Image\n",
    "import pandas as pd\n",
    "import warnings\n",
    "warnings.filterwarnings(\"ignore\")\n",
    "from models import *\n",
    "from etl import *\n",
    "import plotly.plotly as py\n",
    "import plotly.graph_objs as go"
   ]
  },
  {
   "cell_type": "code",
   "execution_count": 2,
   "metadata": {
    "extensions": {
     "jupyter_dashboards": {
      "version": 1,
      "views": {
       "grid_default": {},
       "report_default": {
        "hidden": true
       }
      }
     }
    }
   },
   "outputs": [],
   "source": [
    "def add_scraping_source(df, identifier_dict):\n",
    "    scraped_source = []\n",
    "    for index, row in df.iterrows():\n",
    "        identifier = row.medium + row.formality\n",
    "        scraped_from = identifier_dict[identifier]\n",
    "        scraped_source.append(scraped_from)\n",
    "    df['scraped_from'] = scraped_source\n",
    "    return df\n",
    "def fix_NYT(df):\n",
    "    df.loc[(df.provider=='The New York Times') & (df.medium == 'text'), 'scraped_from'] = 'NYT API'\n",
    "    return df"
   ]
  },
  {
   "cell_type": "code",
   "execution_count": 3,
   "metadata": {
    "extensions": {
     "jupyter_dashboards": {
      "version": 1,
      "views": {
       "grid_default": {},
       "report_default": {
        "hidden": true
       }
      }
     }
    }
   },
   "outputs": [],
   "source": [
    "identifier_dict = {'audioFormal':'Itunes Audiobook','textFormal':'Itunes Ebook','videoFormal':'Itunes Movie',\n",
    "                  'textInformal': 'Twitter', 'videoInformal': 'Youtube',\n",
    "                   'audioIntermediate': 'Itunes Podcast', 'textIntermediate': 'NewsApi', 'videoIntermediate': 'Youtube'}"
   ]
  },
  {
   "cell_type": "code",
   "execution_count": 4,
   "metadata": {},
   "outputs": [],
   "source": [
    "pd.set_option('display.max_colwidth', -1)"
   ]
  },
  {
   "cell_type": "code",
   "execution_count": 5,
   "metadata": {
    "extensions": {
     "jupyter_dashboards": {
      "version": 1,
      "views": {
       "grid_default": {},
       "report_default": {
        "hidden": true
       }
      }
     }
    }
   },
   "outputs": [],
   "source": [
    "df = pd.DataFrame([{'id':content.id,'content_url':content.content_url, 'image_url':content.image_url,'title':content.title\n",
    "                             , 'published': content.published, 'length': content.length, 'medium':content.medium.name,\n",
    "                             'provider': content.provider.name, 'api_id':content.provider.api_id,\n",
    "                    'formality':content.provider.formality.type, 'difficulty':content.difficulty.type\n",
    "                             } for content in session.query(Content).all()])\n",
    "x = [[category.name for category in content.categories] for content in session.query(Content).all()]\n",
    "df['categories'] = x\n",
    "df = add_scraping_source(df, identifier_dict)\n",
    "df = fix_NYT(df)\n",
    "\n",
    "df.to_csv('all_content.csv')"
   ]
  },
  {
   "cell_type": "code",
   "execution_count": 6,
   "metadata": {},
   "outputs": [
    {
     "data": {
      "text/html": [
       "<div>\n",
       "<style scoped>\n",
       "    .dataframe tbody tr th:only-of-type {\n",
       "        vertical-align: middle;\n",
       "    }\n",
       "\n",
       "    .dataframe tbody tr th {\n",
       "        vertical-align: top;\n",
       "    }\n",
       "\n",
       "    .dataframe thead th {\n",
       "        text-align: right;\n",
       "    }\n",
       "</style>\n",
       "<table border=\"1\" class=\"dataframe\">\n",
       "  <thead>\n",
       "    <tr style=\"text-align: right;\">\n",
       "      <th></th>\n",
       "      <th>api_id</th>\n",
       "      <th>content_url</th>\n",
       "      <th>difficulty</th>\n",
       "      <th>formality</th>\n",
       "      <th>id</th>\n",
       "      <th>image_url</th>\n",
       "      <th>length</th>\n",
       "      <th>medium</th>\n",
       "      <th>provider</th>\n",
       "      <th>published</th>\n",
       "      <th>title</th>\n",
       "      <th>categories</th>\n",
       "      <th>scraped_from</th>\n",
       "    </tr>\n",
       "  </thead>\n",
       "  <tbody>\n",
       "    <tr>\n",
       "      <th>0</th>\n",
       "      <td>Twitter</td>\n",
       "      <td>https://twitter.com/ATPScience1/status/1075922927575556097</td>\n",
       "      <td>Easy</td>\n",
       "      <td>Informal</td>\n",
       "      <td>1</td>\n",
       "      <td>https://twitter.com/ATPScience1/status/1075922927575556097</td>\n",
       "      <td>1</td>\n",
       "      <td>text</td>\n",
       "      <td>ATPScience1</td>\n",
       "      <td>2018-12-21</td>\n",
       "      <td>1075922927575556097</td>\n",
       "      <td>[general, null]</td>\n",
       "      <td>Twitter</td>\n",
       "    </tr>\n",
       "    <tr>\n",
       "      <th>1</th>\n",
       "      <td>Twitter</td>\n",
       "      <td>https://twitter.com/ATPScience1/status/1075922863402700802</td>\n",
       "      <td>Easy</td>\n",
       "      <td>Informal</td>\n",
       "      <td>2</td>\n",
       "      <td>https://twitter.com/ATPScience1/status/1075922863402700802</td>\n",
       "      <td>1</td>\n",
       "      <td>text</td>\n",
       "      <td>ATPScience1</td>\n",
       "      <td>2018-12-21</td>\n",
       "      <td>1075922863402700802</td>\n",
       "      <td>[general, null]</td>\n",
       "      <td>Twitter</td>\n",
       "    </tr>\n",
       "    <tr>\n",
       "      <th>2</th>\n",
       "      <td>Twitter</td>\n",
       "      <td>https://twitter.com/ATPScience1/status/1075921037483741184</td>\n",
       "      <td>Easy</td>\n",
       "      <td>Informal</td>\n",
       "      <td>3</td>\n",
       "      <td>https://twitter.com/ATPScience1/status/1075921037483741184</td>\n",
       "      <td>1</td>\n",
       "      <td>text</td>\n",
       "      <td>ATPScience1</td>\n",
       "      <td>2018-12-21</td>\n",
       "      <td>1075921037483741184</td>\n",
       "      <td>[general, null]</td>\n",
       "      <td>Twitter</td>\n",
       "    </tr>\n",
       "    <tr>\n",
       "      <th>3</th>\n",
       "      <td>Twitter</td>\n",
       "      <td>https://twitter.com/ATPScience1/status/1075920493595611137</td>\n",
       "      <td>Easy</td>\n",
       "      <td>Informal</td>\n",
       "      <td>4</td>\n",
       "      <td>https://twitter.com/ATPScience1/status/1075920493595611137</td>\n",
       "      <td>1</td>\n",
       "      <td>text</td>\n",
       "      <td>ATPScience1</td>\n",
       "      <td>2018-12-21</td>\n",
       "      <td>1075920493595611137</td>\n",
       "      <td>[null, aminos, vegan]</td>\n",
       "      <td>Twitter</td>\n",
       "    </tr>\n",
       "    <tr>\n",
       "      <th>4</th>\n",
       "      <td>Twitter</td>\n",
       "      <td>https://twitter.com/ATPScience1/status/1075917766530486274</td>\n",
       "      <td>Hard</td>\n",
       "      <td>Informal</td>\n",
       "      <td>5</td>\n",
       "      <td>https://twitter.com/ATPScience1/status/1075917766530486274</td>\n",
       "      <td>1</td>\n",
       "      <td>text</td>\n",
       "      <td>ATPScience1</td>\n",
       "      <td>2018-12-21</td>\n",
       "      <td>1075917766530486274</td>\n",
       "      <td>[null, aminos, vegan]</td>\n",
       "      <td>Twitter</td>\n",
       "    </tr>\n",
       "    <tr>\n",
       "      <th>5</th>\n",
       "      <td>Twitter</td>\n",
       "      <td>https://twitter.com/ATPScience1/status/1075908604635549700</td>\n",
       "      <td>Medium</td>\n",
       "      <td>Informal</td>\n",
       "      <td>6</td>\n",
       "      <td>https://twitter.com/ATPScience1/status/1075908604635549700</td>\n",
       "      <td>1</td>\n",
       "      <td>text</td>\n",
       "      <td>ATPScience1</td>\n",
       "      <td>2018-12-21</td>\n",
       "      <td>1075908604635549700</td>\n",
       "      <td>[general, null]</td>\n",
       "      <td>Twitter</td>\n",
       "    </tr>\n",
       "    <tr>\n",
       "      <th>6</th>\n",
       "      <td>Twitter</td>\n",
       "      <td>https://twitter.com/ATPScience1/status/1075878801987399681</td>\n",
       "      <td>Medium</td>\n",
       "      <td>Informal</td>\n",
       "      <td>7</td>\n",
       "      <td>https://twitter.com/ATPScience1/status/1075878801987399681</td>\n",
       "      <td>1</td>\n",
       "      <td>text</td>\n",
       "      <td>ATPScience1</td>\n",
       "      <td>2018-12-20</td>\n",
       "      <td>1075878801987399681</td>\n",
       "      <td>[general, null]</td>\n",
       "      <td>Twitter</td>\n",
       "    </tr>\n",
       "    <tr>\n",
       "      <th>7</th>\n",
       "      <td>Twitter</td>\n",
       "      <td>https://twitter.com/ATPScience1/status/1075878740289298432</td>\n",
       "      <td>Hard</td>\n",
       "      <td>Informal</td>\n",
       "      <td>8</td>\n",
       "      <td>https://twitter.com/ATPScience1/status/1075878740289298432</td>\n",
       "      <td>1</td>\n",
       "      <td>text</td>\n",
       "      <td>ATPScience1</td>\n",
       "      <td>2018-12-20</td>\n",
       "      <td>1075878740289298432</td>\n",
       "      <td>[general, null]</td>\n",
       "      <td>Twitter</td>\n",
       "    </tr>\n",
       "    <tr>\n",
       "      <th>8</th>\n",
       "      <td>Twitter</td>\n",
       "      <td>https://twitter.com/ATPScience1/status/1073412341075726336</td>\n",
       "      <td>Hard</td>\n",
       "      <td>Informal</td>\n",
       "      <td>9</td>\n",
       "      <td>https://twitter.com/ATPScience1/status/1073412341075726336</td>\n",
       "      <td>1</td>\n",
       "      <td>text</td>\n",
       "      <td>ATPScience1</td>\n",
       "      <td>2018-12-14</td>\n",
       "      <td>1073412341075726336</td>\n",
       "      <td>[general, null]</td>\n",
       "      <td>Twitter</td>\n",
       "    </tr>\n",
       "    <tr>\n",
       "      <th>9</th>\n",
       "      <td>Twitter</td>\n",
       "      <td>https://twitter.com/ATPScience1/status/1073400673461506048</td>\n",
       "      <td>Easy</td>\n",
       "      <td>Informal</td>\n",
       "      <td>10</td>\n",
       "      <td>https://twitter.com/ATPScience1/status/1073400673461506048</td>\n",
       "      <td>1</td>\n",
       "      <td>text</td>\n",
       "      <td>ATPScience1</td>\n",
       "      <td>2018-12-14</td>\n",
       "      <td>1073400673461506048</td>\n",
       "      <td>[general, null]</td>\n",
       "      <td>Twitter</td>\n",
       "    </tr>\n",
       "    <tr>\n",
       "      <th>10</th>\n",
       "      <td>Twitter</td>\n",
       "      <td>https://twitter.com/ATPScience1/status/1073379631581978629</td>\n",
       "      <td>Easy</td>\n",
       "      <td>Informal</td>\n",
       "      <td>11</td>\n",
       "      <td>https://twitter.com/ATPScience1/status/1073379631581978629</td>\n",
       "      <td>1</td>\n",
       "      <td>text</td>\n",
       "      <td>ATPScience1</td>\n",
       "      <td>2018-12-14</td>\n",
       "      <td>1073379631581978629</td>\n",
       "      <td>[general, null]</td>\n",
       "      <td>Twitter</td>\n",
       "    </tr>\n",
       "    <tr>\n",
       "      <th>11</th>\n",
       "      <td>Twitter</td>\n",
       "      <td>https://twitter.com/ATPScience1/status/1073379553039400960</td>\n",
       "      <td>Easy</td>\n",
       "      <td>Informal</td>\n",
       "      <td>12</td>\n",
       "      <td>https://twitter.com/ATPScience1/status/1073379553039400960</td>\n",
       "      <td>1</td>\n",
       "      <td>text</td>\n",
       "      <td>ATPScience1</td>\n",
       "      <td>2018-12-14</td>\n",
       "      <td>1073379553039400960</td>\n",
       "      <td>[general, null]</td>\n",
       "      <td>Twitter</td>\n",
       "    </tr>\n",
       "    <tr>\n",
       "      <th>12</th>\n",
       "      <td>Twitter</td>\n",
       "      <td>https://twitter.com/ATPScience1/status/1073086620641959937</td>\n",
       "      <td>Medium</td>\n",
       "      <td>Informal</td>\n",
       "      <td>13</td>\n",
       "      <td>https://twitter.com/ATPScience1/status/1073086620641959937</td>\n",
       "      <td>1</td>\n",
       "      <td>text</td>\n",
       "      <td>ATPScience1</td>\n",
       "      <td>2018-12-13</td>\n",
       "      <td>1073086620641959937</td>\n",
       "      <td>[general, null]</td>\n",
       "      <td>Twitter</td>\n",
       "    </tr>\n",
       "    <tr>\n",
       "      <th>13</th>\n",
       "      <td>Twitter</td>\n",
       "      <td>https://twitter.com/ATPScience1/status/1072714978187202561</td>\n",
       "      <td>Easy</td>\n",
       "      <td>Informal</td>\n",
       "      <td>14</td>\n",
       "      <td>https://twitter.com/ATPScience1/status/1072714978187202561</td>\n",
       "      <td>1</td>\n",
       "      <td>text</td>\n",
       "      <td>ATPScience1</td>\n",
       "      <td>2018-12-12</td>\n",
       "      <td>1072714978187202561</td>\n",
       "      <td>[general, null]</td>\n",
       "      <td>Twitter</td>\n",
       "    </tr>\n",
       "    <tr>\n",
       "      <th>14</th>\n",
       "      <td>Twitter</td>\n",
       "      <td>https://twitter.com/ATPScience1/status/1072714871890944000</td>\n",
       "      <td>Hard</td>\n",
       "      <td>Informal</td>\n",
       "      <td>15</td>\n",
       "      <td>https://twitter.com/ATPScience1/status/1072714871890944000</td>\n",
       "      <td>1</td>\n",
       "      <td>text</td>\n",
       "      <td>ATPScience1</td>\n",
       "      <td>2018-12-12</td>\n",
       "      <td>1072714871890944000</td>\n",
       "      <td>[general, null]</td>\n",
       "      <td>Twitter</td>\n",
       "    </tr>\n",
       "    <tr>\n",
       "      <th>15</th>\n",
       "      <td>Twitter</td>\n",
       "      <td>https://twitter.com/ATPScience1/status/1070871322736115712</td>\n",
       "      <td>Medium</td>\n",
       "      <td>Informal</td>\n",
       "      <td>16</td>\n",
       "      <td>https://twitter.com/ATPScience1/status/1070871322736115712</td>\n",
       "      <td>1</td>\n",
       "      <td>text</td>\n",
       "      <td>ATPScience1</td>\n",
       "      <td>2018-12-07</td>\n",
       "      <td>1070871322736115712</td>\n",
       "      <td>[general, null]</td>\n",
       "      <td>Twitter</td>\n",
       "    </tr>\n",
       "    <tr>\n",
       "      <th>16</th>\n",
       "      <td>Twitter</td>\n",
       "      <td>https://twitter.com/ATPScience1/status/1070865967276810242</td>\n",
       "      <td>Easy</td>\n",
       "      <td>Informal</td>\n",
       "      <td>17</td>\n",
       "      <td>https://twitter.com/ATPScience1/status/1070865967276810242</td>\n",
       "      <td>1</td>\n",
       "      <td>text</td>\n",
       "      <td>ATPScience1</td>\n",
       "      <td>2018-12-07</td>\n",
       "      <td>1070865967276810242</td>\n",
       "      <td>[general, null]</td>\n",
       "      <td>Twitter</td>\n",
       "    </tr>\n",
       "    <tr>\n",
       "      <th>17</th>\n",
       "      <td>Twitter</td>\n",
       "      <td>https://twitter.com/ATPScience1/status/1070118844541239298</td>\n",
       "      <td>Easy</td>\n",
       "      <td>Informal</td>\n",
       "      <td>18</td>\n",
       "      <td>https://twitter.com/ATPScience1/status/1070118844541239298</td>\n",
       "      <td>1</td>\n",
       "      <td>text</td>\n",
       "      <td>ATPScience1</td>\n",
       "      <td>2018-12-05</td>\n",
       "      <td>1070118844541239298</td>\n",
       "      <td>[general, null]</td>\n",
       "      <td>Twitter</td>\n",
       "    </tr>\n",
       "    <tr>\n",
       "      <th>18</th>\n",
       "      <td>Twitter</td>\n",
       "      <td>https://twitter.com/ATPScience1/status/1070115521683611649</td>\n",
       "      <td>Hard</td>\n",
       "      <td>Informal</td>\n",
       "      <td>19</td>\n",
       "      <td>https://twitter.com/ATPScience1/status/1070115521683611649</td>\n",
       "      <td>1</td>\n",
       "      <td>text</td>\n",
       "      <td>ATPScience1</td>\n",
       "      <td>2018-12-05</td>\n",
       "      <td>1070115521683611649</td>\n",
       "      <td>[general, null]</td>\n",
       "      <td>Twitter</td>\n",
       "    </tr>\n",
       "    <tr>\n",
       "      <th>19</th>\n",
       "      <td>Twitter</td>\n",
       "      <td>https://twitter.com/ATPScience1/status/1068387608265441280</td>\n",
       "      <td>Medium</td>\n",
       "      <td>Informal</td>\n",
       "      <td>20</td>\n",
       "      <td>https://twitter.com/ATPScience1/status/1068387608265441280</td>\n",
       "      <td>1</td>\n",
       "      <td>text</td>\n",
       "      <td>ATPScience1</td>\n",
       "      <td>2018-11-30</td>\n",
       "      <td>1068387608265441280</td>\n",
       "      <td>[null, plant]</td>\n",
       "      <td>Twitter</td>\n",
       "    </tr>\n",
       "    <tr>\n",
       "      <th>20</th>\n",
       "      <td>Twitter</td>\n",
       "      <td>https://twitter.com/waitrose/status/1079452011576389632</td>\n",
       "      <td>Medium</td>\n",
       "      <td>Informal</td>\n",
       "      <td>21</td>\n",
       "      <td>https://twitter.com/waitrose/status/1079452011576389632</td>\n",
       "      <td>1</td>\n",
       "      <td>text</td>\n",
       "      <td>waitrose</td>\n",
       "      <td>2018-12-30</td>\n",
       "      <td>1079452011576389632</td>\n",
       "      <td>[general, null]</td>\n",
       "      <td>Twitter</td>\n",
       "    </tr>\n",
       "    <tr>\n",
       "      <th>21</th>\n",
       "      <td>Twitter</td>\n",
       "      <td>https://twitter.com/waitrose/status/1079439491327315969</td>\n",
       "      <td>Easy</td>\n",
       "      <td>Informal</td>\n",
       "      <td>22</td>\n",
       "      <td>https://twitter.com/waitrose/status/1079439491327315969</td>\n",
       "      <td>1</td>\n",
       "      <td>text</td>\n",
       "      <td>waitrose</td>\n",
       "      <td>2018-12-30</td>\n",
       "      <td>1079439491327315969</td>\n",
       "      <td>[general, null]</td>\n",
       "      <td>Twitter</td>\n",
       "    </tr>\n",
       "    <tr>\n",
       "      <th>22</th>\n",
       "      <td>Twitter</td>\n",
       "      <td>https://twitter.com/waitrose/status/1079437492380672007</td>\n",
       "      <td>Medium</td>\n",
       "      <td>Informal</td>\n",
       "      <td>23</td>\n",
       "      <td>https://twitter.com/waitrose/status/1079437492380672007</td>\n",
       "      <td>1</td>\n",
       "      <td>text</td>\n",
       "      <td>waitrose</td>\n",
       "      <td>2018-12-30</td>\n",
       "      <td>1079437492380672007</td>\n",
       "      <td>[general, null]</td>\n",
       "      <td>Twitter</td>\n",
       "    </tr>\n",
       "    <tr>\n",
       "      <th>23</th>\n",
       "      <td>Twitter</td>\n",
       "      <td>https://twitter.com/waitrose/status/1079434961311150080</td>\n",
       "      <td>Easy</td>\n",
       "      <td>Informal</td>\n",
       "      <td>24</td>\n",
       "      <td>https://twitter.com/waitrose/status/1079434961311150080</td>\n",
       "      <td>1</td>\n",
       "      <td>text</td>\n",
       "      <td>waitrose</td>\n",
       "      <td>2018-12-30</td>\n",
       "      <td>1079434961311150080</td>\n",
       "      <td>[general, null]</td>\n",
       "      <td>Twitter</td>\n",
       "    </tr>\n",
       "    <tr>\n",
       "      <th>24</th>\n",
       "      <td>Twitter</td>\n",
       "      <td>https://twitter.com/waitrose/status/1079432568146141184</td>\n",
       "      <td>Medium</td>\n",
       "      <td>Informal</td>\n",
       "      <td>25</td>\n",
       "      <td>https://twitter.com/waitrose/status/1079432568146141184</td>\n",
       "      <td>1</td>\n",
       "      <td>text</td>\n",
       "      <td>waitrose</td>\n",
       "      <td>2018-12-30</td>\n",
       "      <td>1079432568146141184</td>\n",
       "      <td>[general, null]</td>\n",
       "      <td>Twitter</td>\n",
       "    </tr>\n",
       "    <tr>\n",
       "      <th>25</th>\n",
       "      <td>Twitter</td>\n",
       "      <td>https://twitter.com/waitrose/status/1079429378164097026</td>\n",
       "      <td>Medium</td>\n",
       "      <td>Informal</td>\n",
       "      <td>26</td>\n",
       "      <td>https://twitter.com/waitrose/status/1079429378164097026</td>\n",
       "      <td>1</td>\n",
       "      <td>text</td>\n",
       "      <td>waitrose</td>\n",
       "      <td>2018-12-30</td>\n",
       "      <td>1079429378164097026</td>\n",
       "      <td>[general, null]</td>\n",
       "      <td>Twitter</td>\n",
       "    </tr>\n",
       "    <tr>\n",
       "      <th>26</th>\n",
       "      <td>Twitter</td>\n",
       "      <td>https://twitter.com/waitrose/status/1079424958084853760</td>\n",
       "      <td>Medium</td>\n",
       "      <td>Informal</td>\n",
       "      <td>27</td>\n",
       "      <td>https://twitter.com/waitrose/status/1079424958084853760</td>\n",
       "      <td>1</td>\n",
       "      <td>text</td>\n",
       "      <td>waitrose</td>\n",
       "      <td>2018-12-30</td>\n",
       "      <td>1079424958084853760</td>\n",
       "      <td>[general, null]</td>\n",
       "      <td>Twitter</td>\n",
       "    </tr>\n",
       "    <tr>\n",
       "      <th>27</th>\n",
       "      <td>Twitter</td>\n",
       "      <td>https://twitter.com/waitrose/status/1079424252410060800</td>\n",
       "      <td>Hard</td>\n",
       "      <td>Informal</td>\n",
       "      <td>28</td>\n",
       "      <td>https://twitter.com/waitrose/status/1079424252410060800</td>\n",
       "      <td>1</td>\n",
       "      <td>text</td>\n",
       "      <td>waitrose</td>\n",
       "      <td>2018-12-30</td>\n",
       "      <td>1079424252410060800</td>\n",
       "      <td>[general, null]</td>\n",
       "      <td>Twitter</td>\n",
       "    </tr>\n",
       "    <tr>\n",
       "      <th>28</th>\n",
       "      <td>Twitter</td>\n",
       "      <td>https://twitter.com/waitrose/status/1079419817860497409</td>\n",
       "      <td>Easy</td>\n",
       "      <td>Informal</td>\n",
       "      <td>29</td>\n",
       "      <td>https://twitter.com/waitrose/status/1079419817860497409</td>\n",
       "      <td>1</td>\n",
       "      <td>text</td>\n",
       "      <td>waitrose</td>\n",
       "      <td>2018-12-30</td>\n",
       "      <td>1079419817860497409</td>\n",
       "      <td>[general, null]</td>\n",
       "      <td>Twitter</td>\n",
       "    </tr>\n",
       "    <tr>\n",
       "      <th>29</th>\n",
       "      <td>Twitter</td>\n",
       "      <td>https://twitter.com/waitrose/status/1079415143853899776</td>\n",
       "      <td>Easy</td>\n",
       "      <td>Informal</td>\n",
       "      <td>30</td>\n",
       "      <td>https://twitter.com/waitrose/status/1079415143853899776</td>\n",
       "      <td>1</td>\n",
       "      <td>text</td>\n",
       "      <td>waitrose</td>\n",
       "      <td>2018-12-30</td>\n",
       "      <td>1079415143853899776</td>\n",
       "      <td>[general, null]</td>\n",
       "      <td>Twitter</td>\n",
       "    </tr>\n",
       "    <tr>\n",
       "      <th>...</th>\n",
       "      <td>...</td>\n",
       "      <td>...</td>\n",
       "      <td>...</td>\n",
       "      <td>...</td>\n",
       "      <td>...</td>\n",
       "      <td>...</td>\n",
       "      <td>...</td>\n",
       "      <td>...</td>\n",
       "      <td>...</td>\n",
       "      <td>...</td>\n",
       "      <td>...</td>\n",
       "      <td>...</td>\n",
       "      <td>...</td>\n",
       "    </tr>\n",
       "    <tr>\n",
       "      <th>3471</th>\n",
       "      <td>NewsAPI</td>\n",
       "      <td>https://www.nytimes.com/2018/12/21/dining/food-trends-predictions-2019.html</td>\n",
       "      <td>Medium</td>\n",
       "      <td>Intermediate</td>\n",
       "      <td>3472</td>\n",
       "      <td>https://greaterbostonhcs.com/wp-content/uploads/2016/05/Nutrition.jpg</td>\n",
       "      <td>10</td>\n",
       "      <td>text</td>\n",
       "      <td>The New York Times</td>\n",
       "      <td>2018-12-21</td>\n",
       "      <td>A Peek at Your New Plate: How You’ll Be Eating in 2019</td>\n",
       "      <td>[probiotic, general, null]</td>\n",
       "      <td>NYT API</td>\n",
       "    </tr>\n",
       "    <tr>\n",
       "      <th>3472</th>\n",
       "      <td>NewsAPI</td>\n",
       "      <td>https://www.nytimes.com/2018/11/26/well/eat/probiotics-do-not-ease-stomach-flu.html</td>\n",
       "      <td>Medium</td>\n",
       "      <td>Intermediate</td>\n",
       "      <td>3473</td>\n",
       "      <td>https://greaterbostonhcs.com/wp-content/uploads/2016/05/Nutrition.jpg</td>\n",
       "      <td>1</td>\n",
       "      <td>text</td>\n",
       "      <td>The New York Times</td>\n",
       "      <td>2018-11-26</td>\n",
       "      <td>Probiotics Do Not Ease Stomach Flu</td>\n",
       "      <td>[probiotic, general, null]</td>\n",
       "      <td>NYT API</td>\n",
       "    </tr>\n",
       "    <tr>\n",
       "      <th>3473</th>\n",
       "      <td>NewsAPI</td>\n",
       "      <td>https://www.nytimes.com/2018/11/08/health/immigration-gut-microbiome.html</td>\n",
       "      <td>Hard</td>\n",
       "      <td>Intermediate</td>\n",
       "      <td>3474</td>\n",
       "      <td>https://greaterbostonhcs.com/wp-content/uploads/2016/05/Nutrition.jpg</td>\n",
       "      <td>7</td>\n",
       "      <td>text</td>\n",
       "      <td>The New York Times</td>\n",
       "      <td>2018-11-08</td>\n",
       "      <td>The Ecosystem in Immigrants’ Guts Is Shaped by the Place They Call Home</td>\n",
       "      <td>[probiotic, microbiome, null]</td>\n",
       "      <td>NYT API</td>\n",
       "    </tr>\n",
       "    <tr>\n",
       "      <th>3474</th>\n",
       "      <td>NewsAPI</td>\n",
       "      <td>https://www.nytimes.com/2018/10/31/briefing/yemen-pakistan-indonesia.html</td>\n",
       "      <td>Easy</td>\n",
       "      <td>Intermediate</td>\n",
       "      <td>3475</td>\n",
       "      <td>https://greaterbostonhcs.com/wp-content/uploads/2016/05/Nutrition.jpg</td>\n",
       "      <td>9</td>\n",
       "      <td>text</td>\n",
       "      <td>The New York Times</td>\n",
       "      <td>2018-10-31</td>\n",
       "      <td>Yemen, Pakistan, Indonesia: Your Thursday Briefing</td>\n",
       "      <td>[probiotic, general, null]</td>\n",
       "      <td>NYT API</td>\n",
       "    </tr>\n",
       "    <tr>\n",
       "      <th>3475</th>\n",
       "      <td>NewsAPI</td>\n",
       "      <td>https://www.nytimes.com/2018/10/22/upshot/the-problem-with-probiotics.html</td>\n",
       "      <td>Hard</td>\n",
       "      <td>Intermediate</td>\n",
       "      <td>3476</td>\n",
       "      <td>https://greaterbostonhcs.com/wp-content/uploads/2016/05/Nutrition.jpg</td>\n",
       "      <td>7</td>\n",
       "      <td>text</td>\n",
       "      <td>The New York Times</td>\n",
       "      <td>2018-10-22</td>\n",
       "      <td>The Problem With Probiotics</td>\n",
       "      <td>[probiotic, general, null]</td>\n",
       "      <td>NYT API</td>\n",
       "    </tr>\n",
       "    <tr>\n",
       "      <th>3476</th>\n",
       "      <td>NewsAPI</td>\n",
       "      <td>https://www.nytimes.com/2018/10/15/travel/long-haul-flights-amenities.html</td>\n",
       "      <td>Hard</td>\n",
       "      <td>Intermediate</td>\n",
       "      <td>3477</td>\n",
       "      <td>https://greaterbostonhcs.com/wp-content/uploads/2016/05/Nutrition.jpg</td>\n",
       "      <td>7</td>\n",
       "      <td>text</td>\n",
       "      <td>The New York Times</td>\n",
       "      <td>2018-10-15</td>\n",
       "      <td>Can 18 Hours in the Air Be Bearable? Airlines Bet on Ultra-Long-Haul Flights</td>\n",
       "      <td>[probiotic, general, null]</td>\n",
       "      <td>NYT API</td>\n",
       "    </tr>\n",
       "    <tr>\n",
       "      <th>3477</th>\n",
       "      <td>NewsAPI</td>\n",
       "      <td>https://www.nytimes.com/2018/09/29/opinion/sunday/schizophrenia-psychiatric-disorders-immune-system.html</td>\n",
       "      <td>Medium</td>\n",
       "      <td>Intermediate</td>\n",
       "      <td>3478</td>\n",
       "      <td>https://greaterbostonhcs.com/wp-content/uploads/2016/05/Nutrition.jpg</td>\n",
       "      <td>10</td>\n",
       "      <td>text</td>\n",
       "      <td>The New York Times</td>\n",
       "      <td>2018-09-29</td>\n",
       "      <td>He Got Schizophrenia. He Got Cancer. And Then He Got Cured.</td>\n",
       "      <td>[probiotic, general, null]</td>\n",
       "      <td>NYT API</td>\n",
       "    </tr>\n",
       "    <tr>\n",
       "      <th>3478</th>\n",
       "      <td>NewsAPI</td>\n",
       "      <td>https://www.nytimes.com/2018/09/03/well/live/menopause-sex-vagina-vaginal-dryness-pain-treatment-estrogen-hormones.html</td>\n",
       "      <td>Easy</td>\n",
       "      <td>Intermediate</td>\n",
       "      <td>3479</td>\n",
       "      <td>https://greaterbostonhcs.com/wp-content/uploads/2016/05/Nutrition.jpg</td>\n",
       "      <td>7</td>\n",
       "      <td>text</td>\n",
       "      <td>The New York Times</td>\n",
       "      <td>2018-09-04</td>\n",
       "      <td>The Menopausal Vagina Monologues</td>\n",
       "      <td>[probiotic, general, null]</td>\n",
       "      <td>NYT API</td>\n",
       "    </tr>\n",
       "    <tr>\n",
       "      <th>3479</th>\n",
       "      <td>NewsAPI</td>\n",
       "      <td>https://www.nytimes.com/2018/08/27/style/gut-health-skin.html</td>\n",
       "      <td>Hard</td>\n",
       "      <td>Intermediate</td>\n",
       "      <td>3480</td>\n",
       "      <td>https://greaterbostonhcs.com/wp-content/uploads/2016/05/Nutrition.jpg</td>\n",
       "      <td>9</td>\n",
       "      <td>text</td>\n",
       "      <td>The New York Times</td>\n",
       "      <td>2018-08-27</td>\n",
       "      <td>Keep Your Gut Healthy and Your Skin May Follow</td>\n",
       "      <td>[probiotic, null]</td>\n",
       "      <td>NYT API</td>\n",
       "    </tr>\n",
       "    <tr>\n",
       "      <th>3480</th>\n",
       "      <td>NewsAPI</td>\n",
       "      <td>https://www.nytimes.com/2018/08/23/style/marilu-henner-broadway.html</td>\n",
       "      <td>Hard</td>\n",
       "      <td>Intermediate</td>\n",
       "      <td>3481</td>\n",
       "      <td>https://greaterbostonhcs.com/wp-content/uploads/2016/05/Nutrition.jpg</td>\n",
       "      <td>6</td>\n",
       "      <td>text</td>\n",
       "      <td>The New York Times</td>\n",
       "      <td>2018-08-23</td>\n",
       "      <td>Marilu Henner, the Former ‘Taxi’ Star, Doesn’t Need a Grocery List</td>\n",
       "      <td>[probiotic, general, null]</td>\n",
       "      <td>NYT API</td>\n",
       "    </tr>\n",
       "    <tr>\n",
       "      <th>3481</th>\n",
       "      <td>NewsAPI</td>\n",
       "      <td>https://www.nytimes.com/2018/12/21/well/live/does-the-gut-microbiome-ever-fully-recover-from-antibiotics.html</td>\n",
       "      <td>Hard</td>\n",
       "      <td>Intermediate</td>\n",
       "      <td>3482</td>\n",
       "      <td>https://greaterbostonhcs.com/wp-content/uploads/2016/05/Nutrition.jpg</td>\n",
       "      <td>2</td>\n",
       "      <td>text</td>\n",
       "      <td>The New York Times</td>\n",
       "      <td>2018-12-21</td>\n",
       "      <td>Does the Gut Microbiome Ever Fully Recover From Antibiotics?</td>\n",
       "      <td>[microbiome, gut, null]</td>\n",
       "      <td>NYT API</td>\n",
       "    </tr>\n",
       "    <tr>\n",
       "      <th>3482</th>\n",
       "      <td>NewsAPI</td>\n",
       "      <td>https://www.nytimes.com/2018/12/13/health/breast-cancer-risk-childbirth.html</td>\n",
       "      <td>Medium</td>\n",
       "      <td>Intermediate</td>\n",
       "      <td>3483</td>\n",
       "      <td>https://greaterbostonhcs.com/wp-content/uploads/2016/05/Nutrition.jpg</td>\n",
       "      <td>7</td>\n",
       "      <td>text</td>\n",
       "      <td>The New York Times</td>\n",
       "      <td>2018-12-13</td>\n",
       "      <td>Breast Cancer Risk May Rise After Childbirth, but Is Still Low</td>\n",
       "      <td>[microbiome, general, null]</td>\n",
       "      <td>NYT API</td>\n",
       "    </tr>\n",
       "    <tr>\n",
       "      <th>3483</th>\n",
       "      <td>NewsAPI</td>\n",
       "      <td>https://www.nytimes.com/2018/11/15/arts/events-for-children-in-nyc-this-week.html</td>\n",
       "      <td>Easy</td>\n",
       "      <td>Intermediate</td>\n",
       "      <td>3484</td>\n",
       "      <td>https://greaterbostonhcs.com/wp-content/uploads/2016/05/Nutrition.jpg</td>\n",
       "      <td>7</td>\n",
       "      <td>text</td>\n",
       "      <td>The New York Times</td>\n",
       "      <td>2018-11-15</td>\n",
       "      <td>7 Things to Do With Your Kids in N.Y.C. This Weekend</td>\n",
       "      <td>[microbiome, general, null]</td>\n",
       "      <td>NYT API</td>\n",
       "    </tr>\n",
       "    <tr>\n",
       "      <th>3484</th>\n",
       "      <td>NewsAPI</td>\n",
       "      <td>https://www.nytimes.com/2018/11/08/health/immigration-gut-microbiome.html</td>\n",
       "      <td>Hard</td>\n",
       "      <td>Intermediate</td>\n",
       "      <td>3485</td>\n",
       "      <td>https://greaterbostonhcs.com/wp-content/uploads/2016/05/Nutrition.jpg</td>\n",
       "      <td>7</td>\n",
       "      <td>text</td>\n",
       "      <td>The New York Times</td>\n",
       "      <td>2018-11-08</td>\n",
       "      <td>The Ecosystem in Immigrants’ Guts Is Shaped by the Place They Call Home</td>\n",
       "      <td>[microbiome, null]</td>\n",
       "      <td>NYT API</td>\n",
       "    </tr>\n",
       "    <tr>\n",
       "      <th>3485</th>\n",
       "      <td>NewsAPI</td>\n",
       "      <td>https://www.nytimes.com/2018/11/07/magazine/placebo-effect-medicine.html</td>\n",
       "      <td>Medium</td>\n",
       "      <td>Intermediate</td>\n",
       "      <td>3486</td>\n",
       "      <td>https://greaterbostonhcs.com/wp-content/uploads/2016/05/Nutrition.jpg</td>\n",
       "      <td>39</td>\n",
       "      <td>text</td>\n",
       "      <td>The New York Times</td>\n",
       "      <td>2018-11-07</td>\n",
       "      <td>What if the Placebo Effect Isn’t a Trick?</td>\n",
       "      <td>[microbiome, general, null]</td>\n",
       "      <td>NYT API</td>\n",
       "    </tr>\n",
       "    <tr>\n",
       "      <th>3486</th>\n",
       "      <td>NewsAPI</td>\n",
       "      <td>https://www.nytimes.com/2018/10/22/upshot/the-problem-with-probiotics.html</td>\n",
       "      <td>Hard</td>\n",
       "      <td>Intermediate</td>\n",
       "      <td>3487</td>\n",
       "      <td>https://greaterbostonhcs.com/wp-content/uploads/2016/05/Nutrition.jpg</td>\n",
       "      <td>7</td>\n",
       "      <td>text</td>\n",
       "      <td>The New York Times</td>\n",
       "      <td>2018-10-22</td>\n",
       "      <td>The Problem With Probiotics</td>\n",
       "      <td>[microbiome, general, null]</td>\n",
       "      <td>NYT API</td>\n",
       "    </tr>\n",
       "    <tr>\n",
       "      <th>3487</th>\n",
       "      <td>NewsAPI</td>\n",
       "      <td>https://www.nytimes.com/2018/10/18/well/live/project-baseline-cancer-prevention-heart-disease-illness.html</td>\n",
       "      <td>Hard</td>\n",
       "      <td>Intermediate</td>\n",
       "      <td>3488</td>\n",
       "      <td>https://greaterbostonhcs.com/wp-content/uploads/2016/05/Nutrition.jpg</td>\n",
       "      <td>7</td>\n",
       "      <td>text</td>\n",
       "      <td>The New York Times</td>\n",
       "      <td>2018-10-18</td>\n",
       "      <td>Project Baseline Aims to Ward Off Illness Before We Get Sick</td>\n",
       "      <td>[microbiome, general, null]</td>\n",
       "      <td>NYT API</td>\n",
       "    </tr>\n",
       "    <tr>\n",
       "      <th>3488</th>\n",
       "      <td>NewsAPI</td>\n",
       "      <td>https://www.nytimes.com/2018/10/09/style/wash-that-face.html</td>\n",
       "      <td>Hard</td>\n",
       "      <td>Intermediate</td>\n",
       "      <td>3489</td>\n",
       "      <td>https://greaterbostonhcs.com/wp-content/uploads/2016/05/Nutrition.jpg</td>\n",
       "      <td>8</td>\n",
       "      <td>text</td>\n",
       "      <td>The New York Times</td>\n",
       "      <td>2018-10-09</td>\n",
       "      <td>Are You Overwashing Your Face?</td>\n",
       "      <td>[microbiome, general, null]</td>\n",
       "      <td>NYT API</td>\n",
       "    </tr>\n",
       "    <tr>\n",
       "      <th>3489</th>\n",
       "      <td>NewsAPI</td>\n",
       "      <td>https://www.nytimes.com/2018/09/29/opinion/sunday/schizophrenia-psychiatric-disorders-immune-system.html</td>\n",
       "      <td>Medium</td>\n",
       "      <td>Intermediate</td>\n",
       "      <td>3490</td>\n",
       "      <td>https://greaterbostonhcs.com/wp-content/uploads/2016/05/Nutrition.jpg</td>\n",
       "      <td>10</td>\n",
       "      <td>text</td>\n",
       "      <td>The New York Times</td>\n",
       "      <td>2018-09-29</td>\n",
       "      <td>He Got Schizophrenia. He Got Cancer. And Then He Got Cured.</td>\n",
       "      <td>[microbiome, general, null]</td>\n",
       "      <td>NYT API</td>\n",
       "    </tr>\n",
       "    <tr>\n",
       "      <th>3490</th>\n",
       "      <td>NewsAPI</td>\n",
       "      <td>https://www.nytimes.com/2018/09/12/magazine/if-this-book-is-not-expressing-everything-what-am-i-doing-with-my-life.html</td>\n",
       "      <td>Hard</td>\n",
       "      <td>Intermediate</td>\n",
       "      <td>3491</td>\n",
       "      <td>https://greaterbostonhcs.com/wp-content/uploads/2016/05/Nutrition.jpg</td>\n",
       "      <td>34</td>\n",
       "      <td>text</td>\n",
       "      <td>The New York Times</td>\n",
       "      <td>2018-09-12</td>\n",
       "      <td>‘If This Book Is Not Expressing Everything, What Am I Doing With My Life?’</td>\n",
       "      <td>[microbiome, general, null]</td>\n",
       "      <td>NYT API</td>\n",
       "    </tr>\n",
       "    <tr>\n",
       "      <th>3491</th>\n",
       "      <td>NewsAPI</td>\n",
       "      <td>https://www.nytimes.com/2018/12/25/opinion/editorials/irs-audits-rich.html</td>\n",
       "      <td>Hard</td>\n",
       "      <td>Intermediate</td>\n",
       "      <td>3492</td>\n",
       "      <td>https://greaterbostonhcs.com/wp-content/uploads/2016/05/Nutrition.jpg</td>\n",
       "      <td>7</td>\n",
       "      <td>text</td>\n",
       "      <td>The New York Times</td>\n",
       "      <td>2018-12-26</td>\n",
       "      <td>A Gutted I.R.S. Makes the Rich Richer</td>\n",
       "      <td>[gut health, general, null]</td>\n",
       "      <td>NYT API</td>\n",
       "    </tr>\n",
       "    <tr>\n",
       "      <th>3492</th>\n",
       "      <td>NewsAPI</td>\n",
       "      <td>https://www.nytimes.com/2018/12/25/nyregion/nycha-hud-deblasio-carson.html</td>\n",
       "      <td>Hard</td>\n",
       "      <td>Intermediate</td>\n",
       "      <td>3493</td>\n",
       "      <td>https://greaterbostonhcs.com/wp-content/uploads/2016/05/Nutrition.jpg</td>\n",
       "      <td>7</td>\n",
       "      <td>text</td>\n",
       "      <td>The New York Times</td>\n",
       "      <td>2018-12-25</td>\n",
       "      <td>New York City’s Public Housing Is in Crisis. Will Washington Take Control?</td>\n",
       "      <td>[gut health, general, null]</td>\n",
       "      <td>NYT API</td>\n",
       "    </tr>\n",
       "    <tr>\n",
       "      <th>3493</th>\n",
       "      <td>NewsAPI</td>\n",
       "      <td>https://www.nytimes.com/2018/12/23/us/politics/chief-justice-john-roberts-supreme-court.html</td>\n",
       "      <td>Hard</td>\n",
       "      <td>Intermediate</td>\n",
       "      <td>3494</td>\n",
       "      <td>https://greaterbostonhcs.com/wp-content/uploads/2016/05/Nutrition.jpg</td>\n",
       "      <td>12</td>\n",
       "      <td>text</td>\n",
       "      <td>The New York Times</td>\n",
       "      <td>2018-12-23</td>\n",
       "      <td>Roberts, Leader of Supreme Court’s Conservative Majority, Fights Perception That It Is Partisan</td>\n",
       "      <td>[gut health, general, null]</td>\n",
       "      <td>NYT API</td>\n",
       "    </tr>\n",
       "    <tr>\n",
       "      <th>3494</th>\n",
       "      <td>NewsAPI</td>\n",
       "      <td>https://www.nytimes.com/2018/12/22/opinion/muslim-christian-trump-supporters.html</td>\n",
       "      <td>Easy</td>\n",
       "      <td>Intermediate</td>\n",
       "      <td>3495</td>\n",
       "      <td>https://greaterbostonhcs.com/wp-content/uploads/2016/05/Nutrition.jpg</td>\n",
       "      <td>7</td>\n",
       "      <td>text</td>\n",
       "      <td>The New York Times</td>\n",
       "      <td>2018-12-22</td>\n",
       "      <td>What a Muslim Could Teach Trump Supporters About Jesus</td>\n",
       "      <td>[gut health, general, null]</td>\n",
       "      <td>NYT API</td>\n",
       "    </tr>\n",
       "    <tr>\n",
       "      <th>3495</th>\n",
       "      <td>NewsAPI</td>\n",
       "      <td>https://www.nytimes.com/2018/12/21/dining/food-trends-predictions-2019.html</td>\n",
       "      <td>Medium</td>\n",
       "      <td>Intermediate</td>\n",
       "      <td>3496</td>\n",
       "      <td>https://greaterbostonhcs.com/wp-content/uploads/2016/05/Nutrition.jpg</td>\n",
       "      <td>10</td>\n",
       "      <td>text</td>\n",
       "      <td>The New York Times</td>\n",
       "      <td>2018-12-21</td>\n",
       "      <td>A Peek at Your New Plate: How You’ll Be Eating in 2019</td>\n",
       "      <td>[gut health, general, null]</td>\n",
       "      <td>NYT API</td>\n",
       "    </tr>\n",
       "    <tr>\n",
       "      <th>3496</th>\n",
       "      <td>NewsAPI</td>\n",
       "      <td>https://www.nytimes.com/2018/12/21/well/live/does-the-gut-microbiome-ever-fully-recover-from-antibiotics.html</td>\n",
       "      <td>Hard</td>\n",
       "      <td>Intermediate</td>\n",
       "      <td>3497</td>\n",
       "      <td>https://greaterbostonhcs.com/wp-content/uploads/2016/05/Nutrition.jpg</td>\n",
       "      <td>2</td>\n",
       "      <td>text</td>\n",
       "      <td>The New York Times</td>\n",
       "      <td>2018-12-21</td>\n",
       "      <td>Does the Gut Microbiome Ever Fully Recover From Antibiotics?</td>\n",
       "      <td>[gut health, gut, null]</td>\n",
       "      <td>NYT API</td>\n",
       "    </tr>\n",
       "    <tr>\n",
       "      <th>3497</th>\n",
       "      <td>The New York Times API</td>\n",
       "      <td>https://www.nytimes.com/aponline/2018/12/21/us/ap-us-ye-immigration.html</td>\n",
       "      <td>Easy</td>\n",
       "      <td>Intermediate</td>\n",
       "      <td>3498</td>\n",
       "      <td>https://greaterbostonhcs.com/wp-content/uploads/2016/05/Nutrition.jpg</td>\n",
       "      <td>13</td>\n",
       "      <td>text</td>\n",
       "      <td>AP</td>\n",
       "      <td>2018-12-21</td>\n",
       "      <td>Virtual Wall Grows as Trump Border Fight Threatens Shutdown</td>\n",
       "      <td>[gut health, general, null]</td>\n",
       "      <td>NewsApi</td>\n",
       "    </tr>\n",
       "    <tr>\n",
       "      <th>3498</th>\n",
       "      <td>NewsAPI</td>\n",
       "      <td>https://www.nytimes.com/2018/12/15/health/texas-aca-ruling-unconstitutional.html</td>\n",
       "      <td>Easy</td>\n",
       "      <td>Intermediate</td>\n",
       "      <td>3499</td>\n",
       "      <td>https://greaterbostonhcs.com/wp-content/uploads/2016/05/Nutrition.jpg</td>\n",
       "      <td>7</td>\n",
       "      <td>text</td>\n",
       "      <td>The New York Times</td>\n",
       "      <td>2018-12-15</td>\n",
       "      <td>Health Law Could Be Hard to Knock Down Despite Judge’s Ruling</td>\n",
       "      <td>[gut health, general, null]</td>\n",
       "      <td>NYT API</td>\n",
       "    </tr>\n",
       "    <tr>\n",
       "      <th>3499</th>\n",
       "      <td>NewsAPI</td>\n",
       "      <td>https://www.nytimes.com/2018/12/13/opinion/trump-wall-trade-tariffs.html</td>\n",
       "      <td>Medium</td>\n",
       "      <td>Intermediate</td>\n",
       "      <td>3500</td>\n",
       "      <td>https://greaterbostonhcs.com/wp-content/uploads/2016/05/Nutrition.jpg</td>\n",
       "      <td>6</td>\n",
       "      <td>text</td>\n",
       "      <td>The New York Times</td>\n",
       "      <td>2018-12-13</td>\n",
       "      <td>Manhood, Moola, McConnell and Trumpism</td>\n",
       "      <td>[gut health, general, null]</td>\n",
       "      <td>NYT API</td>\n",
       "    </tr>\n",
       "    <tr>\n",
       "      <th>3500</th>\n",
       "      <td>NewsAPI</td>\n",
       "      <td>https://www.nytimes.com/2018/12/12/magazine/oakland-warehouse-fire-ghost-ship.html</td>\n",
       "      <td>Easy</td>\n",
       "      <td>Intermediate</td>\n",
       "      <td>3501</td>\n",
       "      <td>https://greaterbostonhcs.com/wp-content/uploads/2016/05/Nutrition.jpg</td>\n",
       "      <td>74</td>\n",
       "      <td>text</td>\n",
       "      <td>The New York Times</td>\n",
       "      <td>2018-12-12</td>\n",
       "      <td>He Helped Build an Artists’ Utopia. Now He Faces Trial for 36 Deaths There.</td>\n",
       "      <td>[gut health, general, null]</td>\n",
       "      <td>NYT API</td>\n",
       "    </tr>\n",
       "  </tbody>\n",
       "</table>\n",
       "<p>3501 rows × 13 columns</p>\n",
       "</div>"
      ],
      "text/plain": [
       "                      api_id  \\\n",
       "0     Twitter                  \n",
       "1     Twitter                  \n",
       "2     Twitter                  \n",
       "3     Twitter                  \n",
       "4     Twitter                  \n",
       "5     Twitter                  \n",
       "6     Twitter                  \n",
       "7     Twitter                  \n",
       "8     Twitter                  \n",
       "9     Twitter                  \n",
       "10    Twitter                  \n",
       "11    Twitter                  \n",
       "12    Twitter                  \n",
       "13    Twitter                  \n",
       "14    Twitter                  \n",
       "15    Twitter                  \n",
       "16    Twitter                  \n",
       "17    Twitter                  \n",
       "18    Twitter                  \n",
       "19    Twitter                  \n",
       "20    Twitter                  \n",
       "21    Twitter                  \n",
       "22    Twitter                  \n",
       "23    Twitter                  \n",
       "24    Twitter                  \n",
       "25    Twitter                  \n",
       "26    Twitter                  \n",
       "27    Twitter                  \n",
       "28    Twitter                  \n",
       "29    Twitter                  \n",
       "...       ...                  \n",
       "3471  NewsAPI                  \n",
       "3472  NewsAPI                  \n",
       "3473  NewsAPI                  \n",
       "3474  NewsAPI                  \n",
       "3475  NewsAPI                  \n",
       "3476  NewsAPI                  \n",
       "3477  NewsAPI                  \n",
       "3478  NewsAPI                  \n",
       "3479  NewsAPI                  \n",
       "3480  NewsAPI                  \n",
       "3481  NewsAPI                  \n",
       "3482  NewsAPI                  \n",
       "3483  NewsAPI                  \n",
       "3484  NewsAPI                  \n",
       "3485  NewsAPI                  \n",
       "3486  NewsAPI                  \n",
       "3487  NewsAPI                  \n",
       "3488  NewsAPI                  \n",
       "3489  NewsAPI                  \n",
       "3490  NewsAPI                  \n",
       "3491  NewsAPI                  \n",
       "3492  NewsAPI                  \n",
       "3493  NewsAPI                  \n",
       "3494  NewsAPI                  \n",
       "3495  NewsAPI                  \n",
       "3496  NewsAPI                  \n",
       "3497  The New York Times API   \n",
       "3498  NewsAPI                  \n",
       "3499  NewsAPI                  \n",
       "3500  NewsAPI                  \n",
       "\n",
       "                                                                                                                  content_url  \\\n",
       "0     https://twitter.com/ATPScience1/status/1075922927575556097                                                                \n",
       "1     https://twitter.com/ATPScience1/status/1075922863402700802                                                                \n",
       "2     https://twitter.com/ATPScience1/status/1075921037483741184                                                                \n",
       "3     https://twitter.com/ATPScience1/status/1075920493595611137                                                                \n",
       "4     https://twitter.com/ATPScience1/status/1075917766530486274                                                                \n",
       "5     https://twitter.com/ATPScience1/status/1075908604635549700                                                                \n",
       "6     https://twitter.com/ATPScience1/status/1075878801987399681                                                                \n",
       "7     https://twitter.com/ATPScience1/status/1075878740289298432                                                                \n",
       "8     https://twitter.com/ATPScience1/status/1073412341075726336                                                                \n",
       "9     https://twitter.com/ATPScience1/status/1073400673461506048                                                                \n",
       "10    https://twitter.com/ATPScience1/status/1073379631581978629                                                                \n",
       "11    https://twitter.com/ATPScience1/status/1073379553039400960                                                                \n",
       "12    https://twitter.com/ATPScience1/status/1073086620641959937                                                                \n",
       "13    https://twitter.com/ATPScience1/status/1072714978187202561                                                                \n",
       "14    https://twitter.com/ATPScience1/status/1072714871890944000                                                                \n",
       "15    https://twitter.com/ATPScience1/status/1070871322736115712                                                                \n",
       "16    https://twitter.com/ATPScience1/status/1070865967276810242                                                                \n",
       "17    https://twitter.com/ATPScience1/status/1070118844541239298                                                                \n",
       "18    https://twitter.com/ATPScience1/status/1070115521683611649                                                                \n",
       "19    https://twitter.com/ATPScience1/status/1068387608265441280                                                                \n",
       "20    https://twitter.com/waitrose/status/1079452011576389632                                                                   \n",
       "21    https://twitter.com/waitrose/status/1079439491327315969                                                                   \n",
       "22    https://twitter.com/waitrose/status/1079437492380672007                                                                   \n",
       "23    https://twitter.com/waitrose/status/1079434961311150080                                                                   \n",
       "24    https://twitter.com/waitrose/status/1079432568146141184                                                                   \n",
       "25    https://twitter.com/waitrose/status/1079429378164097026                                                                   \n",
       "26    https://twitter.com/waitrose/status/1079424958084853760                                                                   \n",
       "27    https://twitter.com/waitrose/status/1079424252410060800                                                                   \n",
       "28    https://twitter.com/waitrose/status/1079419817860497409                                                                   \n",
       "29    https://twitter.com/waitrose/status/1079415143853899776                                                                   \n",
       "...                                                       ...                                                                   \n",
       "3471  https://www.nytimes.com/2018/12/21/dining/food-trends-predictions-2019.html                                               \n",
       "3472  https://www.nytimes.com/2018/11/26/well/eat/probiotics-do-not-ease-stomach-flu.html                                       \n",
       "3473  https://www.nytimes.com/2018/11/08/health/immigration-gut-microbiome.html                                                 \n",
       "3474  https://www.nytimes.com/2018/10/31/briefing/yemen-pakistan-indonesia.html                                                 \n",
       "3475  https://www.nytimes.com/2018/10/22/upshot/the-problem-with-probiotics.html                                                \n",
       "3476  https://www.nytimes.com/2018/10/15/travel/long-haul-flights-amenities.html                                                \n",
       "3477  https://www.nytimes.com/2018/09/29/opinion/sunday/schizophrenia-psychiatric-disorders-immune-system.html                  \n",
       "3478  https://www.nytimes.com/2018/09/03/well/live/menopause-sex-vagina-vaginal-dryness-pain-treatment-estrogen-hormones.html   \n",
       "3479  https://www.nytimes.com/2018/08/27/style/gut-health-skin.html                                                             \n",
       "3480  https://www.nytimes.com/2018/08/23/style/marilu-henner-broadway.html                                                      \n",
       "3481  https://www.nytimes.com/2018/12/21/well/live/does-the-gut-microbiome-ever-fully-recover-from-antibiotics.html             \n",
       "3482  https://www.nytimes.com/2018/12/13/health/breast-cancer-risk-childbirth.html                                              \n",
       "3483  https://www.nytimes.com/2018/11/15/arts/events-for-children-in-nyc-this-week.html                                         \n",
       "3484  https://www.nytimes.com/2018/11/08/health/immigration-gut-microbiome.html                                                 \n",
       "3485  https://www.nytimes.com/2018/11/07/magazine/placebo-effect-medicine.html                                                  \n",
       "3486  https://www.nytimes.com/2018/10/22/upshot/the-problem-with-probiotics.html                                                \n",
       "3487  https://www.nytimes.com/2018/10/18/well/live/project-baseline-cancer-prevention-heart-disease-illness.html                \n",
       "3488  https://www.nytimes.com/2018/10/09/style/wash-that-face.html                                                              \n",
       "3489  https://www.nytimes.com/2018/09/29/opinion/sunday/schizophrenia-psychiatric-disorders-immune-system.html                  \n",
       "3490  https://www.nytimes.com/2018/09/12/magazine/if-this-book-is-not-expressing-everything-what-am-i-doing-with-my-life.html   \n",
       "3491  https://www.nytimes.com/2018/12/25/opinion/editorials/irs-audits-rich.html                                                \n",
       "3492  https://www.nytimes.com/2018/12/25/nyregion/nycha-hud-deblasio-carson.html                                                \n",
       "3493  https://www.nytimes.com/2018/12/23/us/politics/chief-justice-john-roberts-supreme-court.html                              \n",
       "3494  https://www.nytimes.com/2018/12/22/opinion/muslim-christian-trump-supporters.html                                         \n",
       "3495  https://www.nytimes.com/2018/12/21/dining/food-trends-predictions-2019.html                                               \n",
       "3496  https://www.nytimes.com/2018/12/21/well/live/does-the-gut-microbiome-ever-fully-recover-from-antibiotics.html             \n",
       "3497  https://www.nytimes.com/aponline/2018/12/21/us/ap-us-ye-immigration.html                                                  \n",
       "3498  https://www.nytimes.com/2018/12/15/health/texas-aca-ruling-unconstitutional.html                                          \n",
       "3499  https://www.nytimes.com/2018/12/13/opinion/trump-wall-trade-tariffs.html                                                  \n",
       "3500  https://www.nytimes.com/2018/12/12/magazine/oakland-warehouse-fire-ghost-ship.html                                        \n",
       "\n",
       "     difficulty     formality    id  \\\n",
       "0     Easy       Informal      1      \n",
       "1     Easy       Informal      2      \n",
       "2     Easy       Informal      3      \n",
       "3     Easy       Informal      4      \n",
       "4     Hard       Informal      5      \n",
       "5     Medium     Informal      6      \n",
       "6     Medium     Informal      7      \n",
       "7     Hard       Informal      8      \n",
       "8     Hard       Informal      9      \n",
       "9     Easy       Informal      10     \n",
       "10    Easy       Informal      11     \n",
       "11    Easy       Informal      12     \n",
       "12    Medium     Informal      13     \n",
       "13    Easy       Informal      14     \n",
       "14    Hard       Informal      15     \n",
       "15    Medium     Informal      16     \n",
       "16    Easy       Informal      17     \n",
       "17    Easy       Informal      18     \n",
       "18    Hard       Informal      19     \n",
       "19    Medium     Informal      20     \n",
       "20    Medium     Informal      21     \n",
       "21    Easy       Informal      22     \n",
       "22    Medium     Informal      23     \n",
       "23    Easy       Informal      24     \n",
       "24    Medium     Informal      25     \n",
       "25    Medium     Informal      26     \n",
       "26    Medium     Informal      27     \n",
       "27    Hard       Informal      28     \n",
       "28    Easy       Informal      29     \n",
       "29    Easy       Informal      30     \n",
       "...    ...            ...      ..     \n",
       "3471  Medium     Intermediate  3472   \n",
       "3472  Medium     Intermediate  3473   \n",
       "3473  Hard       Intermediate  3474   \n",
       "3474  Easy       Intermediate  3475   \n",
       "3475  Hard       Intermediate  3476   \n",
       "3476  Hard       Intermediate  3477   \n",
       "3477  Medium     Intermediate  3478   \n",
       "3478  Easy       Intermediate  3479   \n",
       "3479  Hard       Intermediate  3480   \n",
       "3480  Hard       Intermediate  3481   \n",
       "3481  Hard       Intermediate  3482   \n",
       "3482  Medium     Intermediate  3483   \n",
       "3483  Easy       Intermediate  3484   \n",
       "3484  Hard       Intermediate  3485   \n",
       "3485  Medium     Intermediate  3486   \n",
       "3486  Hard       Intermediate  3487   \n",
       "3487  Hard       Intermediate  3488   \n",
       "3488  Hard       Intermediate  3489   \n",
       "3489  Medium     Intermediate  3490   \n",
       "3490  Hard       Intermediate  3491   \n",
       "3491  Hard       Intermediate  3492   \n",
       "3492  Hard       Intermediate  3493   \n",
       "3493  Hard       Intermediate  3494   \n",
       "3494  Easy       Intermediate  3495   \n",
       "3495  Medium     Intermediate  3496   \n",
       "3496  Hard       Intermediate  3497   \n",
       "3497  Easy       Intermediate  3498   \n",
       "3498  Easy       Intermediate  3499   \n",
       "3499  Medium     Intermediate  3500   \n",
       "3500  Easy       Intermediate  3501   \n",
       "\n",
       "                                                                  image_url  \\\n",
       "0     https://twitter.com/ATPScience1/status/1075922927575556097              \n",
       "1     https://twitter.com/ATPScience1/status/1075922863402700802              \n",
       "2     https://twitter.com/ATPScience1/status/1075921037483741184              \n",
       "3     https://twitter.com/ATPScience1/status/1075920493595611137              \n",
       "4     https://twitter.com/ATPScience1/status/1075917766530486274              \n",
       "5     https://twitter.com/ATPScience1/status/1075908604635549700              \n",
       "6     https://twitter.com/ATPScience1/status/1075878801987399681              \n",
       "7     https://twitter.com/ATPScience1/status/1075878740289298432              \n",
       "8     https://twitter.com/ATPScience1/status/1073412341075726336              \n",
       "9     https://twitter.com/ATPScience1/status/1073400673461506048              \n",
       "10    https://twitter.com/ATPScience1/status/1073379631581978629              \n",
       "11    https://twitter.com/ATPScience1/status/1073379553039400960              \n",
       "12    https://twitter.com/ATPScience1/status/1073086620641959937              \n",
       "13    https://twitter.com/ATPScience1/status/1072714978187202561              \n",
       "14    https://twitter.com/ATPScience1/status/1072714871890944000              \n",
       "15    https://twitter.com/ATPScience1/status/1070871322736115712              \n",
       "16    https://twitter.com/ATPScience1/status/1070865967276810242              \n",
       "17    https://twitter.com/ATPScience1/status/1070118844541239298              \n",
       "18    https://twitter.com/ATPScience1/status/1070115521683611649              \n",
       "19    https://twitter.com/ATPScience1/status/1068387608265441280              \n",
       "20    https://twitter.com/waitrose/status/1079452011576389632                 \n",
       "21    https://twitter.com/waitrose/status/1079439491327315969                 \n",
       "22    https://twitter.com/waitrose/status/1079437492380672007                 \n",
       "23    https://twitter.com/waitrose/status/1079434961311150080                 \n",
       "24    https://twitter.com/waitrose/status/1079432568146141184                 \n",
       "25    https://twitter.com/waitrose/status/1079429378164097026                 \n",
       "26    https://twitter.com/waitrose/status/1079424958084853760                 \n",
       "27    https://twitter.com/waitrose/status/1079424252410060800                 \n",
       "28    https://twitter.com/waitrose/status/1079419817860497409                 \n",
       "29    https://twitter.com/waitrose/status/1079415143853899776                 \n",
       "...                                                       ...                 \n",
       "3471  https://greaterbostonhcs.com/wp-content/uploads/2016/05/Nutrition.jpg   \n",
       "3472  https://greaterbostonhcs.com/wp-content/uploads/2016/05/Nutrition.jpg   \n",
       "3473  https://greaterbostonhcs.com/wp-content/uploads/2016/05/Nutrition.jpg   \n",
       "3474  https://greaterbostonhcs.com/wp-content/uploads/2016/05/Nutrition.jpg   \n",
       "3475  https://greaterbostonhcs.com/wp-content/uploads/2016/05/Nutrition.jpg   \n",
       "3476  https://greaterbostonhcs.com/wp-content/uploads/2016/05/Nutrition.jpg   \n",
       "3477  https://greaterbostonhcs.com/wp-content/uploads/2016/05/Nutrition.jpg   \n",
       "3478  https://greaterbostonhcs.com/wp-content/uploads/2016/05/Nutrition.jpg   \n",
       "3479  https://greaterbostonhcs.com/wp-content/uploads/2016/05/Nutrition.jpg   \n",
       "3480  https://greaterbostonhcs.com/wp-content/uploads/2016/05/Nutrition.jpg   \n",
       "3481  https://greaterbostonhcs.com/wp-content/uploads/2016/05/Nutrition.jpg   \n",
       "3482  https://greaterbostonhcs.com/wp-content/uploads/2016/05/Nutrition.jpg   \n",
       "3483  https://greaterbostonhcs.com/wp-content/uploads/2016/05/Nutrition.jpg   \n",
       "3484  https://greaterbostonhcs.com/wp-content/uploads/2016/05/Nutrition.jpg   \n",
       "3485  https://greaterbostonhcs.com/wp-content/uploads/2016/05/Nutrition.jpg   \n",
       "3486  https://greaterbostonhcs.com/wp-content/uploads/2016/05/Nutrition.jpg   \n",
       "3487  https://greaterbostonhcs.com/wp-content/uploads/2016/05/Nutrition.jpg   \n",
       "3488  https://greaterbostonhcs.com/wp-content/uploads/2016/05/Nutrition.jpg   \n",
       "3489  https://greaterbostonhcs.com/wp-content/uploads/2016/05/Nutrition.jpg   \n",
       "3490  https://greaterbostonhcs.com/wp-content/uploads/2016/05/Nutrition.jpg   \n",
       "3491  https://greaterbostonhcs.com/wp-content/uploads/2016/05/Nutrition.jpg   \n",
       "3492  https://greaterbostonhcs.com/wp-content/uploads/2016/05/Nutrition.jpg   \n",
       "3493  https://greaterbostonhcs.com/wp-content/uploads/2016/05/Nutrition.jpg   \n",
       "3494  https://greaterbostonhcs.com/wp-content/uploads/2016/05/Nutrition.jpg   \n",
       "3495  https://greaterbostonhcs.com/wp-content/uploads/2016/05/Nutrition.jpg   \n",
       "3496  https://greaterbostonhcs.com/wp-content/uploads/2016/05/Nutrition.jpg   \n",
       "3497  https://greaterbostonhcs.com/wp-content/uploads/2016/05/Nutrition.jpg   \n",
       "3498  https://greaterbostonhcs.com/wp-content/uploads/2016/05/Nutrition.jpg   \n",
       "3499  https://greaterbostonhcs.com/wp-content/uploads/2016/05/Nutrition.jpg   \n",
       "3500  https://greaterbostonhcs.com/wp-content/uploads/2016/05/Nutrition.jpg   \n",
       "\n",
       "      length medium            provider   published  \\\n",
       "0     1       text   ATPScience1         2018-12-21   \n",
       "1     1       text   ATPScience1         2018-12-21   \n",
       "2     1       text   ATPScience1         2018-12-21   \n",
       "3     1       text   ATPScience1         2018-12-21   \n",
       "4     1       text   ATPScience1         2018-12-21   \n",
       "5     1       text   ATPScience1         2018-12-21   \n",
       "6     1       text   ATPScience1         2018-12-20   \n",
       "7     1       text   ATPScience1         2018-12-20   \n",
       "8     1       text   ATPScience1         2018-12-14   \n",
       "9     1       text   ATPScience1         2018-12-14   \n",
       "10    1       text   ATPScience1         2018-12-14   \n",
       "11    1       text   ATPScience1         2018-12-14   \n",
       "12    1       text   ATPScience1         2018-12-13   \n",
       "13    1       text   ATPScience1         2018-12-12   \n",
       "14    1       text   ATPScience1         2018-12-12   \n",
       "15    1       text   ATPScience1         2018-12-07   \n",
       "16    1       text   ATPScience1         2018-12-07   \n",
       "17    1       text   ATPScience1         2018-12-05   \n",
       "18    1       text   ATPScience1         2018-12-05   \n",
       "19    1       text   ATPScience1         2018-11-30   \n",
       "20    1       text   waitrose            2018-12-30   \n",
       "21    1       text   waitrose            2018-12-30   \n",
       "22    1       text   waitrose            2018-12-30   \n",
       "23    1       text   waitrose            2018-12-30   \n",
       "24    1       text   waitrose            2018-12-30   \n",
       "25    1       text   waitrose            2018-12-30   \n",
       "26    1       text   waitrose            2018-12-30   \n",
       "27    1       text   waitrose            2018-12-30   \n",
       "28    1       text   waitrose            2018-12-30   \n",
       "29    1       text   waitrose            2018-12-30   \n",
       "...  ..        ...        ...                   ...   \n",
       "3471  10      text   The New York Times  2018-12-21   \n",
       "3472  1       text   The New York Times  2018-11-26   \n",
       "3473  7       text   The New York Times  2018-11-08   \n",
       "3474  9       text   The New York Times  2018-10-31   \n",
       "3475  7       text   The New York Times  2018-10-22   \n",
       "3476  7       text   The New York Times  2018-10-15   \n",
       "3477  10      text   The New York Times  2018-09-29   \n",
       "3478  7       text   The New York Times  2018-09-04   \n",
       "3479  9       text   The New York Times  2018-08-27   \n",
       "3480  6       text   The New York Times  2018-08-23   \n",
       "3481  2       text   The New York Times  2018-12-21   \n",
       "3482  7       text   The New York Times  2018-12-13   \n",
       "3483  7       text   The New York Times  2018-11-15   \n",
       "3484  7       text   The New York Times  2018-11-08   \n",
       "3485  39      text   The New York Times  2018-11-07   \n",
       "3486  7       text   The New York Times  2018-10-22   \n",
       "3487  7       text   The New York Times  2018-10-18   \n",
       "3488  8       text   The New York Times  2018-10-09   \n",
       "3489  10      text   The New York Times  2018-09-29   \n",
       "3490  34      text   The New York Times  2018-09-12   \n",
       "3491  7       text   The New York Times  2018-12-26   \n",
       "3492  7       text   The New York Times  2018-12-25   \n",
       "3493  12      text   The New York Times  2018-12-23   \n",
       "3494  7       text   The New York Times  2018-12-22   \n",
       "3495  10      text   The New York Times  2018-12-21   \n",
       "3496  2       text   The New York Times  2018-12-21   \n",
       "3497  13      text   AP                  2018-12-21   \n",
       "3498  7       text   The New York Times  2018-12-15   \n",
       "3499  6       text   The New York Times  2018-12-13   \n",
       "3500  74      text   The New York Times  2018-12-12   \n",
       "\n",
       "                                                                                                title  \\\n",
       "0     1075922927575556097                                                                               \n",
       "1     1075922863402700802                                                                               \n",
       "2     1075921037483741184                                                                               \n",
       "3     1075920493595611137                                                                               \n",
       "4     1075917766530486274                                                                               \n",
       "5     1075908604635549700                                                                               \n",
       "6     1075878801987399681                                                                               \n",
       "7     1075878740289298432                                                                               \n",
       "8     1073412341075726336                                                                               \n",
       "9     1073400673461506048                                                                               \n",
       "10    1073379631581978629                                                                               \n",
       "11    1073379553039400960                                                                               \n",
       "12    1073086620641959937                                                                               \n",
       "13    1072714978187202561                                                                               \n",
       "14    1072714871890944000                                                                               \n",
       "15    1070871322736115712                                                                               \n",
       "16    1070865967276810242                                                                               \n",
       "17    1070118844541239298                                                                               \n",
       "18    1070115521683611649                                                                               \n",
       "19    1068387608265441280                                                                               \n",
       "20    1079452011576389632                                                                               \n",
       "21    1079439491327315969                                                                               \n",
       "22    1079437492380672007                                                                               \n",
       "23    1079434961311150080                                                                               \n",
       "24    1079432568146141184                                                                               \n",
       "25    1079429378164097026                                                                               \n",
       "26    1079424958084853760                                                                               \n",
       "27    1079424252410060800                                                                               \n",
       "28    1079419817860497409                                                                               \n",
       "29    1079415143853899776                                                                               \n",
       "...                   ...                                                                               \n",
       "3471  A Peek at Your New Plate: How You’ll Be Eating in 2019                                            \n",
       "3472  Probiotics Do Not Ease Stomach Flu                                                                \n",
       "3473  The Ecosystem in Immigrants’ Guts Is Shaped by the Place They Call Home                           \n",
       "3474  Yemen, Pakistan, Indonesia: Your Thursday Briefing                                                \n",
       "3475  The Problem With Probiotics                                                                       \n",
       "3476  Can 18 Hours in the Air Be Bearable? Airlines Bet on Ultra-Long-Haul Flights                      \n",
       "3477  He Got Schizophrenia. He Got Cancer. And Then He Got Cured.                                       \n",
       "3478  The Menopausal Vagina Monologues                                                                  \n",
       "3479  Keep Your Gut Healthy and Your Skin May Follow                                                    \n",
       "3480  Marilu Henner, the Former ‘Taxi’ Star, Doesn’t Need a Grocery List                                \n",
       "3481  Does the Gut Microbiome Ever Fully Recover From Antibiotics?                                      \n",
       "3482  Breast Cancer Risk May Rise After Childbirth, but Is Still Low                                    \n",
       "3483  7 Things to Do With Your Kids in N.Y.C. This Weekend                                              \n",
       "3484  The Ecosystem in Immigrants’ Guts Is Shaped by the Place They Call Home                           \n",
       "3485  What if the Placebo Effect Isn’t a Trick?                                                         \n",
       "3486  The Problem With Probiotics                                                                       \n",
       "3487  Project Baseline Aims to Ward Off Illness Before We Get Sick                                      \n",
       "3488  Are You Overwashing Your Face?                                                                    \n",
       "3489  He Got Schizophrenia. He Got Cancer. And Then He Got Cured.                                       \n",
       "3490  ‘If This Book Is Not Expressing Everything, What Am I Doing With My Life?’                        \n",
       "3491  A Gutted I.R.S. Makes the Rich Richer                                                             \n",
       "3492  New York City’s Public Housing Is in Crisis. Will Washington Take Control?                        \n",
       "3493  Roberts, Leader of Supreme Court’s Conservative Majority, Fights Perception That It Is Partisan   \n",
       "3494  What a Muslim Could Teach Trump Supporters About Jesus                                            \n",
       "3495  A Peek at Your New Plate: How You’ll Be Eating in 2019                                            \n",
       "3496  Does the Gut Microbiome Ever Fully Recover From Antibiotics?                                      \n",
       "3497  Virtual Wall Grows as Trump Border Fight Threatens Shutdown                                       \n",
       "3498  Health Law Could Be Hard to Knock Down Despite Judge’s Ruling                                     \n",
       "3499  Manhood, Moola, McConnell and Trumpism                                                            \n",
       "3500  He Helped Build an Artists’ Utopia. Now He Faces Trial for 36 Deaths There.                       \n",
       "\n",
       "                         categories scraped_from  \n",
       "0     [general, null]                Twitter      \n",
       "1     [general, null]                Twitter      \n",
       "2     [general, null]                Twitter      \n",
       "3     [null, aminos, vegan]          Twitter      \n",
       "4     [null, aminos, vegan]          Twitter      \n",
       "5     [general, null]                Twitter      \n",
       "6     [general, null]                Twitter      \n",
       "7     [general, null]                Twitter      \n",
       "8     [general, null]                Twitter      \n",
       "9     [general, null]                Twitter      \n",
       "10    [general, null]                Twitter      \n",
       "11    [general, null]                Twitter      \n",
       "12    [general, null]                Twitter      \n",
       "13    [general, null]                Twitter      \n",
       "14    [general, null]                Twitter      \n",
       "15    [general, null]                Twitter      \n",
       "16    [general, null]                Twitter      \n",
       "17    [general, null]                Twitter      \n",
       "18    [general, null]                Twitter      \n",
       "19    [null, plant]                  Twitter      \n",
       "20    [general, null]                Twitter      \n",
       "21    [general, null]                Twitter      \n",
       "22    [general, null]                Twitter      \n",
       "23    [general, null]                Twitter      \n",
       "24    [general, null]                Twitter      \n",
       "25    [general, null]                Twitter      \n",
       "26    [general, null]                Twitter      \n",
       "27    [general, null]                Twitter      \n",
       "28    [general, null]                Twitter      \n",
       "29    [general, null]                Twitter      \n",
       "...               ...                    ...      \n",
       "3471  [probiotic, general, null]     NYT API      \n",
       "3472  [probiotic, general, null]     NYT API      \n",
       "3473  [probiotic, microbiome, null]  NYT API      \n",
       "3474  [probiotic, general, null]     NYT API      \n",
       "3475  [probiotic, general, null]     NYT API      \n",
       "3476  [probiotic, general, null]     NYT API      \n",
       "3477  [probiotic, general, null]     NYT API      \n",
       "3478  [probiotic, general, null]     NYT API      \n",
       "3479  [probiotic, null]              NYT API      \n",
       "3480  [probiotic, general, null]     NYT API      \n",
       "3481  [microbiome, gut, null]        NYT API      \n",
       "3482  [microbiome, general, null]    NYT API      \n",
       "3483  [microbiome, general, null]    NYT API      \n",
       "3484  [microbiome, null]             NYT API      \n",
       "3485  [microbiome, general, null]    NYT API      \n",
       "3486  [microbiome, general, null]    NYT API      \n",
       "3487  [microbiome, general, null]    NYT API      \n",
       "3488  [microbiome, general, null]    NYT API      \n",
       "3489  [microbiome, general, null]    NYT API      \n",
       "3490  [microbiome, general, null]    NYT API      \n",
       "3491  [gut health, general, null]    NYT API      \n",
       "3492  [gut health, general, null]    NYT API      \n",
       "3493  [gut health, general, null]    NYT API      \n",
       "3494  [gut health, general, null]    NYT API      \n",
       "3495  [gut health, general, null]    NYT API      \n",
       "3496  [gut health, gut, null]        NYT API      \n",
       "3497  [gut health, general, null]    NewsApi      \n",
       "3498  [gut health, general, null]    NYT API      \n",
       "3499  [gut health, general, null]    NYT API      \n",
       "3500  [gut health, general, null]    NYT API      \n",
       "\n",
       "[3501 rows x 13 columns]"
      ]
     },
     "execution_count": 6,
     "metadata": {},
     "output_type": "execute_result"
    }
   ],
   "source": [
    "df"
   ]
  },
  {
   "cell_type": "code",
   "execution_count": 8,
   "metadata": {},
   "outputs": [],
   "source": [
    "# x = [[category.name for category in content.categories] for content in session.query(Content).all()]\n",
    "# y = [l for l in x if len(l) > 2]"
   ]
  },
  {
   "cell_type": "markdown",
   "metadata": {
    "extensions": {
     "jupyter_dashboards": {
      "version": 1,
      "views": {
       "grid_default": {},
       "report_default": {
        "hidden": false
       }
      }
     }
    }
   },
   "source": [
    "# Total Content Per Medium & Formality"
   ]
  },
  {
   "cell_type": "code",
   "execution_count": 9,
   "metadata": {},
   "outputs": [
    {
     "data": {
      "text/html": [
       "<div>\n",
       "<style scoped>\n",
       "    .dataframe tbody tr th:only-of-type {\n",
       "        vertical-align: middle;\n",
       "    }\n",
       "\n",
       "    .dataframe tbody tr th {\n",
       "        vertical-align: top;\n",
       "    }\n",
       "\n",
       "    .dataframe thead th {\n",
       "        text-align: right;\n",
       "    }\n",
       "</style>\n",
       "<table border=\"1\" class=\"dataframe\">\n",
       "  <thead>\n",
       "    <tr style=\"text-align: right;\">\n",
       "      <th></th>\n",
       "      <th></th>\n",
       "      <th></th>\n",
       "      <th>content_url</th>\n",
       "    </tr>\n",
       "    <tr>\n",
       "      <th>formality</th>\n",
       "      <th>medium</th>\n",
       "      <th>api_id</th>\n",
       "      <th></th>\n",
       "    </tr>\n",
       "  </thead>\n",
       "  <tbody>\n",
       "    <tr>\n",
       "      <th>Informal</th>\n",
       "      <th>text</th>\n",
       "      <th>Twitter</th>\n",
       "      <td>1501</td>\n",
       "    </tr>\n",
       "    <tr>\n",
       "      <th rowspan=\"2\" valign=\"top\">Intermediate</th>\n",
       "      <th rowspan=\"2\" valign=\"top\">text</th>\n",
       "      <th>NewsAPI</th>\n",
       "      <td>1231</td>\n",
       "    </tr>\n",
       "    <tr>\n",
       "      <th>The New York Times API</th>\n",
       "      <td>96</td>\n",
       "    </tr>\n",
       "  </tbody>\n",
       "</table>\n",
       "</div>"
      ],
      "text/plain": [
       "                                            content_url\n",
       "formality    medium api_id                             \n",
       "Informal     text   Twitter                 1501       \n",
       "Intermediate text   NewsAPI                 1231       \n",
       "                    The New York Times API  96         "
      ]
     },
     "execution_count": 9,
     "metadata": {},
     "output_type": "execute_result"
    }
   ],
   "source": [
    "total = df[['content_url','formality','medium','api_id']].groupby(['formality','medium','api_id']).nunique()\n",
    "total[['content_url']]"
   ]
  },
  {
   "cell_type": "code",
   "execution_count": 10,
   "metadata": {
    "extensions": {
     "jupyter_dashboards": {
      "version": 1,
      "views": {
       "grid_default": {},
       "report_default": {
        "hidden": false
       }
      }
     }
    }
   },
   "outputs": [
    {
     "data": {
      "text/html": [
       "<div>\n",
       "<style scoped>\n",
       "    .dataframe tbody tr th:only-of-type {\n",
       "        vertical-align: middle;\n",
       "    }\n",
       "\n",
       "    .dataframe tbody tr th {\n",
       "        vertical-align: top;\n",
       "    }\n",
       "\n",
       "    .dataframe thead th {\n",
       "        text-align: right;\n",
       "    }\n",
       "</style>\n",
       "<table border=\"1\" class=\"dataframe\">\n",
       "  <thead>\n",
       "    <tr style=\"text-align: right;\">\n",
       "      <th></th>\n",
       "      <th></th>\n",
       "      <th></th>\n",
       "      <th></th>\n",
       "      <th>content_url</th>\n",
       "    </tr>\n",
       "    <tr>\n",
       "      <th>formality</th>\n",
       "      <th>medium</th>\n",
       "      <th>difficulty</th>\n",
       "      <th>api_id</th>\n",
       "      <th></th>\n",
       "    </tr>\n",
       "  </thead>\n",
       "  <tbody>\n",
       "    <tr>\n",
       "      <th rowspan=\"3\" valign=\"top\">Informal</th>\n",
       "      <th rowspan=\"3\" valign=\"top\">text</th>\n",
       "      <th>Easy</th>\n",
       "      <th>Twitter</th>\n",
       "      <td>494</td>\n",
       "    </tr>\n",
       "    <tr>\n",
       "      <th>Hard</th>\n",
       "      <th>Twitter</th>\n",
       "      <td>510</td>\n",
       "    </tr>\n",
       "    <tr>\n",
       "      <th>Medium</th>\n",
       "      <th>Twitter</th>\n",
       "      <td>497</td>\n",
       "    </tr>\n",
       "    <tr>\n",
       "      <th rowspan=\"6\" valign=\"top\">Intermediate</th>\n",
       "      <th rowspan=\"6\" valign=\"top\">text</th>\n",
       "      <th rowspan=\"2\" valign=\"top\">Easy</th>\n",
       "      <th>NewsAPI</th>\n",
       "      <td>453</td>\n",
       "    </tr>\n",
       "    <tr>\n",
       "      <th>The New York Times API</th>\n",
       "      <td>25</td>\n",
       "    </tr>\n",
       "    <tr>\n",
       "      <th rowspan=\"2\" valign=\"top\">Hard</th>\n",
       "      <th>NewsAPI</th>\n",
       "      <td>406</td>\n",
       "    </tr>\n",
       "    <tr>\n",
       "      <th>The New York Times API</th>\n",
       "      <td>37</td>\n",
       "    </tr>\n",
       "    <tr>\n",
       "      <th rowspan=\"2\" valign=\"top\">Medium</th>\n",
       "      <th>NewsAPI</th>\n",
       "      <td>384</td>\n",
       "    </tr>\n",
       "    <tr>\n",
       "      <th>The New York Times API</th>\n",
       "      <td>34</td>\n",
       "    </tr>\n",
       "  </tbody>\n",
       "</table>\n",
       "</div>"
      ],
      "text/plain": [
       "                                                       content_url\n",
       "formality    medium difficulty api_id                             \n",
       "Informal     text   Easy       Twitter                 494        \n",
       "                    Hard       Twitter                 510        \n",
       "                    Medium     Twitter                 497        \n",
       "Intermediate text   Easy       NewsAPI                 453        \n",
       "                               The New York Times API  25         \n",
       "                    Hard       NewsAPI                 406        \n",
       "                               The New York Times API  37         \n",
       "                    Medium     NewsAPI                 384        \n",
       "                               The New York Times API  34         "
      ]
     },
     "execution_count": 10,
     "metadata": {},
     "output_type": "execute_result"
    }
   ],
   "source": [
    "total = df[['content_url','formality','medium','difficulty','api_id']].groupby(['formality','medium','difficulty','api_id']).nunique()\n",
    "total[['content_url']]"
   ]
  },
  {
   "cell_type": "markdown",
   "metadata": {
    "extensions": {
     "jupyter_dashboards": {
      "version": 1,
      "views": {
       "grid_default": {},
       "report_default": {
        "hidden": false
       }
      }
     }
    }
   },
   "source": [
    "# Total Unique Categories and Providers per Medium & Formality"
   ]
  },
  {
   "cell_type": "code",
   "execution_count": 13,
   "metadata": {
    "extensions": {
     "jupyter_dashboards": {
      "version": 1,
      "views": {
       "grid_default": {},
       "report_default": {
        "hidden": false
       }
      }
     }
    }
   },
   "outputs": [
    {
     "ename": "IndexError",
     "evalue": "list index out of range",
     "output_type": "error",
     "traceback": [
      "\u001b[0;31m---------------------------------------------------------------------------\u001b[0m",
      "\u001b[0;31mIndexError\u001b[0m                                Traceback (most recent call last)",
      "\u001b[0;32m<ipython-input-13-cd7f78646ae2>\u001b[0m in \u001b[0;36m<module>\u001b[0;34m()\u001b[0m\n\u001b[0;32m----> 1\u001b[0;31m \u001b[0mplot_stacked_OVERALL\u001b[0m\u001b[0;34m(\u001b[0m\u001b[0;34m)\u001b[0m\u001b[0;34m\u001b[0m\u001b[0m\n\u001b[0m",
      "\u001b[0;32m~/Documents/Flatiron School/rabbit/newspackage/etl.py\u001b[0m in \u001b[0;36mplot_stacked_OVERALL\u001b[0;34m()\u001b[0m\n\u001b[1;32m    142\u001b[0m     trace1 = go.Bar(\n\u001b[1;32m    143\u001b[0m         \u001b[0mx\u001b[0m\u001b[0;34m=\u001b[0m \u001b[0mx\u001b[0m\u001b[0;34m,\u001b[0m\u001b[0;34m\u001b[0m\u001b[0m\n\u001b[0;32m--> 144\u001b[0;31m         \u001b[0my\u001b[0m\u001b[0;34m=\u001b[0m\u001b[0;34m[\u001b[0m\u001b[0mcount_formality_per_medium_OVERALL\u001b[0m\u001b[0;34m(\u001b[0m\u001b[0mx\u001b[0m\u001b[0;34m[\u001b[0m\u001b[0;36m0\u001b[0m\u001b[0;34m]\u001b[0m\u001b[0;34m,\u001b[0m\u001b[0;34m'Informal'\u001b[0m\u001b[0;34m)\u001b[0m\u001b[0;34m,\u001b[0m\u001b[0mcount_formality_per_medium_OVERALL\u001b[0m\u001b[0;34m(\u001b[0m\u001b[0mx\u001b[0m\u001b[0;34m[\u001b[0m\u001b[0;36m1\u001b[0m\u001b[0;34m]\u001b[0m\u001b[0;34m,\u001b[0m\u001b[0;34m'Informal'\u001b[0m\u001b[0;34m)\u001b[0m\u001b[0;34m,\u001b[0m\u001b[0mcount_formality_per_medium_OVERALL\u001b[0m\u001b[0;34m(\u001b[0m\u001b[0mx\u001b[0m\u001b[0;34m[\u001b[0m\u001b[0;36m2\u001b[0m\u001b[0;34m]\u001b[0m\u001b[0;34m,\u001b[0m\u001b[0;34m'Informal'\u001b[0m\u001b[0;34m)\u001b[0m\u001b[0;34m]\u001b[0m\u001b[0;34m,\u001b[0m\u001b[0;34m\u001b[0m\u001b[0m\n\u001b[0m\u001b[1;32m    145\u001b[0m         name='Informal')\n\u001b[1;32m    146\u001b[0m \u001b[0;34m\u001b[0m\u001b[0m\n",
      "\u001b[0;31mIndexError\u001b[0m: list index out of range"
     ]
    }
   ],
   "source": [
    "plot_stacked_OVERALL()"
   ]
  },
  {
   "cell_type": "markdown",
   "metadata": {
    "extensions": {
     "jupyter_dashboards": {
      "version": 1,
      "views": {
       "grid_default": {
        "col": 6,
        "height": 3,
        "hidden": false,
        "row": 0,
        "width": 6
       },
       "report_default": {
        "hidden": false
       }
      }
     }
    }
   },
   "source": [
    "# Ketogenic"
   ]
  },
  {
   "cell_type": "code",
   "execution_count": 11,
   "metadata": {
    "extensions": {
     "jupyter_dashboards": {
      "version": 1,
      "views": {
       "grid_default": {
        "col": 6,
        "height": 18,
        "hidden": false,
        "row": 3,
        "width": 6
       },
       "report_default": {
        "hidden": false
       }
      }
     }
    },
    "scrolled": false
   },
   "outputs": [
    {
     "data": {
      "application/vnd.jupyter.widget-view+json": {
       "model_id": "dfe878b6b3bd423380b999456448e3e5",
       "version_major": 2,
       "version_minor": 0
      },
      "text/plain": [
       "interactive(children=(IntSlider(value=1, description='Limit', max=5, min=1), ToggleButtons(description='Medium…"
      ]
     },
     "metadata": {},
     "output_type": "display_data"
    }
   ],
   "source": [
    "Limit_widget1 = widgets.IntSlider(min=1, max=5, step=1, value=1)\n",
    "Medium_widget1 = widgets.ToggleButtons(options = ['text', 'audio','video'], description ='Medium', button_style='')\n",
    "topic_widget1 = widgets.Dropdown(options = nutrition_cats,value='keto', description ='Topic', disabled=False)\n",
    "expertise_widget1 = widgets.ToggleButtons(options = ['Informal', 'Intermediate','Formal'], description ='Formality', button_style='')\n",
    "max_length_widget1 = widgets.IntSlider(min=0, max=100, step=10, value=20)\n",
    "difficulty_widget1 = widgets.ToggleButtons(options = ['Easy', 'Medium','Hard'], description ='Difficulty', button_style='')\n",
    "\n",
    "\n",
    "interact(query_content,Limit = Limit_widget1, Medium = Medium_widget1, search_param=topic_widget1, Formality = expertise_widget1, Max_Length = max_length_widget1,Difficulty = difficulty_widget1);"
   ]
  },
  {
   "cell_type": "code",
   "execution_count": 11,
   "metadata": {
    "extensions": {
     "jupyter_dashboards": {
      "version": 1,
      "views": {
       "grid_default": {
        "col": 0,
        "height": 19,
        "hidden": false,
        "row": 77,
        "width": 4
       },
       "report_default": {
        "hidden": false
       }
      }
     }
    }
   },
   "outputs": [
    {
     "data": {
      "application/vnd.jupyter.widget-view+json": {
       "model_id": "3b20a8415460457eb3fbc919a9ab9512",
       "version_major": 2,
       "version_minor": 0
      },
      "text/plain": [
       "interactive(children=(Dropdown(description='Topic', options=('keto', 'mct', 'natural', 'corn-fed', 'cruciferou…"
      ]
     },
     "metadata": {},
     "output_type": "display_data"
    }
   ],
   "source": [
    "alt_widget_1 = widgets.Dropdown(options = nutrition_cats,value='keto', description ='Topic', disabled=False)\n",
    "\n",
    "interact(plot_stacked, param = alt_widget_1);"
   ]
  },
  {
   "cell_type": "markdown",
   "metadata": {
    "extensions": {
     "jupyter_dashboards": {
      "version": 1,
      "views": {
       "grid_default": {
        "col": 0,
        "height": 3,
        "hidden": false,
        "row": 0,
        "width": 6
       },
       "report_default": {
        "hidden": false
       }
      }
     }
    }
   },
   "source": [
    "# Paleolithic"
   ]
  },
  {
   "cell_type": "code",
   "execution_count": 12,
   "metadata": {
    "extensions": {
     "jupyter_dashboards": {
      "version": 1,
      "views": {
       "grid_default": {
        "col": 0,
        "height": 18,
        "hidden": false,
        "row": 3,
        "width": 6
       },
       "report_default": {
        "hidden": false
       }
      }
     }
    }
   },
   "outputs": [
    {
     "data": {
      "application/vnd.jupyter.widget-view+json": {
       "model_id": "84d99f4c77c94d62a828c9f1faa7fa6f",
       "version_major": 2,
       "version_minor": 0
      },
      "text/plain": [
       "interactive(children=(IntSlider(value=1, description='Limit', max=5, min=1), ToggleButtons(description='Medium…"
      ]
     },
     "metadata": {},
     "output_type": "display_data"
    }
   ],
   "source": [
    "Limit_widget2 = widgets.IntSlider(min=1, max=5, step=1, value=1)\n",
    "Medium_widget2 = widgets.ToggleButtons(options = ['text', 'audio','video'], description ='Medium', button_style='')\n",
    "topic_widget2 = widgets.Dropdown(options = nutrition_cats,value='paleo', description ='Topic', disabled=False)\n",
    "expertise_widget2 = widgets.ToggleButtons(options = ['Informal', 'Intermediate','Formal'], description ='Formality', button_style='')\n",
    "max_length_widget2 = widgets.IntSlider(min=0, max=100, step=10, value=20)\n",
    "difficulty_widget2 = widgets.ToggleButtons(options = ['Easy', 'Medium','Hard'], description ='Difficulty', button_style='')\n",
    "\n",
    "\n",
    "interact(query_content,Limit = Limit_widget2, Medium = Medium_widget2, search_param=topic_widget2, Formality = expertise_widget2, Max_Length = max_length_widget2,Difficulty = difficulty_widget2);"
   ]
  },
  {
   "cell_type": "code",
   "execution_count": 13,
   "metadata": {
    "extensions": {
     "jupyter_dashboards": {
      "version": 1,
      "views": {
       "grid_default": {
        "col": 4,
        "height": 19,
        "hidden": false,
        "row": 77,
        "width": 4
       },
       "report_default": {
        "hidden": false
       }
      }
     }
    }
   },
   "outputs": [
    {
     "data": {
      "application/vnd.jupyter.widget-view+json": {
       "model_id": "6f9f5c4ac5de493dad2d378efcaf173e",
       "version_major": 2,
       "version_minor": 0
      },
      "text/plain": [
       "interactive(children=(Dropdown(description='Topic', index=14, options=('keto', 'mct', 'natural', 'corn-fed', '…"
      ]
     },
     "metadata": {},
     "output_type": "display_data"
    }
   ],
   "source": [
    "alt_widget_2 = widgets.Dropdown(options = nutrition_cats,value='paleo', description ='Topic', disabled=False)\n",
    "\n",
    "interact(plot_stacked, param = alt_widget_2);"
   ]
  },
  {
   "cell_type": "markdown",
   "metadata": {
    "extensions": {
     "jupyter_dashboards": {
      "version": 1,
      "views": {
       "grid_default": {
        "col": 6,
        "height": 3,
        "hidden": false,
        "row": 21,
        "width": 6
       },
       "report_default": {
        "hidden": false
       }
      }
     }
    }
   },
   "source": [
    "# Vegan"
   ]
  },
  {
   "cell_type": "code",
   "execution_count": 13,
   "metadata": {
    "extensions": {
     "jupyter_dashboards": {
      "version": 1,
      "views": {
       "grid_default": {
        "col": 6,
        "height": 18,
        "hidden": false,
        "row": 24,
        "width": 6
       },
       "report_default": {
        "hidden": false
       }
      }
     }
    },
    "scrolled": false
   },
   "outputs": [
    {
     "data": {
      "application/vnd.jupyter.widget-view+json": {
       "model_id": "15be5a5b6c794236839de0d86e650501",
       "version_major": 2,
       "version_minor": 0
      },
      "text/plain": [
       "interactive(children=(IntSlider(value=1, description='Limit', max=5, min=1), ToggleButtons(description='Medium…"
      ]
     },
     "metadata": {},
     "output_type": "display_data"
    }
   ],
   "source": [
    "Limit_widget3 = widgets.IntSlider(min=1, max=5, step=1, value=1)\n",
    "Medium_widget3 = widgets.ToggleButtons(options = ['text', 'audio','video'], description ='Medium', button_style='')\n",
    "topic_widget3 = widgets.Dropdown(options = nutrition_cats,value='vegan', description ='Topic', disabled=False)\n",
    "expertise_widget3 = widgets.ToggleButtons(options = ['Informal', 'Intermediate','Formal'], description ='Formality', button_style='')\n",
    "max_length_widget3 = widgets.IntSlider(min=0, max=100, step=10, value=20)\n",
    "difficulty_widget3 = widgets.ToggleButtons(options = ['Easy', 'Medium','Hard'], description ='Difficulty', button_style='')\n",
    "\n",
    "\n",
    "interact(query_content,Limit = Limit_widget3, Medium = Medium_widget3, search_param=topic_widget3, Formality = expertise_widget3, Max_Length = max_length_widget3, Difficulty = difficulty_widget3);"
   ]
  },
  {
   "cell_type": "code",
   "execution_count": 14,
   "metadata": {
    "extensions": {
     "jupyter_dashboards": {
      "version": 1,
      "views": {
       "grid_default": {
        "col": 8,
        "height": 19,
        "hidden": false,
        "row": 77,
        "width": 4
       },
       "report_default": {
        "hidden": false
       }
      }
     }
    }
   },
   "outputs": [
    {
     "data": {
      "application/vnd.jupyter.widget-view+json": {
       "model_id": "e1dfd72108fd47eba52afb6a8d569ae4",
       "version_major": 2,
       "version_minor": 0
      },
      "text/plain": [
       "interactive(children=(Dropdown(description='Topic', index=13, options=('keto', 'mct', 'natural', 'corn-fed', '…"
      ]
     },
     "metadata": {},
     "output_type": "display_data"
    }
   ],
   "source": [
    "alt_widget_3 = widgets.Dropdown(options = nutrition_cats,value='vegan', description ='Topic', disabled=False)\n",
    "\n",
    "interact(plot_stacked, param = alt_widget_3);"
   ]
  },
  {
   "cell_type": "markdown",
   "metadata": {
    "extensions": {
     "jupyter_dashboards": {
      "version": 1,
      "views": {
       "grid_default": {
        "col": 0,
        "height": 3,
        "hidden": false,
        "row": 21,
        "width": 6
       },
       "report_default": {
        "hidden": false
       }
      }
     }
    }
   },
   "source": [
    "# Vegetarian"
   ]
  },
  {
   "cell_type": "code",
   "execution_count": 15,
   "metadata": {
    "extensions": {
     "jupyter_dashboards": {
      "version": 1,
      "views": {
       "grid_default": {
        "col": 0,
        "height": 18,
        "hidden": false,
        "row": 24,
        "width": 6
       },
       "report_default": {
        "hidden": false
       }
      }
     }
    },
    "scrolled": false
   },
   "outputs": [
    {
     "data": {
      "application/vnd.jupyter.widget-view+json": {
       "model_id": "52049c53e4c142f8954c4c8f22e8f8dd",
       "version_major": 2,
       "version_minor": 0
      },
      "text/plain": [
       "interactive(children=(IntSlider(value=1, description='Limit', max=5, min=1), ToggleButtons(description='Medium…"
      ]
     },
     "metadata": {},
     "output_type": "display_data"
    }
   ],
   "source": [
    "Limit_widget4 = widgets.IntSlider(min=1, max=5, step=1, value=1)\n",
    "Medium_widget4 = widgets.ToggleButtons(options = ['text', 'audio','video'], description ='Medium', button_style='')\n",
    "topic_widget4 = widgets.Dropdown(options = nutrition_cats,value='vegetarian', description ='Topic', disabled=False)\n",
    "expertise_widget4 = widgets.ToggleButtons(options = ['Informal', 'Intermediate','Formal'], description ='Formality', button_style='')\n",
    "max_length_widget4 = widgets.IntSlider(min=0, max=200, step=10, value=20)\n",
    "difficulty_widget4 = widgets.ToggleButtons(options = ['Easy', 'Medium','Hard'], description ='Difficulty', button_style='')\n",
    "\n",
    "interact(query_content,Limit = Limit_widget4, Medium = Medium_widget4, search_param=topic_widget4, Formality = expertise_widget4, Max_Length = max_length_widget4, Difficulty = difficulty_widget4);"
   ]
  },
  {
   "cell_type": "code",
   "execution_count": 16,
   "metadata": {
    "extensions": {
     "jupyter_dashboards": {
      "version": 1,
      "views": {
       "grid_default": {
        "col": 0,
        "height": 19,
        "hidden": false,
        "row": 96,
        "width": 4
       },
       "report_default": {
        "hidden": false
       }
      }
     }
    }
   },
   "outputs": [
    {
     "data": {
      "application/vnd.jupyter.widget-view+json": {
       "model_id": "975c77a60e84472bbd38be1d58840679",
       "version_major": 2,
       "version_minor": 0
      },
      "text/plain": [
       "interactive(children=(Dropdown(description='Topic', index=14, options=('keto', 'mct', 'natural', 'corn-fed', '…"
      ]
     },
     "metadata": {},
     "output_type": "display_data"
    }
   ],
   "source": [
    "alt_widget_4 = widgets.Dropdown(options = nutrition_cats,value='vegetarian', description ='Topic', disabled=False)\n",
    "\n",
    "interact(plot_stacked, param = alt_widget_4);"
   ]
  },
  {
   "cell_type": "markdown",
   "metadata": {
    "extensions": {
     "jupyter_dashboards": {
      "version": 1,
      "views": {
       "grid_default": {},
       "report_default": {
        "hidden": false
       }
      }
     }
    }
   },
   "source": [
    "# General"
   ]
  },
  {
   "cell_type": "code",
   "execution_count": 17,
   "metadata": {
    "extensions": {
     "jupyter_dashboards": {
      "version": 1,
      "views": {
       "grid_default": {},
       "report_default": {
        "hidden": false
       }
      }
     }
    }
   },
   "outputs": [
    {
     "data": {
      "application/vnd.jupyter.widget-view+json": {
       "model_id": "29bf5e3a604d4c03a5a8076d03fb2478",
       "version_major": 2,
       "version_minor": 0
      },
      "text/plain": [
       "interactive(children=(IntSlider(value=1, description='Limit', max=5, min=1), ToggleButtons(description='Medium…"
      ]
     },
     "metadata": {},
     "output_type": "display_data"
    }
   ],
   "source": [
    "Limit_widget5 = widgets.IntSlider(min=1, max=5, step=1, value=1)\n",
    "Medium_widget5 = widgets.ToggleButtons(options = ['text', 'audio','video'], description ='Medium', button_style='')\n",
    "topic_widget5 = widgets.Dropdown(options = ['general'],value='general', description ='Topic', disabled=False)\n",
    "expertise_widget5 = widgets.ToggleButtons(options = ['Informal', 'Intermediate','Formal'], description ='Formality', button_style='')\n",
    "max_length_widget5 = widgets.IntSlider(min=0, max=300, step=10, value=20)\n",
    "difficulty_widget5 = widgets.ToggleButtons(options = ['Easy', 'Medium','Hard'], description ='Difficulty', button_style='')\n",
    "\n",
    "interact(query_content,Limit = Limit_widget5, Medium = Medium_widget5, search_param=topic_widget5, Formality = expertise_widget5, Max_Length = max_length_widget5,Difficulty - difficulty_widget5);"
   ]
  },
  {
   "cell_type": "code",
   "execution_count": 18,
   "metadata": {
    "extensions": {
     "jupyter_dashboards": {
      "version": 1,
      "views": {
       "grid_default": {},
       "report_default": {
        "hidden": false
       }
      }
     }
    }
   },
   "outputs": [
    {
     "data": {
      "application/vnd.jupyter.widget-view+json": {
       "model_id": "5027662bc045460aab5a39e44e32c53b",
       "version_major": 2,
       "version_minor": 0
      },
      "text/plain": [
       "interactive(children=(Dropdown(description='Topic', options=('general',), value='general'), Output()), _dom_cl…"
      ]
     },
     "metadata": {},
     "output_type": "display_data"
    }
   ],
   "source": [
    "alt_widget_5 = widgets.Dropdown(options = ['general'],value='general', description ='Topic', disabled=False)\n",
    "\n",
    "interact(plot_stacked, param = alt_widget_5);"
   ]
  },
  {
   "cell_type": "markdown",
   "metadata": {
    "extensions": {
     "jupyter_dashboards": {
      "version": 1,
      "views": {
       "grid_default": {
        "col": 0,
        "height": 4,
        "hidden": false,
        "row": 42,
        "width": 12
       },
       "report_default": {
        "hidden": false
       }
      }
     }
    }
   },
   "source": [
    "# Search"
   ]
  },
  {
   "cell_type": "code",
   "execution_count": 19,
   "metadata": {
    "extensions": {
     "jupyter_dashboards": {
      "version": 1,
      "views": {
       "grid_default": {
        "col": 0,
        "height": 31,
        "hidden": false,
        "row": 46,
        "width": 12
       },
       "report_default": {
        "hidden": true
       }
      }
     }
    }
   },
   "outputs": [],
   "source": [
    "# search_widget = widgets.Text(placeholder = 'Search News', description='Search:', disabled=False,continuous_update=False)\n",
    "# Limit_widget5 = widgets.IntSlider(min=1, max=5, step=1, value=1)\n",
    "# Medium_widget5 = widgets.ToggleButtons(options = ['text', 'audio','video'], description ='Medium', button_style='')\n",
    "\n",
    "\n",
    "\n",
    "\n",
    "# interact(query_content,search_param=search_widget,Limit = Limit_widget5, Medium = Medium_widget5);"
   ]
  }
 ],
 "metadata": {
  "extensions": {
   "jupyter_dashboards": {
    "activeView": "report_default",
    "version": 1,
    "views": {
     "grid_default": {
      "cellMargin": 10,
      "defaultCellHeight": 20,
      "maxColumns": 12,
      "name": "grid",
      "type": "grid"
     },
     "report_default": {
      "name": "report",
      "type": "report"
     }
    }
   }
  },
  "kernelspec": {
   "display_name": "Python 3",
   "language": "python",
   "name": "python3"
  },
  "language_info": {
   "codemirror_mode": {
    "name": "ipython",
    "version": 3
   },
   "file_extension": ".py",
   "mimetype": "text/x-python",
   "name": "python",
   "nbconvert_exporter": "python",
   "pygments_lexer": "ipython3",
   "version": "3.6.5"
  }
 },
 "nbformat": 4,
 "nbformat_minor": 2
}
