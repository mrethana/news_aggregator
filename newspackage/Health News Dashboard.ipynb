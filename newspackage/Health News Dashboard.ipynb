{
 "cells": [
  {
   "cell_type": "code",
   "execution_count": 1,
   "metadata": {
    "extensions": {
     "jupyter_dashboards": {
      "version": 1,
      "views": {
       "grid_default": {
        "hidden": true
       },
       "report_default": {
        "hidden": false
       }
      }
     }
    }
   },
   "outputs": [
    {
     "name": "stdout",
     "output_type": "stream",
     "text": [
      "Database session created\n"
     ]
    }
   ],
   "source": [
    "import ipywidgets as widgets\n",
    "from ipywidgets import interact, interactive, fixed, interact_manual\n",
    "import ipywidgets as widgets\n",
    "from IPython.display import Image\n",
    "from IPython.core.display import HTML \n",
    "import time\n",
    "from ipywidgets import FloatProgress\n",
    "from IPython.display import display\n",
    "from bs4 import BeautifulSoup\n",
    "import requests\n",
    "import re\n",
    "from os import path\n",
    "from PIL import Image\n",
    "import pandas as pd\n",
    "import warnings\n",
    "warnings.filterwarnings(\"ignore\")\n",
    "from models import *\n",
    "from etl import *\n",
    "import plotly.plotly as py\n",
    "import plotly.graph_objs as go"
   ]
  },
  {
   "cell_type": "code",
   "execution_count": 2,
   "metadata": {},
   "outputs": [
    {
     "data": {
      "text/html": [
       "\n",
       "                <audio controls=\"controls\" >\n",
       "                    <source src=\"https://episodes.castos.com/unconventionalwellnessradio/UW-Ep-3-Final.mp3\" type=\"audio/mpeg\" />\n",
       "                    Your browser does not support the audio element.\n",
       "                </audio>\n",
       "              "
      ],
      "text/plain": [
       "<IPython.lib.display.Audio object>"
      ]
     },
     "execution_count": 2,
     "metadata": {},
     "output_type": "execute_result"
    }
   ],
   "source": [
    "import IPython\n",
    "IPython.display.Audio('https://episodes.castos.com/unconventionalwellnessradio/UW-Ep-3-Final.mp3')"
   ]
  },
  {
   "cell_type": "code",
   "execution_count": 3,
   "metadata": {},
   "outputs": [],
   "source": [
    "all_medium_titles = {medium.name:medium for medium in session.query(Medium).all()}"
   ]
  },
  {
   "cell_type": "code",
   "execution_count": 4,
   "metadata": {},
   "outputs": [
    {
     "data": {
      "text/plain": [
       "{'text': <models.Medium at 0x105ca5710>,\n",
       " 'video': <models.Medium at 0x105ca5780>,\n",
       " 'social': <models.Medium at 0x105ca57f0>,\n",
       " 'audio': <models.Medium at 0x105ca5860>}"
      ]
     },
     "execution_count": 4,
     "metadata": {},
     "output_type": "execute_result"
    }
   ],
   "source": [
    "all_medium_titles"
   ]
  },
  {
   "cell_type": "code",
   "execution_count": 5,
   "metadata": {},
   "outputs": [],
   "source": [
    "all_content_titles = {content.content_url: content.category.name for content in session.query(Content).all() if content.medium.name == 'audio' if content.category.name != 'general'}"
   ]
  },
  {
   "cell_type": "code",
   "execution_count": 6,
   "metadata": {},
   "outputs": [
    {
     "data": {
      "text/plain": [
       "{'http://traffic.libsyn.com/joeroganexp/p1189.mp3': 'free',\n",
       " 'http://traffic.libsyn.com/joeroganexp/p1176.mp3': 'natural',\n",
       " 'http://traffic.libsyn.com/joeroganexp/p1151.mp3': 'energy',\n",
       " 'http://traffic.libsyn.com/joeroganexp/p1125.mp3': 'free',\n",
       " 'http://traffic.libsyn.com/joeroganexp/p1055.mp3': 'free',\n",
       " 'http://traffic.libsyn.com/joeroganexp/p1006.mp3': 'free',\n",
       " 'http://traffic.libsyn.com/joeroganexp/p1003.mp3': 'energy',\n",
       " 'http://traffic.libsyn.com/joeroganexp/p928.mp3': 'free',\n",
       " 'http://traffic.libsyn.com/joeroganexp/p884.mp3': 'free',\n",
       " 'http://traffic.libsyn.com/joeroganexp/p765.mp3': 'vegan',\n",
       " 'http://traffic.libsyn.com/joeroganexp/p601.mp3': 'natural',\n",
       " 'http://traffic.libsyn.com/joeroganexp/p578.mp3': 'mood',\n",
       " 'http://traffic.libsyn.com/joeroganexp/p517a.mp3': 'free',\n",
       " 'http://traffic.libsyn.com/joeroganexp/p517.mp3': 'free',\n",
       " 'http://traffic.libsyn.com/joeroganexp/p470.mp3': 'natural',\n",
       " 'http://traffic.libsyn.com/joeroganexp/p437.mp3': 'free',\n",
       " 'http://traffic.libsyn.com/joeroganexp/p336.mp3': 'free',\n",
       " 'http://traffic.libsyn.com/joeroganexp/p319.mp3': 'free',\n",
       " 'https://rss.art19.com/episodes/b97b91ba-c496-46a0-8e2b-08544e9c0f15.mp3': 'free',\n",
       " 'https://rss.art19.com/episodes/c4a6b972-c77a-44ed-a9a5-ecc9d7aaf52b.mp3': 'free',\n",
       " 'https://rss.art19.com/episodes/9f0f3327-7275-424f-84bf-30821cc6e347.mp3': 'supplements',\n",
       " 'https://rss.art19.com/episodes/c33ccd44-41f1-411e-8d4c-0ee743dfad5e.mp3': 'free',\n",
       " 'https://rss.art19.com/episodes/f90ab568-0eb2-4724-8b22-3d08685cf062.mp3': 'free',\n",
       " 'https://rss.art19.com/episodes/68f17387-c3a7-48c4-8d2e-7326283fa300.mp3': 'free',\n",
       " 'https://rss.art19.com/episodes/c23d1aee-571f-4e87-ae41-4026a5a5e92d.mp3': 'free',\n",
       " 'https://rss.art19.com/episodes/a347d207-3697-4540-a7fd-5f5344067421.mp3': 'free',\n",
       " 'https://rss.art19.com/episodes/b6e38cae-01a6-4748-97be-1047a34a303b.mp3': 'free',\n",
       " 'https://rss.art19.com/episodes/5016cc2c-3e67-449f-8b53-f06d488e5baf.mp3': 'free',\n",
       " 'https://rss.art19.com/episodes/c9e7fc8b-9477-459d-af99-a8aa80038431.mp3': 'free',\n",
       " 'https://rss.art19.com/episodes/6f065006-06c5-464b-a839-f64d078736ed.mp3': 'free',\n",
       " 'https://rss.art19.com/episodes/7b634264-1767-4f2c-bbe2-a47a43043ab6.mp3': 'free',\n",
       " 'https://rss.art19.com/episodes/fcda22c8-9ba8-466b-ae80-25d38e284612.mp3': 'free',\n",
       " 'https://rss.art19.com/episodes/89218eff-aa5b-4a42-8373-d945d53bec9e.mp3': 'free',\n",
       " 'https://rss.art19.com/episodes/1d8dd853-973a-4874-b452-3f6b68cead2d.mp3': 'free',\n",
       " 'https://rss.art19.com/episodes/f50ee608-d307-4f4d-a3ac-6d8f5b5e0315.mp3': 'free',\n",
       " 'https://rss.art19.com/episodes/197f9fe4-fade-4c43-b81c-47fb36c5fb7f.mp3': 'free',\n",
       " 'https://rss.art19.com/episodes/07fc8674-4f90-49c4-babc-b27bb50a2841.mp3': 'free',\n",
       " 'https://rss.art19.com/episodes/214637f0-d9f6-4dee-8176-647817e58622.mp3': 'free',\n",
       " 'https://rss.art19.com/episodes/b7f9ff3d-82e5-46ae-9809-df3c621e72f2.mp3': 'free',\n",
       " 'https://rss.art19.com/episodes/74298cdd-d63c-4f45-8e3b-804db9dd09d5.mp3': 'free',\n",
       " 'https://rss.art19.com/episodes/66c69066-e7a1-4f69-9313-f6c89b6a443e.mp3': 'free',\n",
       " 'https://rss.art19.com/episodes/0b19c53b-f57e-4e26-b6aa-d972c2f9f7ca.mp3': 'free',\n",
       " 'https://rss.art19.com/episodes/6aaa228b-ed2c-4f7a-8af1-4802988fdaba.mp3': 'free',\n",
       " 'https://rss.art19.com/episodes/19d603ed-2b56-48b4-b612-28d3e52b43e7.mp3': 'energy',\n",
       " 'https://rss.art19.com/episodes/c426f558-ad4e-428d-8677-65fd71c70b73.mp3': 'energy',\n",
       " 'https://rss.art19.com/episodes/efc9c4a0-937e-4124-9f4b-33484e4e45d9.mp3': 'factory',\n",
       " 'https://rss.art19.com/episodes/180061cc-2705-4e32-8d2b-30a8125291e0.mp3': 'free',\n",
       " 'https://rss.art19.com/episodes/4b3d1c5c-912a-4547-aeb4-48e770f30dd3.mp3': 'free',\n",
       " 'https://rss.art19.com/episodes/fca950ee-8c1b-4aab-b230-7983c8fcbd7a.mp3': 'fiber',\n",
       " 'https://rss.art19.com/episodes/e3583478-ff98-48e4-9d71-5a33b3c6d359.mp3': 'free',\n",
       " 'https://rss.art19.com/episodes/f6381ff7-2f63-46c0-a888-052337df33f5.mp3': 'free',\n",
       " 'https://rss.art19.com/episodes/61dc128f-e1ad-4891-8733-adf59789951a.mp3': 'free',\n",
       " 'https://rss.art19.com/episodes/a0c1eace-43ca-4a95-8076-0f33ab872641.mp3': 'free',\n",
       " 'https://rss.art19.com/episodes/8c8d3593-b42b-41bf-9f00-4f90f1465b75.mp3': 'free',\n",
       " 'https://rss.art19.com/episodes/a5fe1e27-0fc8-4134-a007-6bd2a1c4c988.mp3': 'free',\n",
       " 'https://rss.art19.com/episodes/0c836c2c-76aa-4a7c-9582-4305c6410e6b.mp3': 'free',\n",
       " 'https://rss.art19.com/episodes/7c3ed23e-2d1a-46bf-a74a-2fadc7e345c7.mp3': 'free',\n",
       " 'https://rss.art19.com/episodes/18f80039-69f9-428f-868c-f49a0b25c0eb.mp3': 'free',\n",
       " 'https://rss.art19.com/episodes/5e0e91b1-34c3-4507-821b-6bb99dc06587.mp3': 'free',\n",
       " 'https://rss.art19.com/episodes/a37b219c-ddc8-412e-a344-3aae64dee746.mp3': 'free',\n",
       " 'https://rss.art19.com/episodes/370d31e4-20da-44aa-8f20-32d7a58d7db5.mp3': 'free',\n",
       " 'https://rss.art19.com/episodes/13d87dad-75aa-45f1-8ec4-27a858ec5f1e.mp3': 'free',\n",
       " 'https://rss.art19.com/episodes/f2d4392d-c8c5-4a41-9f18-392532e29098.mp3': 'free',\n",
       " 'https://rss.art19.com/episodes/7d03a6a6-2bc3-4e21-8093-74fbba041600.mp3': 'free',\n",
       " 'https://rss.art19.com/episodes/0229ba90-4725-4718-b788-e50326fcc779.mp3': 'free',\n",
       " 'https://rss.art19.com/episodes/00ba562c-2ed1-4258-93c2-04d525c75349.mp3': 'free',\n",
       " 'https://rss.art19.com/episodes/505397f9-8b1b-4747-b509-06cb97ab28f5.mp3': 'free',\n",
       " 'https://rss.art19.com/episodes/da471a92-6ab7-4ff8-aa05-63806a460cd3.mp3': 'free',\n",
       " 'https://rss.art19.com/episodes/95fe892c-1309-421a-be21-7297b0698dd1.mp3': 'free',\n",
       " 'https://rss.art19.com/episodes/5df0860b-2537-4101-a5c0-834586573b3a.mp3': 'free',\n",
       " 'https://rss.art19.com/episodes/64d6f30c-7c2c-4982-bc35-4f1d40f25190.mp3': 'free',\n",
       " 'https://rss.art19.com/episodes/2f74a98e-c86d-4211-8d7d-3c99464bd9c6.mp3': 'free',\n",
       " 'https://rss.art19.com/episodes/7f37c38e-91e0-4a1f-9905-958c6f6927d6.mp3': 'free',\n",
       " 'https://rss.art19.com/episodes/8dd6eb73-0270-428f-85c7-8155b4999034.mp3': 'free',\n",
       " 'https://rss.art19.com/episodes/e4f33f71-5fb6-4412-9118-6b8c82dfdfaa.mp3': 'free',\n",
       " 'https://rss.art19.com/episodes/57237382-d25d-4608-a5b8-63afd50fccfd.mp3': 'free',\n",
       " 'https://rss.art19.com/episodes/d1969bd1-650c-448e-b4a2-273e3d81619b.mp3': 'free',\n",
       " 'https://rss.art19.com/episodes/438e7af7-6545-48d1-99a3-f21bc272f2d0.mp3': 'free',\n",
       " 'https://rss.art19.com/episodes/de88c4ee-e280-46b9-a42c-3439f5e0ffac.mp3': 'free',\n",
       " 'https://rss.art19.com/episodes/a8c1dd41-4793-483e-a6ee-2d584fb7c020.mp3': 'free',\n",
       " 'https://rss.art19.com/episodes/42d275fb-6a22-4ea5-8af5-10c333cea56c.mp3': 'free',\n",
       " 'https://rss.art19.com/episodes/3e9a9abe-d2e2-4826-a991-bf68aa5132c0.mp3': 'free',\n",
       " 'https://rss.art19.com/episodes/ecc36922-8d94-4bf3-91c5-e66232377e5e.mp3': 'free',\n",
       " 'https://rss.art19.com/episodes/eaac1d3f-6181-40d3-9434-2de9e902de90.mp3': 'free',\n",
       " 'https://rss.art19.com/episodes/ba10dc89-31d7-4118-922c-79af4e1bb142.mp3': 'free',\n",
       " 'https://rss.art19.com/episodes/488fc1fb-693e-4b22-a608-1b4377b6fec4.mp3': 'free',\n",
       " 'https://rss.art19.com/episodes/278e5254-e683-433f-a3a4-d08d9d12959b.mp3': 'free',\n",
       " 'https://rss.art19.com/episodes/647d8b72-9739-4310-bb9b-832215e77016.mp3': 'free',\n",
       " 'https://rss.art19.com/episodes/b2728e6e-8082-4afb-b9f1-706251cbd4c8.mp3': 'free',\n",
       " 'https://rss.art19.com/episodes/8698b2f3-ee5a-401c-a607-78a58d80dc45.mp3': 'free',\n",
       " 'https://rss.art19.com/episodes/43cb61ae-7f09-4dd9-b6a5-ac9ffc8e00af.mp3': 'free',\n",
       " 'https://rss.art19.com/episodes/09e5870b-ff69-4a17-8dea-4b15973209b3.mp3': 'free',\n",
       " 'https://rss.art19.com/episodes/116bdbd5-74f9-429d-8635-eb976b1c9aff.mp3': 'free',\n",
       " 'https://rss.art19.com/episodes/b3c6bd1b-5e2b-4d32-8e7c-903217e73c84.mp3': 'free',\n",
       " 'https://rss.art19.com/episodes/30e669b9-67ac-41e7-b8b0-35ab10ead247.mp3': 'free',\n",
       " 'https://rss.art19.com/episodes/0429c488-3e5d-43c2-b504-1fe1456ebc37.mp3': 'free',\n",
       " 'https://rss.art19.com/episodes/c5be9004-c63d-4b29-9c79-d9fa6ae542b9.mp3': 'free',\n",
       " 'https://rss.art19.com/episodes/e4cf219a-1a1f-4f4d-98b2-b68ef2e87e1e.mp3': 'free',\n",
       " 'https://rss.art19.com/episodes/0159d1dc-f271-4ae7-b276-cc91ac4145a1.mp3': 'free',\n",
       " 'https://rss.art19.com/episodes/95309876-a111-430b-91a8-808a7a6ca0ac.mp3': 'fat',\n",
       " 'https://rss.art19.com/episodes/dddfa59e-a992-460c-bf35-c1831b0ab777.mp3': 'free',\n",
       " 'https://rss.art19.com/episodes/b0b9e8db-7b1b-4e0c-9ed5-bf2c202a707e.mp3': 'free',\n",
       " 'https://rss.art19.com/episodes/65c0d4ff-6af1-4f08-90f2-3644f8561494.mp3': 'free',\n",
       " 'https://rss.art19.com/episodes/50b6579e-f192-483c-b7d3-c0928ff1131d.mp3': 'free',\n",
       " 'https://rss.art19.com/episodes/4044eed1-cbe1-4a85-a237-e827c9457b26.mp3': 'free',\n",
       " 'https://rss.art19.com/episodes/54393d19-17e5-4634-a74c-1e5f58db4da1.mp3': 'free',\n",
       " 'https://rss.art19.com/episodes/4ba6ab4b-40e8-434b-988a-400d9ebb1cd2.mp3': 'free',\n",
       " 'https://rss.art19.com/episodes/b31fc779-ac0b-46fd-901c-4a5c8113abaa.mp3': 'free',\n",
       " 'https://rss.art19.com/episodes/0bc0c7e6-42ef-49a9-a02b-30dde91691a1.mp3': 'free',\n",
       " 'https://rss.art19.com/episodes/5205a98c-d863-44e5-b575-0b23a489a099.mp3': 'free',\n",
       " 'https://rss.art19.com/episodes/210e3822-2bc9-450b-bccc-c2a535a06eb8.mp3': 'free',\n",
       " 'https://rss.art19.com/episodes/d8b85802-139e-4cf9-b928-eee8f59a2420.mp3': 'free',\n",
       " 'https://rss.art19.com/episodes/68c6ab9c-ba45-4e4a-bf01-23d6cbfcd070.mp3': 'free',\n",
       " 'https://rss.art19.com/episodes/9403dea1-40de-42e9-a842-c6315f1fe0b2.mp3': 'free',\n",
       " 'https://rss.art19.com/episodes/e4fd3bff-e813-4902-a9b7-aaeba1e86db9.mp3': 'free',\n",
       " 'https://rss.art19.com/episodes/97f49b4c-91a4-44e6-a4e4-67e6745e5486.mp3': 'free',\n",
       " 'https://rss.art19.com/episodes/01368370-58a0-4da5-a329-b6dfb411cb7b.mp3': 'free',\n",
       " 'https://rss.art19.com/episodes/c56aa13c-13b2-4a55-89d6-433240f3ee73.mp3': 'free',\n",
       " 'https://rss.art19.com/episodes/68b98073-db45-4432-a40c-7c510148f93a.mp3': 'free',\n",
       " 'https://rss.art19.com/episodes/363a1fe5-6485-4138-ac31-7f84ca955ee0.mp3': 'free',\n",
       " 'https://rss.art19.com/episodes/05053fc0-d28f-42ef-97b1-c7a3c13d8d00.mp3': 'free',\n",
       " 'https://rss.art19.com/episodes/a125690b-22e8-4d37-ae6a-f136c1df2cc0.mp3': 'free',\n",
       " 'https://rss.art19.com/episodes/a939b515-4054-4cdb-8584-62d8c50fc280.mp3': 'free',\n",
       " 'https://rss.art19.com/episodes/444abfd2-3d87-4a15-ac5c-cc3930b2f66d.mp3': 'free',\n",
       " 'https://rss.art19.com/episodes/30f9ac28-33fa-4d51-88fd-bc493f10626a.mp3': 'free',\n",
       " 'https://rss.art19.com/episodes/af891dbf-46f4-45f0-94b6-3bfd187db8e2.mp3': 'free',\n",
       " 'https://rss.art19.com/episodes/05627af8-b4c0-4dad-a9e6-7c0b645f95d7.mp3': 'free',\n",
       " 'https://rss.art19.com/episodes/84ada1a3-4b0c-44b0-b1f3-a70981a5976d.mp3': 'free',\n",
       " 'https://rss.art19.com/episodes/82202b02-3896-4abd-a99d-728f675a34db.mp3': 'free',\n",
       " 'https://rss.art19.com/episodes/f9e14c2e-34ab-4c81-852c-6fbf170b3b09.mp3': 'free',\n",
       " 'https://rss.art19.com/episodes/e8424b3d-381b-4b77-9813-df7fbb0ce791.mp3': 'free',\n",
       " 'https://rss.art19.com/episodes/8516b7c0-ab03-469b-9126-3f9c5d02e118.mp3': 'free',\n",
       " 'https://rss.art19.com/episodes/f095cc8e-5a57-4a18-b03a-9f1483e9987b.mp3': 'free',\n",
       " 'https://rss.art19.com/episodes/15cdb065-d426-4a08-b18e-785cf0206766.mp3': 'free',\n",
       " 'https://rss.art19.com/episodes/c5eafee8-47a6-4e8f-a36e-48c20f5dd928.mp3': 'free',\n",
       " 'https://rss.art19.com/episodes/264b56b8-3e45-4b38-a740-d90bb8951132.mp3': 'free',\n",
       " 'https://rss.art19.com/episodes/7f0c5d30-fef6-4f0c-b8b9-53cafc9ef620.mp3': 'free',\n",
       " 'https://rss.art19.com/episodes/08f98961-ec84-4183-aea6-2d58f5289d4a.mp3': 'free',\n",
       " 'https://rss.art19.com/episodes/e57ee0f0-1384-498b-b12b-85548408c057.mp3': 'free',\n",
       " 'https://rss.art19.com/episodes/cb05b374-ba31-4709-97dd-39de41ca8fee.mp3': 'free',\n",
       " 'https://rss.art19.com/episodes/b4d4ea29-a5a0-4d96-bbcc-39f06fe506f3.mp3': 'free',\n",
       " 'https://rss.art19.com/episodes/47b07e9e-3fa1-487b-8174-3734de690107.mp3': 'free',\n",
       " 'https://rss.art19.com/episodes/60436d84-c78f-4c48-bdd8-88c89a5d8bde.mp3': 'free',\n",
       " 'https://rss.art19.com/episodes/af385549-63b3-4bc0-b976-31bfd2d667b3.mp3': 'free',\n",
       " 'https://rss.art19.com/episodes/98669ece-9c34-42b9-8429-e84615c90caa.mp3': 'free',\n",
       " 'https://rss.art19.com/episodes/84942528-d770-428b-9b64-107ededf4e48.mp3': 'free',\n",
       " 'https://rss.art19.com/episodes/127d9fd8-cf34-491b-8bb2-61f661e99941.mp3': 'free',\n",
       " 'https://rss.art19.com/episodes/2cbd2d91-ad38-4473-a6a3-8ec072398583.mp3': 'free',\n",
       " 'https://rss.art19.com/episodes/831ec3e7-dd65-453e-8963-f0cdb45f35ae.mp3': 'free',\n",
       " 'https://rss.art19.com/episodes/0a5742ea-65d2-43e4-856d-2a700db1ff24.mp3': 'gluten',\n",
       " 'https://rss.art19.com/episodes/a67be892-d1b3-4334-b8d7-51b9cabc832b.mp3': 'free',\n",
       " 'https://rss.art19.com/episodes/80256838-bfd9-4be0-8c2a-fda843026969.mp3': 'free',\n",
       " 'https://rss.art19.com/episodes/6bbe2c6d-8492-4dad-ac8c-d643d85dd4a8.mp3': 'free',\n",
       " 'https://rss.art19.com/episodes/9ae8ab8a-98f1-4cab-85d9-640f508eb9c8.mp3': 'free',\n",
       " 'https://rss.art19.com/episodes/67940719-bf8d-4fe4-8fdd-017c58117e60.mp3': 'free',\n",
       " 'https://rss.art19.com/episodes/159a9715-0b8a-4c0b-9b10-49210a7329cd.mp3': 'free',\n",
       " 'https://rss.art19.com/episodes/2270eac3-d115-453d-a47b-05b01c9825c2.mp3': 'free',\n",
       " 'https://rss.art19.com/episodes/2f8b6f36-62c9-4531-8352-e19c0a9084a8.mp3': 'free',\n",
       " 'https://rss.art19.com/episodes/a215aeac-a280-4165-8b43-13d7ec8bd616.mp3': 'free',\n",
       " 'https://rss.art19.com/episodes/6775422f-2e6a-4f00-bed1-cd798e3864e1.mp3': 'free',\n",
       " 'https://rss.art19.com/episodes/2160ba7e-f291-490d-918c-a8715ededd42.mp3': 'free',\n",
       " 'https://rss.art19.com/episodes/eac4b8ce-5f08-49c8-9765-5b82acb2ecf8.mp3': 'free',\n",
       " 'https://rss.art19.com/episodes/39ee5814-e848-4b6b-84c3-61a74f7ff099.mp3': 'free',\n",
       " 'https://rss.art19.com/episodes/45c30f5d-8f06-4b79-9f30-f7ab12f19963.mp3': 'diabetes',\n",
       " 'https://rss.art19.com/episodes/0507dfc4-474d-4016-9ffd-41d4490e8ad3.mp3': 'free',\n",
       " 'https://rss.art19.com/episodes/f5dc6c63-97bb-4744-882d-2eb5390000df.mp3': 'free',\n",
       " 'https://rss.art19.com/episodes/c6bf91ba-560b-405c-b0bf-0c982a5fd495.mp3': 'free',\n",
       " 'https://rss.art19.com/episodes/9ad9500f-1dd0-44c5-9a39-4d64dee7d6a6.mp3': 'free',\n",
       " 'https://rss.art19.com/episodes/15bc6c3e-d13a-4bdd-930f-b4e04eea0efd.mp3': 'free',\n",
       " 'https://rss.art19.com/episodes/a23e55b7-2029-4837-b38a-b2cdd57615ae.mp3': 'free',\n",
       " 'https://rss.art19.com/episodes/e2d9fe52-6004-438a-8eaf-0acf355aca34.mp3': 'free',\n",
       " 'https://rss.art19.com/episodes/53315f83-a0ff-43f3-8ee3-5f9aaf492537.mp3': 'free',\n",
       " 'https://rss.art19.com/episodes/e68a7e8c-0347-46b6-8df4-8b3ef36ca9f0.mp3': 'free',\n",
       " 'https://rss.art19.com/episodes/0f0c1468-416d-4d7a-9602-693c7963648e.mp3': 'free',\n",
       " 'https://rss.art19.com/episodes/64ca168e-d686-49f0-a364-6f77e6dced9f.mp3': 'free',\n",
       " 'https://rss.art19.com/episodes/0fbc3bb0-8605-4a80-88a1-587f4d52e545.mp3': 'free',\n",
       " 'https://rss.art19.com/episodes/9be2800f-7bc8-44c7-ae83-291c724c4a2c.mp3': 'free',\n",
       " 'https://rss.art19.com/episodes/b3f6e618-7ed4-4d3c-a200-234f186cf257.mp3': 'free',\n",
       " 'https://rss.art19.com/episodes/e4b50132-dd51-40dd-a650-11656f44927e.mp3': 'free',\n",
       " 'https://rss.art19.com/episodes/9d2ec9f7-6ec2-4756-9492-e22294dd3359.mp3': 'free',\n",
       " 'https://rss.art19.com/episodes/1cf5aee3-3692-4322-a527-9d856348021c.mp3': 'free',\n",
       " 'https://rss.art19.com/episodes/300dad9f-3211-4701-8186-6d0242725587.mp3': 'free',\n",
       " 'https://rss.art19.com/episodes/f7d86932-adc5-435b-984d-d37cd0b1e93a.mp3': 'free',\n",
       " 'https://rss.art19.com/episodes/97d399e0-c5ab-4aac-91f1-daede6866310.mp3': 'free',\n",
       " 'https://rss.art19.com/episodes/48ca56cd-abcc-4f67-a521-f55b82123561.mp3': 'free',\n",
       " 'https://rss.art19.com/episodes/6da393a4-d360-4f84-ae79-6a319aa288d7.mp3': 'free',\n",
       " 'https://rss.art19.com/episodes/8c649830-9d1d-41ee-816f-c11b5173fd86.mp3': 'free',\n",
       " 'https://rss.art19.com/episodes/f4ed4dad-2631-4a72-888c-7daac8cfe7fa.mp3': 'free',\n",
       " 'https://rss.art19.com/episodes/b6b42885-b8c0-4f0c-8b7d-d17670d63ab0.mp3': 'free',\n",
       " 'https://rss.art19.com/episodes/5b16c93f-7ce3-4b04-a24f-8d57e08e306d.mp3': 'free',\n",
       " 'https://rss.art19.com/episodes/e3d30b76-44a6-4078-b3b5-b4d37d37711d.mp3': 'free',\n",
       " 'https://rss.art19.com/episodes/be6dd519-cc9a-4682-8332-d433907da14b.mp3': 'free',\n",
       " 'https://rss.art19.com/episodes/0e423c46-d431-4ed3-9b29-b922b7dd6e20.mp3': 'organic',\n",
       " 'https://rss.art19.com/episodes/47bcb7e9-5963-4b65-bfd4-2af6770daec7.mp3': 'free',\n",
       " 'https://rss.art19.com/episodes/0d51013a-6bca-4fad-b3cb-5dfd56475425.mp3': 'free',\n",
       " 'https://rss.art19.com/episodes/517d88b4-0dc5-4748-9c90-cc8cb918d33f.mp3': 'free',\n",
       " 'https://rss.art19.com/episodes/3c93c4f5-d614-479d-bf91-79d6e4fddaa6.mp3': 'free',\n",
       " 'https://rss.art19.com/episodes/bac1830f-7645-4621-9534-283da586288d.mp3': 'free',\n",
       " 'https://rss.art19.com/episodes/5227ab6d-70fe-4e3e-99d6-30b2b8bb0fa0.mp3': 'free',\n",
       " 'https://rss.art19.com/episodes/ce6cf515-20f7-4e57-8a2e-596e3f4f1d0c.mp3': 'free',\n",
       " 'https://rss.art19.com/episodes/5d9f23aa-acd7-4c1b-a960-dd258015305d.mp3': 'free',\n",
       " 'https://rss.art19.com/episodes/b1e339a3-bf9e-49e9-908d-e02389765aad.mp3': 'free',\n",
       " 'https://rss.art19.com/episodes/de62c4c9-adb7-4cf8-8512-6aa38e3fab7a.mp3': 'free',\n",
       " 'https://rss.art19.com/episodes/419dc6bf-6590-4e83-baa2-cf0f026df329.mp3': 'cooking',\n",
       " 'https://rss.art19.com/episodes/8d7b3df5-7909-4aee-8a88-ec8fa388e1dd.mp3': 'free',\n",
       " 'https://rss.art19.com/episodes/13c58cef-35ed-42ac-b3c6-6417a8de35f1.mp3': 'free',\n",
       " 'https://rss.art19.com/episodes/fb0c3e96-e98d-4b3c-a916-47d75387f8b7.mp3': 'free',\n",
       " 'https://rss.art19.com/episodes/0b00afcc-7043-4ca8-aa2d-e7da55de34b8.mp3': 'free',\n",
       " 'https://rss.art19.com/episodes/69982d64-bb05-49de-b04f-8a2b12ab290a.mp3': 'free',\n",
       " 'https://rss.art19.com/episodes/75397d31-819f-46e2-a120-43698791473f.mp3': 'free',\n",
       " 'https://rss.art19.com/episodes/9cd8bfe9-56b7-498f-bc90-b1850fa6f560.mp3': 'free',\n",
       " 'https://rss.art19.com/episodes/97488ccb-10b9-43d5-aab7-106e14021fac.mp3': 'free',\n",
       " 'https://rss.art19.com/episodes/ab2454ef-17f9-48c3-9c8b-14833219d9d8.mp3': 'free',\n",
       " 'https://rss.art19.com/episodes/720d0e81-1189-47a3-9b2b-cc5503a86590.mp3': 'free',\n",
       " 'https://rss.art19.com/episodes/13fe0ffb-0b3a-4304-9056-e3259904b347.mp3': 'free',\n",
       " 'https://rss.art19.com/episodes/110d0dcc-3002-4096-a397-d33df87b39e4.mp3': 'free',\n",
       " 'https://rss.art19.com/episodes/5ea15014-1fb0-44ad-a0cd-25cc8039970e.mp3': 'free',\n",
       " 'https://rss.art19.com/episodes/f0a238b0-54ee-4012-a44c-a66ffae5c6e6.mp3': 'free',\n",
       " 'https://rss.art19.com/episodes/642dc8d9-36b8-4f76-84c1-c698901455db.mp3': 'free',\n",
       " 'https://rss.art19.com/episodes/c196e76e-06ce-4755-919f-9ac001afdcbd.mp3': 'free',\n",
       " 'https://rss.art19.com/episodes/0cf92dfe-a8d7-4ab7-9a71-f91a37d10029.mp3': 'free',\n",
       " 'https://rss.art19.com/episodes/4431f68b-f2fa-4c7a-8d52-7c04ab1c6a88.mp3': 'free',\n",
       " 'https://rss.art19.com/episodes/b441ea28-6014-46b4-b71e-2db50e765ea0.mp3': 'free',\n",
       " 'https://rss.art19.com/episodes/d1cd9b36-63ff-4e7a-802d-8dee7c0a1bff.mp3': 'free',\n",
       " 'https://rss.art19.com/episodes/bd7fcc81-db2e-4f85-8e68-7229fda9c1e8.mp3': 'free',\n",
       " 'https://rss.art19.com/episodes/a63095e6-447a-4da9-883e-a96f2e8a665a.mp3': 'free',\n",
       " 'https://rss.art19.com/episodes/136097a7-9840-4680-bf5f-fb944820e1db.mp3': 'free',\n",
       " 'https://rss.art19.com/episodes/2ffed8c4-306b-4247-9a19-3ca7699cc3ff.mp3': 'free',\n",
       " 'https://rss.art19.com/episodes/2b77c332-880f-42fa-bcfb-16668109e0c3.mp3': 'free',\n",
       " 'https://rss.art19.com/episodes/3bbd6454-7adb-4817-960f-3e40d1e32bd7.mp3': 'free',\n",
       " 'https://rss.art19.com/episodes/179764dd-aa5b-4a50-af08-89b23bcc8435.mp3': 'free',\n",
       " 'https://rss.art19.com/episodes/80921f45-c154-4dac-a6ae-74d4ce87c089.mp3': 'free',\n",
       " 'https://rss.art19.com/episodes/a1a49bef-971a-4c1c-b9af-216fd217e7c7.mp3': 'free',\n",
       " 'https://rss.art19.com/episodes/68f95546-fd20-47f4-8dd1-37e652f4d70c.mp3': 'free',\n",
       " 'https://rss.art19.com/episodes/286203e6-7e96-4093-8ece-2864bc40a090.mp3': 'free',\n",
       " 'https://rss.art19.com/episodes/ee616556-30f3-43cd-ba1e-38b651f8021b.mp3': 'free',\n",
       " 'https://rss.art19.com/episodes/bbd5e255-806d-4d39-8364-91b5c868c555.mp3': 'free',\n",
       " 'https://rss.art19.com/episodes/97582339-41b3-41c2-bdf2-9545fa765171.mp3': 'free',\n",
       " 'https://rss.art19.com/episodes/779f403d-c729-4a72-b94a-0ee6849d0049.mp3': 'free',\n",
       " 'https://rss.art19.com/episodes/dc04d1d6-07cb-4a9d-a1ac-2cdaad23c6fe.mp3': 'free',\n",
       " 'https://rss.art19.com/episodes/a45f40b7-3e0a-4403-8976-b5d26379de86.mp3': 'free',\n",
       " 'https://rss.art19.com/episodes/bb75d2ca-0524-4122-9536-d28269a49f96.mp3': 'free',\n",
       " 'https://rss.art19.com/episodes/cdd73efd-19b9-425c-b058-3b3fe3056743.mp3': 'free',\n",
       " 'https://rss.art19.com/episodes/eb7f4641-0dd5-4ec1-98d6-21fb73f3bbf3.mp3': 'free',\n",
       " 'https://rss.art19.com/episodes/8a26b2f5-7db0-403c-ad49-b15b5c312adc.mp3': 'free',\n",
       " 'https://rss.art19.com/episodes/f946d071-d0ce-4a79-ac60-b86d950391b6.mp3': 'free',\n",
       " 'https://rss.art19.com/episodes/2e05193c-6c41-47d4-9ed9-9a074a6b455c.mp3': 'free',\n",
       " 'https://rss.art19.com/episodes/b62952b9-a67e-4d3b-a975-60f9ab9d5d2b.mp3': 'free',\n",
       " 'https://rss.art19.com/episodes/bdd6fef3-04c3-4b1b-8e01-d20360a37b12.mp3': 'free',\n",
       " 'https://rss.art19.com/episodes/fdaa614f-528d-4431-8f4d-f53a3854fe50.mp3': 'free',\n",
       " 'https://rss.art19.com/episodes/39735218-6371-4a87-9f2f-a18e13572290.mp3': 'free',\n",
       " 'https://rss.art19.com/episodes/4f32856a-e513-488b-abcb-bf24853971d1.mp3': 'microbiome',\n",
       " 'https://rss.art19.com/episodes/5e3792ad-44d0-4f82-9b03-8dcdc957b4de.mp3': 'fat',\n",
       " 'https://rss.art19.com/episodes/389a49cc-4fe4-4dd7-9f2d-17e2f9062fef.mp3': 'free',\n",
       " 'https://rss.art19.com/episodes/7c653f0f-800c-48b8-bfbb-d36906a1e0b2.mp3': 'free',\n",
       " 'https://rss.art19.com/episodes/99fac00c-36bd-40f5-acab-def5a7434158.mp3': 'free'}"
      ]
     },
     "execution_count": 6,
     "metadata": {},
     "output_type": "execute_result"
    }
   ],
   "source": [
    "all_content_titles"
   ]
  },
  {
   "cell_type": "markdown",
   "metadata": {
    "extensions": {
     "jupyter_dashboards": {
      "version": 1,
      "views": {
       "grid_default": {
        "col": 6,
        "height": 3,
        "hidden": false,
        "row": 0,
        "width": 6
       },
       "report_default": {
        "hidden": false
       }
      }
     }
    }
   },
   "source": [
    "# Ketogenic"
   ]
  },
  {
   "cell_type": "code",
   "execution_count": 7,
   "metadata": {
    "extensions": {
     "jupyter_dashboards": {
      "version": 1,
      "views": {
       "grid_default": {
        "col": 6,
        "height": 18,
        "hidden": false,
        "row": 3,
        "width": 6
       },
       "report_default": {
        "hidden": false
       }
      }
     }
    },
    "scrolled": false
   },
   "outputs": [
    {
     "data": {
      "application/vnd.jupyter.widget-view+json": {
       "model_id": "1884681940364889b99f7b6e881a03d6",
       "version_major": 2,
       "version_minor": 0
      },
      "text/plain": [
       "interactive(children=(IntSlider(value=1, description='Limit', max=5, min=1), ToggleButtons(description='Medium…"
      ]
     },
     "metadata": {},
     "output_type": "display_data"
    }
   ],
   "source": [
    "Limit_widget1 = widgets.IntSlider(min=1, max=5, step=1, value=1)\n",
    "Medium_widget1 = widgets.ToggleButtons(options = ['text', 'audio','video'], description ='Medium', button_style='')\n",
    "topic_widget1 = widgets.Dropdown(options = nutrition_cats,value='keto', description ='Topic', disabled=False)\n",
    "expertise_widget1 = widgets.ToggleButtons(options = ['Informal', 'Intermediate','Formal'], description ='Formality', button_style='')\n",
    "max_length_widget1 = widgets.IntSlider(min=0, max=100, step=10, value=20)\n",
    "\n",
    "\n",
    "interact(query_content,Limit = Limit_widget1, Medium = Medium_widget1, search_param=topic_widget1, Formality = expertise_widget1, Max_Length = max_length_widget1);"
   ]
  },
  {
   "cell_type": "code",
   "execution_count": 8,
   "metadata": {
    "extensions": {
     "jupyter_dashboards": {
      "version": 1,
      "views": {
       "grid_default": {
        "col": 0,
        "height": 19,
        "hidden": false,
        "row": 77,
        "width": 4
       },
       "report_default": {
        "hidden": false
       }
      }
     }
    }
   },
   "outputs": [
    {
     "data": {
      "text/html": [
       "<iframe id=\"igraph\" scrolling=\"no\" style=\"border:none;\" seamless=\"seamless\" src=\"https://plot.ly/~mrethana/90.embed\" height=\"525px\" width=\"100%\"></iframe>"
      ],
      "text/plain": [
       "<plotly.tools.PlotlyDisplay object>"
      ]
     },
     "execution_count": 8,
     "metadata": {},
     "output_type": "execute_result"
    }
   ],
   "source": [
    "plot_stacked(topic_widget1.value)"
   ]
  },
  {
   "cell_type": "markdown",
   "metadata": {
    "extensions": {
     "jupyter_dashboards": {
      "version": 1,
      "views": {
       "grid_default": {
        "col": 0,
        "height": 3,
        "hidden": false,
        "row": 0,
        "width": 6
       },
       "report_default": {
        "hidden": false
       }
      }
     }
    }
   },
   "source": [
    "# Paleolithic"
   ]
  },
  {
   "cell_type": "code",
   "execution_count": 9,
   "metadata": {
    "extensions": {
     "jupyter_dashboards": {
      "version": 1,
      "views": {
       "grid_default": {
        "col": 0,
        "height": 18,
        "hidden": false,
        "row": 3,
        "width": 6
       },
       "report_default": {
        "hidden": false
       }
      }
     }
    }
   },
   "outputs": [
    {
     "data": {
      "application/vnd.jupyter.widget-view+json": {
       "model_id": "0406584966d4454e8eda673bc2f5b948",
       "version_major": 2,
       "version_minor": 0
      },
      "text/plain": [
       "interactive(children=(IntSlider(value=1, description='Limit', max=5, min=1), ToggleButtons(description='Medium…"
      ]
     },
     "metadata": {},
     "output_type": "display_data"
    }
   ],
   "source": [
    "Limit_widget2 = widgets.IntSlider(min=1, max=5, step=1, value=1)\n",
    "Medium_widget2 = widgets.ToggleButtons(options = ['text', 'audio','video'], description ='Medium', button_style='')\n",
    "topic_widget2 = widgets.Dropdown(options = nutrition_cats,value='paleo', description ='Topic', disabled=False)\n",
    "expertise_widget2 = widgets.ToggleButtons(options = ['Informal', 'Intermediate','Formal'], description ='Formality', button_style='')\n",
    "max_length_widget2 = widgets.IntSlider(min=0, max=100, step=10, value=20)\n",
    "\n",
    "\n",
    "interact(query_content,Limit = Limit_widget2, Medium = Medium_widget2, search_param=topic_widget2, Formality = expertise_widget2, Max_Length = max_length_widget2);"
   ]
  },
  {
   "cell_type": "code",
   "execution_count": 10,
   "metadata": {
    "extensions": {
     "jupyter_dashboards": {
      "version": 1,
      "views": {
       "grid_default": {
        "col": 4,
        "height": 19,
        "hidden": false,
        "row": 77,
        "width": 4
       },
       "report_default": {
        "hidden": false
       }
      }
     }
    }
   },
   "outputs": [
    {
     "data": {
      "application/vnd.jupyter.widget-view+json": {
       "model_id": "1d82530fbac9453fa715cf81cbaf08a5",
       "version_major": 2,
       "version_minor": 0
      },
      "text/plain": [
       "interactive(children=(Dropdown(description='Topic', index=15, options=('keto', 'mct', 'natural', 'corn-fed', '…"
      ]
     },
     "metadata": {},
     "output_type": "display_data"
    }
   ],
   "source": [
    "interact(plot_stacked, param = topic_widget2);"
   ]
  },
  {
   "cell_type": "markdown",
   "metadata": {
    "extensions": {
     "jupyter_dashboards": {
      "version": 1,
      "views": {
       "grid_default": {
        "col": 6,
        "height": 3,
        "hidden": false,
        "row": 21,
        "width": 6
       },
       "report_default": {
        "hidden": false
       }
      }
     }
    }
   },
   "source": [
    "# Vegan"
   ]
  },
  {
   "cell_type": "code",
   "execution_count": 17,
   "metadata": {
    "extensions": {
     "jupyter_dashboards": {
      "version": 1,
      "views": {
       "grid_default": {
        "col": 6,
        "height": 18,
        "hidden": false,
        "row": 24,
        "width": 6
       },
       "report_default": {
        "hidden": false
       }
      }
     }
    },
    "scrolled": false
   },
   "outputs": [
    {
     "data": {
      "application/vnd.jupyter.widget-view+json": {
       "model_id": "e7c7b1a86f26498a9509ed8dfd0db79d",
       "version_major": 2,
       "version_minor": 0
      },
      "text/plain": [
       "interactive(children=(IntSlider(value=1, description='Limit', max=5, min=1), ToggleButtons(description='Medium…"
      ]
     },
     "metadata": {},
     "output_type": "display_data"
    }
   ],
   "source": [
    "Limit_widget3 = widgets.IntSlider(min=1, max=5, step=1, value=1)\n",
    "Medium_widget3 = widgets.ToggleButtons(options = ['text', 'audio','video'], description ='Medium', button_style='')\n",
    "topic_widget3 = widgets.Dropdown(options = nutrition_cats,value='vegan', description ='Topic', disabled=False)\n",
    "expertise_widget3 = widgets.ToggleButtons(options = ['Informal', 'Intermediate','Formal'], description ='Formality', button_style='')\n",
    "max_length_widget3 = widgets.IntSlider(min=0, max=100, step=10, value=20)\n",
    "\n",
    "\n",
    "interact(query_content,Limit = Limit_widget3, Medium = Medium_widget3, search_param=topic_widget3, Formality = expertise_widget3, Max_Length = max_length_widget3);"
   ]
  },
  {
   "cell_type": "code",
   "execution_count": 12,
   "metadata": {
    "extensions": {
     "jupyter_dashboards": {
      "version": 1,
      "views": {
       "grid_default": {
        "col": 8,
        "height": 19,
        "hidden": false,
        "row": 77,
        "width": 4
       },
       "report_default": {
        "hidden": false
       }
      }
     }
    }
   },
   "outputs": [
    {
     "data": {
      "application/vnd.jupyter.widget-view+json": {
       "model_id": "7c74071888c14fc6a1bfbc1c5113f65e",
       "version_major": 2,
       "version_minor": 0
      },
      "text/plain": [
       "interactive(children=(Dropdown(description='Topic', index=13, options=('keto', 'mct', 'natural', 'corn-fed', '…"
      ]
     },
     "metadata": {},
     "output_type": "display_data"
    }
   ],
   "source": [
    "interact(plot_stacked, param = topic_widget3);"
   ]
  },
  {
   "cell_type": "markdown",
   "metadata": {
    "extensions": {
     "jupyter_dashboards": {
      "version": 1,
      "views": {
       "grid_default": {
        "col": 0,
        "height": 3,
        "hidden": false,
        "row": 21,
        "width": 6
       },
       "report_default": {
        "hidden": false
       }
      }
     }
    }
   },
   "source": [
    "# Vegetarian"
   ]
  },
  {
   "cell_type": "code",
   "execution_count": 13,
   "metadata": {
    "extensions": {
     "jupyter_dashboards": {
      "version": 1,
      "views": {
       "grid_default": {
        "col": 0,
        "height": 18,
        "hidden": false,
        "row": 24,
        "width": 6
       },
       "report_default": {
        "hidden": false
       }
      }
     }
    },
    "scrolled": false
   },
   "outputs": [
    {
     "data": {
      "application/vnd.jupyter.widget-view+json": {
       "model_id": "755dea2eafe74627b5e22c6038fa5ba0",
       "version_major": 2,
       "version_minor": 0
      },
      "text/plain": [
       "interactive(children=(IntSlider(value=1, description='Limit', max=5, min=1), ToggleButtons(description='Medium…"
      ]
     },
     "metadata": {},
     "output_type": "display_data"
    }
   ],
   "source": [
    "Limit_widget4 = widgets.IntSlider(min=1, max=5, step=1, value=1)\n",
    "Medium_widget4 = widgets.ToggleButtons(options = ['text', 'audio','video'], description ='Medium', button_style='')\n",
    "topic_widget4 = widgets.Dropdown(options = nutrition_cats,value='vegetarian', description ='Topic', disabled=False)\n",
    "expertise_widget4 = widgets.ToggleButtons(options = ['Informal', 'Intermediate','Formal'], description ='Formality', button_style='')\n",
    "max_length_widget4 = widgets.IntSlider(min=0, max=100, step=10, value=20)\n",
    "\n",
    "\n",
    "interact(query_content,Limit = Limit_widget4, Medium = Medium_widget4, search_param=topic_widget4, Formality = expertise_widget4, Max_Length = max_length_widget4);"
   ]
  },
  {
   "cell_type": "code",
   "execution_count": 14,
   "metadata": {
    "extensions": {
     "jupyter_dashboards": {
      "version": 1,
      "views": {
       "grid_default": {
        "col": 0,
        "height": 19,
        "hidden": false,
        "row": 96,
        "width": 4
       },
       "report_default": {
        "hidden": false
       }
      }
     }
    }
   },
   "outputs": [
    {
     "data": {
      "application/vnd.jupyter.widget-view+json": {
       "model_id": "e38cd747b89a41f1beb53f9b29aa1d5a",
       "version_major": 2,
       "version_minor": 0
      },
      "text/plain": [
       "interactive(children=(Dropdown(description='Topic', index=14, options=('keto', 'mct', 'natural', 'corn-fed', '…"
      ]
     },
     "metadata": {},
     "output_type": "display_data"
    }
   ],
   "source": [
    "interact(plot_stacked, param = topic_widget4);"
   ]
  },
  {
   "cell_type": "markdown",
   "metadata": {},
   "source": [
    "# General"
   ]
  },
  {
   "cell_type": "code",
   "execution_count": 15,
   "metadata": {},
   "outputs": [
    {
     "data": {
      "application/vnd.jupyter.widget-view+json": {
       "model_id": "6f0cbb5c60f44c42bdc9bf202519922e",
       "version_major": 2,
       "version_minor": 0
      },
      "text/plain": [
       "interactive(children=(IntSlider(value=1, description='Limit', max=5, min=1), ToggleButtons(description='Medium…"
      ]
     },
     "metadata": {},
     "output_type": "display_data"
    }
   ],
   "source": [
    "Limit_widget5 = widgets.IntSlider(min=1, max=5, step=1, value=1)\n",
    "Medium_widget5 = widgets.ToggleButtons(options = ['text', 'audio','video'], description ='Medium', button_style='')\n",
    "topic_widget5 = widgets.Dropdown(options = ['general'],value='general', description ='Topic', disabled=False)\n",
    "expertise_widget5 = widgets.ToggleButtons(options = ['Informal', 'Intermediate','Formal'], description ='Formality', button_style='')\n",
    "max_length_widget5 = widgets.IntSlider(min=0, max=100, step=10, value=20)\n",
    "\n",
    "\n",
    "interact(query_content,Limit = Limit_widget5, Medium = Medium_widget5, search_param=topic_widget5, Formality = expertise_widget5, Max_Length = max_length_widget5);"
   ]
  },
  {
   "cell_type": "markdown",
   "metadata": {
    "extensions": {
     "jupyter_dashboards": {
      "version": 1,
      "views": {
       "grid_default": {
        "col": 0,
        "height": 4,
        "hidden": false,
        "row": 42,
        "width": 12
       },
       "report_default": {
        "hidden": false
       }
      }
     }
    }
   },
   "source": [
    "# Search"
   ]
  },
  {
   "cell_type": "code",
   "execution_count": 16,
   "metadata": {
    "extensions": {
     "jupyter_dashboards": {
      "version": 1,
      "views": {
       "grid_default": {
        "col": 0,
        "height": 31,
        "hidden": false,
        "row": 46,
        "width": 12
       },
       "report_default": {
        "hidden": true
       }
      }
     }
    }
   },
   "outputs": [],
   "source": [
    "# search_widget = widgets.Text(placeholder = 'Search News', description='Search:', disabled=False,continuous_update=False)\n",
    "# Limit_widget5 = widgets.IntSlider(min=1, max=5, step=1, value=1)\n",
    "# Medium_widget5 = widgets.ToggleButtons(options = ['text', 'audio','video'], description ='Medium', button_style='')\n",
    "\n",
    "\n",
    "\n",
    "\n",
    "# interact(query_content,search_param=search_widget,Limit = Limit_widget5, Medium = Medium_widget5);"
   ]
  }
 ],
 "metadata": {
  "extensions": {
   "jupyter_dashboards": {
    "activeView": "report_default",
    "version": 1,
    "views": {
     "grid_default": {
      "cellMargin": 10,
      "defaultCellHeight": 20,
      "maxColumns": 12,
      "name": "grid",
      "type": "grid"
     },
     "report_default": {
      "name": "report",
      "type": "report"
     }
    }
   }
  },
  "kernelspec": {
   "display_name": "Python 3",
   "language": "python",
   "name": "python3"
  },
  "language_info": {
   "codemirror_mode": {
    "name": "ipython",
    "version": 3
   },
   "file_extension": ".py",
   "mimetype": "text/x-python",
   "name": "python",
   "nbconvert_exporter": "python",
   "pygments_lexer": "ipython3",
   "version": "3.6.5"
  }
 },
 "nbformat": 4,
 "nbformat_minor": 2
}
