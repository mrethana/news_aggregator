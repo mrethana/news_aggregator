{
 "cells": [
  {
   "cell_type": "code",
   "execution_count": 1,
   "metadata": {
    "extensions": {
     "jupyter_dashboards": {
      "version": 1,
      "views": {
       "grid_default": {
        "hidden": true
       },
       "report_default": {
        "hidden": false
       }
      }
     }
    }
   },
   "outputs": [
    {
     "name": "stdout",
     "output_type": "stream",
     "text": [
      "Database session created\n"
     ]
    }
   ],
   "source": [
    "import ipywidgets as widgets\n",
    "from ipywidgets import interact, interactive, fixed, interact_manual\n",
    "import ipywidgets as widgets\n",
    "from IPython.display import Image\n",
    "from IPython.core.display import HTML \n",
    "import time\n",
    "from ipywidgets import FloatProgress\n",
    "from IPython.display import display\n",
    "from bs4 import BeautifulSoup\n",
    "import requests\n",
    "import re\n",
    "from os import path\n",
    "from PIL import Image\n",
    "import pandas as pd\n",
    "import warnings\n",
    "warnings.filterwarnings(\"ignore\")\n",
    "from models import *\n",
    "from etl import *\n",
    "import plotly.plotly as py\n",
    "import plotly.graph_objs as go"
   ]
  },
  {
   "cell_type": "code",
   "execution_count": 4,
   "metadata": {
    "extensions": {
     "jupyter_dashboards": {
      "version": 1,
      "views": {
       "grid_default": {},
       "report_default": {
        "hidden": true
       }
      }
     }
    }
   },
   "outputs": [],
   "source": [
    "def add_scraping_source(df, identifier_dict):\n",
    "    scraped_source = []\n",
    "    for index, row in df.iterrows():\n",
    "        identifier = row.medium + row.formality\n",
    "        scraped_from = identifier_dict[identifier]\n",
    "        scraped_source.append(scraped_from)\n",
    "    df['scraped_from'] = scraped_source\n",
    "    return df\n",
    "def fix_NYT(df):\n",
    "    df.loc[(df.provider=='The New York Times') & (df.medium == 'text'), 'scraped_from'] = 'NYT API'\n",
    "    return df"
   ]
  },
  {
   "cell_type": "code",
   "execution_count": 5,
   "metadata": {
    "extensions": {
     "jupyter_dashboards": {
      "version": 1,
      "views": {
       "grid_default": {},
       "report_default": {
        "hidden": false
       }
      }
     }
    }
   },
   "outputs": [],
   "source": [
    "# df.to_json('all_content.json')"
   ]
  },
  {
   "cell_type": "code",
   "execution_count": 6,
   "metadata": {
    "extensions": {
     "jupyter_dashboards": {
      "version": 1,
      "views": {
       "grid_default": {},
       "report_default": {
        "hidden": true
       }
      }
     }
    }
   },
   "outputs": [],
   "source": [
    "identifier_dict = {'audioFormal':'Itunes Audiobook','textFormal':'Itunes Ebook','videoFormal':'Itunes Movie',\n",
    "                  'textInformal': 'Twitter', 'videoInformal': 'Youtube',\n",
    "                   'audioIntermediate': 'Itunes Podcast', 'textIntermediate': 'NewsApi', 'videoIntermediate': 'Youtube'}"
   ]
  },
  {
   "cell_type": "code",
   "execution_count": 9,
   "metadata": {
    "extensions": {
     "jupyter_dashboards": {
      "version": 1,
      "views": {
       "grid_default": {},
       "report_default": {
        "hidden": true
       }
      }
     }
    }
   },
   "outputs": [],
   "source": [
    "df = pd.DataFrame([{'id':content.id,'content_url':content.content_url, 'image_url':content.image_url,'title':content.title\n",
    "                             , 'published': content.published, 'length': content.length, 'medium':content.medium.name,\n",
    "                             'provider': content.provider.name, 'api_id':content.provider.api_id, 'formality':content.provider.formality.type\n",
    "                             } for content in session.query(Content).all()])\n",
    "df = add_scraping_source(df, identifier_dict)\n",
    "df = fix_NYT(df)\n",
    "\n",
    "df.to_csv('all_content.csv')"
   ]
  },
  {
   "cell_type": "code",
   "execution_count": 10,
   "metadata": {},
   "outputs": [
    {
     "data": {
      "text/html": [
       "<div>\n",
       "<style scoped>\n",
       "    .dataframe tbody tr th:only-of-type {\n",
       "        vertical-align: middle;\n",
       "    }\n",
       "\n",
       "    .dataframe tbody tr th {\n",
       "        vertical-align: top;\n",
       "    }\n",
       "\n",
       "    .dataframe thead th {\n",
       "        text-align: right;\n",
       "    }\n",
       "</style>\n",
       "<table border=\"1\" class=\"dataframe\">\n",
       "  <thead>\n",
       "    <tr style=\"text-align: right;\">\n",
       "      <th></th>\n",
       "      <th>api_id</th>\n",
       "      <th>content_url</th>\n",
       "      <th>formality</th>\n",
       "      <th>id</th>\n",
       "      <th>image_url</th>\n",
       "      <th>length</th>\n",
       "      <th>medium</th>\n",
       "      <th>provider</th>\n",
       "      <th>published</th>\n",
       "      <th>title</th>\n",
       "      <th>scraped_from</th>\n",
       "    </tr>\n",
       "  </thead>\n",
       "  <tbody>\n",
       "    <tr>\n",
       "      <th>0</th>\n",
       "      <td>575955428</td>\n",
       "      <td>https://twitter.com/ATPScience1/status/1075922...</td>\n",
       "      <td>Informal</td>\n",
       "      <td>1</td>\n",
       "      <td>https://twitter.com/ATPScience1/status/1075922...</td>\n",
       "      <td>1</td>\n",
       "      <td>text</td>\n",
       "      <td>ATPScience1</td>\n",
       "      <td>2018-12-21</td>\n",
       "      <td>1075922927575556097</td>\n",
       "      <td>Twitter</td>\n",
       "    </tr>\n",
       "    <tr>\n",
       "      <th>1</th>\n",
       "      <td>575955428</td>\n",
       "      <td>https://twitter.com/ATPScience1/status/1075922...</td>\n",
       "      <td>Informal</td>\n",
       "      <td>2</td>\n",
       "      <td>https://twitter.com/ATPScience1/status/1075922...</td>\n",
       "      <td>1</td>\n",
       "      <td>text</td>\n",
       "      <td>ATPScience1</td>\n",
       "      <td>2018-12-21</td>\n",
       "      <td>1075922863402700802</td>\n",
       "      <td>Twitter</td>\n",
       "    </tr>\n",
       "    <tr>\n",
       "      <th>2</th>\n",
       "      <td>575955428</td>\n",
       "      <td>https://twitter.com/ATPScience1/status/1075921...</td>\n",
       "      <td>Informal</td>\n",
       "      <td>3</td>\n",
       "      <td>https://twitter.com/ATPScience1/status/1075921...</td>\n",
       "      <td>1</td>\n",
       "      <td>text</td>\n",
       "      <td>ATPScience1</td>\n",
       "      <td>2018-12-21</td>\n",
       "      <td>1075921037483741184</td>\n",
       "      <td>Twitter</td>\n",
       "    </tr>\n",
       "    <tr>\n",
       "      <th>3</th>\n",
       "      <td>575955428</td>\n",
       "      <td>https://twitter.com/ATPScience1/status/1075920...</td>\n",
       "      <td>Informal</td>\n",
       "      <td>4</td>\n",
       "      <td>https://twitter.com/ATPScience1/status/1075920...</td>\n",
       "      <td>1</td>\n",
       "      <td>text</td>\n",
       "      <td>ATPScience1</td>\n",
       "      <td>2018-12-21</td>\n",
       "      <td>1075920493595611137</td>\n",
       "      <td>Twitter</td>\n",
       "    </tr>\n",
       "    <tr>\n",
       "      <th>4</th>\n",
       "      <td>575955428</td>\n",
       "      <td>https://twitter.com/ATPScience1/status/1075917...</td>\n",
       "      <td>Informal</td>\n",
       "      <td>5</td>\n",
       "      <td>https://twitter.com/ATPScience1/status/1075917...</td>\n",
       "      <td>1</td>\n",
       "      <td>text</td>\n",
       "      <td>ATPScience1</td>\n",
       "      <td>2018-12-21</td>\n",
       "      <td>1075917766530486274</td>\n",
       "      <td>Twitter</td>\n",
       "    </tr>\n",
       "    <tr>\n",
       "      <th>5</th>\n",
       "      <td>575955428</td>\n",
       "      <td>https://twitter.com/ATPScience1/status/1075908...</td>\n",
       "      <td>Informal</td>\n",
       "      <td>6</td>\n",
       "      <td>https://twitter.com/ATPScience1/status/1075908...</td>\n",
       "      <td>1</td>\n",
       "      <td>text</td>\n",
       "      <td>ATPScience1</td>\n",
       "      <td>2018-12-21</td>\n",
       "      <td>1075908604635549700</td>\n",
       "      <td>Twitter</td>\n",
       "    </tr>\n",
       "    <tr>\n",
       "      <th>6</th>\n",
       "      <td>575955428</td>\n",
       "      <td>https://twitter.com/ATPScience1/status/1075878...</td>\n",
       "      <td>Informal</td>\n",
       "      <td>7</td>\n",
       "      <td>https://twitter.com/ATPScience1/status/1075878...</td>\n",
       "      <td>1</td>\n",
       "      <td>text</td>\n",
       "      <td>ATPScience1</td>\n",
       "      <td>2018-12-20</td>\n",
       "      <td>1075878801987399681</td>\n",
       "      <td>Twitter</td>\n",
       "    </tr>\n",
       "    <tr>\n",
       "      <th>7</th>\n",
       "      <td>575955428</td>\n",
       "      <td>https://twitter.com/ATPScience1/status/1075878...</td>\n",
       "      <td>Informal</td>\n",
       "      <td>8</td>\n",
       "      <td>https://twitter.com/ATPScience1/status/1075878...</td>\n",
       "      <td>1</td>\n",
       "      <td>text</td>\n",
       "      <td>ATPScience1</td>\n",
       "      <td>2018-12-20</td>\n",
       "      <td>1075878740289298432</td>\n",
       "      <td>Twitter</td>\n",
       "    </tr>\n",
       "    <tr>\n",
       "      <th>8</th>\n",
       "      <td>575955428</td>\n",
       "      <td>https://twitter.com/ATPScience1/status/1073412...</td>\n",
       "      <td>Informal</td>\n",
       "      <td>9</td>\n",
       "      <td>https://twitter.com/ATPScience1/status/1073412...</td>\n",
       "      <td>1</td>\n",
       "      <td>text</td>\n",
       "      <td>ATPScience1</td>\n",
       "      <td>2018-12-14</td>\n",
       "      <td>1073412341075726336</td>\n",
       "      <td>Twitter</td>\n",
       "    </tr>\n",
       "    <tr>\n",
       "      <th>9</th>\n",
       "      <td>575955428</td>\n",
       "      <td>https://twitter.com/ATPScience1/status/1073400...</td>\n",
       "      <td>Informal</td>\n",
       "      <td>10</td>\n",
       "      <td>https://twitter.com/ATPScience1/status/1073400...</td>\n",
       "      <td>1</td>\n",
       "      <td>text</td>\n",
       "      <td>ATPScience1</td>\n",
       "      <td>2018-12-14</td>\n",
       "      <td>1073400673461506048</td>\n",
       "      <td>Twitter</td>\n",
       "    </tr>\n",
       "    <tr>\n",
       "      <th>10</th>\n",
       "      <td>575955428</td>\n",
       "      <td>https://twitter.com/ATPScience1/status/1073379...</td>\n",
       "      <td>Informal</td>\n",
       "      <td>11</td>\n",
       "      <td>https://twitter.com/ATPScience1/status/1073379...</td>\n",
       "      <td>1</td>\n",
       "      <td>text</td>\n",
       "      <td>ATPScience1</td>\n",
       "      <td>2018-12-14</td>\n",
       "      <td>1073379631581978629</td>\n",
       "      <td>Twitter</td>\n",
       "    </tr>\n",
       "    <tr>\n",
       "      <th>11</th>\n",
       "      <td>575955428</td>\n",
       "      <td>https://twitter.com/ATPScience1/status/1073379...</td>\n",
       "      <td>Informal</td>\n",
       "      <td>12</td>\n",
       "      <td>https://twitter.com/ATPScience1/status/1073379...</td>\n",
       "      <td>1</td>\n",
       "      <td>text</td>\n",
       "      <td>ATPScience1</td>\n",
       "      <td>2018-12-14</td>\n",
       "      <td>1073379553039400960</td>\n",
       "      <td>Twitter</td>\n",
       "    </tr>\n",
       "    <tr>\n",
       "      <th>12</th>\n",
       "      <td>575955428</td>\n",
       "      <td>https://twitter.com/ATPScience1/status/1073086...</td>\n",
       "      <td>Informal</td>\n",
       "      <td>13</td>\n",
       "      <td>https://twitter.com/ATPScience1/status/1073086...</td>\n",
       "      <td>1</td>\n",
       "      <td>text</td>\n",
       "      <td>ATPScience1</td>\n",
       "      <td>2018-12-13</td>\n",
       "      <td>1073086620641959937</td>\n",
       "      <td>Twitter</td>\n",
       "    </tr>\n",
       "    <tr>\n",
       "      <th>13</th>\n",
       "      <td>575955428</td>\n",
       "      <td>https://twitter.com/ATPScience1/status/1072714...</td>\n",
       "      <td>Informal</td>\n",
       "      <td>14</td>\n",
       "      <td>https://twitter.com/ATPScience1/status/1072714...</td>\n",
       "      <td>1</td>\n",
       "      <td>text</td>\n",
       "      <td>ATPScience1</td>\n",
       "      <td>2018-12-12</td>\n",
       "      <td>1072714978187202561</td>\n",
       "      <td>Twitter</td>\n",
       "    </tr>\n",
       "    <tr>\n",
       "      <th>14</th>\n",
       "      <td>575955428</td>\n",
       "      <td>https://twitter.com/ATPScience1/status/1072714...</td>\n",
       "      <td>Informal</td>\n",
       "      <td>15</td>\n",
       "      <td>https://twitter.com/ATPScience1/status/1072714...</td>\n",
       "      <td>1</td>\n",
       "      <td>text</td>\n",
       "      <td>ATPScience1</td>\n",
       "      <td>2018-12-12</td>\n",
       "      <td>1072714871890944000</td>\n",
       "      <td>Twitter</td>\n",
       "    </tr>\n",
       "    <tr>\n",
       "      <th>15</th>\n",
       "      <td>575955428</td>\n",
       "      <td>https://twitter.com/ATPScience1/status/1070871...</td>\n",
       "      <td>Informal</td>\n",
       "      <td>16</td>\n",
       "      <td>https://twitter.com/ATPScience1/status/1070871...</td>\n",
       "      <td>1</td>\n",
       "      <td>text</td>\n",
       "      <td>ATPScience1</td>\n",
       "      <td>2018-12-07</td>\n",
       "      <td>1070871322736115712</td>\n",
       "      <td>Twitter</td>\n",
       "    </tr>\n",
       "    <tr>\n",
       "      <th>16</th>\n",
       "      <td>575955428</td>\n",
       "      <td>https://twitter.com/ATPScience1/status/1070865...</td>\n",
       "      <td>Informal</td>\n",
       "      <td>17</td>\n",
       "      <td>https://twitter.com/ATPScience1/status/1070865...</td>\n",
       "      <td>1</td>\n",
       "      <td>text</td>\n",
       "      <td>ATPScience1</td>\n",
       "      <td>2018-12-07</td>\n",
       "      <td>1070865967276810242</td>\n",
       "      <td>Twitter</td>\n",
       "    </tr>\n",
       "    <tr>\n",
       "      <th>17</th>\n",
       "      <td>575955428</td>\n",
       "      <td>https://twitter.com/ATPScience1/status/1070118...</td>\n",
       "      <td>Informal</td>\n",
       "      <td>18</td>\n",
       "      <td>https://twitter.com/ATPScience1/status/1070118...</td>\n",
       "      <td>1</td>\n",
       "      <td>text</td>\n",
       "      <td>ATPScience1</td>\n",
       "      <td>2018-12-05</td>\n",
       "      <td>1070118844541239298</td>\n",
       "      <td>Twitter</td>\n",
       "    </tr>\n",
       "    <tr>\n",
       "      <th>18</th>\n",
       "      <td>575955428</td>\n",
       "      <td>https://twitter.com/ATPScience1/status/1070115...</td>\n",
       "      <td>Informal</td>\n",
       "      <td>19</td>\n",
       "      <td>https://twitter.com/ATPScience1/status/1070115...</td>\n",
       "      <td>1</td>\n",
       "      <td>text</td>\n",
       "      <td>ATPScience1</td>\n",
       "      <td>2018-12-05</td>\n",
       "      <td>1070115521683611649</td>\n",
       "      <td>Twitter</td>\n",
       "    </tr>\n",
       "    <tr>\n",
       "      <th>19</th>\n",
       "      <td>575955428</td>\n",
       "      <td>https://twitter.com/ATPScience1/status/1068387...</td>\n",
       "      <td>Informal</td>\n",
       "      <td>20</td>\n",
       "      <td>https://twitter.com/ATPScience1/status/1068387...</td>\n",
       "      <td>1</td>\n",
       "      <td>text</td>\n",
       "      <td>ATPScience1</td>\n",
       "      <td>2018-11-30</td>\n",
       "      <td>1068387608265441280</td>\n",
       "      <td>Twitter</td>\n",
       "    </tr>\n",
       "    <tr>\n",
       "      <th>20</th>\n",
       "      <td>46328741</td>\n",
       "      <td>https://twitter.com/waitrose/status/1078372904...</td>\n",
       "      <td>Informal</td>\n",
       "      <td>21</td>\n",
       "      <td>https://twitter.com/waitrose/status/1078372904...</td>\n",
       "      <td>1</td>\n",
       "      <td>text</td>\n",
       "      <td>waitrose</td>\n",
       "      <td>2018-12-27</td>\n",
       "      <td>1078372904943923201</td>\n",
       "      <td>Twitter</td>\n",
       "    </tr>\n",
       "    <tr>\n",
       "      <th>21</th>\n",
       "      <td>46328741</td>\n",
       "      <td>https://twitter.com/waitrose/status/1078362191...</td>\n",
       "      <td>Informal</td>\n",
       "      <td>22</td>\n",
       "      <td>https://twitter.com/waitrose/status/1078362191...</td>\n",
       "      <td>1</td>\n",
       "      <td>text</td>\n",
       "      <td>waitrose</td>\n",
       "      <td>2018-12-27</td>\n",
       "      <td>1078362191584260096</td>\n",
       "      <td>Twitter</td>\n",
       "    </tr>\n",
       "    <tr>\n",
       "      <th>22</th>\n",
       "      <td>46328741</td>\n",
       "      <td>https://twitter.com/waitrose/status/1078360476...</td>\n",
       "      <td>Informal</td>\n",
       "      <td>23</td>\n",
       "      <td>https://twitter.com/waitrose/status/1078360476...</td>\n",
       "      <td>1</td>\n",
       "      <td>text</td>\n",
       "      <td>waitrose</td>\n",
       "      <td>2018-12-27</td>\n",
       "      <td>1078360476420096000</td>\n",
       "      <td>Twitter</td>\n",
       "    </tr>\n",
       "    <tr>\n",
       "      <th>23</th>\n",
       "      <td>46328741</td>\n",
       "      <td>https://twitter.com/waitrose/status/1078358723...</td>\n",
       "      <td>Informal</td>\n",
       "      <td>24</td>\n",
       "      <td>https://twitter.com/waitrose/status/1078358723...</td>\n",
       "      <td>1</td>\n",
       "      <td>text</td>\n",
       "      <td>waitrose</td>\n",
       "      <td>2018-12-27</td>\n",
       "      <td>1078358723934994433</td>\n",
       "      <td>Twitter</td>\n",
       "    </tr>\n",
       "    <tr>\n",
       "      <th>24</th>\n",
       "      <td>46328741</td>\n",
       "      <td>https://twitter.com/waitrose/status/1078355663...</td>\n",
       "      <td>Informal</td>\n",
       "      <td>25</td>\n",
       "      <td>https://twitter.com/waitrose/status/1078355663...</td>\n",
       "      <td>1</td>\n",
       "      <td>text</td>\n",
       "      <td>waitrose</td>\n",
       "      <td>2018-12-27</td>\n",
       "      <td>1078355663699566592</td>\n",
       "      <td>Twitter</td>\n",
       "    </tr>\n",
       "    <tr>\n",
       "      <th>25</th>\n",
       "      <td>46328741</td>\n",
       "      <td>https://twitter.com/waitrose/status/1078353677...</td>\n",
       "      <td>Informal</td>\n",
       "      <td>26</td>\n",
       "      <td>https://twitter.com/waitrose/status/1078353677...</td>\n",
       "      <td>1</td>\n",
       "      <td>text</td>\n",
       "      <td>waitrose</td>\n",
       "      <td>2018-12-27</td>\n",
       "      <td>1078353677591678978</td>\n",
       "      <td>Twitter</td>\n",
       "    </tr>\n",
       "    <tr>\n",
       "      <th>26</th>\n",
       "      <td>46328741</td>\n",
       "      <td>https://twitter.com/waitrose/status/1078352772...</td>\n",
       "      <td>Informal</td>\n",
       "      <td>27</td>\n",
       "      <td>https://twitter.com/waitrose/status/1078352772...</td>\n",
       "      <td>1</td>\n",
       "      <td>text</td>\n",
       "      <td>waitrose</td>\n",
       "      <td>2018-12-27</td>\n",
       "      <td>1078352772209278976</td>\n",
       "      <td>Twitter</td>\n",
       "    </tr>\n",
       "    <tr>\n",
       "      <th>27</th>\n",
       "      <td>46328741</td>\n",
       "      <td>https://twitter.com/waitrose/status/1078350322...</td>\n",
       "      <td>Informal</td>\n",
       "      <td>28</td>\n",
       "      <td>https://twitter.com/waitrose/status/1078350322...</td>\n",
       "      <td>1</td>\n",
       "      <td>text</td>\n",
       "      <td>waitrose</td>\n",
       "      <td>2018-12-27</td>\n",
       "      <td>1078350322207203335</td>\n",
       "      <td>Twitter</td>\n",
       "    </tr>\n",
       "    <tr>\n",
       "      <th>28</th>\n",
       "      <td>46328741</td>\n",
       "      <td>https://twitter.com/waitrose/status/1078349010...</td>\n",
       "      <td>Informal</td>\n",
       "      <td>29</td>\n",
       "      <td>https://twitter.com/waitrose/status/1078349010...</td>\n",
       "      <td>1</td>\n",
       "      <td>text</td>\n",
       "      <td>waitrose</td>\n",
       "      <td>2018-12-27</td>\n",
       "      <td>1078349010233118720</td>\n",
       "      <td>Twitter</td>\n",
       "    </tr>\n",
       "    <tr>\n",
       "      <th>29</th>\n",
       "      <td>46328741</td>\n",
       "      <td>https://twitter.com/waitrose/status/1078345227...</td>\n",
       "      <td>Informal</td>\n",
       "      <td>30</td>\n",
       "      <td>https://twitter.com/waitrose/status/1078345227...</td>\n",
       "      <td>1</td>\n",
       "      <td>text</td>\n",
       "      <td>waitrose</td>\n",
       "      <td>2018-12-27</td>\n",
       "      <td>1078345227713343488</td>\n",
       "      <td>Twitter</td>\n",
       "    </tr>\n",
       "    <tr>\n",
       "      <th>...</th>\n",
       "      <td>...</td>\n",
       "      <td>...</td>\n",
       "      <td>...</td>\n",
       "      <td>...</td>\n",
       "      <td>...</td>\n",
       "      <td>...</td>\n",
       "      <td>...</td>\n",
       "      <td>...</td>\n",
       "      <td>...</td>\n",
       "      <td>...</td>\n",
       "      <td>...</td>\n",
       "    </tr>\n",
       "    <tr>\n",
       "      <th>1471</th>\n",
       "      <td>17393790</td>\n",
       "      <td>https://twitter.com/EverydayHealth/status/1076...</td>\n",
       "      <td>Informal</td>\n",
       "      <td>1472</td>\n",
       "      <td>https://twitter.com/EverydayHealth/status/1076...</td>\n",
       "      <td>1</td>\n",
       "      <td>text</td>\n",
       "      <td>EverydayHealth</td>\n",
       "      <td>2018-12-21</td>\n",
       "      <td>1076197088667623424</td>\n",
       "      <td>Twitter</td>\n",
       "    </tr>\n",
       "    <tr>\n",
       "      <th>1472</th>\n",
       "      <td>17393790</td>\n",
       "      <td>https://twitter.com/EverydayHealth/status/1076...</td>\n",
       "      <td>Informal</td>\n",
       "      <td>1473</td>\n",
       "      <td>https://twitter.com/EverydayHealth/status/1076...</td>\n",
       "      <td>1</td>\n",
       "      <td>text</td>\n",
       "      <td>EverydayHealth</td>\n",
       "      <td>2018-12-21</td>\n",
       "      <td>1076160586281570304</td>\n",
       "      <td>Twitter</td>\n",
       "    </tr>\n",
       "    <tr>\n",
       "      <th>1473</th>\n",
       "      <td>17393790</td>\n",
       "      <td>https://twitter.com/EverydayHealth/status/1076...</td>\n",
       "      <td>Informal</td>\n",
       "      <td>1474</td>\n",
       "      <td>https://twitter.com/EverydayHealth/status/1076...</td>\n",
       "      <td>1</td>\n",
       "      <td>text</td>\n",
       "      <td>EverydayHealth</td>\n",
       "      <td>2018-12-21</td>\n",
       "      <td>1076130344066318336</td>\n",
       "      <td>Twitter</td>\n",
       "    </tr>\n",
       "    <tr>\n",
       "      <th>1474</th>\n",
       "      <td>17393790</td>\n",
       "      <td>https://twitter.com/EverydayHealth/status/1076...</td>\n",
       "      <td>Informal</td>\n",
       "      <td>1475</td>\n",
       "      <td>https://twitter.com/EverydayHealth/status/1076...</td>\n",
       "      <td>1</td>\n",
       "      <td>text</td>\n",
       "      <td>EverydayHealth</td>\n",
       "      <td>2018-12-21</td>\n",
       "      <td>1076107643503239168</td>\n",
       "      <td>Twitter</td>\n",
       "    </tr>\n",
       "    <tr>\n",
       "      <th>1475</th>\n",
       "      <td>17393790</td>\n",
       "      <td>https://twitter.com/EverydayHealth/status/1076...</td>\n",
       "      <td>Informal</td>\n",
       "      <td>1476</td>\n",
       "      <td>https://twitter.com/EverydayHealth/status/1076...</td>\n",
       "      <td>1</td>\n",
       "      <td>text</td>\n",
       "      <td>EverydayHealth</td>\n",
       "      <td>2018-12-21</td>\n",
       "      <td>1076077451892142080</td>\n",
       "      <td>Twitter</td>\n",
       "    </tr>\n",
       "    <tr>\n",
       "      <th>1476</th>\n",
       "      <td>17393790</td>\n",
       "      <td>https://twitter.com/EverydayHealth/status/1075...</td>\n",
       "      <td>Informal</td>\n",
       "      <td>1477</td>\n",
       "      <td>https://twitter.com/EverydayHealth/status/1075...</td>\n",
       "      <td>1</td>\n",
       "      <td>text</td>\n",
       "      <td>EverydayHealth</td>\n",
       "      <td>2018-12-21</td>\n",
       "      <td>1075964149430173697</td>\n",
       "      <td>Twitter</td>\n",
       "    </tr>\n",
       "    <tr>\n",
       "      <th>1477</th>\n",
       "      <td>17393790</td>\n",
       "      <td>https://twitter.com/EverydayHealth/status/1075...</td>\n",
       "      <td>Informal</td>\n",
       "      <td>1478</td>\n",
       "      <td>https://twitter.com/EverydayHealth/status/1075...</td>\n",
       "      <td>1</td>\n",
       "      <td>text</td>\n",
       "      <td>EverydayHealth</td>\n",
       "      <td>2018-12-21</td>\n",
       "      <td>1075933919906799617</td>\n",
       "      <td>Twitter</td>\n",
       "    </tr>\n",
       "    <tr>\n",
       "      <th>1478</th>\n",
       "      <td>17393790</td>\n",
       "      <td>https://twitter.com/EverydayHealth/status/1075...</td>\n",
       "      <td>Informal</td>\n",
       "      <td>1479</td>\n",
       "      <td>https://twitter.com/EverydayHealth/status/1075...</td>\n",
       "      <td>1</td>\n",
       "      <td>text</td>\n",
       "      <td>EverydayHealth</td>\n",
       "      <td>2018-12-21</td>\n",
       "      <td>1075903734524375040</td>\n",
       "      <td>Twitter</td>\n",
       "    </tr>\n",
       "    <tr>\n",
       "      <th>1479</th>\n",
       "      <td>17393790</td>\n",
       "      <td>https://twitter.com/EverydayHealth/status/1075...</td>\n",
       "      <td>Informal</td>\n",
       "      <td>1480</td>\n",
       "      <td>https://twitter.com/EverydayHealth/status/1075...</td>\n",
       "      <td>1</td>\n",
       "      <td>text</td>\n",
       "      <td>EverydayHealth</td>\n",
       "      <td>2018-12-20</td>\n",
       "      <td>1075873575037534208</td>\n",
       "      <td>Twitter</td>\n",
       "    </tr>\n",
       "    <tr>\n",
       "      <th>1480</th>\n",
       "      <td>17393790</td>\n",
       "      <td>https://twitter.com/EverydayHealth/status/1075...</td>\n",
       "      <td>Informal</td>\n",
       "      <td>1481</td>\n",
       "      <td>https://twitter.com/EverydayHealth/status/1075...</td>\n",
       "      <td>1</td>\n",
       "      <td>text</td>\n",
       "      <td>EverydayHealth</td>\n",
       "      <td>2018-12-20</td>\n",
       "      <td>1075850922822127618</td>\n",
       "      <td>Twitter</td>\n",
       "    </tr>\n",
       "    <tr>\n",
       "      <th>1481</th>\n",
       "      <td>16561884</td>\n",
       "      <td>https://twitter.com/DailyHealthTips/status/107...</td>\n",
       "      <td>Informal</td>\n",
       "      <td>1482</td>\n",
       "      <td>https://twitter.com/DailyHealthTips/status/107...</td>\n",
       "      <td>1</td>\n",
       "      <td>text</td>\n",
       "      <td>DailyHealthTips</td>\n",
       "      <td>2018-12-27</td>\n",
       "      <td>1078327220131778561</td>\n",
       "      <td>Twitter</td>\n",
       "    </tr>\n",
       "    <tr>\n",
       "      <th>1482</th>\n",
       "      <td>16561884</td>\n",
       "      <td>https://twitter.com/DailyHealthTips/status/107...</td>\n",
       "      <td>Informal</td>\n",
       "      <td>1483</td>\n",
       "      <td>https://twitter.com/DailyHealthTips/status/107...</td>\n",
       "      <td>1</td>\n",
       "      <td>text</td>\n",
       "      <td>DailyHealthTips</td>\n",
       "      <td>2018-12-27</td>\n",
       "      <td>1078266814038228993</td>\n",
       "      <td>Twitter</td>\n",
       "    </tr>\n",
       "    <tr>\n",
       "      <th>1483</th>\n",
       "      <td>16561884</td>\n",
       "      <td>https://twitter.com/DailyHealthTips/status/107...</td>\n",
       "      <td>Informal</td>\n",
       "      <td>1484</td>\n",
       "      <td>https://twitter.com/DailyHealthTips/status/107...</td>\n",
       "      <td>1</td>\n",
       "      <td>text</td>\n",
       "      <td>DailyHealthTips</td>\n",
       "      <td>2018-12-27</td>\n",
       "      <td>1078206404794699777</td>\n",
       "      <td>Twitter</td>\n",
       "    </tr>\n",
       "    <tr>\n",
       "      <th>1484</th>\n",
       "      <td>16561884</td>\n",
       "      <td>https://twitter.com/DailyHealthTips/status/107...</td>\n",
       "      <td>Informal</td>\n",
       "      <td>1485</td>\n",
       "      <td>https://twitter.com/DailyHealthTips/status/107...</td>\n",
       "      <td>1</td>\n",
       "      <td>text</td>\n",
       "      <td>DailyHealthTips</td>\n",
       "      <td>2018-12-27</td>\n",
       "      <td>1078161058433585152</td>\n",
       "      <td>Twitter</td>\n",
       "    </tr>\n",
       "    <tr>\n",
       "      <th>1485</th>\n",
       "      <td>16561884</td>\n",
       "      <td>https://twitter.com/DailyHealthTips/status/107...</td>\n",
       "      <td>Informal</td>\n",
       "      <td>1486</td>\n",
       "      <td>https://twitter.com/DailyHealthTips/status/107...</td>\n",
       "      <td>1</td>\n",
       "      <td>text</td>\n",
       "      <td>DailyHealthTips</td>\n",
       "      <td>2018-12-27</td>\n",
       "      <td>1078115781123211264</td>\n",
       "      <td>Twitter</td>\n",
       "    </tr>\n",
       "    <tr>\n",
       "      <th>1486</th>\n",
       "      <td>16561884</td>\n",
       "      <td>https://twitter.com/DailyHealthTips/status/107...</td>\n",
       "      <td>Informal</td>\n",
       "      <td>1487</td>\n",
       "      <td>https://twitter.com/DailyHealthTips/status/107...</td>\n",
       "      <td>1</td>\n",
       "      <td>text</td>\n",
       "      <td>DailyHealthTips</td>\n",
       "      <td>2018-12-26</td>\n",
       "      <td>1078055406260367360</td>\n",
       "      <td>Twitter</td>\n",
       "    </tr>\n",
       "    <tr>\n",
       "      <th>1487</th>\n",
       "      <td>16561884</td>\n",
       "      <td>https://twitter.com/DailyHealthTips/status/107...</td>\n",
       "      <td>Informal</td>\n",
       "      <td>1488</td>\n",
       "      <td>https://twitter.com/DailyHealthTips/status/107...</td>\n",
       "      <td>1</td>\n",
       "      <td>text</td>\n",
       "      <td>DailyHealthTips</td>\n",
       "      <td>2018-12-26</td>\n",
       "      <td>1077964771360686080</td>\n",
       "      <td>Twitter</td>\n",
       "    </tr>\n",
       "    <tr>\n",
       "      <th>1488</th>\n",
       "      <td>16561884</td>\n",
       "      <td>https://twitter.com/DailyHealthTips/status/107...</td>\n",
       "      <td>Informal</td>\n",
       "      <td>1489</td>\n",
       "      <td>https://twitter.com/DailyHealthTips/status/107...</td>\n",
       "      <td>1</td>\n",
       "      <td>text</td>\n",
       "      <td>DailyHealthTips</td>\n",
       "      <td>2018-12-26</td>\n",
       "      <td>1077904430434009088</td>\n",
       "      <td>Twitter</td>\n",
       "    </tr>\n",
       "    <tr>\n",
       "      <th>1489</th>\n",
       "      <td>16561884</td>\n",
       "      <td>https://twitter.com/DailyHealthTips/status/107...</td>\n",
       "      <td>Informal</td>\n",
       "      <td>1490</td>\n",
       "      <td>https://twitter.com/DailyHealthTips/status/107...</td>\n",
       "      <td>1</td>\n",
       "      <td>text</td>\n",
       "      <td>DailyHealthTips</td>\n",
       "      <td>2018-12-26</td>\n",
       "      <td>1077844001179557888</td>\n",
       "      <td>Twitter</td>\n",
       "    </tr>\n",
       "    <tr>\n",
       "      <th>1490</th>\n",
       "      <td>16561884</td>\n",
       "      <td>https://twitter.com/DailyHealthTips/status/107...</td>\n",
       "      <td>Informal</td>\n",
       "      <td>1491</td>\n",
       "      <td>https://twitter.com/DailyHealthTips/status/107...</td>\n",
       "      <td>1</td>\n",
       "      <td>text</td>\n",
       "      <td>DailyHealthTips</td>\n",
       "      <td>2018-12-26</td>\n",
       "      <td>1077798693099712512</td>\n",
       "      <td>Twitter</td>\n",
       "    </tr>\n",
       "    <tr>\n",
       "      <th>1491</th>\n",
       "      <td>16561884</td>\n",
       "      <td>https://twitter.com/DailyHealthTips/status/107...</td>\n",
       "      <td>Informal</td>\n",
       "      <td>1492</td>\n",
       "      <td>https://twitter.com/DailyHealthTips/status/107...</td>\n",
       "      <td>1</td>\n",
       "      <td>text</td>\n",
       "      <td>DailyHealthTips</td>\n",
       "      <td>2018-12-26</td>\n",
       "      <td>1077753369358422016</td>\n",
       "      <td>Twitter</td>\n",
       "    </tr>\n",
       "    <tr>\n",
       "      <th>1492</th>\n",
       "      <td>16561884</td>\n",
       "      <td>https://twitter.com/DailyHealthTips/status/107...</td>\n",
       "      <td>Informal</td>\n",
       "      <td>1493</td>\n",
       "      <td>https://twitter.com/DailyHealthTips/status/107...</td>\n",
       "      <td>1</td>\n",
       "      <td>text</td>\n",
       "      <td>DailyHealthTips</td>\n",
       "      <td>2018-12-25</td>\n",
       "      <td>1077692997582630913</td>\n",
       "      <td>Twitter</td>\n",
       "    </tr>\n",
       "    <tr>\n",
       "      <th>1493</th>\n",
       "      <td>16561884</td>\n",
       "      <td>https://twitter.com/DailyHealthTips/status/107...</td>\n",
       "      <td>Informal</td>\n",
       "      <td>1494</td>\n",
       "      <td>https://twitter.com/DailyHealthTips/status/107...</td>\n",
       "      <td>1</td>\n",
       "      <td>text</td>\n",
       "      <td>DailyHealthTips</td>\n",
       "      <td>2018-12-25</td>\n",
       "      <td>1077602378357055491</td>\n",
       "      <td>Twitter</td>\n",
       "    </tr>\n",
       "    <tr>\n",
       "      <th>1494</th>\n",
       "      <td>16561884</td>\n",
       "      <td>https://twitter.com/DailyHealthTips/status/107...</td>\n",
       "      <td>Informal</td>\n",
       "      <td>1495</td>\n",
       "      <td>https://twitter.com/DailyHealthTips/status/107...</td>\n",
       "      <td>1</td>\n",
       "      <td>text</td>\n",
       "      <td>DailyHealthTips</td>\n",
       "      <td>2018-12-25</td>\n",
       "      <td>1077542020741283841</td>\n",
       "      <td>Twitter</td>\n",
       "    </tr>\n",
       "    <tr>\n",
       "      <th>1495</th>\n",
       "      <td>16561884</td>\n",
       "      <td>https://twitter.com/DailyHealthTips/status/107...</td>\n",
       "      <td>Informal</td>\n",
       "      <td>1496</td>\n",
       "      <td>https://twitter.com/DailyHealthTips/status/107...</td>\n",
       "      <td>1</td>\n",
       "      <td>text</td>\n",
       "      <td>DailyHealthTips</td>\n",
       "      <td>2018-12-25</td>\n",
       "      <td>1077481579600064512</td>\n",
       "      <td>Twitter</td>\n",
       "    </tr>\n",
       "    <tr>\n",
       "      <th>1496</th>\n",
       "      <td>16561884</td>\n",
       "      <td>https://twitter.com/DailyHealthTips/status/107...</td>\n",
       "      <td>Informal</td>\n",
       "      <td>1497</td>\n",
       "      <td>https://twitter.com/DailyHealthTips/status/107...</td>\n",
       "      <td>1</td>\n",
       "      <td>text</td>\n",
       "      <td>DailyHealthTips</td>\n",
       "      <td>2018-12-25</td>\n",
       "      <td>1077436296837120000</td>\n",
       "      <td>Twitter</td>\n",
       "    </tr>\n",
       "    <tr>\n",
       "      <th>1497</th>\n",
       "      <td>16561884</td>\n",
       "      <td>https://twitter.com/DailyHealthTips/status/107...</td>\n",
       "      <td>Informal</td>\n",
       "      <td>1498</td>\n",
       "      <td>https://twitter.com/DailyHealthTips/status/107...</td>\n",
       "      <td>1</td>\n",
       "      <td>text</td>\n",
       "      <td>DailyHealthTips</td>\n",
       "      <td>2018-12-25</td>\n",
       "      <td>1077390996307099648</td>\n",
       "      <td>Twitter</td>\n",
       "    </tr>\n",
       "    <tr>\n",
       "      <th>1498</th>\n",
       "      <td>16561884</td>\n",
       "      <td>https://twitter.com/DailyHealthTips/status/107...</td>\n",
       "      <td>Informal</td>\n",
       "      <td>1499</td>\n",
       "      <td>https://twitter.com/DailyHealthTips/status/107...</td>\n",
       "      <td>1</td>\n",
       "      <td>text</td>\n",
       "      <td>DailyHealthTips</td>\n",
       "      <td>2018-12-24</td>\n",
       "      <td>1077330616264347649</td>\n",
       "      <td>Twitter</td>\n",
       "    </tr>\n",
       "    <tr>\n",
       "      <th>1499</th>\n",
       "      <td>16561884</td>\n",
       "      <td>https://twitter.com/DailyHealthTips/status/107...</td>\n",
       "      <td>Informal</td>\n",
       "      <td>1500</td>\n",
       "      <td>https://twitter.com/DailyHealthTips/status/107...</td>\n",
       "      <td>1</td>\n",
       "      <td>text</td>\n",
       "      <td>DailyHealthTips</td>\n",
       "      <td>2018-12-24</td>\n",
       "      <td>1077240061308125185</td>\n",
       "      <td>Twitter</td>\n",
       "    </tr>\n",
       "    <tr>\n",
       "      <th>1500</th>\n",
       "      <td>16561884</td>\n",
       "      <td>https://twitter.com/DailyHealthTips/status/107...</td>\n",
       "      <td>Informal</td>\n",
       "      <td>1501</td>\n",
       "      <td>https://twitter.com/DailyHealthTips/status/107...</td>\n",
       "      <td>1</td>\n",
       "      <td>text</td>\n",
       "      <td>DailyHealthTips</td>\n",
       "      <td>2018-12-24</td>\n",
       "      <td>1077179646238691328</td>\n",
       "      <td>Twitter</td>\n",
       "    </tr>\n",
       "  </tbody>\n",
       "</table>\n",
       "<p>1501 rows × 11 columns</p>\n",
       "</div>"
      ],
      "text/plain": [
       "         api_id                                        content_url formality  \\\n",
       "0     575955428  https://twitter.com/ATPScience1/status/1075922...  Informal   \n",
       "1     575955428  https://twitter.com/ATPScience1/status/1075922...  Informal   \n",
       "2     575955428  https://twitter.com/ATPScience1/status/1075921...  Informal   \n",
       "3     575955428  https://twitter.com/ATPScience1/status/1075920...  Informal   \n",
       "4     575955428  https://twitter.com/ATPScience1/status/1075917...  Informal   \n",
       "5     575955428  https://twitter.com/ATPScience1/status/1075908...  Informal   \n",
       "6     575955428  https://twitter.com/ATPScience1/status/1075878...  Informal   \n",
       "7     575955428  https://twitter.com/ATPScience1/status/1075878...  Informal   \n",
       "8     575955428  https://twitter.com/ATPScience1/status/1073412...  Informal   \n",
       "9     575955428  https://twitter.com/ATPScience1/status/1073400...  Informal   \n",
       "10    575955428  https://twitter.com/ATPScience1/status/1073379...  Informal   \n",
       "11    575955428  https://twitter.com/ATPScience1/status/1073379...  Informal   \n",
       "12    575955428  https://twitter.com/ATPScience1/status/1073086...  Informal   \n",
       "13    575955428  https://twitter.com/ATPScience1/status/1072714...  Informal   \n",
       "14    575955428  https://twitter.com/ATPScience1/status/1072714...  Informal   \n",
       "15    575955428  https://twitter.com/ATPScience1/status/1070871...  Informal   \n",
       "16    575955428  https://twitter.com/ATPScience1/status/1070865...  Informal   \n",
       "17    575955428  https://twitter.com/ATPScience1/status/1070118...  Informal   \n",
       "18    575955428  https://twitter.com/ATPScience1/status/1070115...  Informal   \n",
       "19    575955428  https://twitter.com/ATPScience1/status/1068387...  Informal   \n",
       "20     46328741  https://twitter.com/waitrose/status/1078372904...  Informal   \n",
       "21     46328741  https://twitter.com/waitrose/status/1078362191...  Informal   \n",
       "22     46328741  https://twitter.com/waitrose/status/1078360476...  Informal   \n",
       "23     46328741  https://twitter.com/waitrose/status/1078358723...  Informal   \n",
       "24     46328741  https://twitter.com/waitrose/status/1078355663...  Informal   \n",
       "25     46328741  https://twitter.com/waitrose/status/1078353677...  Informal   \n",
       "26     46328741  https://twitter.com/waitrose/status/1078352772...  Informal   \n",
       "27     46328741  https://twitter.com/waitrose/status/1078350322...  Informal   \n",
       "28     46328741  https://twitter.com/waitrose/status/1078349010...  Informal   \n",
       "29     46328741  https://twitter.com/waitrose/status/1078345227...  Informal   \n",
       "...         ...                                                ...       ...   \n",
       "1471   17393790  https://twitter.com/EverydayHealth/status/1076...  Informal   \n",
       "1472   17393790  https://twitter.com/EverydayHealth/status/1076...  Informal   \n",
       "1473   17393790  https://twitter.com/EverydayHealth/status/1076...  Informal   \n",
       "1474   17393790  https://twitter.com/EverydayHealth/status/1076...  Informal   \n",
       "1475   17393790  https://twitter.com/EverydayHealth/status/1076...  Informal   \n",
       "1476   17393790  https://twitter.com/EverydayHealth/status/1075...  Informal   \n",
       "1477   17393790  https://twitter.com/EverydayHealth/status/1075...  Informal   \n",
       "1478   17393790  https://twitter.com/EverydayHealth/status/1075...  Informal   \n",
       "1479   17393790  https://twitter.com/EverydayHealth/status/1075...  Informal   \n",
       "1480   17393790  https://twitter.com/EverydayHealth/status/1075...  Informal   \n",
       "1481   16561884  https://twitter.com/DailyHealthTips/status/107...  Informal   \n",
       "1482   16561884  https://twitter.com/DailyHealthTips/status/107...  Informal   \n",
       "1483   16561884  https://twitter.com/DailyHealthTips/status/107...  Informal   \n",
       "1484   16561884  https://twitter.com/DailyHealthTips/status/107...  Informal   \n",
       "1485   16561884  https://twitter.com/DailyHealthTips/status/107...  Informal   \n",
       "1486   16561884  https://twitter.com/DailyHealthTips/status/107...  Informal   \n",
       "1487   16561884  https://twitter.com/DailyHealthTips/status/107...  Informal   \n",
       "1488   16561884  https://twitter.com/DailyHealthTips/status/107...  Informal   \n",
       "1489   16561884  https://twitter.com/DailyHealthTips/status/107...  Informal   \n",
       "1490   16561884  https://twitter.com/DailyHealthTips/status/107...  Informal   \n",
       "1491   16561884  https://twitter.com/DailyHealthTips/status/107...  Informal   \n",
       "1492   16561884  https://twitter.com/DailyHealthTips/status/107...  Informal   \n",
       "1493   16561884  https://twitter.com/DailyHealthTips/status/107...  Informal   \n",
       "1494   16561884  https://twitter.com/DailyHealthTips/status/107...  Informal   \n",
       "1495   16561884  https://twitter.com/DailyHealthTips/status/107...  Informal   \n",
       "1496   16561884  https://twitter.com/DailyHealthTips/status/107...  Informal   \n",
       "1497   16561884  https://twitter.com/DailyHealthTips/status/107...  Informal   \n",
       "1498   16561884  https://twitter.com/DailyHealthTips/status/107...  Informal   \n",
       "1499   16561884  https://twitter.com/DailyHealthTips/status/107...  Informal   \n",
       "1500   16561884  https://twitter.com/DailyHealthTips/status/107...  Informal   \n",
       "\n",
       "        id                                          image_url  length medium  \\\n",
       "0        1  https://twitter.com/ATPScience1/status/1075922...       1   text   \n",
       "1        2  https://twitter.com/ATPScience1/status/1075922...       1   text   \n",
       "2        3  https://twitter.com/ATPScience1/status/1075921...       1   text   \n",
       "3        4  https://twitter.com/ATPScience1/status/1075920...       1   text   \n",
       "4        5  https://twitter.com/ATPScience1/status/1075917...       1   text   \n",
       "5        6  https://twitter.com/ATPScience1/status/1075908...       1   text   \n",
       "6        7  https://twitter.com/ATPScience1/status/1075878...       1   text   \n",
       "7        8  https://twitter.com/ATPScience1/status/1075878...       1   text   \n",
       "8        9  https://twitter.com/ATPScience1/status/1073412...       1   text   \n",
       "9       10  https://twitter.com/ATPScience1/status/1073400...       1   text   \n",
       "10      11  https://twitter.com/ATPScience1/status/1073379...       1   text   \n",
       "11      12  https://twitter.com/ATPScience1/status/1073379...       1   text   \n",
       "12      13  https://twitter.com/ATPScience1/status/1073086...       1   text   \n",
       "13      14  https://twitter.com/ATPScience1/status/1072714...       1   text   \n",
       "14      15  https://twitter.com/ATPScience1/status/1072714...       1   text   \n",
       "15      16  https://twitter.com/ATPScience1/status/1070871...       1   text   \n",
       "16      17  https://twitter.com/ATPScience1/status/1070865...       1   text   \n",
       "17      18  https://twitter.com/ATPScience1/status/1070118...       1   text   \n",
       "18      19  https://twitter.com/ATPScience1/status/1070115...       1   text   \n",
       "19      20  https://twitter.com/ATPScience1/status/1068387...       1   text   \n",
       "20      21  https://twitter.com/waitrose/status/1078372904...       1   text   \n",
       "21      22  https://twitter.com/waitrose/status/1078362191...       1   text   \n",
       "22      23  https://twitter.com/waitrose/status/1078360476...       1   text   \n",
       "23      24  https://twitter.com/waitrose/status/1078358723...       1   text   \n",
       "24      25  https://twitter.com/waitrose/status/1078355663...       1   text   \n",
       "25      26  https://twitter.com/waitrose/status/1078353677...       1   text   \n",
       "26      27  https://twitter.com/waitrose/status/1078352772...       1   text   \n",
       "27      28  https://twitter.com/waitrose/status/1078350322...       1   text   \n",
       "28      29  https://twitter.com/waitrose/status/1078349010...       1   text   \n",
       "29      30  https://twitter.com/waitrose/status/1078345227...       1   text   \n",
       "...    ...                                                ...     ...    ...   \n",
       "1471  1472  https://twitter.com/EverydayHealth/status/1076...       1   text   \n",
       "1472  1473  https://twitter.com/EverydayHealth/status/1076...       1   text   \n",
       "1473  1474  https://twitter.com/EverydayHealth/status/1076...       1   text   \n",
       "1474  1475  https://twitter.com/EverydayHealth/status/1076...       1   text   \n",
       "1475  1476  https://twitter.com/EverydayHealth/status/1076...       1   text   \n",
       "1476  1477  https://twitter.com/EverydayHealth/status/1075...       1   text   \n",
       "1477  1478  https://twitter.com/EverydayHealth/status/1075...       1   text   \n",
       "1478  1479  https://twitter.com/EverydayHealth/status/1075...       1   text   \n",
       "1479  1480  https://twitter.com/EverydayHealth/status/1075...       1   text   \n",
       "1480  1481  https://twitter.com/EverydayHealth/status/1075...       1   text   \n",
       "1481  1482  https://twitter.com/DailyHealthTips/status/107...       1   text   \n",
       "1482  1483  https://twitter.com/DailyHealthTips/status/107...       1   text   \n",
       "1483  1484  https://twitter.com/DailyHealthTips/status/107...       1   text   \n",
       "1484  1485  https://twitter.com/DailyHealthTips/status/107...       1   text   \n",
       "1485  1486  https://twitter.com/DailyHealthTips/status/107...       1   text   \n",
       "1486  1487  https://twitter.com/DailyHealthTips/status/107...       1   text   \n",
       "1487  1488  https://twitter.com/DailyHealthTips/status/107...       1   text   \n",
       "1488  1489  https://twitter.com/DailyHealthTips/status/107...       1   text   \n",
       "1489  1490  https://twitter.com/DailyHealthTips/status/107...       1   text   \n",
       "1490  1491  https://twitter.com/DailyHealthTips/status/107...       1   text   \n",
       "1491  1492  https://twitter.com/DailyHealthTips/status/107...       1   text   \n",
       "1492  1493  https://twitter.com/DailyHealthTips/status/107...       1   text   \n",
       "1493  1494  https://twitter.com/DailyHealthTips/status/107...       1   text   \n",
       "1494  1495  https://twitter.com/DailyHealthTips/status/107...       1   text   \n",
       "1495  1496  https://twitter.com/DailyHealthTips/status/107...       1   text   \n",
       "1496  1497  https://twitter.com/DailyHealthTips/status/107...       1   text   \n",
       "1497  1498  https://twitter.com/DailyHealthTips/status/107...       1   text   \n",
       "1498  1499  https://twitter.com/DailyHealthTips/status/107...       1   text   \n",
       "1499  1500  https://twitter.com/DailyHealthTips/status/107...       1   text   \n",
       "1500  1501  https://twitter.com/DailyHealthTips/status/107...       1   text   \n",
       "\n",
       "             provider   published                title scraped_from  \n",
       "0         ATPScience1  2018-12-21  1075922927575556097      Twitter  \n",
       "1         ATPScience1  2018-12-21  1075922863402700802      Twitter  \n",
       "2         ATPScience1  2018-12-21  1075921037483741184      Twitter  \n",
       "3         ATPScience1  2018-12-21  1075920493595611137      Twitter  \n",
       "4         ATPScience1  2018-12-21  1075917766530486274      Twitter  \n",
       "5         ATPScience1  2018-12-21  1075908604635549700      Twitter  \n",
       "6         ATPScience1  2018-12-20  1075878801987399681      Twitter  \n",
       "7         ATPScience1  2018-12-20  1075878740289298432      Twitter  \n",
       "8         ATPScience1  2018-12-14  1073412341075726336      Twitter  \n",
       "9         ATPScience1  2018-12-14  1073400673461506048      Twitter  \n",
       "10        ATPScience1  2018-12-14  1073379631581978629      Twitter  \n",
       "11        ATPScience1  2018-12-14  1073379553039400960      Twitter  \n",
       "12        ATPScience1  2018-12-13  1073086620641959937      Twitter  \n",
       "13        ATPScience1  2018-12-12  1072714978187202561      Twitter  \n",
       "14        ATPScience1  2018-12-12  1072714871890944000      Twitter  \n",
       "15        ATPScience1  2018-12-07  1070871322736115712      Twitter  \n",
       "16        ATPScience1  2018-12-07  1070865967276810242      Twitter  \n",
       "17        ATPScience1  2018-12-05  1070118844541239298      Twitter  \n",
       "18        ATPScience1  2018-12-05  1070115521683611649      Twitter  \n",
       "19        ATPScience1  2018-11-30  1068387608265441280      Twitter  \n",
       "20           waitrose  2018-12-27  1078372904943923201      Twitter  \n",
       "21           waitrose  2018-12-27  1078362191584260096      Twitter  \n",
       "22           waitrose  2018-12-27  1078360476420096000      Twitter  \n",
       "23           waitrose  2018-12-27  1078358723934994433      Twitter  \n",
       "24           waitrose  2018-12-27  1078355663699566592      Twitter  \n",
       "25           waitrose  2018-12-27  1078353677591678978      Twitter  \n",
       "26           waitrose  2018-12-27  1078352772209278976      Twitter  \n",
       "27           waitrose  2018-12-27  1078350322207203335      Twitter  \n",
       "28           waitrose  2018-12-27  1078349010233118720      Twitter  \n",
       "29           waitrose  2018-12-27  1078345227713343488      Twitter  \n",
       "...               ...         ...                  ...          ...  \n",
       "1471   EverydayHealth  2018-12-21  1076197088667623424      Twitter  \n",
       "1472   EverydayHealth  2018-12-21  1076160586281570304      Twitter  \n",
       "1473   EverydayHealth  2018-12-21  1076130344066318336      Twitter  \n",
       "1474   EverydayHealth  2018-12-21  1076107643503239168      Twitter  \n",
       "1475   EverydayHealth  2018-12-21  1076077451892142080      Twitter  \n",
       "1476   EverydayHealth  2018-12-21  1075964149430173697      Twitter  \n",
       "1477   EverydayHealth  2018-12-21  1075933919906799617      Twitter  \n",
       "1478   EverydayHealth  2018-12-21  1075903734524375040      Twitter  \n",
       "1479   EverydayHealth  2018-12-20  1075873575037534208      Twitter  \n",
       "1480   EverydayHealth  2018-12-20  1075850922822127618      Twitter  \n",
       "1481  DailyHealthTips  2018-12-27  1078327220131778561      Twitter  \n",
       "1482  DailyHealthTips  2018-12-27  1078266814038228993      Twitter  \n",
       "1483  DailyHealthTips  2018-12-27  1078206404794699777      Twitter  \n",
       "1484  DailyHealthTips  2018-12-27  1078161058433585152      Twitter  \n",
       "1485  DailyHealthTips  2018-12-27  1078115781123211264      Twitter  \n",
       "1486  DailyHealthTips  2018-12-26  1078055406260367360      Twitter  \n",
       "1487  DailyHealthTips  2018-12-26  1077964771360686080      Twitter  \n",
       "1488  DailyHealthTips  2018-12-26  1077904430434009088      Twitter  \n",
       "1489  DailyHealthTips  2018-12-26  1077844001179557888      Twitter  \n",
       "1490  DailyHealthTips  2018-12-26  1077798693099712512      Twitter  \n",
       "1491  DailyHealthTips  2018-12-26  1077753369358422016      Twitter  \n",
       "1492  DailyHealthTips  2018-12-25  1077692997582630913      Twitter  \n",
       "1493  DailyHealthTips  2018-12-25  1077602378357055491      Twitter  \n",
       "1494  DailyHealthTips  2018-12-25  1077542020741283841      Twitter  \n",
       "1495  DailyHealthTips  2018-12-25  1077481579600064512      Twitter  \n",
       "1496  DailyHealthTips  2018-12-25  1077436296837120000      Twitter  \n",
       "1497  DailyHealthTips  2018-12-25  1077390996307099648      Twitter  \n",
       "1498  DailyHealthTips  2018-12-24  1077330616264347649      Twitter  \n",
       "1499  DailyHealthTips  2018-12-24  1077240061308125185      Twitter  \n",
       "1500  DailyHealthTips  2018-12-24  1077179646238691328      Twitter  \n",
       "\n",
       "[1501 rows x 11 columns]"
      ]
     },
     "execution_count": 10,
     "metadata": {},
     "output_type": "execute_result"
    }
   ],
   "source": [
    "df"
   ]
  },
  {
   "cell_type": "markdown",
   "metadata": {
    "extensions": {
     "jupyter_dashboards": {
      "version": 1,
      "views": {
       "grid_default": {},
       "report_default": {
        "hidden": false
       }
      }
     }
    }
   },
   "source": [
    "# Total Content Per Medium & Formality"
   ]
  },
  {
   "cell_type": "code",
   "execution_count": 6,
   "metadata": {
    "extensions": {
     "jupyter_dashboards": {
      "version": 1,
      "views": {
       "grid_default": {},
       "report_default": {
        "hidden": false
       }
      }
     }
    }
   },
   "outputs": [
    {
     "data": {
      "text/html": [
       "<div>\n",
       "<style scoped>\n",
       "    .dataframe tbody tr th:only-of-type {\n",
       "        vertical-align: middle;\n",
       "    }\n",
       "\n",
       "    .dataframe tbody tr th {\n",
       "        vertical-align: top;\n",
       "    }\n",
       "\n",
       "    .dataframe thead th {\n",
       "        text-align: right;\n",
       "    }\n",
       "</style>\n",
       "<table border=\"1\" class=\"dataframe\">\n",
       "  <thead>\n",
       "    <tr style=\"text-align: right;\">\n",
       "      <th></th>\n",
       "      <th></th>\n",
       "      <th></th>\n",
       "      <th>content_url</th>\n",
       "    </tr>\n",
       "    <tr>\n",
       "      <th>formality</th>\n",
       "      <th>medium</th>\n",
       "      <th>scraped_from</th>\n",
       "      <th></th>\n",
       "    </tr>\n",
       "  </thead>\n",
       "  <tbody>\n",
       "    <tr>\n",
       "      <th rowspan=\"3\" valign=\"top\">Formal</th>\n",
       "      <th>audio</th>\n",
       "      <th>Itunes Audiobook</th>\n",
       "      <td>1580</td>\n",
       "    </tr>\n",
       "    <tr>\n",
       "      <th>text</th>\n",
       "      <th>Itunes Ebook</th>\n",
       "      <td>2573</td>\n",
       "    </tr>\n",
       "    <tr>\n",
       "      <th>video</th>\n",
       "      <th>Itunes Movie</th>\n",
       "      <td>110</td>\n",
       "    </tr>\n",
       "    <tr>\n",
       "      <th rowspan=\"2\" valign=\"top\">Informal</th>\n",
       "      <th>text</th>\n",
       "      <th>Twitter</th>\n",
       "      <td>1507</td>\n",
       "    </tr>\n",
       "    <tr>\n",
       "      <th>video</th>\n",
       "      <th>Youtube</th>\n",
       "      <td>32</td>\n",
       "    </tr>\n",
       "    <tr>\n",
       "      <th rowspan=\"4\" valign=\"top\">Intermediate</th>\n",
       "      <th>audio</th>\n",
       "      <th>Itunes Podcast</th>\n",
       "      <td>7077</td>\n",
       "    </tr>\n",
       "    <tr>\n",
       "      <th rowspan=\"2\" valign=\"top\">text</th>\n",
       "      <th>NYT API</th>\n",
       "      <td>535</td>\n",
       "    </tr>\n",
       "    <tr>\n",
       "      <th>NewsApi</th>\n",
       "      <td>621</td>\n",
       "    </tr>\n",
       "    <tr>\n",
       "      <th>video</th>\n",
       "      <th>Youtube</th>\n",
       "      <td>2739</td>\n",
       "    </tr>\n",
       "  </tbody>\n",
       "</table>\n",
       "</div>"
      ],
      "text/plain": [
       "                                      content_url\n",
       "formality    medium scraped_from                 \n",
       "Formal       audio  Itunes Audiobook         1580\n",
       "             text   Itunes Ebook             2573\n",
       "             video  Itunes Movie              110\n",
       "Informal     text   Twitter                  1507\n",
       "             video  Youtube                    32\n",
       "Intermediate audio  Itunes Podcast           7077\n",
       "             text   NYT API                   535\n",
       "                    NewsApi                   621\n",
       "             video  Youtube                  2739"
      ]
     },
     "execution_count": 6,
     "metadata": {},
     "output_type": "execute_result"
    }
   ],
   "source": [
    "total = df[['content_url','formality','medium','scraped_from']].groupby(['formality','medium','scraped_from']).nunique()\n",
    "total[['content_url']]"
   ]
  },
  {
   "cell_type": "markdown",
   "metadata": {
    "extensions": {
     "jupyter_dashboards": {
      "version": 1,
      "views": {
       "grid_default": {},
       "report_default": {
        "hidden": false
       }
      }
     }
    }
   },
   "source": [
    "# Total Unique Categories and Providers per Medium & Formality"
   ]
  },
  {
   "cell_type": "code",
   "execution_count": 7,
   "metadata": {
    "extensions": {
     "jupyter_dashboards": {
      "version": 1,
      "views": {
       "grid_default": {},
       "report_default": {
        "hidden": false
       }
      }
     }
    }
   },
   "outputs": [
    {
     "data": {
      "text/html": [
       "<div>\n",
       "<style scoped>\n",
       "    .dataframe tbody tr th:only-of-type {\n",
       "        vertical-align: middle;\n",
       "    }\n",
       "\n",
       "    .dataframe tbody tr th {\n",
       "        vertical-align: top;\n",
       "    }\n",
       "\n",
       "    .dataframe thead th {\n",
       "        text-align: right;\n",
       "    }\n",
       "</style>\n",
       "<table border=\"1\" class=\"dataframe\">\n",
       "  <thead>\n",
       "    <tr style=\"text-align: right;\">\n",
       "      <th></th>\n",
       "      <th></th>\n",
       "      <th></th>\n",
       "      <th>category</th>\n",
       "      <th>provider</th>\n",
       "    </tr>\n",
       "    <tr>\n",
       "      <th>formality</th>\n",
       "      <th>medium</th>\n",
       "      <th>scraped_from</th>\n",
       "      <th></th>\n",
       "      <th></th>\n",
       "    </tr>\n",
       "  </thead>\n",
       "  <tbody>\n",
       "    <tr>\n",
       "      <th rowspan=\"3\" valign=\"top\">Formal</th>\n",
       "      <th>audio</th>\n",
       "      <th>Itunes Audiobook</th>\n",
       "      <td>65</td>\n",
       "      <td>1076</td>\n",
       "    </tr>\n",
       "    <tr>\n",
       "      <th>text</th>\n",
       "      <th>Itunes Ebook</th>\n",
       "      <td>81</td>\n",
       "      <td>1990</td>\n",
       "    </tr>\n",
       "    <tr>\n",
       "      <th>video</th>\n",
       "      <th>Itunes Movie</th>\n",
       "      <td>9</td>\n",
       "      <td>102</td>\n",
       "    </tr>\n",
       "    <tr>\n",
       "      <th rowspan=\"2\" valign=\"top\">Informal</th>\n",
       "      <th>text</th>\n",
       "      <th>Twitter</th>\n",
       "      <td>279</td>\n",
       "      <td>77</td>\n",
       "    </tr>\n",
       "    <tr>\n",
       "      <th>video</th>\n",
       "      <th>Youtube</th>\n",
       "      <td>6</td>\n",
       "      <td>4</td>\n",
       "    </tr>\n",
       "    <tr>\n",
       "      <th rowspan=\"4\" valign=\"top\">Intermediate</th>\n",
       "      <th>audio</th>\n",
       "      <th>Itunes Podcast</th>\n",
       "      <td>42</td>\n",
       "      <td>39</td>\n",
       "    </tr>\n",
       "    <tr>\n",
       "      <th rowspan=\"2\" valign=\"top\">text</th>\n",
       "      <th>NYT API</th>\n",
       "      <td>89</td>\n",
       "      <td>1</td>\n",
       "    </tr>\n",
       "    <tr>\n",
       "      <th>NewsApi</th>\n",
       "      <td>94</td>\n",
       "      <td>57</td>\n",
       "    </tr>\n",
       "    <tr>\n",
       "      <th>video</th>\n",
       "      <th>Youtube</th>\n",
       "      <td>1045</td>\n",
       "      <td>1258</td>\n",
       "    </tr>\n",
       "  </tbody>\n",
       "</table>\n",
       "</div>"
      ],
      "text/plain": [
       "                                      category  provider\n",
       "formality    medium scraped_from                        \n",
       "Formal       audio  Itunes Audiobook        65      1076\n",
       "             text   Itunes Ebook            81      1990\n",
       "             video  Itunes Movie             9       102\n",
       "Informal     text   Twitter                279        77\n",
       "             video  Youtube                  6         4\n",
       "Intermediate audio  Itunes Podcast          42        39\n",
       "             text   NYT API                 89         1\n",
       "                    NewsApi                 94        57\n",
       "             video  Youtube               1045      1258"
      ]
     },
     "execution_count": 7,
     "metadata": {},
     "output_type": "execute_result"
    }
   ],
   "source": [
    "summary = df[['category','provider','formality','medium','scraped_from']].groupby(['formality','medium','scraped_from']).nunique()\n",
    "summary[['category','provider']]"
   ]
  },
  {
   "cell_type": "code",
   "execution_count": 8,
   "metadata": {
    "extensions": {
     "jupyter_dashboards": {
      "version": 1,
      "views": {
       "grid_default": {},
       "report_default": {
        "hidden": false
       }
      }
     }
    }
   },
   "outputs": [
    {
     "data": {
      "text/plain": [
       "category    1336\n",
       "provider    4373\n",
       "dtype: int64"
      ]
     },
     "execution_count": 8,
     "metadata": {},
     "output_type": "execute_result"
    }
   ],
   "source": [
    "df[['category','provider']].nunique()"
   ]
  },
  {
   "cell_type": "code",
   "execution_count": 9,
   "metadata": {
    "extensions": {
     "jupyter_dashboards": {
      "version": 1,
      "views": {
       "grid_default": {},
       "report_default": {
        "hidden": false
       }
      }
     }
    }
   },
   "outputs": [
    {
     "data": {
      "text/html": [
       "<iframe id=\"igraph\" scrolling=\"no\" style=\"border:none;\" seamless=\"seamless\" src=\"https://plot.ly/~mrethana/90.embed\" height=\"525px\" width=\"100%\"></iframe>"
      ],
      "text/plain": [
       "<plotly.tools.PlotlyDisplay object>"
      ]
     },
     "execution_count": 9,
     "metadata": {},
     "output_type": "execute_result"
    }
   ],
   "source": [
    "plot_stacked_OVERALL()"
   ]
  },
  {
   "cell_type": "markdown",
   "metadata": {
    "extensions": {
     "jupyter_dashboards": {
      "version": 1,
      "views": {
       "grid_default": {
        "col": 6,
        "height": 3,
        "hidden": false,
        "row": 0,
        "width": 6
       },
       "report_default": {
        "hidden": false
       }
      }
     }
    }
   },
   "source": [
    "# Ketogenic"
   ]
  },
  {
   "cell_type": "code",
   "execution_count": 10,
   "metadata": {
    "extensions": {
     "jupyter_dashboards": {
      "version": 1,
      "views": {
       "grid_default": {
        "col": 6,
        "height": 18,
        "hidden": false,
        "row": 3,
        "width": 6
       },
       "report_default": {
        "hidden": false
       }
      }
     }
    },
    "scrolled": false
   },
   "outputs": [
    {
     "data": {
      "application/vnd.jupyter.widget-view+json": {
       "model_id": "3d12770a8608478f95543f90f990d095",
       "version_major": 2,
       "version_minor": 0
      },
      "text/plain": [
       "interactive(children=(IntSlider(value=1, description='Limit', max=5, min=1), ToggleButtons(description='Medium…"
      ]
     },
     "metadata": {},
     "output_type": "display_data"
    }
   ],
   "source": [
    "Limit_widget1 = widgets.IntSlider(min=1, max=5, step=1, value=1)\n",
    "Medium_widget1 = widgets.ToggleButtons(options = ['text', 'audio','video'], description ='Medium', button_style='')\n",
    "topic_widget1 = widgets.Dropdown(options = nutrition_cats,value='keto', description ='Topic', disabled=False)\n",
    "expertise_widget1 = widgets.ToggleButtons(options = ['Informal', 'Intermediate','Formal'], description ='Formality', button_style='')\n",
    "max_length_widget1 = widgets.IntSlider(min=0, max=100, step=10, value=20)\n",
    "difficulty_widget1 = widgets.ToggleButtons(options = ['Easy', 'Medium','Hard'], description ='Difficulty', button_style='')\n",
    "\n",
    "\n",
    "interact(query_content,Limit = Limit_widget1, Medium = Medium_widget1, search_param=topic_widget1, Formality = expertise_widget1, Max_Length = max_length_widget1,Difficulty = difficulty_widget1);"
   ]
  },
  {
   "cell_type": "code",
   "execution_count": 11,
   "metadata": {
    "extensions": {
     "jupyter_dashboards": {
      "version": 1,
      "views": {
       "grid_default": {
        "col": 0,
        "height": 19,
        "hidden": false,
        "row": 77,
        "width": 4
       },
       "report_default": {
        "hidden": false
       }
      }
     }
    }
   },
   "outputs": [
    {
     "data": {
      "application/vnd.jupyter.widget-view+json": {
       "model_id": "3b20a8415460457eb3fbc919a9ab9512",
       "version_major": 2,
       "version_minor": 0
      },
      "text/plain": [
       "interactive(children=(Dropdown(description='Topic', options=('keto', 'mct', 'natural', 'corn-fed', 'cruciferou…"
      ]
     },
     "metadata": {},
     "output_type": "display_data"
    }
   ],
   "source": [
    "alt_widget_1 = widgets.Dropdown(options = nutrition_cats,value='keto', description ='Topic', disabled=False)\n",
    "\n",
    "interact(plot_stacked, param = alt_widget_1);"
   ]
  },
  {
   "cell_type": "markdown",
   "metadata": {
    "extensions": {
     "jupyter_dashboards": {
      "version": 1,
      "views": {
       "grid_default": {
        "col": 0,
        "height": 3,
        "hidden": false,
        "row": 0,
        "width": 6
       },
       "report_default": {
        "hidden": false
       }
      }
     }
    }
   },
   "source": [
    "# Paleolithic"
   ]
  },
  {
   "cell_type": "code",
   "execution_count": 12,
   "metadata": {
    "extensions": {
     "jupyter_dashboards": {
      "version": 1,
      "views": {
       "grid_default": {
        "col": 0,
        "height": 18,
        "hidden": false,
        "row": 3,
        "width": 6
       },
       "report_default": {
        "hidden": false
       }
      }
     }
    }
   },
   "outputs": [
    {
     "data": {
      "application/vnd.jupyter.widget-view+json": {
       "model_id": "84d99f4c77c94d62a828c9f1faa7fa6f",
       "version_major": 2,
       "version_minor": 0
      },
      "text/plain": [
       "interactive(children=(IntSlider(value=1, description='Limit', max=5, min=1), ToggleButtons(description='Medium…"
      ]
     },
     "metadata": {},
     "output_type": "display_data"
    }
   ],
   "source": [
    "Limit_widget2 = widgets.IntSlider(min=1, max=5, step=1, value=1)\n",
    "Medium_widget2 = widgets.ToggleButtons(options = ['text', 'audio','video'], description ='Medium', button_style='')\n",
    "topic_widget2 = widgets.Dropdown(options = nutrition_cats,value='paleo', description ='Topic', disabled=False)\n",
    "expertise_widget2 = widgets.ToggleButtons(options = ['Informal', 'Intermediate','Formal'], description ='Formality', button_style='')\n",
    "max_length_widget2 = widgets.IntSlider(min=0, max=100, step=10, value=20)\n",
    "difficulty_widget2 = widgets.ToggleButtons(options = ['Easy', 'Medium','Hard'], description ='Difficulty', button_style='')\n",
    "\n",
    "\n",
    "interact(query_content,Limit = Limit_widget2, Medium = Medium_widget2, search_param=topic_widget2, Formality = expertise_widget2, Max_Length = max_length_widget2,Difficulty = difficulty_widget2);"
   ]
  },
  {
   "cell_type": "code",
   "execution_count": 13,
   "metadata": {
    "extensions": {
     "jupyter_dashboards": {
      "version": 1,
      "views": {
       "grid_default": {
        "col": 4,
        "height": 19,
        "hidden": false,
        "row": 77,
        "width": 4
       },
       "report_default": {
        "hidden": false
       }
      }
     }
    }
   },
   "outputs": [
    {
     "data": {
      "application/vnd.jupyter.widget-view+json": {
       "model_id": "6f9f5c4ac5de493dad2d378efcaf173e",
       "version_major": 2,
       "version_minor": 0
      },
      "text/plain": [
       "interactive(children=(Dropdown(description='Topic', index=14, options=('keto', 'mct', 'natural', 'corn-fed', '…"
      ]
     },
     "metadata": {},
     "output_type": "display_data"
    }
   ],
   "source": [
    "alt_widget_2 = widgets.Dropdown(options = nutrition_cats,value='paleo', description ='Topic', disabled=False)\n",
    "\n",
    "interact(plot_stacked, param = alt_widget_2);"
   ]
  },
  {
   "cell_type": "markdown",
   "metadata": {
    "extensions": {
     "jupyter_dashboards": {
      "version": 1,
      "views": {
       "grid_default": {
        "col": 6,
        "height": 3,
        "hidden": false,
        "row": 21,
        "width": 6
       },
       "report_default": {
        "hidden": false
       }
      }
     }
    }
   },
   "source": [
    "# Vegan"
   ]
  },
  {
   "cell_type": "code",
   "execution_count": 13,
   "metadata": {
    "extensions": {
     "jupyter_dashboards": {
      "version": 1,
      "views": {
       "grid_default": {
        "col": 6,
        "height": 18,
        "hidden": false,
        "row": 24,
        "width": 6
       },
       "report_default": {
        "hidden": false
       }
      }
     }
    },
    "scrolled": false
   },
   "outputs": [
    {
     "data": {
      "application/vnd.jupyter.widget-view+json": {
       "model_id": "15be5a5b6c794236839de0d86e650501",
       "version_major": 2,
       "version_minor": 0
      },
      "text/plain": [
       "interactive(children=(IntSlider(value=1, description='Limit', max=5, min=1), ToggleButtons(description='Medium…"
      ]
     },
     "metadata": {},
     "output_type": "display_data"
    }
   ],
   "source": [
    "Limit_widget3 = widgets.IntSlider(min=1, max=5, step=1, value=1)\n",
    "Medium_widget3 = widgets.ToggleButtons(options = ['text', 'audio','video'], description ='Medium', button_style='')\n",
    "topic_widget3 = widgets.Dropdown(options = nutrition_cats,value='vegan', description ='Topic', disabled=False)\n",
    "expertise_widget3 = widgets.ToggleButtons(options = ['Informal', 'Intermediate','Formal'], description ='Formality', button_style='')\n",
    "max_length_widget3 = widgets.IntSlider(min=0, max=100, step=10, value=20)\n",
    "difficulty_widget3 = widgets.ToggleButtons(options = ['Easy', 'Medium','Hard'], description ='Difficulty', button_style='')\n",
    "\n",
    "\n",
    "interact(query_content,Limit = Limit_widget3, Medium = Medium_widget3, search_param=topic_widget3, Formality = expertise_widget3, Max_Length = max_length_widget3, Difficulty = difficulty_widget3);"
   ]
  },
  {
   "cell_type": "code",
   "execution_count": 14,
   "metadata": {
    "extensions": {
     "jupyter_dashboards": {
      "version": 1,
      "views": {
       "grid_default": {
        "col": 8,
        "height": 19,
        "hidden": false,
        "row": 77,
        "width": 4
       },
       "report_default": {
        "hidden": false
       }
      }
     }
    }
   },
   "outputs": [
    {
     "data": {
      "application/vnd.jupyter.widget-view+json": {
       "model_id": "e1dfd72108fd47eba52afb6a8d569ae4",
       "version_major": 2,
       "version_minor": 0
      },
      "text/plain": [
       "interactive(children=(Dropdown(description='Topic', index=13, options=('keto', 'mct', 'natural', 'corn-fed', '…"
      ]
     },
     "metadata": {},
     "output_type": "display_data"
    }
   ],
   "source": [
    "alt_widget_3 = widgets.Dropdown(options = nutrition_cats,value='vegan', description ='Topic', disabled=False)\n",
    "\n",
    "interact(plot_stacked, param = alt_widget_3);"
   ]
  },
  {
   "cell_type": "markdown",
   "metadata": {
    "extensions": {
     "jupyter_dashboards": {
      "version": 1,
      "views": {
       "grid_default": {
        "col": 0,
        "height": 3,
        "hidden": false,
        "row": 21,
        "width": 6
       },
       "report_default": {
        "hidden": false
       }
      }
     }
    }
   },
   "source": [
    "# Vegetarian"
   ]
  },
  {
   "cell_type": "code",
   "execution_count": 15,
   "metadata": {
    "extensions": {
     "jupyter_dashboards": {
      "version": 1,
      "views": {
       "grid_default": {
        "col": 0,
        "height": 18,
        "hidden": false,
        "row": 24,
        "width": 6
       },
       "report_default": {
        "hidden": false
       }
      }
     }
    },
    "scrolled": false
   },
   "outputs": [
    {
     "data": {
      "application/vnd.jupyter.widget-view+json": {
       "model_id": "52049c53e4c142f8954c4c8f22e8f8dd",
       "version_major": 2,
       "version_minor": 0
      },
      "text/plain": [
       "interactive(children=(IntSlider(value=1, description='Limit', max=5, min=1), ToggleButtons(description='Medium…"
      ]
     },
     "metadata": {},
     "output_type": "display_data"
    }
   ],
   "source": [
    "Limit_widget4 = widgets.IntSlider(min=1, max=5, step=1, value=1)\n",
    "Medium_widget4 = widgets.ToggleButtons(options = ['text', 'audio','video'], description ='Medium', button_style='')\n",
    "topic_widget4 = widgets.Dropdown(options = nutrition_cats,value='vegetarian', description ='Topic', disabled=False)\n",
    "expertise_widget4 = widgets.ToggleButtons(options = ['Informal', 'Intermediate','Formal'], description ='Formality', button_style='')\n",
    "max_length_widget4 = widgets.IntSlider(min=0, max=200, step=10, value=20)\n",
    "difficulty_widget4 = widgets.ToggleButtons(options = ['Easy', 'Medium','Hard'], description ='Difficulty', button_style='')\n",
    "\n",
    "interact(query_content,Limit = Limit_widget4, Medium = Medium_widget4, search_param=topic_widget4, Formality = expertise_widget4, Max_Length = max_length_widget4, Difficulty = difficulty_widget4);"
   ]
  },
  {
   "cell_type": "code",
   "execution_count": 16,
   "metadata": {
    "extensions": {
     "jupyter_dashboards": {
      "version": 1,
      "views": {
       "grid_default": {
        "col": 0,
        "height": 19,
        "hidden": false,
        "row": 96,
        "width": 4
       },
       "report_default": {
        "hidden": false
       }
      }
     }
    }
   },
   "outputs": [
    {
     "data": {
      "application/vnd.jupyter.widget-view+json": {
       "model_id": "975c77a60e84472bbd38be1d58840679",
       "version_major": 2,
       "version_minor": 0
      },
      "text/plain": [
       "interactive(children=(Dropdown(description='Topic', index=14, options=('keto', 'mct', 'natural', 'corn-fed', '…"
      ]
     },
     "metadata": {},
     "output_type": "display_data"
    }
   ],
   "source": [
    "alt_widget_4 = widgets.Dropdown(options = nutrition_cats,value='vegetarian', description ='Topic', disabled=False)\n",
    "\n",
    "interact(plot_stacked, param = alt_widget_4);"
   ]
  },
  {
   "cell_type": "markdown",
   "metadata": {
    "extensions": {
     "jupyter_dashboards": {
      "version": 1,
      "views": {
       "grid_default": {},
       "report_default": {
        "hidden": false
       }
      }
     }
    }
   },
   "source": [
    "# General"
   ]
  },
  {
   "cell_type": "code",
   "execution_count": 17,
   "metadata": {
    "extensions": {
     "jupyter_dashboards": {
      "version": 1,
      "views": {
       "grid_default": {},
       "report_default": {
        "hidden": false
       }
      }
     }
    }
   },
   "outputs": [
    {
     "data": {
      "application/vnd.jupyter.widget-view+json": {
       "model_id": "29bf5e3a604d4c03a5a8076d03fb2478",
       "version_major": 2,
       "version_minor": 0
      },
      "text/plain": [
       "interactive(children=(IntSlider(value=1, description='Limit', max=5, min=1), ToggleButtons(description='Medium…"
      ]
     },
     "metadata": {},
     "output_type": "display_data"
    }
   ],
   "source": [
    "Limit_widget5 = widgets.IntSlider(min=1, max=5, step=1, value=1)\n",
    "Medium_widget5 = widgets.ToggleButtons(options = ['text', 'audio','video'], description ='Medium', button_style='')\n",
    "topic_widget5 = widgets.Dropdown(options = ['general'],value='general', description ='Topic', disabled=False)\n",
    "expertise_widget5 = widgets.ToggleButtons(options = ['Informal', 'Intermediate','Formal'], description ='Formality', button_style='')\n",
    "max_length_widget5 = widgets.IntSlider(min=0, max=300, step=10, value=20)\n",
    "difficulty_widget5 = widgets.ToggleButtons(options = ['Easy', 'Medium','Hard'], description ='Difficulty', button_style='')\n",
    "\n",
    "interact(query_content,Limit = Limit_widget5, Medium = Medium_widget5, search_param=topic_widget5, Formality = expertise_widget5, Max_Length = max_length_widget5,Difficulty - difficulty_widget5);"
   ]
  },
  {
   "cell_type": "code",
   "execution_count": 18,
   "metadata": {
    "extensions": {
     "jupyter_dashboards": {
      "version": 1,
      "views": {
       "grid_default": {},
       "report_default": {
        "hidden": false
       }
      }
     }
    }
   },
   "outputs": [
    {
     "data": {
      "application/vnd.jupyter.widget-view+json": {
       "model_id": "5027662bc045460aab5a39e44e32c53b",
       "version_major": 2,
       "version_minor": 0
      },
      "text/plain": [
       "interactive(children=(Dropdown(description='Topic', options=('general',), value='general'), Output()), _dom_cl…"
      ]
     },
     "metadata": {},
     "output_type": "display_data"
    }
   ],
   "source": [
    "alt_widget_5 = widgets.Dropdown(options = ['general'],value='general', description ='Topic', disabled=False)\n",
    "\n",
    "interact(plot_stacked, param = alt_widget_5);"
   ]
  },
  {
   "cell_type": "markdown",
   "metadata": {
    "extensions": {
     "jupyter_dashboards": {
      "version": 1,
      "views": {
       "grid_default": {
        "col": 0,
        "height": 4,
        "hidden": false,
        "row": 42,
        "width": 12
       },
       "report_default": {
        "hidden": false
       }
      }
     }
    }
   },
   "source": [
    "# Search"
   ]
  },
  {
   "cell_type": "code",
   "execution_count": 19,
   "metadata": {
    "extensions": {
     "jupyter_dashboards": {
      "version": 1,
      "views": {
       "grid_default": {
        "col": 0,
        "height": 31,
        "hidden": false,
        "row": 46,
        "width": 12
       },
       "report_default": {
        "hidden": true
       }
      }
     }
    }
   },
   "outputs": [],
   "source": [
    "# search_widget = widgets.Text(placeholder = 'Search News', description='Search:', disabled=False,continuous_update=False)\n",
    "# Limit_widget5 = widgets.IntSlider(min=1, max=5, step=1, value=1)\n",
    "# Medium_widget5 = widgets.ToggleButtons(options = ['text', 'audio','video'], description ='Medium', button_style='')\n",
    "\n",
    "\n",
    "\n",
    "\n",
    "# interact(query_content,search_param=search_widget,Limit = Limit_widget5, Medium = Medium_widget5);"
   ]
  }
 ],
 "metadata": {
  "extensions": {
   "jupyter_dashboards": {
    "activeView": "report_default",
    "version": 1,
    "views": {
     "grid_default": {
      "cellMargin": 10,
      "defaultCellHeight": 20,
      "maxColumns": 12,
      "name": "grid",
      "type": "grid"
     },
     "report_default": {
      "name": "report",
      "type": "report"
     }
    }
   }
  },
  "kernelspec": {
   "display_name": "Python 3",
   "language": "python",
   "name": "python3"
  },
  "language_info": {
   "codemirror_mode": {
    "name": "ipython",
    "version": 3
   },
   "file_extension": ".py",
   "mimetype": "text/x-python",
   "name": "python",
   "nbconvert_exporter": "python",
   "pygments_lexer": "ipython3",
   "version": "3.6.5"
  }
 },
 "nbformat": 4,
 "nbformat_minor": 2
}
