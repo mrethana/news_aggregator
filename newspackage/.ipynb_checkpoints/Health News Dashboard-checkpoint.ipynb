{
 "cells": [
  {
   "cell_type": "code",
   "execution_count": 1,
   "metadata": {
    "extensions": {
     "jupyter_dashboards": {
      "version": 1,
      "views": {
       "grid_default": {
        "hidden": true
       },
       "report_default": {
        "hidden": false
       }
      }
     }
    }
   },
   "outputs": [
    {
     "name": "stdout",
     "output_type": "stream",
     "text": [
      "Database session created\n"
     ]
    }
   ],
   "source": [
    "import ipywidgets as widgets\n",
    "from ipywidgets import interact, interactive, fixed, interact_manual\n",
    "import ipywidgets as widgets\n",
    "from IPython.display import Image\n",
    "from IPython.core.display import HTML \n",
    "import time\n",
    "from ipywidgets import FloatProgress\n",
    "from IPython.display import display\n",
    "from bs4 import BeautifulSoup\n",
    "import requests\n",
    "import re\n",
    "from os import path\n",
    "from PIL import Image\n",
    "import pandas as pd\n",
    "import warnings\n",
    "warnings.filterwarnings(\"ignore\")\n",
    "from models import *\n",
    "from etl import *\n",
    "import plotly.plotly as py\n",
    "import plotly.graph_objs as go"
   ]
  },
  {
   "cell_type": "code",
   "execution_count": 21,
   "metadata": {},
   "outputs": [],
   "source": [
    "df = pd.DataFrame([{'content_url':content.content_url, 'image_url':content.image_url,'title':content.title\n",
    "                             , 'published': content.published, 'length': content.length, 'medium':content.medium.name,\n",
    "                             'provider': content.provider.name, 'api_id':content.provider.api_id, 'formality':content.provider.formality.type,\n",
    "                             'category':content.category.name} for content in session.query(Content).all()])\n",
    "df.to_csv('all_content.csv')"
   ]
  },
  {
   "cell_type": "code",
   "execution_count": 22,
   "metadata": {},
   "outputs": [
    {
     "data": {
      "text/html": [
       "<div>\n",
       "<style scoped>\n",
       "    .dataframe tbody tr th:only-of-type {\n",
       "        vertical-align: middle;\n",
       "    }\n",
       "\n",
       "    .dataframe tbody tr th {\n",
       "        vertical-align: top;\n",
       "    }\n",
       "\n",
       "    .dataframe thead th {\n",
       "        text-align: right;\n",
       "    }\n",
       "</style>\n",
       "<table border=\"1\" class=\"dataframe\">\n",
       "  <thead>\n",
       "    <tr style=\"text-align: right;\">\n",
       "      <th></th>\n",
       "      <th>api_id</th>\n",
       "      <th>category</th>\n",
       "      <th>content_url</th>\n",
       "      <th>formality</th>\n",
       "      <th>image_url</th>\n",
       "      <th>length</th>\n",
       "      <th>medium</th>\n",
       "      <th>provider</th>\n",
       "      <th>published</th>\n",
       "      <th>title</th>\n",
       "    </tr>\n",
       "  </thead>\n",
       "  <tbody>\n",
       "    <tr>\n",
       "      <th>0</th>\n",
       "      <td>engadget</td>\n",
       "      <td>keto</td>\n",
       "      <td>https://www.engadget.com/2018/11/27/keyto-brea...</td>\n",
       "      <td>Intermediate</td>\n",
       "      <td>https://o.aolcdn.com/images/dims?thumbnail=120...</td>\n",
       "      <td>2.00</td>\n",
       "      <td>text</td>\n",
       "      <td>Engadget</td>\n",
       "      <td>2018-11-27</td>\n",
       "      <td>Keyto breath analyzer promises to keep your ke...</td>\n",
       "    </tr>\n",
       "    <tr>\n",
       "      <th>1</th>\n",
       "      <td>usa-today</td>\n",
       "      <td>keto</td>\n",
       "      <td>https://www.usatoday.com/story/life/grateful/2...</td>\n",
       "      <td>Intermediate</td>\n",
       "      <td>https://www.gannett-cdn.com/presto/2018/10/17/...</td>\n",
       "      <td>5.00</td>\n",
       "      <td>text</td>\n",
       "      <td>USA Today</td>\n",
       "      <td>2018-11-16</td>\n",
       "      <td>An irreverent Thanksgiving: Making the holiday...</td>\n",
       "    </tr>\n",
       "    <tr>\n",
       "      <th>2</th>\n",
       "      <td>the-wall-street-journal</td>\n",
       "      <td>keto</td>\n",
       "      <td>https://www.wsj.com/articles/this-coffee-is-ni...</td>\n",
       "      <td>Intermediate</td>\n",
       "      <td>https://si.wsj.net/public/resources/images/B3-...</td>\n",
       "      <td>6.00</td>\n",
       "      <td>text</td>\n",
       "      <td>The Wall Street Journal</td>\n",
       "      <td>2018-11-26</td>\n",
       "      <td>This Coffee Is Nice But It Needs More Butter -...</td>\n",
       "    </tr>\n",
       "    <tr>\n",
       "      <th>3</th>\n",
       "      <td>the-telegraph</td>\n",
       "      <td>keto</td>\n",
       "      <td>https://www.telegraph.co.uk/boxing/2018/11/27/...</td>\n",
       "      <td>Intermediate</td>\n",
       "      <td>https://www.telegraph.co.uk/content/dam/boxing...</td>\n",
       "      <td>1.00</td>\n",
       "      <td>text</td>\n",
       "      <td>The Telegraph</td>\n",
       "      <td>2018-11-27</td>\n",
       "      <td>Revealed: The secrets behind Tyson Fury's extr...</td>\n",
       "    </tr>\n",
       "    <tr>\n",
       "      <th>4</th>\n",
       "      <td>newsweek</td>\n",
       "      <td>keto</td>\n",
       "      <td>https://www.newsweek.com/vinny-guadagnino-talk...</td>\n",
       "      <td>Intermediate</td>\n",
       "      <td>https://s.newsweek.com/sites/www.newsweek.com/...</td>\n",
       "      <td>3.00</td>\n",
       "      <td>text</td>\n",
       "      <td>Newsweek</td>\n",
       "      <td>2018-11-15</td>\n",
       "      <td>What Happens When 'Jersey Shore' Ends? Vinny G...</td>\n",
       "    </tr>\n",
       "    <tr>\n",
       "      <th>5</th>\n",
       "      <td>buzzfeed</td>\n",
       "      <td>keto</td>\n",
       "      <td>https://www.buzzfeed.com/michelleno/low-carb-k...</td>\n",
       "      <td>Intermediate</td>\n",
       "      <td>https://img.buzzfeed.com/buzzfeed-static/stati...</td>\n",
       "      <td>4.00</td>\n",
       "      <td>text</td>\n",
       "      <td>Buzzfeed</td>\n",
       "      <td>2018-11-17</td>\n",
       "      <td>14 Keto Versions Of Popular Holiday Desserts</td>\n",
       "    </tr>\n",
       "    <tr>\n",
       "      <th>6</th>\n",
       "      <td>business-insider</td>\n",
       "      <td>keto</td>\n",
       "      <td>https://www.businessinsider.com/best-keto-meal...</td>\n",
       "      <td>Intermediate</td>\n",
       "      <td>https://amp.businessinsider.com/images/5bfc676...</td>\n",
       "      <td>1.00</td>\n",
       "      <td>text</td>\n",
       "      <td>Business Insider</td>\n",
       "      <td>2018-11-27</td>\n",
       "      <td>10 of the best keto meal options at popular ch...</td>\n",
       "    </tr>\n",
       "    <tr>\n",
       "      <th>7</th>\n",
       "      <td>business-insider</td>\n",
       "      <td>keto</td>\n",
       "      <td>https://www.businessinsider.com/keto-breathaly...</td>\n",
       "      <td>Intermediate</td>\n",
       "      <td>https://amp.businessinsider.com/images/5bfd48a...</td>\n",
       "      <td>3.00</td>\n",
       "      <td>text</td>\n",
       "      <td>Business Insider</td>\n",
       "      <td>2018-11-27</td>\n",
       "      <td>A new $100 keto breathalyzer could finally mak...</td>\n",
       "    </tr>\n",
       "    <tr>\n",
       "      <th>8</th>\n",
       "      <td>business-insider</td>\n",
       "      <td>keto</td>\n",
       "      <td>https://www.businessinsider.com/keto-thanksgiv...</td>\n",
       "      <td>Intermediate</td>\n",
       "      <td>https://amp.businessinsider.com/images/5bf2f66...</td>\n",
       "      <td>1.00</td>\n",
       "      <td>text</td>\n",
       "      <td>Business Insider</td>\n",
       "      <td>2018-11-20</td>\n",
       "      <td>How to have a carb-free keto Thanksgiving, acc...</td>\n",
       "    </tr>\n",
       "    <tr>\n",
       "      <th>9</th>\n",
       "      <td>buzzfeed</td>\n",
       "      <td>keto</td>\n",
       "      <td>https://www.buzzfeed.com/jamedjackson/20-hilar...</td>\n",
       "      <td>Intermediate</td>\n",
       "      <td>https://img.buzzfeed.com/buzzfeed-static/stati...</td>\n",
       "      <td>4.00</td>\n",
       "      <td>text</td>\n",
       "      <td>Buzzfeed</td>\n",
       "      <td>2018-11-27</td>\n",
       "      <td>These \"Overheard\" Tweets Will Make You Wonder ...</td>\n",
       "    </tr>\n",
       "    <tr>\n",
       "      <th>10</th>\n",
       "      <td>business-insider</td>\n",
       "      <td>mct</td>\n",
       "      <td>https://www.businessinsider.com/shark-tank-kit...</td>\n",
       "      <td>Intermediate</td>\n",
       "      <td>https://amp.businessinsider.com/images/5bf338f...</td>\n",
       "      <td>4.00</td>\n",
       "      <td>text</td>\n",
       "      <td>Business Insider</td>\n",
       "      <td>2018-11-20</td>\n",
       "      <td>Entrepreneurs who launched their $50 million c...</td>\n",
       "    </tr>\n",
       "    <tr>\n",
       "      <th>11</th>\n",
       "      <td>the-telegraph</td>\n",
       "      <td>mct</td>\n",
       "      <td>https://www.telegraph.co.uk/technology/2018/11...</td>\n",
       "      <td>Intermediate</td>\n",
       "      <td>https://www.telegraph.co.uk/content/dam/techno...</td>\n",
       "      <td>1.00</td>\n",
       "      <td>text</td>\n",
       "      <td>The Telegraph</td>\n",
       "      <td>2018-11-20</td>\n",
       "      <td>Musk renames Mars rocket 'Starship' and says '...</td>\n",
       "    </tr>\n",
       "    <tr>\n",
       "      <th>12</th>\n",
       "      <td>bbc-news</td>\n",
       "      <td>mct</td>\n",
       "      <td>https://www.bbc.co.uk/news/business-46274158</td>\n",
       "      <td>Intermediate</td>\n",
       "      <td>https://ichef.bbci.co.uk/news/1024/branded_new...</td>\n",
       "      <td>2.00</td>\n",
       "      <td>text</td>\n",
       "      <td>BBC News</td>\n",
       "      <td>2018-11-20</td>\n",
       "      <td>Elon Musk renames his BFR spacecraft Starship</td>\n",
       "    </tr>\n",
       "    <tr>\n",
       "      <th>13</th>\n",
       "      <td>abc-news</td>\n",
       "      <td>mct</td>\n",
       "      <td>https://abcnews.go.com/International/wireStory...</td>\n",
       "      <td>Intermediate</td>\n",
       "      <td>None</td>\n",
       "      <td>0.00</td>\n",
       "      <td>text</td>\n",
       "      <td>ABC News</td>\n",
       "      <td>2018-11-27</td>\n",
       "      <td>21 held in melee over Malaysian temple land di...</td>\n",
       "    </tr>\n",
       "    <tr>\n",
       "      <th>14</th>\n",
       "      <td>the-wall-street-journal</td>\n",
       "      <td>mct</td>\n",
       "      <td>https://www.wsj.com/articles/this-coffee-is-ni...</td>\n",
       "      <td>Intermediate</td>\n",
       "      <td>https://si.wsj.net/public/resources/images/B3-...</td>\n",
       "      <td>6.00</td>\n",
       "      <td>text</td>\n",
       "      <td>The Wall Street Journal</td>\n",
       "      <td>2018-11-26</td>\n",
       "      <td>This Coffee Is Nice But It Needs More Butter -...</td>\n",
       "    </tr>\n",
       "    <tr>\n",
       "      <th>15</th>\n",
       "      <td>cbc-news</td>\n",
       "      <td>mct</td>\n",
       "      <td>https://www.cbc.ca/news/canada/british-columbi...</td>\n",
       "      <td>Intermediate</td>\n",
       "      <td>https://i.cbc.ca/1.4902189.1542052384!/fileIma...</td>\n",
       "      <td>1.00</td>\n",
       "      <td>text</td>\n",
       "      <td>CBC News</td>\n",
       "      <td>2018-11-22</td>\n",
       "      <td>Manufacturer says no B.C. customers received m...</td>\n",
       "    </tr>\n",
       "    <tr>\n",
       "      <th>16</th>\n",
       "      <td>cbc-news</td>\n",
       "      <td>mct</td>\n",
       "      <td>https://www.cbc.ca/news/canada/british-columbi...</td>\n",
       "      <td>Intermediate</td>\n",
       "      <td>https://i.cbc.ca/1.4902189.1542052384!/fileIma...</td>\n",
       "      <td>3.00</td>\n",
       "      <td>text</td>\n",
       "      <td>CBC News</td>\n",
       "      <td>2018-11-22</td>\n",
       "      <td>Mislabelled cannabis spray sold by B.C. pot st...</td>\n",
       "    </tr>\n",
       "    <tr>\n",
       "      <th>17</th>\n",
       "      <td>daily-mail</td>\n",
       "      <td>mct</td>\n",
       "      <td>https://www.dailymail.co.uk/femail/article-638...</td>\n",
       "      <td>Intermediate</td>\n",
       "      <td>https://i.dailymail.co.uk/1s/2018/11/13/00/610...</td>\n",
       "      <td>6.00</td>\n",
       "      <td>text</td>\n",
       "      <td>Daily Mail</td>\n",
       "      <td>2018-11-13</td>\n",
       "      <td>Woman who transformed her body by only losing ...</td>\n",
       "    </tr>\n",
       "    <tr>\n",
       "      <th>18</th>\n",
       "      <td>vice-news</td>\n",
       "      <td>mct</td>\n",
       "      <td>https://broadly.vice.com/en_us/article/59vznb/...</td>\n",
       "      <td>Intermediate</td>\n",
       "      <td>https://video-images.vice.com/articles/5be4241...</td>\n",
       "      <td>3.00</td>\n",
       "      <td>text</td>\n",
       "      <td>Vice News</td>\n",
       "      <td>2018-11-08</td>\n",
       "      <td>Anti-Abortion Terrorist Who Shot George Tiller...</td>\n",
       "    </tr>\n",
       "    <tr>\n",
       "      <th>19</th>\n",
       "      <td>associated-press</td>\n",
       "      <td>mct</td>\n",
       "      <td>https://apnews.com/c5bddad70e684a5da20c9a72829...</td>\n",
       "      <td>Intermediate</td>\n",
       "      <td>https://bloximages.newyork1.vip.townnews.com/r...</td>\n",
       "      <td>3.00</td>\n",
       "      <td>text</td>\n",
       "      <td>Associated Press</td>\n",
       "      <td>2018-11-27</td>\n",
       "      <td>21 held in melee over Malaysian temple land di...</td>\n",
       "    </tr>\n",
       "    <tr>\n",
       "      <th>20</th>\n",
       "      <td>wired</td>\n",
       "      <td>natural</td>\n",
       "      <td>https://www.wired.com/story/copy-machine-lands...</td>\n",
       "      <td>Intermediate</td>\n",
       "      <td>https://media.wired.com/photos/5bfde2bfab39b96...</td>\n",
       "      <td>2.00</td>\n",
       "      <td>text</td>\n",
       "      <td>Wired</td>\n",
       "      <td>2018-11-28</td>\n",
       "      <td>A Copy Machine Artist Creates Photos of Famili...</td>\n",
       "    </tr>\n",
       "    <tr>\n",
       "      <th>21</th>\n",
       "      <td>bbc-news</td>\n",
       "      <td>natural</td>\n",
       "      <td>https://www.bbc.co.uk/news/av/science-environm...</td>\n",
       "      <td>Intermediate</td>\n",
       "      <td>https://ichef.bbci.co.uk/news/1024/branded_new...</td>\n",
       "      <td>4.00</td>\n",
       "      <td>text</td>\n",
       "      <td>BBC News</td>\n",
       "      <td>2018-11-08</td>\n",
       "      <td>First 'retirement home' for showbiz beluga whales</td>\n",
       "    </tr>\n",
       "    <tr>\n",
       "      <th>22</th>\n",
       "      <td>cnn</td>\n",
       "      <td>natural</td>\n",
       "      <td>https://www.cnn.com/videos/business/2018/11/08...</td>\n",
       "      <td>Intermediate</td>\n",
       "      <td>https://cdn.cnn.com/cnnnext/dam/assets/1811081...</td>\n",
       "      <td>4.00</td>\n",
       "      <td>text</td>\n",
       "      <td>CNN</td>\n",
       "      <td>2018-11-08</td>\n",
       "      <td>See robots fly and swim just like animals</td>\n",
       "    </tr>\n",
       "    <tr>\n",
       "      <th>23</th>\n",
       "      <td>the-guardian-au</td>\n",
       "      <td>natural</td>\n",
       "      <td>https://www.theguardian.com/culture/2018/nov/1...</td>\n",
       "      <td>Intermediate</td>\n",
       "      <td>https://i.guim.co.uk/img/media/f96fd653ab77a0b...</td>\n",
       "      <td>3.00</td>\n",
       "      <td>text</td>\n",
       "      <td>The Guardian (AU)</td>\n",
       "      <td>2018-11-13</td>\n",
       "      <td>Natural History Museum accused of accepting ‘b...</td>\n",
       "    </tr>\n",
       "    <tr>\n",
       "      <th>24</th>\n",
       "      <td>mashable</td>\n",
       "      <td>natural</td>\n",
       "      <td>https://mashable.com/article/california-woolse...</td>\n",
       "      <td>Intermediate</td>\n",
       "      <td>https://i.amz.mshcdn.com/K-qAqgCRigdBRjavN-HVk...</td>\n",
       "      <td>1.00</td>\n",
       "      <td>text</td>\n",
       "      <td>Mashable</td>\n",
       "      <td>2018-11-21</td>\n",
       "      <td>California's Woolsey Fire has left a burn scar...</td>\n",
       "    </tr>\n",
       "    <tr>\n",
       "      <th>25</th>\n",
       "      <td>the-guardian-au</td>\n",
       "      <td>natural</td>\n",
       "      <td>https://www.theguardian.com/world/2018/nov/09/...</td>\n",
       "      <td>Intermediate</td>\n",
       "      <td>https://i.guim.co.uk/img/media/b49f201fed3b750...</td>\n",
       "      <td>7.00</td>\n",
       "      <td>text</td>\n",
       "      <td>The Guardian (AU)</td>\n",
       "      <td>2018-11-17</td>\n",
       "      <td>Indonesia's love affair with its dying natural...</td>\n",
       "    </tr>\n",
       "    <tr>\n",
       "      <th>26</th>\n",
       "      <td>mashable</td>\n",
       "      <td>natural</td>\n",
       "      <td>https://mashable.com/article/epa-website-chang...</td>\n",
       "      <td>Intermediate</td>\n",
       "      <td>https://i.amz.mshcdn.com/Fk9vL4wn01F87N28MTw7X...</td>\n",
       "      <td>3.00</td>\n",
       "      <td>text</td>\n",
       "      <td>Mashable</td>\n",
       "      <td>2018-11-18</td>\n",
       "      <td>Trump administration changes EPA website to be...</td>\n",
       "    </tr>\n",
       "    <tr>\n",
       "      <th>27</th>\n",
       "      <td>engadget</td>\n",
       "      <td>natural</td>\n",
       "      <td>https://www.engadget.com/2018/11/14/google-pix...</td>\n",
       "      <td>Intermediate</td>\n",
       "      <td>https://o.aolcdn.com/images/dims?thumbnail=120...</td>\n",
       "      <td>1.00</td>\n",
       "      <td>text</td>\n",
       "      <td>Engadget</td>\n",
       "      <td>2018-11-14</td>\n",
       "      <td>The Pixel's Night Sight camera mode performs i...</td>\n",
       "    </tr>\n",
       "    <tr>\n",
       "      <th>28</th>\n",
       "      <td>engadget</td>\n",
       "      <td>natural</td>\n",
       "      <td>https://www.engadget.com/2018/11/20/civilizati...</td>\n",
       "      <td>Intermediate</td>\n",
       "      <td>https://o.aolcdn.com/images/dims?thumbnail=120...</td>\n",
       "      <td>1.00</td>\n",
       "      <td>text</td>\n",
       "      <td>Engadget</td>\n",
       "      <td>2018-11-21</td>\n",
       "      <td>'Civilization VI' expansion 'Gathering Storm' ...</td>\n",
       "    </tr>\n",
       "    <tr>\n",
       "      <th>29</th>\n",
       "      <td>the-guardian-au</td>\n",
       "      <td>natural</td>\n",
       "      <td>https://www.theguardian.com/tv-and-radio/2018/...</td>\n",
       "      <td>Intermediate</td>\n",
       "      <td>https://i.guim.co.uk/img/media/0ed485b369295e7...</td>\n",
       "      <td>3.00</td>\n",
       "      <td>text</td>\n",
       "      <td>The Guardian (AU)</td>\n",
       "      <td>2018-11-08</td>\n",
       "      <td>David Attenborough to present Netflix nature s...</td>\n",
       "    </tr>\n",
       "    <tr>\n",
       "      <th>...</th>\n",
       "      <td>...</td>\n",
       "      <td>...</td>\n",
       "      <td>...</td>\n",
       "      <td>...</td>\n",
       "      <td>...</td>\n",
       "      <td>...</td>\n",
       "      <td>...</td>\n",
       "      <td>...</td>\n",
       "      <td>...</td>\n",
       "      <td>...</td>\n",
       "    </tr>\n",
       "    <tr>\n",
       "      <th>16022</th>\n",
       "      <td>Itunes Audiobook</td>\n",
       "      <td>ketogenic diet</td>\n",
       "      <td>https://itunes.apple.com/us/audiobook/keto-bod...</td>\n",
       "      <td>Formal</td>\n",
       "      <td>https://is4-ssl.mzstatic.com/image/thumb/Music...</td>\n",
       "      <td>17.95</td>\n",
       "      <td>audio</td>\n",
       "      <td>Siim Land</td>\n",
       "      <td>2016-08-26</td>\n",
       "      <td>Keto Bodybuilding: The Definitive Guide to Doi...</td>\n",
       "    </tr>\n",
       "    <tr>\n",
       "      <th>16023</th>\n",
       "      <td>Itunes Audiobook</td>\n",
       "      <td>ketogenic diet</td>\n",
       "      <td>https://itunes.apple.com/us/audiobook/simple-5...</td>\n",
       "      <td>Formal</td>\n",
       "      <td>https://is3-ssl.mzstatic.com/image/thumb/Music...</td>\n",
       "      <td>5.95</td>\n",
       "      <td>audio</td>\n",
       "      <td>Sydney Foster</td>\n",
       "      <td>2018-08-10</td>\n",
       "      <td>The Simple 5 Ingredients or Less Keto Cookbook...</td>\n",
       "    </tr>\n",
       "    <tr>\n",
       "      <th>16024</th>\n",
       "      <td>Itunes Audiobook</td>\n",
       "      <td>ketogenic diet</td>\n",
       "      <td>https://itunes.apple.com/us/audiobook/keto-die...</td>\n",
       "      <td>Formal</td>\n",
       "      <td>https://is1-ssl.mzstatic.com/image/thumb/Music...</td>\n",
       "      <td>14.95</td>\n",
       "      <td>audio</td>\n",
       "      <td>Ted Duncan</td>\n",
       "      <td>2018-04-12</td>\n",
       "      <td>Keto Diet for Beginners Bible: Ketogenic Diet,...</td>\n",
       "    </tr>\n",
       "    <tr>\n",
       "      <th>16025</th>\n",
       "      <td>Itunes Audiobook</td>\n",
       "      <td>ketogenic diet</td>\n",
       "      <td>https://itunes.apple.com/us/audiobook/beginner...</td>\n",
       "      <td>Formal</td>\n",
       "      <td>https://is1-ssl.mzstatic.com/image/thumb/Music...</td>\n",
       "      <td>14.95</td>\n",
       "      <td>audio</td>\n",
       "      <td>Healthy Living for Adults</td>\n",
       "      <td>2018-06-06</td>\n",
       "      <td>The Beginner’s Ketogenic Diet for Health Benef...</td>\n",
       "    </tr>\n",
       "    <tr>\n",
       "      <th>16026</th>\n",
       "      <td>Itunes Audiobook</td>\n",
       "      <td>ketogenic diet</td>\n",
       "      <td>https://itunes.apple.com/us/audiobook/ketogeni...</td>\n",
       "      <td>Formal</td>\n",
       "      <td>https://is2-ssl.mzstatic.com/image/thumb/Music...</td>\n",
       "      <td>14.95</td>\n",
       "      <td>audio</td>\n",
       "      <td>Ted Duncan</td>\n",
       "      <td>2018-03-14</td>\n",
       "      <td>Ketogenic Diet Bible: 3 Manuscripts in 1 Book:...</td>\n",
       "    </tr>\n",
       "    <tr>\n",
       "      <th>16027</th>\n",
       "      <td>Itunes Audiobook</td>\n",
       "      <td>ketogenic diet</td>\n",
       "      <td>https://itunes.apple.com/us/audiobook/ketogeni...</td>\n",
       "      <td>Formal</td>\n",
       "      <td>https://is5-ssl.mzstatic.com/image/thumb/Music...</td>\n",
       "      <td>3.95</td>\n",
       "      <td>audio</td>\n",
       "      <td>Wade Migan</td>\n",
       "      <td>2015-11-17</td>\n",
       "      <td>Ketogenic Diet: The Ultimate Beginner's Guide ...</td>\n",
       "    </tr>\n",
       "    <tr>\n",
       "      <th>16028</th>\n",
       "      <td>Itunes Audiobook</td>\n",
       "      <td>ketogenic diet</td>\n",
       "      <td>https://itunes.apple.com/us/audiobook/target-k...</td>\n",
       "      <td>Formal</td>\n",
       "      <td>https://is3-ssl.mzstatic.com/image/thumb/Music...</td>\n",
       "      <td>5.95</td>\n",
       "      <td>audio</td>\n",
       "      <td>Siim Land</td>\n",
       "      <td>2016-08-17</td>\n",
       "      <td>Target Keto: The Targeted Ketogenic Diet for L...</td>\n",
       "    </tr>\n",
       "    <tr>\n",
       "      <th>16029</th>\n",
       "      <td>Itunes Audiobook</td>\n",
       "      <td>ketogenic diet</td>\n",
       "      <td>https://itunes.apple.com/us/audiobook/ketogeni...</td>\n",
       "      <td>Formal</td>\n",
       "      <td>https://is3-ssl.mzstatic.com/image/thumb/Music...</td>\n",
       "      <td>5.95</td>\n",
       "      <td>audio</td>\n",
       "      <td>Valerie Childs</td>\n",
       "      <td>2015-10-07</td>\n",
       "      <td>Ketogenic Diet: Bonus Ketogenic Recipes for Br...</td>\n",
       "    </tr>\n",
       "    <tr>\n",
       "      <th>16030</th>\n",
       "      <td>Itunes Ebook</td>\n",
       "      <td>ketogenic diet</td>\n",
       "      <td>https://itunes.apple.com/us/audiobook/summary-...</td>\n",
       "      <td>Formal</td>\n",
       "      <td>https://is1-ssl.mzstatic.com/image/thumb/Music...</td>\n",
       "      <td>3.95</td>\n",
       "      <td>audio</td>\n",
       "      <td>Zip Reads</td>\n",
       "      <td>2018-09-11</td>\n",
       "      <td>Summary &amp; Analysis of The Metabolic Approach t...</td>\n",
       "    </tr>\n",
       "    <tr>\n",
       "      <th>16031</th>\n",
       "      <td>Itunes Audiobook</td>\n",
       "      <td>ketogenic diet</td>\n",
       "      <td>https://itunes.apple.com/us/audiobook/ketogeni...</td>\n",
       "      <td>Formal</td>\n",
       "      <td>https://is5-ssl.mzstatic.com/image/thumb/Music...</td>\n",
       "      <td>5.95</td>\n",
       "      <td>audio</td>\n",
       "      <td>James Pini</td>\n",
       "      <td>2017-03-08</td>\n",
       "      <td>Ketogenic Diet: Beginner's Guide to Rapid Weig...</td>\n",
       "    </tr>\n",
       "    <tr>\n",
       "      <th>16032</th>\n",
       "      <td>Itunes Audiobook</td>\n",
       "      <td>ketogenic diet</td>\n",
       "      <td>https://itunes.apple.com/us/audiobook/keto-die...</td>\n",
       "      <td>Formal</td>\n",
       "      <td>https://is1-ssl.mzstatic.com/image/thumb/Music...</td>\n",
       "      <td>5.95</td>\n",
       "      <td>audio</td>\n",
       "      <td>Steve Ryan</td>\n",
       "      <td>2017-03-24</td>\n",
       "      <td>Keto Diet: Learn How to Lose Weight Fast with ...</td>\n",
       "    </tr>\n",
       "    <tr>\n",
       "      <th>16033</th>\n",
       "      <td>Itunes Audiobook</td>\n",
       "      <td>ketogenic diet</td>\n",
       "      <td>https://itunes.apple.com/us/audiobook/ketogeni...</td>\n",
       "      <td>Formal</td>\n",
       "      <td>https://is5-ssl.mzstatic.com/image/thumb/Music...</td>\n",
       "      <td>3.95</td>\n",
       "      <td>audio</td>\n",
       "      <td>Chase Strongwell</td>\n",
       "      <td>2015-07-14</td>\n",
       "      <td>Ketogenic Diet for Beginners: Fast Safe Weight...</td>\n",
       "    </tr>\n",
       "    <tr>\n",
       "      <th>16034</th>\n",
       "      <td>Itunes Audiobook</td>\n",
       "      <td>ketogenic diet</td>\n",
       "      <td>https://itunes.apple.com/us/audiobook/most-com...</td>\n",
       "      <td>Formal</td>\n",
       "      <td>https://is4-ssl.mzstatic.com/image/thumb/Music...</td>\n",
       "      <td>5.95</td>\n",
       "      <td>audio</td>\n",
       "      <td>Orlando Scott</td>\n",
       "      <td>2016-11-15</td>\n",
       "      <td>The Most Common Ketogenic Diet Mistakes: Why t...</td>\n",
       "    </tr>\n",
       "    <tr>\n",
       "      <th>16035</th>\n",
       "      <td>Itunes Ebook</td>\n",
       "      <td>ketogenic diet</td>\n",
       "      <td>https://itunes.apple.com/us/audiobook/painless...</td>\n",
       "      <td>Formal</td>\n",
       "      <td>https://is2-ssl.mzstatic.com/image/thumb/Music...</td>\n",
       "      <td>5.95</td>\n",
       "      <td>audio</td>\n",
       "      <td>Phillip Pablo</td>\n",
       "      <td>2014-11-19</td>\n",
       "      <td>Painless Ketogenic Diet Recipes for Lazy Peopl...</td>\n",
       "    </tr>\n",
       "    <tr>\n",
       "      <th>16036</th>\n",
       "      <td>Itunes Audiobook</td>\n",
       "      <td>ketogenic diet</td>\n",
       "      <td>https://itunes.apple.com/us/audiobook/low-carb...</td>\n",
       "      <td>Formal</td>\n",
       "      <td>https://is5-ssl.mzstatic.com/image/thumb/Music...</td>\n",
       "      <td>3.95</td>\n",
       "      <td>audio</td>\n",
       "      <td>Law Payne</td>\n",
       "      <td>2014-11-03</td>\n",
       "      <td>Low Carb Diet: The Ketogenic Diet (Unabridged)</td>\n",
       "    </tr>\n",
       "    <tr>\n",
       "      <th>16037</th>\n",
       "      <td>Itunes Ebook</td>\n",
       "      <td>ketogenic diet</td>\n",
       "      <td>https://itunes.apple.com/us/audiobook/keto-die...</td>\n",
       "      <td>Formal</td>\n",
       "      <td>https://is2-ssl.mzstatic.com/image/thumb/Music...</td>\n",
       "      <td>5.95</td>\n",
       "      <td>audio</td>\n",
       "      <td>Epic Rios</td>\n",
       "      <td>2018-04-10</td>\n",
       "      <td>Keto Diet for Beginners: Burn Fat with the Ket...</td>\n",
       "    </tr>\n",
       "    <tr>\n",
       "      <th>16038</th>\n",
       "      <td>Itunes Audiobook</td>\n",
       "      <td>ketogenic diet</td>\n",
       "      <td>https://itunes.apple.com/us/audiobook/ketogeni...</td>\n",
       "      <td>Formal</td>\n",
       "      <td>https://is2-ssl.mzstatic.com/image/thumb/Music...</td>\n",
       "      <td>5.95</td>\n",
       "      <td>audio</td>\n",
       "      <td>Orlando Scott</td>\n",
       "      <td>2016-11-09</td>\n",
       "      <td>Ketogenic Diet: The Most Effective Ketogenic D...</td>\n",
       "    </tr>\n",
       "    <tr>\n",
       "      <th>16039</th>\n",
       "      <td>Itunes Audiobook</td>\n",
       "      <td>ketogenic diet</td>\n",
       "      <td>https://itunes.apple.com/us/audiobook/summary-...</td>\n",
       "      <td>Formal</td>\n",
       "      <td>https://is2-ssl.mzstatic.com/image/thumb/Music...</td>\n",
       "      <td>3.95</td>\n",
       "      <td>audio</td>\n",
       "      <td>Ketogenic Diet Digest</td>\n",
       "      <td>2018-06-11</td>\n",
       "      <td>Summary: Intermittent Fasting and Ketogenic Di...</td>\n",
       "    </tr>\n",
       "    <tr>\n",
       "      <th>16040</th>\n",
       "      <td>Itunes Audiobook</td>\n",
       "      <td>ketogenic diet</td>\n",
       "      <td>https://itunes.apple.com/us/audiobook/ketogeni...</td>\n",
       "      <td>Formal</td>\n",
       "      <td>https://is1-ssl.mzstatic.com/image/thumb/Music...</td>\n",
       "      <td>5.95</td>\n",
       "      <td>audio</td>\n",
       "      <td>Roy Nolan</td>\n",
       "      <td>2017-04-07</td>\n",
       "      <td>Ketogenic Diet: The Only Ultimate Keto Diet Bl...</td>\n",
       "    </tr>\n",
       "    <tr>\n",
       "      <th>16041</th>\n",
       "      <td>Itunes Audiobook</td>\n",
       "      <td>ketogenic diet</td>\n",
       "      <td>https://itunes.apple.com/us/audiobook/ketogeni...</td>\n",
       "      <td>Formal</td>\n",
       "      <td>https://is1-ssl.mzstatic.com/image/thumb/Music...</td>\n",
       "      <td>14.95</td>\n",
       "      <td>audio</td>\n",
       "      <td>Jamie Ken Moore</td>\n",
       "      <td>2017-03-22</td>\n",
       "      <td>Ketogenic Diet: The Step by Step Guide for Beg...</td>\n",
       "    </tr>\n",
       "    <tr>\n",
       "      <th>16042</th>\n",
       "      <td>Itunes Audiobook</td>\n",
       "      <td>ketogenic diet</td>\n",
       "      <td>https://itunes.apple.com/us/audiobook/keto-die...</td>\n",
       "      <td>Formal</td>\n",
       "      <td>https://is2-ssl.mzstatic.com/image/thumb/Music...</td>\n",
       "      <td>5.95</td>\n",
       "      <td>audio</td>\n",
       "      <td>Nick Jackson</td>\n",
       "      <td>2017-12-12</td>\n",
       "      <td>Keto Diet: How to Use a Cyclical Ketogenic Die...</td>\n",
       "    </tr>\n",
       "    <tr>\n",
       "      <th>16043</th>\n",
       "      <td>Itunes Audiobook</td>\n",
       "      <td>ketogenic diet</td>\n",
       "      <td>https://itunes.apple.com/us/audiobook/ultimate...</td>\n",
       "      <td>Formal</td>\n",
       "      <td>https://is5-ssl.mzstatic.com/image/thumb/Music...</td>\n",
       "      <td>14.95</td>\n",
       "      <td>audio</td>\n",
       "      <td>Lisa Turner &amp; Rachel Decker</td>\n",
       "      <td>2018-06-14</td>\n",
       "      <td>Ultimate Keto Diet and Food Points Weight Loss...</td>\n",
       "    </tr>\n",
       "    <tr>\n",
       "      <th>16044</th>\n",
       "      <td>Itunes Audiobook</td>\n",
       "      <td>ketogenic diet</td>\n",
       "      <td>https://itunes.apple.com/us/audiobook/all-abou...</td>\n",
       "      <td>Formal</td>\n",
       "      <td>https://is4-ssl.mzstatic.com/image/thumb/Music...</td>\n",
       "      <td>5.95</td>\n",
       "      <td>audio</td>\n",
       "      <td>Moe Alodah</td>\n",
       "      <td>2016-10-21</td>\n",
       "      <td>All About Ketogenic Diet: Learn If This Diet I...</td>\n",
       "    </tr>\n",
       "    <tr>\n",
       "      <th>16045</th>\n",
       "      <td>Itunes Audiobook</td>\n",
       "      <td>ketogenic diet</td>\n",
       "      <td>https://itunes.apple.com/us/audiobook/keto-die...</td>\n",
       "      <td>Formal</td>\n",
       "      <td>https://is3-ssl.mzstatic.com/image/thumb/Music...</td>\n",
       "      <td>5.95</td>\n",
       "      <td>audio</td>\n",
       "      <td>Elizabeth Wells</td>\n",
       "      <td>2018-04-04</td>\n",
       "      <td>Keto Diet For Beginners: The Complete Guide to...</td>\n",
       "    </tr>\n",
       "    <tr>\n",
       "      <th>16046</th>\n",
       "      <td>Itunes Ebook</td>\n",
       "      <td>ketogenic diet</td>\n",
       "      <td>https://itunes.apple.com/us/audiobook/ketogeni...</td>\n",
       "      <td>Formal</td>\n",
       "      <td>https://is2-ssl.mzstatic.com/image/thumb/Music...</td>\n",
       "      <td>14.95</td>\n",
       "      <td>audio</td>\n",
       "      <td>Jimmy Clark</td>\n",
       "      <td>2018-11-12</td>\n",
       "      <td>Ketogenic Diet and Intermittent Fasting for Be...</td>\n",
       "    </tr>\n",
       "    <tr>\n",
       "      <th>16047</th>\n",
       "      <td>Itunes Audiobook</td>\n",
       "      <td>ketogenic diet</td>\n",
       "      <td>https://itunes.apple.com/us/audiobook/intermit...</td>\n",
       "      <td>Formal</td>\n",
       "      <td>https://is1-ssl.mzstatic.com/image/thumb/Music...</td>\n",
       "      <td>17.95</td>\n",
       "      <td>audio</td>\n",
       "      <td>Mario Douglas &amp; Hugo Briggs</td>\n",
       "      <td>2018-05-11</td>\n",
       "      <td>Intermittent Fasting on a Ketogenic Diet and M...</td>\n",
       "    </tr>\n",
       "    <tr>\n",
       "      <th>16048</th>\n",
       "      <td>Itunes Audiobook</td>\n",
       "      <td>ketogenic diet</td>\n",
       "      <td>https://itunes.apple.com/us/audiobook/ketogeni...</td>\n",
       "      <td>Formal</td>\n",
       "      <td>https://is1-ssl.mzstatic.com/image/thumb/Music...</td>\n",
       "      <td>3.95</td>\n",
       "      <td>audio</td>\n",
       "      <td>Juliet Vinter</td>\n",
       "      <td>2018-09-27</td>\n",
       "      <td>Ketogenic Diet: How to Follow and Succeed the ...</td>\n",
       "    </tr>\n",
       "    <tr>\n",
       "      <th>16049</th>\n",
       "      <td>Itunes Audiobook</td>\n",
       "      <td>ketogenic diet</td>\n",
       "      <td>https://itunes.apple.com/us/audiobook/ketogeni...</td>\n",
       "      <td>Formal</td>\n",
       "      <td>https://is1-ssl.mzstatic.com/image/thumb/Music...</td>\n",
       "      <td>17.95</td>\n",
       "      <td>audio</td>\n",
       "      <td>Kevin Hughes</td>\n",
       "      <td>2016-08-04</td>\n",
       "      <td>Ketogenic Diet: 250+ Low-Carb, High-Fat Health...</td>\n",
       "    </tr>\n",
       "    <tr>\n",
       "      <th>16050</th>\n",
       "      <td>Itunes Audiobook</td>\n",
       "      <td>ketogenic diet</td>\n",
       "      <td>https://itunes.apple.com/us/audiobook/keto-slo...</td>\n",
       "      <td>Formal</td>\n",
       "      <td>https://is2-ssl.mzstatic.com/image/thumb/Music...</td>\n",
       "      <td>5.95</td>\n",
       "      <td>audio</td>\n",
       "      <td>Anna Lor</td>\n",
       "      <td>2018-07-11</td>\n",
       "      <td>Keto Slow Cooker Cookbook: Best Healthy &amp; Deli...</td>\n",
       "    </tr>\n",
       "    <tr>\n",
       "      <th>16051</th>\n",
       "      <td>Itunes Audiobook</td>\n",
       "      <td>ketogenic diet</td>\n",
       "      <td>https://itunes.apple.com/us/audiobook/keto-die...</td>\n",
       "      <td>Formal</td>\n",
       "      <td>https://is1-ssl.mzstatic.com/image/thumb/Music...</td>\n",
       "      <td>3.95</td>\n",
       "      <td>audio</td>\n",
       "      <td>Simon Donovan</td>\n",
       "      <td>2017-11-02</td>\n",
       "      <td>Keto Diet: Ketogenic Diet Guide for Beginners ...</td>\n",
       "    </tr>\n",
       "  </tbody>\n",
       "</table>\n",
       "<p>16052 rows × 10 columns</p>\n",
       "</div>"
      ],
      "text/plain": [
       "                        api_id        category  \\\n",
       "0                     engadget            keto   \n",
       "1                    usa-today            keto   \n",
       "2      the-wall-street-journal            keto   \n",
       "3                the-telegraph            keto   \n",
       "4                     newsweek            keto   \n",
       "5                     buzzfeed            keto   \n",
       "6             business-insider            keto   \n",
       "7             business-insider            keto   \n",
       "8             business-insider            keto   \n",
       "9                     buzzfeed            keto   \n",
       "10            business-insider             mct   \n",
       "11               the-telegraph             mct   \n",
       "12                    bbc-news             mct   \n",
       "13                    abc-news             mct   \n",
       "14     the-wall-street-journal             mct   \n",
       "15                    cbc-news             mct   \n",
       "16                    cbc-news             mct   \n",
       "17                  daily-mail             mct   \n",
       "18                   vice-news             mct   \n",
       "19            associated-press             mct   \n",
       "20                       wired         natural   \n",
       "21                    bbc-news         natural   \n",
       "22                         cnn         natural   \n",
       "23             the-guardian-au         natural   \n",
       "24                    mashable         natural   \n",
       "25             the-guardian-au         natural   \n",
       "26                    mashable         natural   \n",
       "27                    engadget         natural   \n",
       "28                    engadget         natural   \n",
       "29             the-guardian-au         natural   \n",
       "...                        ...             ...   \n",
       "16022         Itunes Audiobook  ketogenic diet   \n",
       "16023         Itunes Audiobook  ketogenic diet   \n",
       "16024         Itunes Audiobook  ketogenic diet   \n",
       "16025         Itunes Audiobook  ketogenic diet   \n",
       "16026         Itunes Audiobook  ketogenic diet   \n",
       "16027         Itunes Audiobook  ketogenic diet   \n",
       "16028         Itunes Audiobook  ketogenic diet   \n",
       "16029         Itunes Audiobook  ketogenic diet   \n",
       "16030             Itunes Ebook  ketogenic diet   \n",
       "16031         Itunes Audiobook  ketogenic diet   \n",
       "16032         Itunes Audiobook  ketogenic diet   \n",
       "16033         Itunes Audiobook  ketogenic diet   \n",
       "16034         Itunes Audiobook  ketogenic diet   \n",
       "16035             Itunes Ebook  ketogenic diet   \n",
       "16036         Itunes Audiobook  ketogenic diet   \n",
       "16037             Itunes Ebook  ketogenic diet   \n",
       "16038         Itunes Audiobook  ketogenic diet   \n",
       "16039         Itunes Audiobook  ketogenic diet   \n",
       "16040         Itunes Audiobook  ketogenic diet   \n",
       "16041         Itunes Audiobook  ketogenic diet   \n",
       "16042         Itunes Audiobook  ketogenic diet   \n",
       "16043         Itunes Audiobook  ketogenic diet   \n",
       "16044         Itunes Audiobook  ketogenic diet   \n",
       "16045         Itunes Audiobook  ketogenic diet   \n",
       "16046             Itunes Ebook  ketogenic diet   \n",
       "16047         Itunes Audiobook  ketogenic diet   \n",
       "16048         Itunes Audiobook  ketogenic diet   \n",
       "16049         Itunes Audiobook  ketogenic diet   \n",
       "16050         Itunes Audiobook  ketogenic diet   \n",
       "16051         Itunes Audiobook  ketogenic diet   \n",
       "\n",
       "                                             content_url     formality  \\\n",
       "0      https://www.engadget.com/2018/11/27/keyto-brea...  Intermediate   \n",
       "1      https://www.usatoday.com/story/life/grateful/2...  Intermediate   \n",
       "2      https://www.wsj.com/articles/this-coffee-is-ni...  Intermediate   \n",
       "3      https://www.telegraph.co.uk/boxing/2018/11/27/...  Intermediate   \n",
       "4      https://www.newsweek.com/vinny-guadagnino-talk...  Intermediate   \n",
       "5      https://www.buzzfeed.com/michelleno/low-carb-k...  Intermediate   \n",
       "6      https://www.businessinsider.com/best-keto-meal...  Intermediate   \n",
       "7      https://www.businessinsider.com/keto-breathaly...  Intermediate   \n",
       "8      https://www.businessinsider.com/keto-thanksgiv...  Intermediate   \n",
       "9      https://www.buzzfeed.com/jamedjackson/20-hilar...  Intermediate   \n",
       "10     https://www.businessinsider.com/shark-tank-kit...  Intermediate   \n",
       "11     https://www.telegraph.co.uk/technology/2018/11...  Intermediate   \n",
       "12          https://www.bbc.co.uk/news/business-46274158  Intermediate   \n",
       "13     https://abcnews.go.com/International/wireStory...  Intermediate   \n",
       "14     https://www.wsj.com/articles/this-coffee-is-ni...  Intermediate   \n",
       "15     https://www.cbc.ca/news/canada/british-columbi...  Intermediate   \n",
       "16     https://www.cbc.ca/news/canada/british-columbi...  Intermediate   \n",
       "17     https://www.dailymail.co.uk/femail/article-638...  Intermediate   \n",
       "18     https://broadly.vice.com/en_us/article/59vznb/...  Intermediate   \n",
       "19     https://apnews.com/c5bddad70e684a5da20c9a72829...  Intermediate   \n",
       "20     https://www.wired.com/story/copy-machine-lands...  Intermediate   \n",
       "21     https://www.bbc.co.uk/news/av/science-environm...  Intermediate   \n",
       "22     https://www.cnn.com/videos/business/2018/11/08...  Intermediate   \n",
       "23     https://www.theguardian.com/culture/2018/nov/1...  Intermediate   \n",
       "24     https://mashable.com/article/california-woolse...  Intermediate   \n",
       "25     https://www.theguardian.com/world/2018/nov/09/...  Intermediate   \n",
       "26     https://mashable.com/article/epa-website-chang...  Intermediate   \n",
       "27     https://www.engadget.com/2018/11/14/google-pix...  Intermediate   \n",
       "28     https://www.engadget.com/2018/11/20/civilizati...  Intermediate   \n",
       "29     https://www.theguardian.com/tv-and-radio/2018/...  Intermediate   \n",
       "...                                                  ...           ...   \n",
       "16022  https://itunes.apple.com/us/audiobook/keto-bod...        Formal   \n",
       "16023  https://itunes.apple.com/us/audiobook/simple-5...        Formal   \n",
       "16024  https://itunes.apple.com/us/audiobook/keto-die...        Formal   \n",
       "16025  https://itunes.apple.com/us/audiobook/beginner...        Formal   \n",
       "16026  https://itunes.apple.com/us/audiobook/ketogeni...        Formal   \n",
       "16027  https://itunes.apple.com/us/audiobook/ketogeni...        Formal   \n",
       "16028  https://itunes.apple.com/us/audiobook/target-k...        Formal   \n",
       "16029  https://itunes.apple.com/us/audiobook/ketogeni...        Formal   \n",
       "16030  https://itunes.apple.com/us/audiobook/summary-...        Formal   \n",
       "16031  https://itunes.apple.com/us/audiobook/ketogeni...        Formal   \n",
       "16032  https://itunes.apple.com/us/audiobook/keto-die...        Formal   \n",
       "16033  https://itunes.apple.com/us/audiobook/ketogeni...        Formal   \n",
       "16034  https://itunes.apple.com/us/audiobook/most-com...        Formal   \n",
       "16035  https://itunes.apple.com/us/audiobook/painless...        Formal   \n",
       "16036  https://itunes.apple.com/us/audiobook/low-carb...        Formal   \n",
       "16037  https://itunes.apple.com/us/audiobook/keto-die...        Formal   \n",
       "16038  https://itunes.apple.com/us/audiobook/ketogeni...        Formal   \n",
       "16039  https://itunes.apple.com/us/audiobook/summary-...        Formal   \n",
       "16040  https://itunes.apple.com/us/audiobook/ketogeni...        Formal   \n",
       "16041  https://itunes.apple.com/us/audiobook/ketogeni...        Formal   \n",
       "16042  https://itunes.apple.com/us/audiobook/keto-die...        Formal   \n",
       "16043  https://itunes.apple.com/us/audiobook/ultimate...        Formal   \n",
       "16044  https://itunes.apple.com/us/audiobook/all-abou...        Formal   \n",
       "16045  https://itunes.apple.com/us/audiobook/keto-die...        Formal   \n",
       "16046  https://itunes.apple.com/us/audiobook/ketogeni...        Formal   \n",
       "16047  https://itunes.apple.com/us/audiobook/intermit...        Formal   \n",
       "16048  https://itunes.apple.com/us/audiobook/ketogeni...        Formal   \n",
       "16049  https://itunes.apple.com/us/audiobook/ketogeni...        Formal   \n",
       "16050  https://itunes.apple.com/us/audiobook/keto-slo...        Formal   \n",
       "16051  https://itunes.apple.com/us/audiobook/keto-die...        Formal   \n",
       "\n",
       "                                               image_url  length medium  \\\n",
       "0      https://o.aolcdn.com/images/dims?thumbnail=120...    2.00   text   \n",
       "1      https://www.gannett-cdn.com/presto/2018/10/17/...    5.00   text   \n",
       "2      https://si.wsj.net/public/resources/images/B3-...    6.00   text   \n",
       "3      https://www.telegraph.co.uk/content/dam/boxing...    1.00   text   \n",
       "4      https://s.newsweek.com/sites/www.newsweek.com/...    3.00   text   \n",
       "5      https://img.buzzfeed.com/buzzfeed-static/stati...    4.00   text   \n",
       "6      https://amp.businessinsider.com/images/5bfc676...    1.00   text   \n",
       "7      https://amp.businessinsider.com/images/5bfd48a...    3.00   text   \n",
       "8      https://amp.businessinsider.com/images/5bf2f66...    1.00   text   \n",
       "9      https://img.buzzfeed.com/buzzfeed-static/stati...    4.00   text   \n",
       "10     https://amp.businessinsider.com/images/5bf338f...    4.00   text   \n",
       "11     https://www.telegraph.co.uk/content/dam/techno...    1.00   text   \n",
       "12     https://ichef.bbci.co.uk/news/1024/branded_new...    2.00   text   \n",
       "13                                                  None    0.00   text   \n",
       "14     https://si.wsj.net/public/resources/images/B3-...    6.00   text   \n",
       "15     https://i.cbc.ca/1.4902189.1542052384!/fileIma...    1.00   text   \n",
       "16     https://i.cbc.ca/1.4902189.1542052384!/fileIma...    3.00   text   \n",
       "17     https://i.dailymail.co.uk/1s/2018/11/13/00/610...    6.00   text   \n",
       "18     https://video-images.vice.com/articles/5be4241...    3.00   text   \n",
       "19     https://bloximages.newyork1.vip.townnews.com/r...    3.00   text   \n",
       "20     https://media.wired.com/photos/5bfde2bfab39b96...    2.00   text   \n",
       "21     https://ichef.bbci.co.uk/news/1024/branded_new...    4.00   text   \n",
       "22     https://cdn.cnn.com/cnnnext/dam/assets/1811081...    4.00   text   \n",
       "23     https://i.guim.co.uk/img/media/f96fd653ab77a0b...    3.00   text   \n",
       "24     https://i.amz.mshcdn.com/K-qAqgCRigdBRjavN-HVk...    1.00   text   \n",
       "25     https://i.guim.co.uk/img/media/b49f201fed3b750...    7.00   text   \n",
       "26     https://i.amz.mshcdn.com/Fk9vL4wn01F87N28MTw7X...    3.00   text   \n",
       "27     https://o.aolcdn.com/images/dims?thumbnail=120...    1.00   text   \n",
       "28     https://o.aolcdn.com/images/dims?thumbnail=120...    1.00   text   \n",
       "29     https://i.guim.co.uk/img/media/0ed485b369295e7...    3.00   text   \n",
       "...                                                  ...     ...    ...   \n",
       "16022  https://is4-ssl.mzstatic.com/image/thumb/Music...   17.95  audio   \n",
       "16023  https://is3-ssl.mzstatic.com/image/thumb/Music...    5.95  audio   \n",
       "16024  https://is1-ssl.mzstatic.com/image/thumb/Music...   14.95  audio   \n",
       "16025  https://is1-ssl.mzstatic.com/image/thumb/Music...   14.95  audio   \n",
       "16026  https://is2-ssl.mzstatic.com/image/thumb/Music...   14.95  audio   \n",
       "16027  https://is5-ssl.mzstatic.com/image/thumb/Music...    3.95  audio   \n",
       "16028  https://is3-ssl.mzstatic.com/image/thumb/Music...    5.95  audio   \n",
       "16029  https://is3-ssl.mzstatic.com/image/thumb/Music...    5.95  audio   \n",
       "16030  https://is1-ssl.mzstatic.com/image/thumb/Music...    3.95  audio   \n",
       "16031  https://is5-ssl.mzstatic.com/image/thumb/Music...    5.95  audio   \n",
       "16032  https://is1-ssl.mzstatic.com/image/thumb/Music...    5.95  audio   \n",
       "16033  https://is5-ssl.mzstatic.com/image/thumb/Music...    3.95  audio   \n",
       "16034  https://is4-ssl.mzstatic.com/image/thumb/Music...    5.95  audio   \n",
       "16035  https://is2-ssl.mzstatic.com/image/thumb/Music...    5.95  audio   \n",
       "16036  https://is5-ssl.mzstatic.com/image/thumb/Music...    3.95  audio   \n",
       "16037  https://is2-ssl.mzstatic.com/image/thumb/Music...    5.95  audio   \n",
       "16038  https://is2-ssl.mzstatic.com/image/thumb/Music...    5.95  audio   \n",
       "16039  https://is2-ssl.mzstatic.com/image/thumb/Music...    3.95  audio   \n",
       "16040  https://is1-ssl.mzstatic.com/image/thumb/Music...    5.95  audio   \n",
       "16041  https://is1-ssl.mzstatic.com/image/thumb/Music...   14.95  audio   \n",
       "16042  https://is2-ssl.mzstatic.com/image/thumb/Music...    5.95  audio   \n",
       "16043  https://is5-ssl.mzstatic.com/image/thumb/Music...   14.95  audio   \n",
       "16044  https://is4-ssl.mzstatic.com/image/thumb/Music...    5.95  audio   \n",
       "16045  https://is3-ssl.mzstatic.com/image/thumb/Music...    5.95  audio   \n",
       "16046  https://is2-ssl.mzstatic.com/image/thumb/Music...   14.95  audio   \n",
       "16047  https://is1-ssl.mzstatic.com/image/thumb/Music...   17.95  audio   \n",
       "16048  https://is1-ssl.mzstatic.com/image/thumb/Music...    3.95  audio   \n",
       "16049  https://is1-ssl.mzstatic.com/image/thumb/Music...   17.95  audio   \n",
       "16050  https://is2-ssl.mzstatic.com/image/thumb/Music...    5.95  audio   \n",
       "16051  https://is1-ssl.mzstatic.com/image/thumb/Music...    3.95  audio   \n",
       "\n",
       "                          provider   published  \\\n",
       "0                         Engadget  2018-11-27   \n",
       "1                        USA Today  2018-11-16   \n",
       "2          The Wall Street Journal  2018-11-26   \n",
       "3                    The Telegraph  2018-11-27   \n",
       "4                         Newsweek  2018-11-15   \n",
       "5                         Buzzfeed  2018-11-17   \n",
       "6                 Business Insider  2018-11-27   \n",
       "7                 Business Insider  2018-11-27   \n",
       "8                 Business Insider  2018-11-20   \n",
       "9                         Buzzfeed  2018-11-27   \n",
       "10                Business Insider  2018-11-20   \n",
       "11                   The Telegraph  2018-11-20   \n",
       "12                        BBC News  2018-11-20   \n",
       "13                        ABC News  2018-11-27   \n",
       "14         The Wall Street Journal  2018-11-26   \n",
       "15                        CBC News  2018-11-22   \n",
       "16                        CBC News  2018-11-22   \n",
       "17                      Daily Mail  2018-11-13   \n",
       "18                       Vice News  2018-11-08   \n",
       "19                Associated Press  2018-11-27   \n",
       "20                           Wired  2018-11-28   \n",
       "21                        BBC News  2018-11-08   \n",
       "22                             CNN  2018-11-08   \n",
       "23               The Guardian (AU)  2018-11-13   \n",
       "24                        Mashable  2018-11-21   \n",
       "25               The Guardian (AU)  2018-11-17   \n",
       "26                        Mashable  2018-11-18   \n",
       "27                        Engadget  2018-11-14   \n",
       "28                        Engadget  2018-11-21   \n",
       "29               The Guardian (AU)  2018-11-08   \n",
       "...                            ...         ...   \n",
       "16022                    Siim Land  2016-08-26   \n",
       "16023                Sydney Foster  2018-08-10   \n",
       "16024                   Ted Duncan  2018-04-12   \n",
       "16025    Healthy Living for Adults  2018-06-06   \n",
       "16026                   Ted Duncan  2018-03-14   \n",
       "16027                   Wade Migan  2015-11-17   \n",
       "16028                    Siim Land  2016-08-17   \n",
       "16029               Valerie Childs  2015-10-07   \n",
       "16030                    Zip Reads  2018-09-11   \n",
       "16031                   James Pini  2017-03-08   \n",
       "16032                   Steve Ryan  2017-03-24   \n",
       "16033             Chase Strongwell  2015-07-14   \n",
       "16034                Orlando Scott  2016-11-15   \n",
       "16035                Phillip Pablo  2014-11-19   \n",
       "16036                    Law Payne  2014-11-03   \n",
       "16037                    Epic Rios  2018-04-10   \n",
       "16038                Orlando Scott  2016-11-09   \n",
       "16039        Ketogenic Diet Digest  2018-06-11   \n",
       "16040                    Roy Nolan  2017-04-07   \n",
       "16041              Jamie Ken Moore  2017-03-22   \n",
       "16042                 Nick Jackson  2017-12-12   \n",
       "16043  Lisa Turner & Rachel Decker  2018-06-14   \n",
       "16044                   Moe Alodah  2016-10-21   \n",
       "16045              Elizabeth Wells  2018-04-04   \n",
       "16046                  Jimmy Clark  2018-11-12   \n",
       "16047  Mario Douglas & Hugo Briggs  2018-05-11   \n",
       "16048                Juliet Vinter  2018-09-27   \n",
       "16049                 Kevin Hughes  2016-08-04   \n",
       "16050                     Anna Lor  2018-07-11   \n",
       "16051                Simon Donovan  2017-11-02   \n",
       "\n",
       "                                                   title  \n",
       "0      Keyto breath analyzer promises to keep your ke...  \n",
       "1      An irreverent Thanksgiving: Making the holiday...  \n",
       "2      This Coffee Is Nice But It Needs More Butter -...  \n",
       "3      Revealed: The secrets behind Tyson Fury's extr...  \n",
       "4      What Happens When 'Jersey Shore' Ends? Vinny G...  \n",
       "5           14 Keto Versions Of Popular Holiday Desserts  \n",
       "6      10 of the best keto meal options at popular ch...  \n",
       "7      A new $100 keto breathalyzer could finally mak...  \n",
       "8      How to have a carb-free keto Thanksgiving, acc...  \n",
       "9      These \"Overheard\" Tweets Will Make You Wonder ...  \n",
       "10     Entrepreneurs who launched their $50 million c...  \n",
       "11     Musk renames Mars rocket 'Starship' and says '...  \n",
       "12         Elon Musk renames his BFR spacecraft Starship  \n",
       "13     21 held in melee over Malaysian temple land di...  \n",
       "14     This Coffee Is Nice But It Needs More Butter -...  \n",
       "15     Manufacturer says no B.C. customers received m...  \n",
       "16     Mislabelled cannabis spray sold by B.C. pot st...  \n",
       "17     Woman who transformed her body by only losing ...  \n",
       "18     Anti-Abortion Terrorist Who Shot George Tiller...  \n",
       "19     21 held in melee over Malaysian temple land di...  \n",
       "20     A Copy Machine Artist Creates Photos of Famili...  \n",
       "21     First 'retirement home' for showbiz beluga whales  \n",
       "22             See robots fly and swim just like animals  \n",
       "23     Natural History Museum accused of accepting ‘b...  \n",
       "24     California's Woolsey Fire has left a burn scar...  \n",
       "25     Indonesia's love affair with its dying natural...  \n",
       "26     Trump administration changes EPA website to be...  \n",
       "27     The Pixel's Night Sight camera mode performs i...  \n",
       "28     'Civilization VI' expansion 'Gathering Storm' ...  \n",
       "29     David Attenborough to present Netflix nature s...  \n",
       "...                                                  ...  \n",
       "16022  Keto Bodybuilding: The Definitive Guide to Doi...  \n",
       "16023  The Simple 5 Ingredients or Less Keto Cookbook...  \n",
       "16024  Keto Diet for Beginners Bible: Ketogenic Diet,...  \n",
       "16025  The Beginner’s Ketogenic Diet for Health Benef...  \n",
       "16026  Ketogenic Diet Bible: 3 Manuscripts in 1 Book:...  \n",
       "16027  Ketogenic Diet: The Ultimate Beginner's Guide ...  \n",
       "16028  Target Keto: The Targeted Ketogenic Diet for L...  \n",
       "16029  Ketogenic Diet: Bonus Ketogenic Recipes for Br...  \n",
       "16030  Summary & Analysis of The Metabolic Approach t...  \n",
       "16031  Ketogenic Diet: Beginner's Guide to Rapid Weig...  \n",
       "16032  Keto Diet: Learn How to Lose Weight Fast with ...  \n",
       "16033  Ketogenic Diet for Beginners: Fast Safe Weight...  \n",
       "16034  The Most Common Ketogenic Diet Mistakes: Why t...  \n",
       "16035  Painless Ketogenic Diet Recipes for Lazy Peopl...  \n",
       "16036     Low Carb Diet: The Ketogenic Diet (Unabridged)  \n",
       "16037  Keto Diet for Beginners: Burn Fat with the Ket...  \n",
       "16038  Ketogenic Diet: The Most Effective Ketogenic D...  \n",
       "16039  Summary: Intermittent Fasting and Ketogenic Di...  \n",
       "16040  Ketogenic Diet: The Only Ultimate Keto Diet Bl...  \n",
       "16041  Ketogenic Diet: The Step by Step Guide for Beg...  \n",
       "16042  Keto Diet: How to Use a Cyclical Ketogenic Die...  \n",
       "16043  Ultimate Keto Diet and Food Points Weight Loss...  \n",
       "16044  All About Ketogenic Diet: Learn If This Diet I...  \n",
       "16045  Keto Diet For Beginners: The Complete Guide to...  \n",
       "16046  Ketogenic Diet and Intermittent Fasting for Be...  \n",
       "16047  Intermittent Fasting on a Ketogenic Diet and M...  \n",
       "16048  Ketogenic Diet: How to Follow and Succeed the ...  \n",
       "16049  Ketogenic Diet: 250+ Low-Carb, High-Fat Health...  \n",
       "16050  Keto Slow Cooker Cookbook: Best Healthy & Deli...  \n",
       "16051  Keto Diet: Ketogenic Diet Guide for Beginners ...  \n",
       "\n",
       "[16052 rows x 10 columns]"
      ]
     },
     "execution_count": 22,
     "metadata": {},
     "output_type": "execute_result"
    }
   ],
   "source": [
    "df"
   ]
  },
  {
   "cell_type": "code",
   "execution_count": 38,
   "metadata": {},
   "outputs": [
    {
     "data": {
      "text/html": [
       "<div>\n",
       "<style scoped>\n",
       "    .dataframe tbody tr th:only-of-type {\n",
       "        vertical-align: middle;\n",
       "    }\n",
       "\n",
       "    .dataframe tbody tr th {\n",
       "        vertical-align: top;\n",
       "    }\n",
       "\n",
       "    .dataframe thead th {\n",
       "        text-align: right;\n",
       "    }\n",
       "</style>\n",
       "<table border=\"1\" class=\"dataframe\">\n",
       "  <thead>\n",
       "    <tr style=\"text-align: right;\">\n",
       "      <th></th>\n",
       "      <th></th>\n",
       "      <th>title</th>\n",
       "    </tr>\n",
       "    <tr>\n",
       "      <th>formality</th>\n",
       "      <th>medium</th>\n",
       "      <th></th>\n",
       "    </tr>\n",
       "  </thead>\n",
       "  <tbody>\n",
       "    <tr>\n",
       "      <th rowspan=\"3\" valign=\"top\">Formal</th>\n",
       "      <th>audio</th>\n",
       "      <td>1978</td>\n",
       "    </tr>\n",
       "    <tr>\n",
       "      <th>text</th>\n",
       "      <td>3067</td>\n",
       "    </tr>\n",
       "    <tr>\n",
       "      <th>video</th>\n",
       "      <td>117</td>\n",
       "    </tr>\n",
       "    <tr>\n",
       "      <th rowspan=\"2\" valign=\"top\">Informal</th>\n",
       "      <th>text</th>\n",
       "      <td>1501</td>\n",
       "    </tr>\n",
       "    <tr>\n",
       "      <th>video</th>\n",
       "      <td>1</td>\n",
       "    </tr>\n",
       "    <tr>\n",
       "      <th rowspan=\"3\" valign=\"top\">Intermediate</th>\n",
       "      <th>audio</th>\n",
       "      <td>6963</td>\n",
       "    </tr>\n",
       "    <tr>\n",
       "      <th>text</th>\n",
       "      <td>1641</td>\n",
       "    </tr>\n",
       "    <tr>\n",
       "      <th>video</th>\n",
       "      <td>784</td>\n",
       "    </tr>\n",
       "  </tbody>\n",
       "</table>\n",
       "</div>"
      ],
      "text/plain": [
       "                     title\n",
       "formality    medium       \n",
       "Formal       audio    1978\n",
       "             text     3067\n",
       "             video     117\n",
       "Informal     text     1501\n",
       "             video       1\n",
       "Intermediate audio    6963\n",
       "             text     1641\n",
       "             video     784"
      ]
     },
     "execution_count": 38,
     "metadata": {},
     "output_type": "execute_result"
    }
   ],
   "source": [
    "df[['title','formality','medium']].groupby(['formality','medium']).count()"
   ]
  },
  {
   "cell_type": "code",
   "execution_count": 2,
   "metadata": {},
   "outputs": [
    {
     "data": {
      "text/html": [
       "<iframe id=\"igraph\" scrolling=\"no\" style=\"border:none;\" seamless=\"seamless\" src=\"https://plot.ly/~mrethana/90.embed\" height=\"525px\" width=\"100%\"></iframe>"
      ],
      "text/plain": [
       "<plotly.tools.PlotlyDisplay object>"
      ]
     },
     "execution_count": 2,
     "metadata": {},
     "output_type": "execute_result"
    }
   ],
   "source": [
    "plot_stacked_OVERALL()"
   ]
  },
  {
   "cell_type": "markdown",
   "metadata": {
    "extensions": {
     "jupyter_dashboards": {
      "version": 1,
      "views": {
       "grid_default": {
        "col": 6,
        "height": 3,
        "hidden": false,
        "row": 0,
        "width": 6
       },
       "report_default": {
        "hidden": false
       }
      }
     }
    }
   },
   "source": [
    "# Ketogenic"
   ]
  },
  {
   "cell_type": "code",
   "execution_count": 3,
   "metadata": {
    "extensions": {
     "jupyter_dashboards": {
      "version": 1,
      "views": {
       "grid_default": {
        "col": 6,
        "height": 18,
        "hidden": false,
        "row": 3,
        "width": 6
       },
       "report_default": {
        "hidden": false
       }
      }
     }
    },
    "scrolled": false
   },
   "outputs": [
    {
     "data": {
      "application/vnd.jupyter.widget-view+json": {
       "model_id": "755ac611fd084a5385e7237f7607ca26",
       "version_major": 2,
       "version_minor": 0
      },
      "text/plain": [
       "interactive(children=(IntSlider(value=1, description='Limit', max=5, min=1), ToggleButtons(description='Medium…"
      ]
     },
     "metadata": {},
     "output_type": "display_data"
    }
   ],
   "source": [
    "Limit_widget1 = widgets.IntSlider(min=1, max=5, step=1, value=1)\n",
    "Medium_widget1 = widgets.ToggleButtons(options = ['text', 'audio','video'], description ='Medium', button_style='')\n",
    "topic_widget1 = widgets.Dropdown(options = nutrition_cats,value='keto', description ='Topic', disabled=False)\n",
    "expertise_widget1 = widgets.ToggleButtons(options = ['Informal', 'Intermediate','Formal'], description ='Formality', button_style='')\n",
    "max_length_widget1 = widgets.IntSlider(min=0, max=100, step=10, value=20)\n",
    "\n",
    "\n",
    "interact(query_content,Limit = Limit_widget1, Medium = Medium_widget1, search_param=topic_widget1, Formality = expertise_widget1, Max_Length = max_length_widget1);"
   ]
  },
  {
   "cell_type": "code",
   "execution_count": 4,
   "metadata": {
    "extensions": {
     "jupyter_dashboards": {
      "version": 1,
      "views": {
       "grid_default": {
        "col": 0,
        "height": 19,
        "hidden": false,
        "row": 77,
        "width": 4
       },
       "report_default": {
        "hidden": false
       }
      }
     }
    }
   },
   "outputs": [
    {
     "data": {
      "application/vnd.jupyter.widget-view+json": {
       "model_id": "3ef541360dcc4f28978c584e1f7f0efd",
       "version_major": 2,
       "version_minor": 0
      },
      "text/plain": [
       "interactive(children=(Dropdown(description='Topic', options=('keto', 'mct', 'natural', 'corn-fed', 'cruciferou…"
      ]
     },
     "metadata": {},
     "output_type": "display_data"
    }
   ],
   "source": [
    "alt_widget_1 = widgets.Dropdown(options = nutrition_cats,value='keto', description ='Topic', disabled=False)\n",
    "\n",
    "interact(plot_stacked, param = alt_widget_1);"
   ]
  },
  {
   "cell_type": "markdown",
   "metadata": {
    "extensions": {
     "jupyter_dashboards": {
      "version": 1,
      "views": {
       "grid_default": {
        "col": 0,
        "height": 3,
        "hidden": false,
        "row": 0,
        "width": 6
       },
       "report_default": {
        "hidden": false
       }
      }
     }
    }
   },
   "source": [
    "# Paleolithic"
   ]
  },
  {
   "cell_type": "code",
   "execution_count": 5,
   "metadata": {
    "extensions": {
     "jupyter_dashboards": {
      "version": 1,
      "views": {
       "grid_default": {
        "col": 0,
        "height": 18,
        "hidden": false,
        "row": 3,
        "width": 6
       },
       "report_default": {
        "hidden": false
       }
      }
     }
    }
   },
   "outputs": [
    {
     "data": {
      "application/vnd.jupyter.widget-view+json": {
       "model_id": "ae9611da95ea4f6fa1753e9ab87c0fa8",
       "version_major": 2,
       "version_minor": 0
      },
      "text/plain": [
       "interactive(children=(IntSlider(value=1, description='Limit', max=5, min=1), ToggleButtons(description='Medium…"
      ]
     },
     "metadata": {},
     "output_type": "display_data"
    }
   ],
   "source": [
    "Limit_widget2 = widgets.IntSlider(min=1, max=5, step=1, value=1)\n",
    "Medium_widget2 = widgets.ToggleButtons(options = ['text', 'audio','video'], description ='Medium', button_style='')\n",
    "topic_widget2 = widgets.Dropdown(options = nutrition_cats,value='paleo', description ='Topic', disabled=False)\n",
    "expertise_widget2 = widgets.ToggleButtons(options = ['Informal', 'Intermediate','Formal'], description ='Formality', button_style='')\n",
    "max_length_widget2 = widgets.IntSlider(min=0, max=100, step=10, value=20)\n",
    "\n",
    "\n",
    "interact(query_content,Limit = Limit_widget2, Medium = Medium_widget2, search_param=topic_widget2, Formality = expertise_widget2, Max_Length = max_length_widget2);"
   ]
  },
  {
   "cell_type": "code",
   "execution_count": 6,
   "metadata": {
    "extensions": {
     "jupyter_dashboards": {
      "version": 1,
      "views": {
       "grid_default": {
        "col": 4,
        "height": 19,
        "hidden": false,
        "row": 77,
        "width": 4
       },
       "report_default": {
        "hidden": false
       }
      }
     }
    }
   },
   "outputs": [
    {
     "data": {
      "application/vnd.jupyter.widget-view+json": {
       "model_id": "f001fef4f3ea461eb4fda71962a0775b",
       "version_major": 2,
       "version_minor": 0
      },
      "text/plain": [
       "interactive(children=(Dropdown(description='Topic', index=15, options=('keto', 'mct', 'natural', 'corn-fed', '…"
      ]
     },
     "metadata": {},
     "output_type": "display_data"
    }
   ],
   "source": [
    "alt_widget_2 = widgets.Dropdown(options = nutrition_cats,value='paleo', description ='Topic', disabled=False)\n",
    "\n",
    "interact(plot_stacked, param = alt_widget_2);"
   ]
  },
  {
   "cell_type": "markdown",
   "metadata": {
    "extensions": {
     "jupyter_dashboards": {
      "version": 1,
      "views": {
       "grid_default": {
        "col": 6,
        "height": 3,
        "hidden": false,
        "row": 21,
        "width": 6
       },
       "report_default": {
        "hidden": false
       }
      }
     }
    }
   },
   "source": [
    "# Vegan"
   ]
  },
  {
   "cell_type": "code",
   "execution_count": 7,
   "metadata": {
    "extensions": {
     "jupyter_dashboards": {
      "version": 1,
      "views": {
       "grid_default": {
        "col": 6,
        "height": 18,
        "hidden": false,
        "row": 24,
        "width": 6
       },
       "report_default": {
        "hidden": false
       }
      }
     }
    },
    "scrolled": false
   },
   "outputs": [
    {
     "data": {
      "application/vnd.jupyter.widget-view+json": {
       "model_id": "4cb5dbe96ab247d3a4f7b17cfd6b5f48",
       "version_major": 2,
       "version_minor": 0
      },
      "text/plain": [
       "interactive(children=(IntSlider(value=1, description='Limit', max=5, min=1), ToggleButtons(description='Medium…"
      ]
     },
     "metadata": {},
     "output_type": "display_data"
    }
   ],
   "source": [
    "Limit_widget3 = widgets.IntSlider(min=1, max=5, step=1, value=1)\n",
    "Medium_widget3 = widgets.ToggleButtons(options = ['text', 'audio','video'], description ='Medium', button_style='')\n",
    "topic_widget3 = widgets.Dropdown(options = nutrition_cats,value='vegan', description ='Topic', disabled=False)\n",
    "expertise_widget3 = widgets.ToggleButtons(options = ['Informal', 'Intermediate','Formal'], description ='Formality', button_style='')\n",
    "max_length_widget3 = widgets.IntSlider(min=0, max=100, step=10, value=20)\n",
    "\n",
    "\n",
    "interact(query_content,Limit = Limit_widget3, Medium = Medium_widget3, search_param=topic_widget3, Formality = expertise_widget3, Max_Length = max_length_widget3);"
   ]
  },
  {
   "cell_type": "code",
   "execution_count": 8,
   "metadata": {
    "extensions": {
     "jupyter_dashboards": {
      "version": 1,
      "views": {
       "grid_default": {
        "col": 8,
        "height": 19,
        "hidden": false,
        "row": 77,
        "width": 4
       },
       "report_default": {
        "hidden": false
       }
      }
     }
    }
   },
   "outputs": [
    {
     "data": {
      "application/vnd.jupyter.widget-view+json": {
       "model_id": "49bbeeea30b24d358d5d4f5f27e18644",
       "version_major": 2,
       "version_minor": 0
      },
      "text/plain": [
       "interactive(children=(Dropdown(description='Topic', index=13, options=('keto', 'mct', 'natural', 'corn-fed', '…"
      ]
     },
     "metadata": {},
     "output_type": "display_data"
    }
   ],
   "source": [
    "alt_widget_3 = widgets.Dropdown(options = nutrition_cats,value='vegan', description ='Topic', disabled=False)\n",
    "\n",
    "interact(plot_stacked, param = alt_widget_3);"
   ]
  },
  {
   "cell_type": "markdown",
   "metadata": {
    "extensions": {
     "jupyter_dashboards": {
      "version": 1,
      "views": {
       "grid_default": {
        "col": 0,
        "height": 3,
        "hidden": false,
        "row": 21,
        "width": 6
       },
       "report_default": {
        "hidden": false
       }
      }
     }
    }
   },
   "source": [
    "# Vegetarian"
   ]
  },
  {
   "cell_type": "code",
   "execution_count": 9,
   "metadata": {
    "extensions": {
     "jupyter_dashboards": {
      "version": 1,
      "views": {
       "grid_default": {
        "col": 0,
        "height": 18,
        "hidden": false,
        "row": 24,
        "width": 6
       },
       "report_default": {
        "hidden": false
       }
      }
     }
    },
    "scrolled": false
   },
   "outputs": [
    {
     "data": {
      "application/vnd.jupyter.widget-view+json": {
       "model_id": "b033148f1bee4e3e872f545a34534414",
       "version_major": 2,
       "version_minor": 0
      },
      "text/plain": [
       "interactive(children=(IntSlider(value=1, description='Limit', max=5, min=1), ToggleButtons(description='Medium…"
      ]
     },
     "metadata": {},
     "output_type": "display_data"
    }
   ],
   "source": [
    "Limit_widget4 = widgets.IntSlider(min=1, max=5, step=1, value=1)\n",
    "Medium_widget4 = widgets.ToggleButtons(options = ['text', 'audio','video'], description ='Medium', button_style='')\n",
    "topic_widget4 = widgets.Dropdown(options = nutrition_cats,value='vegetarian', description ='Topic', disabled=False)\n",
    "expertise_widget4 = widgets.ToggleButtons(options = ['Informal', 'Intermediate','Formal'], description ='Formality', button_style='')\n",
    "max_length_widget4 = widgets.IntSlider(min=0, max=200, step=10, value=20)\n",
    "\n",
    "\n",
    "interact(query_content,Limit = Limit_widget4, Medium = Medium_widget4, search_param=topic_widget4, Formality = expertise_widget4, Max_Length = max_length_widget4);"
   ]
  },
  {
   "cell_type": "code",
   "execution_count": 10,
   "metadata": {
    "extensions": {
     "jupyter_dashboards": {
      "version": 1,
      "views": {
       "grid_default": {
        "col": 0,
        "height": 19,
        "hidden": false,
        "row": 96,
        "width": 4
       },
       "report_default": {
        "hidden": false
       }
      }
     }
    }
   },
   "outputs": [
    {
     "data": {
      "application/vnd.jupyter.widget-view+json": {
       "model_id": "d3a69eec0a4341449d9dfa7ea7acdef6",
       "version_major": 2,
       "version_minor": 0
      },
      "text/plain": [
       "interactive(children=(Dropdown(description='Topic', index=14, options=('keto', 'mct', 'natural', 'corn-fed', '…"
      ]
     },
     "metadata": {},
     "output_type": "display_data"
    }
   ],
   "source": [
    "alt_widget_4 = widgets.Dropdown(options = nutrition_cats,value='vegetarian', description ='Topic', disabled=False)\n",
    "\n",
    "interact(plot_stacked, param = alt_widget_4);"
   ]
  },
  {
   "cell_type": "markdown",
   "metadata": {
    "extensions": {
     "jupyter_dashboards": {
      "version": 1,
      "views": {
       "grid_default": {},
       "report_default": {
        "hidden": false
       }
      }
     }
    }
   },
   "source": [
    "# General"
   ]
  },
  {
   "cell_type": "code",
   "execution_count": 11,
   "metadata": {
    "extensions": {
     "jupyter_dashboards": {
      "version": 1,
      "views": {
       "grid_default": {},
       "report_default": {
        "hidden": false
       }
      }
     }
    }
   },
   "outputs": [
    {
     "data": {
      "application/vnd.jupyter.widget-view+json": {
       "model_id": "c32ba4ebc5414b3f91b2a187341664d6",
       "version_major": 2,
       "version_minor": 0
      },
      "text/plain": [
       "interactive(children=(IntSlider(value=1, description='Limit', max=5, min=1), ToggleButtons(description='Medium…"
      ]
     },
     "metadata": {},
     "output_type": "display_data"
    }
   ],
   "source": [
    "Limit_widget5 = widgets.IntSlider(min=1, max=5, step=1, value=1)\n",
    "Medium_widget5 = widgets.ToggleButtons(options = ['text', 'audio','video'], description ='Medium', button_style='')\n",
    "topic_widget5 = widgets.Dropdown(options = ['general'],value='general', description ='Topic', disabled=False)\n",
    "expertise_widget5 = widgets.ToggleButtons(options = ['Informal', 'Intermediate','Formal'], description ='Formality', button_style='')\n",
    "max_length_widget5 = widgets.IntSlider(min=0, max=300, step=10, value=20)\n",
    "\n",
    "\n",
    "interact(query_content,Limit = Limit_widget5, Medium = Medium_widget5, search_param=topic_widget5, Formality = expertise_widget5, Max_Length = max_length_widget5);"
   ]
  },
  {
   "cell_type": "code",
   "execution_count": 12,
   "metadata": {
    "extensions": {
     "jupyter_dashboards": {
      "version": 1,
      "views": {
       "grid_default": {},
       "report_default": {
        "hidden": false
       }
      }
     }
    }
   },
   "outputs": [
    {
     "data": {
      "application/vnd.jupyter.widget-view+json": {
       "model_id": "f99eb34ec12648919f2d7c8714e37333",
       "version_major": 2,
       "version_minor": 0
      },
      "text/plain": [
       "interactive(children=(Dropdown(description='Topic', options=('general',), value='general'), Output()), _dom_cl…"
      ]
     },
     "metadata": {},
     "output_type": "display_data"
    }
   ],
   "source": [
    "alt_widget_5 = widgets.Dropdown(options = ['general'],value='general', description ='Topic', disabled=False)\n",
    "\n",
    "interact(plot_stacked, param = alt_widget_5);"
   ]
  },
  {
   "cell_type": "markdown",
   "metadata": {
    "extensions": {
     "jupyter_dashboards": {
      "version": 1,
      "views": {
       "grid_default": {
        "col": 0,
        "height": 4,
        "hidden": false,
        "row": 42,
        "width": 12
       },
       "report_default": {
        "hidden": false
       }
      }
     }
    }
   },
   "source": [
    "# Search"
   ]
  },
  {
   "cell_type": "code",
   "execution_count": 13,
   "metadata": {
    "extensions": {
     "jupyter_dashboards": {
      "version": 1,
      "views": {
       "grid_default": {
        "col": 0,
        "height": 31,
        "hidden": false,
        "row": 46,
        "width": 12
       },
       "report_default": {
        "hidden": true
       }
      }
     }
    }
   },
   "outputs": [],
   "source": [
    "# search_widget = widgets.Text(placeholder = 'Search News', description='Search:', disabled=False,continuous_update=False)\n",
    "# Limit_widget5 = widgets.IntSlider(min=1, max=5, step=1, value=1)\n",
    "# Medium_widget5 = widgets.ToggleButtons(options = ['text', 'audio','video'], description ='Medium', button_style='')\n",
    "\n",
    "\n",
    "\n",
    "\n",
    "# interact(query_content,search_param=search_widget,Limit = Limit_widget5, Medium = Medium_widget5);"
   ]
  }
 ],
 "metadata": {
  "extensions": {
   "jupyter_dashboards": {
    "activeView": "report_default",
    "version": 1,
    "views": {
     "grid_default": {
      "cellMargin": 10,
      "defaultCellHeight": 20,
      "maxColumns": 12,
      "name": "grid",
      "type": "grid"
     },
     "report_default": {
      "name": "report",
      "type": "report"
     }
    }
   }
  },
  "kernelspec": {
   "display_name": "Python 3",
   "language": "python",
   "name": "python3"
  },
  "language_info": {
   "codemirror_mode": {
    "name": "ipython",
    "version": 3
   },
   "file_extension": ".py",
   "mimetype": "text/x-python",
   "name": "python",
   "nbconvert_exporter": "python",
   "pygments_lexer": "ipython3",
   "version": "3.6.5"
  }
 },
 "nbformat": 4,
 "nbformat_minor": 2
}
