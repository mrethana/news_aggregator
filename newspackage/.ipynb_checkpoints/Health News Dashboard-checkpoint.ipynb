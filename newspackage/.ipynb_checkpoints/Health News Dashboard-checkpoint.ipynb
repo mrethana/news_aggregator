{
 "cells": [
  {
   "cell_type": "code",
   "execution_count": 1,
   "metadata": {
    "extensions": {
     "jupyter_dashboards": {
      "version": 1,
      "views": {
       "grid_default": {
        "hidden": true
       },
       "report_default": {
        "hidden": false
       }
      }
     }
    }
   },
   "outputs": [
    {
     "name": "stdout",
     "output_type": "stream",
     "text": [
      "Database session created\n"
     ]
    }
   ],
   "source": [
    "import ipywidgets as widgets\n",
    "from ipywidgets import interact, interactive, fixed, interact_manual\n",
    "import ipywidgets as widgets\n",
    "from IPython.display import Image\n",
    "from IPython.core.display import HTML \n",
    "import time\n",
    "from ipywidgets import FloatProgress\n",
    "from IPython.display import display\n",
    "from bs4 import BeautifulSoup\n",
    "import requests\n",
    "import re\n",
    "from os import path\n",
    "from PIL import Image\n",
    "import pandas as pd\n",
    "import warnings\n",
    "warnings.filterwarnings(\"ignore\")\n",
    "from models import *\n",
    "from etl import *\n",
    "import plotly.plotly as py\n",
    "import plotly.graph_objs as go"
   ]
  },
  {
   "cell_type": "code",
   "execution_count": 2,
   "metadata": {
    "extensions": {
     "jupyter_dashboards": {
      "version": 1,
      "views": {
       "grid_default": {},
       "report_default": {
        "hidden": true
       }
      }
     }
    }
   },
   "outputs": [],
   "source": [
    "def add_scraping_source(df, identifier_dict):\n",
    "    scraped_source = []\n",
    "    for index, row in df.iterrows():\n",
    "        identifier = row.medium + row.formality\n",
    "        scraped_from = identifier_dict[identifier]\n",
    "        scraped_source.append(scraped_from)\n",
    "    df['scraped_from'] = scraped_source\n",
    "    return df\n",
    "def fix_NYT(df):\n",
    "    df.loc[(df.provider=='The New York Times') & (df.medium == 'text'), 'scraped_from'] = 'NYT API'\n",
    "    return df"
   ]
  },
  {
   "cell_type": "code",
   "execution_count": 20,
   "metadata": {
    "extensions": {
     "jupyter_dashboards": {
      "version": 1,
      "views": {
       "grid_default": {},
       "report_default": {
        "hidden": false
       }
      }
     }
    }
   },
   "outputs": [
    {
     "data": {
      "text/html": [
       "<div>\n",
       "<style scoped>\n",
       "    .dataframe tbody tr th:only-of-type {\n",
       "        vertical-align: middle;\n",
       "    }\n",
       "\n",
       "    .dataframe tbody tr th {\n",
       "        vertical-align: top;\n",
       "    }\n",
       "\n",
       "    .dataframe thead th {\n",
       "        text-align: right;\n",
       "    }\n",
       "</style>\n",
       "<table border=\"1\" class=\"dataframe\">\n",
       "  <thead>\n",
       "    <tr style=\"text-align: right;\">\n",
       "      <th></th>\n",
       "      <th>api_id</th>\n",
       "      <th>category</th>\n",
       "      <th>content_url</th>\n",
       "      <th>formality</th>\n",
       "      <th>image_url</th>\n",
       "      <th>length</th>\n",
       "      <th>medium</th>\n",
       "      <th>provider</th>\n",
       "      <th>published</th>\n",
       "      <th>title</th>\n",
       "      <th>scraped_from</th>\n",
       "    </tr>\n",
       "  </thead>\n",
       "  <tbody>\n",
       "    <tr>\n",
       "      <th>0</th>\n",
       "      <td>engadget</td>\n",
       "      <td>keto</td>\n",
       "      <td>https://www.engadget.com/2018/11/27/keyto-brea...</td>\n",
       "      <td>Intermediate</td>\n",
       "      <td>https://o.aolcdn.com/images/dims?thumbnail=120...</td>\n",
       "      <td>2.0</td>\n",
       "      <td>text</td>\n",
       "      <td>Engadget</td>\n",
       "      <td>2018-11-27</td>\n",
       "      <td>Keyto breath analyzer promises to keep your ke...</td>\n",
       "      <td>NewsApi</td>\n",
       "    </tr>\n",
       "    <tr>\n",
       "      <th>1</th>\n",
       "      <td>usa-today</td>\n",
       "      <td>keto</td>\n",
       "      <td>https://www.usatoday.com/story/life/grateful/2...</td>\n",
       "      <td>Intermediate</td>\n",
       "      <td>https://www.gannett-cdn.com/presto/2018/10/17/...</td>\n",
       "      <td>5.0</td>\n",
       "      <td>text</td>\n",
       "      <td>USA Today</td>\n",
       "      <td>2018-11-16</td>\n",
       "      <td>An irreverent Thanksgiving: Making the holiday...</td>\n",
       "      <td>NewsApi</td>\n",
       "    </tr>\n",
       "    <tr>\n",
       "      <th>2</th>\n",
       "      <td>the-wall-street-journal</td>\n",
       "      <td>keto</td>\n",
       "      <td>https://www.wsj.com/articles/this-coffee-is-ni...</td>\n",
       "      <td>Intermediate</td>\n",
       "      <td>https://si.wsj.net/public/resources/images/B3-...</td>\n",
       "      <td>6.0</td>\n",
       "      <td>text</td>\n",
       "      <td>The Wall Street Journal</td>\n",
       "      <td>2018-11-26</td>\n",
       "      <td>This Coffee Is Nice But It Needs More Butter -...</td>\n",
       "      <td>NewsApi</td>\n",
       "    </tr>\n",
       "    <tr>\n",
       "      <th>3</th>\n",
       "      <td>the-telegraph</td>\n",
       "      <td>keto</td>\n",
       "      <td>https://www.telegraph.co.uk/boxing/2018/11/27/...</td>\n",
       "      <td>Intermediate</td>\n",
       "      <td>https://www.telegraph.co.uk/content/dam/boxing...</td>\n",
       "      <td>1.0</td>\n",
       "      <td>text</td>\n",
       "      <td>The Telegraph</td>\n",
       "      <td>2018-11-27</td>\n",
       "      <td>Revealed: The secrets behind Tyson Fury's extr...</td>\n",
       "      <td>NewsApi</td>\n",
       "    </tr>\n",
       "    <tr>\n",
       "      <th>4</th>\n",
       "      <td>newsweek</td>\n",
       "      <td>keto</td>\n",
       "      <td>https://www.newsweek.com/vinny-guadagnino-talk...</td>\n",
       "      <td>Intermediate</td>\n",
       "      <td>https://s.newsweek.com/sites/www.newsweek.com/...</td>\n",
       "      <td>3.0</td>\n",
       "      <td>text</td>\n",
       "      <td>Newsweek</td>\n",
       "      <td>2018-11-15</td>\n",
       "      <td>What Happens When 'Jersey Shore' Ends? Vinny G...</td>\n",
       "      <td>NewsApi</td>\n",
       "    </tr>\n",
       "    <tr>\n",
       "      <th>5</th>\n",
       "      <td>buzzfeed</td>\n",
       "      <td>keto</td>\n",
       "      <td>https://www.buzzfeed.com/michelleno/low-carb-k...</td>\n",
       "      <td>Intermediate</td>\n",
       "      <td>https://img.buzzfeed.com/buzzfeed-static/stati...</td>\n",
       "      <td>4.0</td>\n",
       "      <td>text</td>\n",
       "      <td>Buzzfeed</td>\n",
       "      <td>2018-11-17</td>\n",
       "      <td>14 Keto Versions Of Popular Holiday Desserts</td>\n",
       "      <td>NewsApi</td>\n",
       "    </tr>\n",
       "    <tr>\n",
       "      <th>6</th>\n",
       "      <td>business-insider</td>\n",
       "      <td>keto</td>\n",
       "      <td>https://www.businessinsider.com/best-keto-meal...</td>\n",
       "      <td>Intermediate</td>\n",
       "      <td>https://amp.businessinsider.com/images/5bfc676...</td>\n",
       "      <td>1.0</td>\n",
       "      <td>text</td>\n",
       "      <td>Business Insider</td>\n",
       "      <td>2018-11-27</td>\n",
       "      <td>10 of the best keto meal options at popular ch...</td>\n",
       "      <td>NewsApi</td>\n",
       "    </tr>\n",
       "    <tr>\n",
       "      <th>7</th>\n",
       "      <td>business-insider</td>\n",
       "      <td>keto</td>\n",
       "      <td>https://www.businessinsider.com/keto-breathaly...</td>\n",
       "      <td>Intermediate</td>\n",
       "      <td>https://amp.businessinsider.com/images/5bfd48a...</td>\n",
       "      <td>3.0</td>\n",
       "      <td>text</td>\n",
       "      <td>Business Insider</td>\n",
       "      <td>2018-11-27</td>\n",
       "      <td>A new $100 keto breathalyzer could finally mak...</td>\n",
       "      <td>NewsApi</td>\n",
       "    </tr>\n",
       "    <tr>\n",
       "      <th>8</th>\n",
       "      <td>business-insider</td>\n",
       "      <td>keto</td>\n",
       "      <td>https://www.businessinsider.com/keto-thanksgiv...</td>\n",
       "      <td>Intermediate</td>\n",
       "      <td>https://amp.businessinsider.com/images/5bf2f66...</td>\n",
       "      <td>1.0</td>\n",
       "      <td>text</td>\n",
       "      <td>Business Insider</td>\n",
       "      <td>2018-11-20</td>\n",
       "      <td>How to have a carb-free keto Thanksgiving, acc...</td>\n",
       "      <td>NewsApi</td>\n",
       "    </tr>\n",
       "    <tr>\n",
       "      <th>9</th>\n",
       "      <td>buzzfeed</td>\n",
       "      <td>keto</td>\n",
       "      <td>https://www.buzzfeed.com/jamedjackson/20-hilar...</td>\n",
       "      <td>Intermediate</td>\n",
       "      <td>https://img.buzzfeed.com/buzzfeed-static/stati...</td>\n",
       "      <td>4.0</td>\n",
       "      <td>text</td>\n",
       "      <td>Buzzfeed</td>\n",
       "      <td>2018-11-27</td>\n",
       "      <td>These \"Overheard\" Tweets Will Make You Wonder ...</td>\n",
       "      <td>NewsApi</td>\n",
       "    </tr>\n",
       "    <tr>\n",
       "      <th>10</th>\n",
       "      <td>business-insider</td>\n",
       "      <td>mct</td>\n",
       "      <td>https://www.businessinsider.com/shark-tank-kit...</td>\n",
       "      <td>Intermediate</td>\n",
       "      <td>https://amp.businessinsider.com/images/5bf338f...</td>\n",
       "      <td>4.0</td>\n",
       "      <td>text</td>\n",
       "      <td>Business Insider</td>\n",
       "      <td>2018-11-20</td>\n",
       "      <td>Entrepreneurs who launched their $50 million c...</td>\n",
       "      <td>NewsApi</td>\n",
       "    </tr>\n",
       "    <tr>\n",
       "      <th>11</th>\n",
       "      <td>the-telegraph</td>\n",
       "      <td>mct</td>\n",
       "      <td>https://www.telegraph.co.uk/technology/2018/11...</td>\n",
       "      <td>Intermediate</td>\n",
       "      <td>https://www.telegraph.co.uk/content/dam/techno...</td>\n",
       "      <td>1.0</td>\n",
       "      <td>text</td>\n",
       "      <td>The Telegraph</td>\n",
       "      <td>2018-11-20</td>\n",
       "      <td>Musk renames Mars rocket 'Starship' and says '...</td>\n",
       "      <td>NewsApi</td>\n",
       "    </tr>\n",
       "    <tr>\n",
       "      <th>12</th>\n",
       "      <td>bbc-news</td>\n",
       "      <td>mct</td>\n",
       "      <td>https://www.bbc.co.uk/news/business-46274158</td>\n",
       "      <td>Intermediate</td>\n",
       "      <td>https://ichef.bbci.co.uk/news/1024/branded_new...</td>\n",
       "      <td>2.0</td>\n",
       "      <td>text</td>\n",
       "      <td>BBC News</td>\n",
       "      <td>2018-11-20</td>\n",
       "      <td>Elon Musk renames his BFR spacecraft Starship</td>\n",
       "      <td>NewsApi</td>\n",
       "    </tr>\n",
       "    <tr>\n",
       "      <th>13</th>\n",
       "      <td>abc-news</td>\n",
       "      <td>mct</td>\n",
       "      <td>https://abcnews.go.com/International/wireStory...</td>\n",
       "      <td>Intermediate</td>\n",
       "      <td>None</td>\n",
       "      <td>0.0</td>\n",
       "      <td>text</td>\n",
       "      <td>ABC News</td>\n",
       "      <td>2018-11-27</td>\n",
       "      <td>21 held in melee over Malaysian temple land di...</td>\n",
       "      <td>NewsApi</td>\n",
       "    </tr>\n",
       "    <tr>\n",
       "      <th>14</th>\n",
       "      <td>the-wall-street-journal</td>\n",
       "      <td>mct</td>\n",
       "      <td>https://www.wsj.com/articles/this-coffee-is-ni...</td>\n",
       "      <td>Intermediate</td>\n",
       "      <td>https://si.wsj.net/public/resources/images/B3-...</td>\n",
       "      <td>6.0</td>\n",
       "      <td>text</td>\n",
       "      <td>The Wall Street Journal</td>\n",
       "      <td>2018-11-26</td>\n",
       "      <td>This Coffee Is Nice But It Needs More Butter -...</td>\n",
       "      <td>NewsApi</td>\n",
       "    </tr>\n",
       "    <tr>\n",
       "      <th>15</th>\n",
       "      <td>cbc-news</td>\n",
       "      <td>mct</td>\n",
       "      <td>https://www.cbc.ca/news/canada/british-columbi...</td>\n",
       "      <td>Intermediate</td>\n",
       "      <td>https://i.cbc.ca/1.4902189.1542052384!/fileIma...</td>\n",
       "      <td>1.0</td>\n",
       "      <td>text</td>\n",
       "      <td>CBC News</td>\n",
       "      <td>2018-11-22</td>\n",
       "      <td>Manufacturer says no B.C. customers received m...</td>\n",
       "      <td>NewsApi</td>\n",
       "    </tr>\n",
       "    <tr>\n",
       "      <th>16</th>\n",
       "      <td>cbc-news</td>\n",
       "      <td>mct</td>\n",
       "      <td>https://www.cbc.ca/news/canada/british-columbi...</td>\n",
       "      <td>Intermediate</td>\n",
       "      <td>https://i.cbc.ca/1.4902189.1542052384!/fileIma...</td>\n",
       "      <td>3.0</td>\n",
       "      <td>text</td>\n",
       "      <td>CBC News</td>\n",
       "      <td>2018-11-22</td>\n",
       "      <td>Mislabelled cannabis spray sold by B.C. pot st...</td>\n",
       "      <td>NewsApi</td>\n",
       "    </tr>\n",
       "    <tr>\n",
       "      <th>17</th>\n",
       "      <td>daily-mail</td>\n",
       "      <td>mct</td>\n",
       "      <td>https://www.dailymail.co.uk/femail/article-638...</td>\n",
       "      <td>Intermediate</td>\n",
       "      <td>https://i.dailymail.co.uk/1s/2018/11/13/00/610...</td>\n",
       "      <td>6.0</td>\n",
       "      <td>text</td>\n",
       "      <td>Daily Mail</td>\n",
       "      <td>2018-11-13</td>\n",
       "      <td>Woman who transformed her body by only losing ...</td>\n",
       "      <td>NewsApi</td>\n",
       "    </tr>\n",
       "    <tr>\n",
       "      <th>18</th>\n",
       "      <td>vice-news</td>\n",
       "      <td>mct</td>\n",
       "      <td>https://broadly.vice.com/en_us/article/59vznb/...</td>\n",
       "      <td>Intermediate</td>\n",
       "      <td>https://video-images.vice.com/articles/5be4241...</td>\n",
       "      <td>3.0</td>\n",
       "      <td>text</td>\n",
       "      <td>Vice News</td>\n",
       "      <td>2018-11-08</td>\n",
       "      <td>Anti-Abortion Terrorist Who Shot George Tiller...</td>\n",
       "      <td>NewsApi</td>\n",
       "    </tr>\n",
       "    <tr>\n",
       "      <th>19</th>\n",
       "      <td>associated-press</td>\n",
       "      <td>mct</td>\n",
       "      <td>https://apnews.com/c5bddad70e684a5da20c9a72829...</td>\n",
       "      <td>Intermediate</td>\n",
       "      <td>https://bloximages.newyork1.vip.townnews.com/r...</td>\n",
       "      <td>3.0</td>\n",
       "      <td>text</td>\n",
       "      <td>Associated Press</td>\n",
       "      <td>2018-11-27</td>\n",
       "      <td>21 held in melee over Malaysian temple land di...</td>\n",
       "      <td>NewsApi</td>\n",
       "    </tr>\n",
       "    <tr>\n",
       "      <th>20</th>\n",
       "      <td>wired</td>\n",
       "      <td>natural</td>\n",
       "      <td>https://www.wired.com/story/copy-machine-lands...</td>\n",
       "      <td>Intermediate</td>\n",
       "      <td>https://media.wired.com/photos/5bfde2bfab39b96...</td>\n",
       "      <td>2.0</td>\n",
       "      <td>text</td>\n",
       "      <td>Wired</td>\n",
       "      <td>2018-11-28</td>\n",
       "      <td>A Copy Machine Artist Creates Photos of Famili...</td>\n",
       "      <td>NewsApi</td>\n",
       "    </tr>\n",
       "    <tr>\n",
       "      <th>21</th>\n",
       "      <td>bbc-news</td>\n",
       "      <td>natural</td>\n",
       "      <td>https://www.bbc.co.uk/news/av/science-environm...</td>\n",
       "      <td>Intermediate</td>\n",
       "      <td>https://ichef.bbci.co.uk/news/1024/branded_new...</td>\n",
       "      <td>4.0</td>\n",
       "      <td>text</td>\n",
       "      <td>BBC News</td>\n",
       "      <td>2018-11-08</td>\n",
       "      <td>First 'retirement home' for showbiz beluga whales</td>\n",
       "      <td>NewsApi</td>\n",
       "    </tr>\n",
       "    <tr>\n",
       "      <th>22</th>\n",
       "      <td>cnn</td>\n",
       "      <td>natural</td>\n",
       "      <td>https://www.cnn.com/videos/business/2018/11/08...</td>\n",
       "      <td>Intermediate</td>\n",
       "      <td>https://cdn.cnn.com/cnnnext/dam/assets/1811081...</td>\n",
       "      <td>4.0</td>\n",
       "      <td>text</td>\n",
       "      <td>CNN</td>\n",
       "      <td>2018-11-08</td>\n",
       "      <td>See robots fly and swim just like animals</td>\n",
       "      <td>NewsApi</td>\n",
       "    </tr>\n",
       "    <tr>\n",
       "      <th>23</th>\n",
       "      <td>the-guardian-au</td>\n",
       "      <td>natural</td>\n",
       "      <td>https://www.theguardian.com/culture/2018/nov/1...</td>\n",
       "      <td>Intermediate</td>\n",
       "      <td>https://i.guim.co.uk/img/media/f96fd653ab77a0b...</td>\n",
       "      <td>3.0</td>\n",
       "      <td>text</td>\n",
       "      <td>The Guardian (AU)</td>\n",
       "      <td>2018-11-13</td>\n",
       "      <td>Natural History Museum accused of accepting ‘b...</td>\n",
       "      <td>NewsApi</td>\n",
       "    </tr>\n",
       "    <tr>\n",
       "      <th>24</th>\n",
       "      <td>mashable</td>\n",
       "      <td>natural</td>\n",
       "      <td>https://mashable.com/article/california-woolse...</td>\n",
       "      <td>Intermediate</td>\n",
       "      <td>https://i.amz.mshcdn.com/K-qAqgCRigdBRjavN-HVk...</td>\n",
       "      <td>1.0</td>\n",
       "      <td>text</td>\n",
       "      <td>Mashable</td>\n",
       "      <td>2018-11-21</td>\n",
       "      <td>California's Woolsey Fire has left a burn scar...</td>\n",
       "      <td>NewsApi</td>\n",
       "    </tr>\n",
       "    <tr>\n",
       "      <th>25</th>\n",
       "      <td>the-guardian-au</td>\n",
       "      <td>natural</td>\n",
       "      <td>https://www.theguardian.com/world/2018/nov/09/...</td>\n",
       "      <td>Intermediate</td>\n",
       "      <td>https://i.guim.co.uk/img/media/b49f201fed3b750...</td>\n",
       "      <td>7.0</td>\n",
       "      <td>text</td>\n",
       "      <td>The Guardian (AU)</td>\n",
       "      <td>2018-11-17</td>\n",
       "      <td>Indonesia's love affair with its dying natural...</td>\n",
       "      <td>NewsApi</td>\n",
       "    </tr>\n",
       "    <tr>\n",
       "      <th>26</th>\n",
       "      <td>mashable</td>\n",
       "      <td>natural</td>\n",
       "      <td>https://mashable.com/article/epa-website-chang...</td>\n",
       "      <td>Intermediate</td>\n",
       "      <td>https://i.amz.mshcdn.com/Fk9vL4wn01F87N28MTw7X...</td>\n",
       "      <td>3.0</td>\n",
       "      <td>text</td>\n",
       "      <td>Mashable</td>\n",
       "      <td>2018-11-18</td>\n",
       "      <td>Trump administration changes EPA website to be...</td>\n",
       "      <td>NewsApi</td>\n",
       "    </tr>\n",
       "    <tr>\n",
       "      <th>27</th>\n",
       "      <td>engadget</td>\n",
       "      <td>natural</td>\n",
       "      <td>https://www.engadget.com/2018/11/14/google-pix...</td>\n",
       "      <td>Intermediate</td>\n",
       "      <td>https://o.aolcdn.com/images/dims?thumbnail=120...</td>\n",
       "      <td>1.0</td>\n",
       "      <td>text</td>\n",
       "      <td>Engadget</td>\n",
       "      <td>2018-11-14</td>\n",
       "      <td>The Pixel's Night Sight camera mode performs i...</td>\n",
       "      <td>NewsApi</td>\n",
       "    </tr>\n",
       "    <tr>\n",
       "      <th>28</th>\n",
       "      <td>engadget</td>\n",
       "      <td>natural</td>\n",
       "      <td>https://www.engadget.com/2018/11/20/civilizati...</td>\n",
       "      <td>Intermediate</td>\n",
       "      <td>https://o.aolcdn.com/images/dims?thumbnail=120...</td>\n",
       "      <td>1.0</td>\n",
       "      <td>text</td>\n",
       "      <td>Engadget</td>\n",
       "      <td>2018-11-21</td>\n",
       "      <td>'Civilization VI' expansion 'Gathering Storm' ...</td>\n",
       "      <td>NewsApi</td>\n",
       "    </tr>\n",
       "    <tr>\n",
       "      <th>29</th>\n",
       "      <td>the-guardian-au</td>\n",
       "      <td>natural</td>\n",
       "      <td>https://www.theguardian.com/tv-and-radio/2018/...</td>\n",
       "      <td>Intermediate</td>\n",
       "      <td>https://i.guim.co.uk/img/media/0ed485b369295e7...</td>\n",
       "      <td>3.0</td>\n",
       "      <td>text</td>\n",
       "      <td>The Guardian (AU)</td>\n",
       "      <td>2018-11-08</td>\n",
       "      <td>David Attenborough to present Netflix nature s...</td>\n",
       "      <td>NewsApi</td>\n",
       "    </tr>\n",
       "    <tr>\n",
       "      <th>...</th>\n",
       "      <td>...</td>\n",
       "      <td>...</td>\n",
       "      <td>...</td>\n",
       "      <td>...</td>\n",
       "      <td>...</td>\n",
       "      <td>...</td>\n",
       "      <td>...</td>\n",
       "      <td>...</td>\n",
       "      <td>...</td>\n",
       "      <td>...</td>\n",
       "      <td>...</td>\n",
       "    </tr>\n",
       "    <tr>\n",
       "      <th>17899</th>\n",
       "      <td>UCG749Dj4V2fKa143f8sE60Q</td>\n",
       "      <td>new york times racist</td>\n",
       "      <td>https://www.youtube.com/watch?v=4gHW38QnmnA</td>\n",
       "      <td>Intermediate</td>\n",
       "      <td>https://i.ytimg.com/vi/4gHW38QnmnA/default.jpg</td>\n",
       "      <td>10.0</td>\n",
       "      <td>video</td>\n",
       "      <td>Tim Pool</td>\n",
       "      <td>2018-08-02</td>\n",
       "      <td>The New York Times Hired A Racist Troll And De...</td>\n",
       "      <td>Youtube</td>\n",
       "    </tr>\n",
       "    <tr>\n",
       "      <th>17900</th>\n",
       "      <td>UCvaHgYcWAAcn5D54w4Dqezg</td>\n",
       "      <td>black pilled</td>\n",
       "      <td>https://www.youtube.com/watch?v=bOhT_uQOgCY</td>\n",
       "      <td>Intermediate</td>\n",
       "      <td>https://i.ytimg.com/vi/bOhT_uQOgCY/default.jpg</td>\n",
       "      <td>6.0</td>\n",
       "      <td>video</td>\n",
       "      <td>Black Pilled</td>\n",
       "      <td>2018-08-02</td>\n",
       "      <td>The New York Times Just Hired a Racist</td>\n",
       "      <td>Youtube</td>\n",
       "    </tr>\n",
       "    <tr>\n",
       "      <th>17901</th>\n",
       "      <td>UCY5wskx3d8m7H_eGA94fJIg</td>\n",
       "      <td>facebook</td>\n",
       "      <td>https://www.youtube.com/watch?v=2KinOSPd4NU</td>\n",
       "      <td>Intermediate</td>\n",
       "      <td>https://i.ytimg.com/vi/2KinOSPd4NU/default.jpg</td>\n",
       "      <td>8.0</td>\n",
       "      <td>video</td>\n",
       "      <td>Free Speech Radio By Gab</td>\n",
       "      <td>2018-07-31</td>\n",
       "      <td>The New York Times Ignores Election Interferen...</td>\n",
       "      <td>Youtube</td>\n",
       "    </tr>\n",
       "    <tr>\n",
       "      <th>17902</th>\n",
       "      <td>UCJS9pqu9BzkAMNTmzNMNhvg</td>\n",
       "      <td>new york times</td>\n",
       "      <td>https://www.youtube.com/watch?v=O62jAbz-4qA</td>\n",
       "      <td>Intermediate</td>\n",
       "      <td>https://i.ytimg.com/vi/O62jAbz-4qA/default.jpg</td>\n",
       "      <td>45.0</td>\n",
       "      <td>video</td>\n",
       "      <td>Google Cloud Platform</td>\n",
       "      <td>2018-07-26</td>\n",
       "      <td>The New York Times Runs on GCP: A Transformati...</td>\n",
       "      <td>Youtube</td>\n",
       "    </tr>\n",
       "    <tr>\n",
       "      <th>17903</th>\n",
       "      <td>UCLxfvd3Rpt5cumh7DE7qbVQ</td>\n",
       "      <td>Art Leaders Network</td>\n",
       "      <td>https://www.youtube.com/watch?v=cpgw2AitX1E</td>\n",
       "      <td>Intermediate</td>\n",
       "      <td>https://i.ytimg.com/vi/cpgw2AitX1E/default.jpg</td>\n",
       "      <td>1.0</td>\n",
       "      <td>video</td>\n",
       "      <td>The New York Times Conferences</td>\n",
       "      <td>2018-07-20</td>\n",
       "      <td>The New York Times Art Leaders Network Highlig...</td>\n",
       "      <td>Youtube</td>\n",
       "    </tr>\n",
       "    <tr>\n",
       "      <th>17904</th>\n",
       "      <td>UCCK3OZi788Ok44K97WAhLKQ</td>\n",
       "      <td>Sri</td>\n",
       "      <td>https://www.youtube.com/watch?v=qk9yIIhYfVo</td>\n",
       "      <td>Intermediate</td>\n",
       "      <td>https://i.ytimg.com/vi/qk9yIIhYfVo/default.jpg</td>\n",
       "      <td>3.0</td>\n",
       "      <td>video</td>\n",
       "      <td>Ada Derana</td>\n",
       "      <td>2018-06-29</td>\n",
       "      <td>Chinese Embassy rejects allegations made in Th...</td>\n",
       "      <td>Youtube</td>\n",
       "    </tr>\n",
       "    <tr>\n",
       "      <th>17905</th>\n",
       "      <td>UC7ZWq0v4coODbpEcOpl45fw</td>\n",
       "      <td>general</td>\n",
       "      <td>https://www.youtube.com/watch?v=HjYAoJwXnio</td>\n",
       "      <td>Intermediate</td>\n",
       "      <td>https://i.ytimg.com/vi/HjYAoJwXnio/default.jpg</td>\n",
       "      <td>59.0</td>\n",
       "      <td>video</td>\n",
       "      <td>The Greene Space at WNYC &amp; WQXR</td>\n",
       "      <td>2018-06-26</td>\n",
       "      <td>The New York Times Podcast Club, IRL: American...</td>\n",
       "      <td>Youtube</td>\n",
       "    </tr>\n",
       "    <tr>\n",
       "      <th>17906</th>\n",
       "      <td>UCsD-Qms-AkXDrsU962OicLw</td>\n",
       "      <td>david remnick</td>\n",
       "      <td>https://www.youtube.com/watch?v=eBKOoEGMi_E</td>\n",
       "      <td>Intermediate</td>\n",
       "      <td>https://i.ytimg.com/vi/eBKOoEGMi_E/default.jpg</td>\n",
       "      <td>13.0</td>\n",
       "      <td>video</td>\n",
       "      <td>The New Yorker</td>\n",
       "      <td>2018-06-14</td>\n",
       "      <td>The New York Times Journalists Maggie Haberman...</td>\n",
       "      <td>Youtube</td>\n",
       "    </tr>\n",
       "    <tr>\n",
       "      <th>17907</th>\n",
       "      <td>UCc99RaVe8PKgly2T3QNBWLw</td>\n",
       "      <td>Grace Ashford</td>\n",
       "      <td>https://www.youtube.com/watch?v=MD1yXu5Rlhk</td>\n",
       "      <td>Intermediate</td>\n",
       "      <td>https://i.ytimg.com/vi/MD1yXu5Rlhk/default.jpg</td>\n",
       "      <td>28.0</td>\n",
       "      <td>video</td>\n",
       "      <td>cunytv75</td>\n",
       "      <td>2018-06-01</td>\n",
       "      <td>The New York Times Close Up with Sam Roberts -...</td>\n",
       "      <td>Youtube</td>\n",
       "    </tr>\n",
       "    <tr>\n",
       "      <th>17908</th>\n",
       "      <td>UCLxfvd3Rpt5cumh7DE7qbVQ</td>\n",
       "      <td>general</td>\n",
       "      <td>https://www.youtube.com/watch?v=c-Em33gr_pA</td>\n",
       "      <td>Intermediate</td>\n",
       "      <td>https://i.ytimg.com/vi/c-Em33gr_pA/default.jpg</td>\n",
       "      <td>1.0</td>\n",
       "      <td>video</td>\n",
       "      <td>The New York Times Conferences</td>\n",
       "      <td>2018-05-03</td>\n",
       "      <td>The New York Times DealBook Conference 2018</td>\n",
       "      <td>Youtube</td>\n",
       "    </tr>\n",
       "    <tr>\n",
       "      <th>17909</th>\n",
       "      <td>UCYphRibWhPLz5UnYDnIEbkQ</td>\n",
       "      <td>Buy The New York Times Paywall Case Study Help</td>\n",
       "      <td>https://www.youtube.com/watch?v=dZnc8weCTDo</td>\n",
       "      <td>Intermediate</td>\n",
       "      <td>https://i.ytimg.com/vi/dZnc8weCTDo/default.jpg</td>\n",
       "      <td>2.0</td>\n",
       "      <td>video</td>\n",
       "      <td>TheCaseSolutions com</td>\n",
       "      <td>2018-04-25</td>\n",
       "      <td>The New York Times Paywall Case Solution &amp; Ana...</td>\n",
       "      <td>Youtube</td>\n",
       "    </tr>\n",
       "    <tr>\n",
       "      <th>17910</th>\n",
       "      <td>UCvqbFHwN-nwalWPjPUKpvTA</td>\n",
       "      <td>CNCF</td>\n",
       "      <td>https://www.youtube.com/watch?v=DqS_IPw-c6o</td>\n",
       "      <td>Intermediate</td>\n",
       "      <td>https://i.ytimg.com/vi/DqS_IPw-c6o/default.jpg</td>\n",
       "      <td>2.0</td>\n",
       "      <td>video</td>\n",
       "      <td>CNCF [Cloud Native Computing Foundation]</td>\n",
       "      <td>2018-03-13</td>\n",
       "      <td>CNCF End User: Tony Li, The New York Times</td>\n",
       "      <td>Youtube</td>\n",
       "    </tr>\n",
       "    <tr>\n",
       "      <th>17911</th>\n",
       "      <td>UCPu_mODE4FGtKcACHH57kvg</td>\n",
       "      <td>Nick Kristof</td>\n",
       "      <td>https://www.youtube.com/watch?v=34fctYzbq38</td>\n",
       "      <td>Intermediate</td>\n",
       "      <td>https://i.ytimg.com/vi/34fctYzbq38/default.jpg</td>\n",
       "      <td>3.0</td>\n",
       "      <td>video</td>\n",
       "      <td>Matter of Facts</td>\n",
       "      <td>2018-03-02</td>\n",
       "      <td>Nick Kristof of the New York Times Thinks He I...</td>\n",
       "      <td>Youtube</td>\n",
       "    </tr>\n",
       "    <tr>\n",
       "      <th>17912</th>\n",
       "      <td>UCMCHI5AcGMztaXUgBIlssnA</td>\n",
       "      <td>1-10-18</td>\n",
       "      <td>https://www.youtube.com/watch?v=6qoLYYBj4Yw</td>\n",
       "      <td>Intermediate</td>\n",
       "      <td>https://i.ytimg.com/vi/6qoLYYBj4Yw/default.jpg</td>\n",
       "      <td>59.0</td>\n",
       "      <td>video</td>\n",
       "      <td>UChi Pol</td>\n",
       "      <td>2018-02-20</td>\n",
       "      <td>The New York Times Columnist David Brooks</td>\n",
       "      <td>Youtube</td>\n",
       "    </tr>\n",
       "    <tr>\n",
       "      <th>17913</th>\n",
       "      <td>UC-j9fMvIWCIke8TZ8w-kNqA</td>\n",
       "      <td>TimesMachine</td>\n",
       "      <td>https://www.youtube.com/watch?v=ls1N84SEqeo</td>\n",
       "      <td>Intermediate</td>\n",
       "      <td>https://i.ytimg.com/vi/ls1N84SEqeo/default.jpg</td>\n",
       "      <td>2.0</td>\n",
       "      <td>video</td>\n",
       "      <td>DeWitt Library</td>\n",
       "      <td>2018-02-07</td>\n",
       "      <td>Using the archives of the New York Times</td>\n",
       "      <td>Youtube</td>\n",
       "    </tr>\n",
       "    <tr>\n",
       "      <th>17914</th>\n",
       "      <td>the-new-york-times</td>\n",
       "      <td>The New York Times</td>\n",
       "      <td>https://www.youtube.com/watch?v=yqikYLkF4jU</td>\n",
       "      <td>Intermediate</td>\n",
       "      <td>https://i.ytimg.com/vi/yqikYLkF4jU/default.jpg</td>\n",
       "      <td>1.0</td>\n",
       "      <td>video</td>\n",
       "      <td>The New York Times</td>\n",
       "      <td>2018-01-05</td>\n",
       "      <td>TV Commercial | The Truth Has a Voice | The Ne...</td>\n",
       "      <td>Youtube</td>\n",
       "    </tr>\n",
       "    <tr>\n",
       "      <th>17915</th>\n",
       "      <td>UCPss0osBKDLWyek0jCRCKdQ</td>\n",
       "      <td>Bakersfield College Library</td>\n",
       "      <td>https://www.youtube.com/watch?v=L314_-idk_Q</td>\n",
       "      <td>Intermediate</td>\n",
       "      <td>https://i.ytimg.com/vi/L314_-idk_Q/default.jpg</td>\n",
       "      <td>3.0</td>\n",
       "      <td>video</td>\n",
       "      <td>gracevdblibrary</td>\n",
       "      <td>2017-12-05</td>\n",
       "      <td>Research 101: How to Search and Access the New...</td>\n",
       "      <td>Youtube</td>\n",
       "    </tr>\n",
       "    <tr>\n",
       "      <th>17916</th>\n",
       "      <td>UCgCbreBPMP-9rq3NfWy6LVQ</td>\n",
       "      <td>periodismo</td>\n",
       "      <td>https://www.youtube.com/watch?v=HMhzxT-GCBM</td>\n",
       "      <td>Intermediate</td>\n",
       "      <td>https://i.ytimg.com/vi/HMhzxT-GCBM/default.jpg</td>\n",
       "      <td>3.0</td>\n",
       "      <td>video</td>\n",
       "      <td>Photographic Social Vision</td>\n",
       "      <td>2017-11-23</td>\n",
       "      <td>\"La reinvención del The New York Times\" - Isma...</td>\n",
       "      <td>Youtube</td>\n",
       "    </tr>\n",
       "    <tr>\n",
       "      <th>17917</th>\n",
       "      <td>UCFHZRaJORf-Pffh2rnF8WaQ</td>\n",
       "      <td>podcast</td>\n",
       "      <td>https://www.youtube.com/watch?v=V-woqJbPoys</td>\n",
       "      <td>Intermediate</td>\n",
       "      <td>https://i.ytimg.com/vi/V-woqJbPoys/default.jpg</td>\n",
       "      <td>37.0</td>\n",
       "      <td>video</td>\n",
       "      <td>WeTransfer</td>\n",
       "      <td>2017-11-20</td>\n",
       "      <td>What About? The New York Times Magazine (Podcast)</td>\n",
       "      <td>Youtube</td>\n",
       "    </tr>\n",
       "    <tr>\n",
       "      <th>17918</th>\n",
       "      <td>UCKiukagqesMnWSF9iqZuYKA</td>\n",
       "      <td>sonyt</td>\n",
       "      <td>https://www.youtube.com/watch?v=udWZPkRgohU</td>\n",
       "      <td>Intermediate</td>\n",
       "      <td>https://i.ytimg.com/vi/udWZPkRgohU/default.jpg</td>\n",
       "      <td>4.0</td>\n",
       "      <td>video</td>\n",
       "      <td>The School of The New York Times</td>\n",
       "      <td>2017-11-10</td>\n",
       "      <td>NYC Summer Academy at The School of The New Yo...</td>\n",
       "      <td>Youtube</td>\n",
       "    </tr>\n",
       "    <tr>\n",
       "      <th>17919</th>\n",
       "      <td>UCKiukagqesMnWSF9iqZuYKA</td>\n",
       "      <td>sonyt</td>\n",
       "      <td>https://www.youtube.com/watch?v=_9FLBAQJDkM</td>\n",
       "      <td>Intermediate</td>\n",
       "      <td>https://i.ytimg.com/vi/_9FLBAQJDkM/default.jpg</td>\n",
       "      <td>1.0</td>\n",
       "      <td>video</td>\n",
       "      <td>The School of The New York Times</td>\n",
       "      <td>2017-11-07</td>\n",
       "      <td>Pre-College Division at The School of The New ...</td>\n",
       "      <td>Youtube</td>\n",
       "    </tr>\n",
       "    <tr>\n",
       "      <th>17920</th>\n",
       "      <td>UCc99RaVe8PKgly2T3QNBWLw</td>\n",
       "      <td>The New York Times Close Up with Sam Roberts</td>\n",
       "      <td>https://www.youtube.com/watch?v=aURWGPJ1meI</td>\n",
       "      <td>Intermediate</td>\n",
       "      <td>https://i.ytimg.com/vi/aURWGPJ1meI/default.jpg</td>\n",
       "      <td>27.0</td>\n",
       "      <td>video</td>\n",
       "      <td>cunytv75</td>\n",
       "      <td>2017-10-13</td>\n",
       "      <td>The New York Times Close Up with Sam Roberts -...</td>\n",
       "      <td>Youtube</td>\n",
       "    </tr>\n",
       "    <tr>\n",
       "      <th>17921</th>\n",
       "      <td>UChZRoC9bMegevAxFmee1oSA</td>\n",
       "      <td>Federal Reserve</td>\n",
       "      <td>https://www.youtube.com/watch?v=eIM-nSKlhJM</td>\n",
       "      <td>Intermediate</td>\n",
       "      <td>https://i.ytimg.com/vi/eIM-nSKlhJM/default.jpg</td>\n",
       "      <td>6.0</td>\n",
       "      <td>video</td>\n",
       "      <td>The Still Report</td>\n",
       "      <td>2017-10-11</td>\n",
       "      <td>Project Veritus Goes Inside the New York Times...</td>\n",
       "      <td>Youtube</td>\n",
       "    </tr>\n",
       "    <tr>\n",
       "      <th>17922</th>\n",
       "      <td>the-new-york-times</td>\n",
       "      <td>The New York Times</td>\n",
       "      <td>https://www.youtube.com/watch?v=SwBA1qb5ENg</td>\n",
       "      <td>Intermediate</td>\n",
       "      <td>https://i.ytimg.com/vi/SwBA1qb5ENg/default.jpg</td>\n",
       "      <td>3.0</td>\n",
       "      <td>video</td>\n",
       "      <td>The New York Times</td>\n",
       "      <td>2017-09-10</td>\n",
       "      <td>Hurricane Irma Churns Toward Florida | The New...</td>\n",
       "      <td>Youtube</td>\n",
       "    </tr>\n",
       "    <tr>\n",
       "      <th>17923</th>\n",
       "      <td>the-new-york-times</td>\n",
       "      <td>The New York Times</td>\n",
       "      <td>https://www.youtube.com/watch?v=BED-ZQeFCiY</td>\n",
       "      <td>Intermediate</td>\n",
       "      <td>https://i.ytimg.com/vi/BED-ZQeFCiY/default.jpg</td>\n",
       "      <td>6.0</td>\n",
       "      <td>video</td>\n",
       "      <td>The New York Times</td>\n",
       "      <td>2017-08-31</td>\n",
       "      <td>The Voyager Spacecraft's 40 Year Journey | The...</td>\n",
       "      <td>Youtube</td>\n",
       "    </tr>\n",
       "    <tr>\n",
       "      <th>17924</th>\n",
       "      <td>the-new-york-times</td>\n",
       "      <td>Hurricane Harvey</td>\n",
       "      <td>https://www.youtube.com/watch?v=5kWsDxdYZgg</td>\n",
       "      <td>Intermediate</td>\n",
       "      <td>https://i.ytimg.com/vi/5kWsDxdYZgg/default.jpg</td>\n",
       "      <td>1.0</td>\n",
       "      <td>video</td>\n",
       "      <td>The New York Times</td>\n",
       "      <td>2017-08-26</td>\n",
       "      <td>How Was Hurricane Harvey's Category Defined? |...</td>\n",
       "      <td>Youtube</td>\n",
       "    </tr>\n",
       "    <tr>\n",
       "      <th>17925</th>\n",
       "      <td>the-new-york-times</td>\n",
       "      <td>cooking</td>\n",
       "      <td>https://www.youtube.com/watch?v=KKNhfcaWiLY</td>\n",
       "      <td>Intermediate</td>\n",
       "      <td>https://i.ytimg.com/vi/KKNhfcaWiLY/default.jpg</td>\n",
       "      <td>4.0</td>\n",
       "      <td>video</td>\n",
       "      <td>The New York Times</td>\n",
       "      <td>2017-08-25</td>\n",
       "      <td>The Bridge Between Iraq and Connecticut? Cooki...</td>\n",
       "      <td>Youtube</td>\n",
       "    </tr>\n",
       "    <tr>\n",
       "      <th>17926</th>\n",
       "      <td>UCM1AK2L9X7FxFxCX86T1-nw</td>\n",
       "      <td>national mall</td>\n",
       "      <td>https://www.youtube.com/watch?v=BWCfpgKHGcg</td>\n",
       "      <td>Intermediate</td>\n",
       "      <td>https://i.ytimg.com/vi/BWCfpgKHGcg/default.jpg</td>\n",
       "      <td>1.0</td>\n",
       "      <td>video</td>\n",
       "      <td>washingtondc</td>\n",
       "      <td>2017-08-16</td>\n",
       "      <td>Newseum The New York Times–Ochs-Sulzberger Fam...</td>\n",
       "      <td>Youtube</td>\n",
       "    </tr>\n",
       "    <tr>\n",
       "      <th>17927</th>\n",
       "      <td>the-new-york-times</td>\n",
       "      <td>The New York Times</td>\n",
       "      <td>https://www.youtube.com/watch?v=dSS1G1MP6Cs</td>\n",
       "      <td>Intermediate</td>\n",
       "      <td>https://i.ytimg.com/vi/dSS1G1MP6Cs/default.jpg</td>\n",
       "      <td>2.0</td>\n",
       "      <td>video</td>\n",
       "      <td>The New York Times</td>\n",
       "      <td>2017-08-15</td>\n",
       "      <td>How the Violence Unfolded in Charlottesville |...</td>\n",
       "      <td>Youtube</td>\n",
       "    </tr>\n",
       "    <tr>\n",
       "      <th>17928</th>\n",
       "      <td>the-new-york-times</td>\n",
       "      <td>Grenada</td>\n",
       "      <td>https://www.youtube.com/watch?v=joJ4O_eyvtI</td>\n",
       "      <td>Intermediate</td>\n",
       "      <td>https://i.ytimg.com/vi/joJ4O_eyvtI/default.jpg</td>\n",
       "      <td>1.0</td>\n",
       "      <td>video</td>\n",
       "      <td>The New York Times</td>\n",
       "      <td>2017-08-10</td>\n",
       "      <td>36 Hours in Granada, Spain | Daily 360 | The N...</td>\n",
       "      <td>Youtube</td>\n",
       "    </tr>\n",
       "  </tbody>\n",
       "</table>\n",
       "<p>17929 rows × 11 columns</p>\n",
       "</div>"
      ],
      "text/plain": [
       "                         api_id  \\\n",
       "0                      engadget   \n",
       "1                     usa-today   \n",
       "2       the-wall-street-journal   \n",
       "3                 the-telegraph   \n",
       "4                      newsweek   \n",
       "5                      buzzfeed   \n",
       "6              business-insider   \n",
       "7              business-insider   \n",
       "8              business-insider   \n",
       "9                      buzzfeed   \n",
       "10             business-insider   \n",
       "11                the-telegraph   \n",
       "12                     bbc-news   \n",
       "13                     abc-news   \n",
       "14      the-wall-street-journal   \n",
       "15                     cbc-news   \n",
       "16                     cbc-news   \n",
       "17                   daily-mail   \n",
       "18                    vice-news   \n",
       "19             associated-press   \n",
       "20                        wired   \n",
       "21                     bbc-news   \n",
       "22                          cnn   \n",
       "23              the-guardian-au   \n",
       "24                     mashable   \n",
       "25              the-guardian-au   \n",
       "26                     mashable   \n",
       "27                     engadget   \n",
       "28                     engadget   \n",
       "29              the-guardian-au   \n",
       "...                         ...   \n",
       "17899  UCG749Dj4V2fKa143f8sE60Q   \n",
       "17900  UCvaHgYcWAAcn5D54w4Dqezg   \n",
       "17901  UCY5wskx3d8m7H_eGA94fJIg   \n",
       "17902  UCJS9pqu9BzkAMNTmzNMNhvg   \n",
       "17903  UCLxfvd3Rpt5cumh7DE7qbVQ   \n",
       "17904  UCCK3OZi788Ok44K97WAhLKQ   \n",
       "17905  UC7ZWq0v4coODbpEcOpl45fw   \n",
       "17906  UCsD-Qms-AkXDrsU962OicLw   \n",
       "17907  UCc99RaVe8PKgly2T3QNBWLw   \n",
       "17908  UCLxfvd3Rpt5cumh7DE7qbVQ   \n",
       "17909  UCYphRibWhPLz5UnYDnIEbkQ   \n",
       "17910  UCvqbFHwN-nwalWPjPUKpvTA   \n",
       "17911  UCPu_mODE4FGtKcACHH57kvg   \n",
       "17912  UCMCHI5AcGMztaXUgBIlssnA   \n",
       "17913  UC-j9fMvIWCIke8TZ8w-kNqA   \n",
       "17914        the-new-york-times   \n",
       "17915  UCPss0osBKDLWyek0jCRCKdQ   \n",
       "17916  UCgCbreBPMP-9rq3NfWy6LVQ   \n",
       "17917  UCFHZRaJORf-Pffh2rnF8WaQ   \n",
       "17918  UCKiukagqesMnWSF9iqZuYKA   \n",
       "17919  UCKiukagqesMnWSF9iqZuYKA   \n",
       "17920  UCc99RaVe8PKgly2T3QNBWLw   \n",
       "17921  UChZRoC9bMegevAxFmee1oSA   \n",
       "17922        the-new-york-times   \n",
       "17923        the-new-york-times   \n",
       "17924        the-new-york-times   \n",
       "17925        the-new-york-times   \n",
       "17926  UCM1AK2L9X7FxFxCX86T1-nw   \n",
       "17927        the-new-york-times   \n",
       "17928        the-new-york-times   \n",
       "\n",
       "                                             category  \\\n",
       "0                                                keto   \n",
       "1                                                keto   \n",
       "2                                                keto   \n",
       "3                                                keto   \n",
       "4                                                keto   \n",
       "5                                                keto   \n",
       "6                                                keto   \n",
       "7                                                keto   \n",
       "8                                                keto   \n",
       "9                                                keto   \n",
       "10                                                mct   \n",
       "11                                                mct   \n",
       "12                                                mct   \n",
       "13                                                mct   \n",
       "14                                                mct   \n",
       "15                                                mct   \n",
       "16                                                mct   \n",
       "17                                                mct   \n",
       "18                                                mct   \n",
       "19                                                mct   \n",
       "20                                            natural   \n",
       "21                                            natural   \n",
       "22                                            natural   \n",
       "23                                            natural   \n",
       "24                                            natural   \n",
       "25                                            natural   \n",
       "26                                            natural   \n",
       "27                                            natural   \n",
       "28                                            natural   \n",
       "29                                            natural   \n",
       "...                                               ...   \n",
       "17899                           new york times racist   \n",
       "17900                                    black pilled   \n",
       "17901                                        facebook   \n",
       "17902                                  new york times   \n",
       "17903                             Art Leaders Network   \n",
       "17904                                             Sri   \n",
       "17905                                         general   \n",
       "17906                                   david remnick   \n",
       "17907                                   Grace Ashford   \n",
       "17908                                         general   \n",
       "17909  Buy The New York Times Paywall Case Study Help   \n",
       "17910                                            CNCF   \n",
       "17911                                    Nick Kristof   \n",
       "17912                                         1-10-18   \n",
       "17913                                    TimesMachine   \n",
       "17914                              The New York Times   \n",
       "17915                     Bakersfield College Library   \n",
       "17916                                      periodismo   \n",
       "17917                                         podcast   \n",
       "17918                                           sonyt   \n",
       "17919                                           sonyt   \n",
       "17920    The New York Times Close Up with Sam Roberts   \n",
       "17921                                 Federal Reserve   \n",
       "17922                              The New York Times   \n",
       "17923                              The New York Times   \n",
       "17924                                Hurricane Harvey   \n",
       "17925                                         cooking   \n",
       "17926                                   national mall   \n",
       "17927                              The New York Times   \n",
       "17928                                         Grenada   \n",
       "\n",
       "                                             content_url     formality  \\\n",
       "0      https://www.engadget.com/2018/11/27/keyto-brea...  Intermediate   \n",
       "1      https://www.usatoday.com/story/life/grateful/2...  Intermediate   \n",
       "2      https://www.wsj.com/articles/this-coffee-is-ni...  Intermediate   \n",
       "3      https://www.telegraph.co.uk/boxing/2018/11/27/...  Intermediate   \n",
       "4      https://www.newsweek.com/vinny-guadagnino-talk...  Intermediate   \n",
       "5      https://www.buzzfeed.com/michelleno/low-carb-k...  Intermediate   \n",
       "6      https://www.businessinsider.com/best-keto-meal...  Intermediate   \n",
       "7      https://www.businessinsider.com/keto-breathaly...  Intermediate   \n",
       "8      https://www.businessinsider.com/keto-thanksgiv...  Intermediate   \n",
       "9      https://www.buzzfeed.com/jamedjackson/20-hilar...  Intermediate   \n",
       "10     https://www.businessinsider.com/shark-tank-kit...  Intermediate   \n",
       "11     https://www.telegraph.co.uk/technology/2018/11...  Intermediate   \n",
       "12          https://www.bbc.co.uk/news/business-46274158  Intermediate   \n",
       "13     https://abcnews.go.com/International/wireStory...  Intermediate   \n",
       "14     https://www.wsj.com/articles/this-coffee-is-ni...  Intermediate   \n",
       "15     https://www.cbc.ca/news/canada/british-columbi...  Intermediate   \n",
       "16     https://www.cbc.ca/news/canada/british-columbi...  Intermediate   \n",
       "17     https://www.dailymail.co.uk/femail/article-638...  Intermediate   \n",
       "18     https://broadly.vice.com/en_us/article/59vznb/...  Intermediate   \n",
       "19     https://apnews.com/c5bddad70e684a5da20c9a72829...  Intermediate   \n",
       "20     https://www.wired.com/story/copy-machine-lands...  Intermediate   \n",
       "21     https://www.bbc.co.uk/news/av/science-environm...  Intermediate   \n",
       "22     https://www.cnn.com/videos/business/2018/11/08...  Intermediate   \n",
       "23     https://www.theguardian.com/culture/2018/nov/1...  Intermediate   \n",
       "24     https://mashable.com/article/california-woolse...  Intermediate   \n",
       "25     https://www.theguardian.com/world/2018/nov/09/...  Intermediate   \n",
       "26     https://mashable.com/article/epa-website-chang...  Intermediate   \n",
       "27     https://www.engadget.com/2018/11/14/google-pix...  Intermediate   \n",
       "28     https://www.engadget.com/2018/11/20/civilizati...  Intermediate   \n",
       "29     https://www.theguardian.com/tv-and-radio/2018/...  Intermediate   \n",
       "...                                                  ...           ...   \n",
       "17899        https://www.youtube.com/watch?v=4gHW38QnmnA  Intermediate   \n",
       "17900        https://www.youtube.com/watch?v=bOhT_uQOgCY  Intermediate   \n",
       "17901        https://www.youtube.com/watch?v=2KinOSPd4NU  Intermediate   \n",
       "17902        https://www.youtube.com/watch?v=O62jAbz-4qA  Intermediate   \n",
       "17903        https://www.youtube.com/watch?v=cpgw2AitX1E  Intermediate   \n",
       "17904        https://www.youtube.com/watch?v=qk9yIIhYfVo  Intermediate   \n",
       "17905        https://www.youtube.com/watch?v=HjYAoJwXnio  Intermediate   \n",
       "17906        https://www.youtube.com/watch?v=eBKOoEGMi_E  Intermediate   \n",
       "17907        https://www.youtube.com/watch?v=MD1yXu5Rlhk  Intermediate   \n",
       "17908        https://www.youtube.com/watch?v=c-Em33gr_pA  Intermediate   \n",
       "17909        https://www.youtube.com/watch?v=dZnc8weCTDo  Intermediate   \n",
       "17910        https://www.youtube.com/watch?v=DqS_IPw-c6o  Intermediate   \n",
       "17911        https://www.youtube.com/watch?v=34fctYzbq38  Intermediate   \n",
       "17912        https://www.youtube.com/watch?v=6qoLYYBj4Yw  Intermediate   \n",
       "17913        https://www.youtube.com/watch?v=ls1N84SEqeo  Intermediate   \n",
       "17914        https://www.youtube.com/watch?v=yqikYLkF4jU  Intermediate   \n",
       "17915        https://www.youtube.com/watch?v=L314_-idk_Q  Intermediate   \n",
       "17916        https://www.youtube.com/watch?v=HMhzxT-GCBM  Intermediate   \n",
       "17917        https://www.youtube.com/watch?v=V-woqJbPoys  Intermediate   \n",
       "17918        https://www.youtube.com/watch?v=udWZPkRgohU  Intermediate   \n",
       "17919        https://www.youtube.com/watch?v=_9FLBAQJDkM  Intermediate   \n",
       "17920        https://www.youtube.com/watch?v=aURWGPJ1meI  Intermediate   \n",
       "17921        https://www.youtube.com/watch?v=eIM-nSKlhJM  Intermediate   \n",
       "17922        https://www.youtube.com/watch?v=SwBA1qb5ENg  Intermediate   \n",
       "17923        https://www.youtube.com/watch?v=BED-ZQeFCiY  Intermediate   \n",
       "17924        https://www.youtube.com/watch?v=5kWsDxdYZgg  Intermediate   \n",
       "17925        https://www.youtube.com/watch?v=KKNhfcaWiLY  Intermediate   \n",
       "17926        https://www.youtube.com/watch?v=BWCfpgKHGcg  Intermediate   \n",
       "17927        https://www.youtube.com/watch?v=dSS1G1MP6Cs  Intermediate   \n",
       "17928        https://www.youtube.com/watch?v=joJ4O_eyvtI  Intermediate   \n",
       "\n",
       "                                               image_url  length medium  \\\n",
       "0      https://o.aolcdn.com/images/dims?thumbnail=120...     2.0   text   \n",
       "1      https://www.gannett-cdn.com/presto/2018/10/17/...     5.0   text   \n",
       "2      https://si.wsj.net/public/resources/images/B3-...     6.0   text   \n",
       "3      https://www.telegraph.co.uk/content/dam/boxing...     1.0   text   \n",
       "4      https://s.newsweek.com/sites/www.newsweek.com/...     3.0   text   \n",
       "5      https://img.buzzfeed.com/buzzfeed-static/stati...     4.0   text   \n",
       "6      https://amp.businessinsider.com/images/5bfc676...     1.0   text   \n",
       "7      https://amp.businessinsider.com/images/5bfd48a...     3.0   text   \n",
       "8      https://amp.businessinsider.com/images/5bf2f66...     1.0   text   \n",
       "9      https://img.buzzfeed.com/buzzfeed-static/stati...     4.0   text   \n",
       "10     https://amp.businessinsider.com/images/5bf338f...     4.0   text   \n",
       "11     https://www.telegraph.co.uk/content/dam/techno...     1.0   text   \n",
       "12     https://ichef.bbci.co.uk/news/1024/branded_new...     2.0   text   \n",
       "13                                                  None     0.0   text   \n",
       "14     https://si.wsj.net/public/resources/images/B3-...     6.0   text   \n",
       "15     https://i.cbc.ca/1.4902189.1542052384!/fileIma...     1.0   text   \n",
       "16     https://i.cbc.ca/1.4902189.1542052384!/fileIma...     3.0   text   \n",
       "17     https://i.dailymail.co.uk/1s/2018/11/13/00/610...     6.0   text   \n",
       "18     https://video-images.vice.com/articles/5be4241...     3.0   text   \n",
       "19     https://bloximages.newyork1.vip.townnews.com/r...     3.0   text   \n",
       "20     https://media.wired.com/photos/5bfde2bfab39b96...     2.0   text   \n",
       "21     https://ichef.bbci.co.uk/news/1024/branded_new...     4.0   text   \n",
       "22     https://cdn.cnn.com/cnnnext/dam/assets/1811081...     4.0   text   \n",
       "23     https://i.guim.co.uk/img/media/f96fd653ab77a0b...     3.0   text   \n",
       "24     https://i.amz.mshcdn.com/K-qAqgCRigdBRjavN-HVk...     1.0   text   \n",
       "25     https://i.guim.co.uk/img/media/b49f201fed3b750...     7.0   text   \n",
       "26     https://i.amz.mshcdn.com/Fk9vL4wn01F87N28MTw7X...     3.0   text   \n",
       "27     https://o.aolcdn.com/images/dims?thumbnail=120...     1.0   text   \n",
       "28     https://o.aolcdn.com/images/dims?thumbnail=120...     1.0   text   \n",
       "29     https://i.guim.co.uk/img/media/0ed485b369295e7...     3.0   text   \n",
       "...                                                  ...     ...    ...   \n",
       "17899     https://i.ytimg.com/vi/4gHW38QnmnA/default.jpg    10.0  video   \n",
       "17900     https://i.ytimg.com/vi/bOhT_uQOgCY/default.jpg     6.0  video   \n",
       "17901     https://i.ytimg.com/vi/2KinOSPd4NU/default.jpg     8.0  video   \n",
       "17902     https://i.ytimg.com/vi/O62jAbz-4qA/default.jpg    45.0  video   \n",
       "17903     https://i.ytimg.com/vi/cpgw2AitX1E/default.jpg     1.0  video   \n",
       "17904     https://i.ytimg.com/vi/qk9yIIhYfVo/default.jpg     3.0  video   \n",
       "17905     https://i.ytimg.com/vi/HjYAoJwXnio/default.jpg    59.0  video   \n",
       "17906     https://i.ytimg.com/vi/eBKOoEGMi_E/default.jpg    13.0  video   \n",
       "17907     https://i.ytimg.com/vi/MD1yXu5Rlhk/default.jpg    28.0  video   \n",
       "17908     https://i.ytimg.com/vi/c-Em33gr_pA/default.jpg     1.0  video   \n",
       "17909     https://i.ytimg.com/vi/dZnc8weCTDo/default.jpg     2.0  video   \n",
       "17910     https://i.ytimg.com/vi/DqS_IPw-c6o/default.jpg     2.0  video   \n",
       "17911     https://i.ytimg.com/vi/34fctYzbq38/default.jpg     3.0  video   \n",
       "17912     https://i.ytimg.com/vi/6qoLYYBj4Yw/default.jpg    59.0  video   \n",
       "17913     https://i.ytimg.com/vi/ls1N84SEqeo/default.jpg     2.0  video   \n",
       "17914     https://i.ytimg.com/vi/yqikYLkF4jU/default.jpg     1.0  video   \n",
       "17915     https://i.ytimg.com/vi/L314_-idk_Q/default.jpg     3.0  video   \n",
       "17916     https://i.ytimg.com/vi/HMhzxT-GCBM/default.jpg     3.0  video   \n",
       "17917     https://i.ytimg.com/vi/V-woqJbPoys/default.jpg    37.0  video   \n",
       "17918     https://i.ytimg.com/vi/udWZPkRgohU/default.jpg     4.0  video   \n",
       "17919     https://i.ytimg.com/vi/_9FLBAQJDkM/default.jpg     1.0  video   \n",
       "17920     https://i.ytimg.com/vi/aURWGPJ1meI/default.jpg    27.0  video   \n",
       "17921     https://i.ytimg.com/vi/eIM-nSKlhJM/default.jpg     6.0  video   \n",
       "17922     https://i.ytimg.com/vi/SwBA1qb5ENg/default.jpg     3.0  video   \n",
       "17923     https://i.ytimg.com/vi/BED-ZQeFCiY/default.jpg     6.0  video   \n",
       "17924     https://i.ytimg.com/vi/5kWsDxdYZgg/default.jpg     1.0  video   \n",
       "17925     https://i.ytimg.com/vi/KKNhfcaWiLY/default.jpg     4.0  video   \n",
       "17926     https://i.ytimg.com/vi/BWCfpgKHGcg/default.jpg     1.0  video   \n",
       "17927     https://i.ytimg.com/vi/dSS1G1MP6Cs/default.jpg     2.0  video   \n",
       "17928     https://i.ytimg.com/vi/joJ4O_eyvtI/default.jpg     1.0  video   \n",
       "\n",
       "                                       provider   published  \\\n",
       "0                                      Engadget  2018-11-27   \n",
       "1                                     USA Today  2018-11-16   \n",
       "2                       The Wall Street Journal  2018-11-26   \n",
       "3                                 The Telegraph  2018-11-27   \n",
       "4                                      Newsweek  2018-11-15   \n",
       "5                                      Buzzfeed  2018-11-17   \n",
       "6                              Business Insider  2018-11-27   \n",
       "7                              Business Insider  2018-11-27   \n",
       "8                              Business Insider  2018-11-20   \n",
       "9                                      Buzzfeed  2018-11-27   \n",
       "10                             Business Insider  2018-11-20   \n",
       "11                                The Telegraph  2018-11-20   \n",
       "12                                     BBC News  2018-11-20   \n",
       "13                                     ABC News  2018-11-27   \n",
       "14                      The Wall Street Journal  2018-11-26   \n",
       "15                                     CBC News  2018-11-22   \n",
       "16                                     CBC News  2018-11-22   \n",
       "17                                   Daily Mail  2018-11-13   \n",
       "18                                    Vice News  2018-11-08   \n",
       "19                             Associated Press  2018-11-27   \n",
       "20                                        Wired  2018-11-28   \n",
       "21                                     BBC News  2018-11-08   \n",
       "22                                          CNN  2018-11-08   \n",
       "23                            The Guardian (AU)  2018-11-13   \n",
       "24                                     Mashable  2018-11-21   \n",
       "25                            The Guardian (AU)  2018-11-17   \n",
       "26                                     Mashable  2018-11-18   \n",
       "27                                     Engadget  2018-11-14   \n",
       "28                                     Engadget  2018-11-21   \n",
       "29                            The Guardian (AU)  2018-11-08   \n",
       "...                                         ...         ...   \n",
       "17899                                  Tim Pool  2018-08-02   \n",
       "17900                              Black Pilled  2018-08-02   \n",
       "17901                  Free Speech Radio By Gab  2018-07-31   \n",
       "17902                     Google Cloud Platform  2018-07-26   \n",
       "17903            The New York Times Conferences  2018-07-20   \n",
       "17904                                Ada Derana  2018-06-29   \n",
       "17905           The Greene Space at WNYC & WQXR  2018-06-26   \n",
       "17906                            The New Yorker  2018-06-14   \n",
       "17907                                  cunytv75  2018-06-01   \n",
       "17908            The New York Times Conferences  2018-05-03   \n",
       "17909                      TheCaseSolutions com  2018-04-25   \n",
       "17910  CNCF [Cloud Native Computing Foundation]  2018-03-13   \n",
       "17911                           Matter of Facts  2018-03-02   \n",
       "17912                                  UChi Pol  2018-02-20   \n",
       "17913                            DeWitt Library  2018-02-07   \n",
       "17914                        The New York Times  2018-01-05   \n",
       "17915                           gracevdblibrary  2017-12-05   \n",
       "17916                Photographic Social Vision  2017-11-23   \n",
       "17917                                WeTransfer  2017-11-20   \n",
       "17918          The School of The New York Times  2017-11-10   \n",
       "17919          The School of The New York Times  2017-11-07   \n",
       "17920                                  cunytv75  2017-10-13   \n",
       "17921                          The Still Report  2017-10-11   \n",
       "17922                        The New York Times  2017-09-10   \n",
       "17923                        The New York Times  2017-08-31   \n",
       "17924                        The New York Times  2017-08-26   \n",
       "17925                        The New York Times  2017-08-25   \n",
       "17926                              washingtondc  2017-08-16   \n",
       "17927                        The New York Times  2017-08-15   \n",
       "17928                        The New York Times  2017-08-10   \n",
       "\n",
       "                                                   title scraped_from  \n",
       "0      Keyto breath analyzer promises to keep your ke...      NewsApi  \n",
       "1      An irreverent Thanksgiving: Making the holiday...      NewsApi  \n",
       "2      This Coffee Is Nice But It Needs More Butter -...      NewsApi  \n",
       "3      Revealed: The secrets behind Tyson Fury's extr...      NewsApi  \n",
       "4      What Happens When 'Jersey Shore' Ends? Vinny G...      NewsApi  \n",
       "5           14 Keto Versions Of Popular Holiday Desserts      NewsApi  \n",
       "6      10 of the best keto meal options at popular ch...      NewsApi  \n",
       "7      A new $100 keto breathalyzer could finally mak...      NewsApi  \n",
       "8      How to have a carb-free keto Thanksgiving, acc...      NewsApi  \n",
       "9      These \"Overheard\" Tweets Will Make You Wonder ...      NewsApi  \n",
       "10     Entrepreneurs who launched their $50 million c...      NewsApi  \n",
       "11     Musk renames Mars rocket 'Starship' and says '...      NewsApi  \n",
       "12         Elon Musk renames his BFR spacecraft Starship      NewsApi  \n",
       "13     21 held in melee over Malaysian temple land di...      NewsApi  \n",
       "14     This Coffee Is Nice But It Needs More Butter -...      NewsApi  \n",
       "15     Manufacturer says no B.C. customers received m...      NewsApi  \n",
       "16     Mislabelled cannabis spray sold by B.C. pot st...      NewsApi  \n",
       "17     Woman who transformed her body by only losing ...      NewsApi  \n",
       "18     Anti-Abortion Terrorist Who Shot George Tiller...      NewsApi  \n",
       "19     21 held in melee over Malaysian temple land di...      NewsApi  \n",
       "20     A Copy Machine Artist Creates Photos of Famili...      NewsApi  \n",
       "21     First 'retirement home' for showbiz beluga whales      NewsApi  \n",
       "22             See robots fly and swim just like animals      NewsApi  \n",
       "23     Natural History Museum accused of accepting ‘b...      NewsApi  \n",
       "24     California's Woolsey Fire has left a burn scar...      NewsApi  \n",
       "25     Indonesia's love affair with its dying natural...      NewsApi  \n",
       "26     Trump administration changes EPA website to be...      NewsApi  \n",
       "27     The Pixel's Night Sight camera mode performs i...      NewsApi  \n",
       "28     'Civilization VI' expansion 'Gathering Storm' ...      NewsApi  \n",
       "29     David Attenborough to present Netflix nature s...      NewsApi  \n",
       "...                                                  ...          ...  \n",
       "17899  The New York Times Hired A Racist Troll And De...      Youtube  \n",
       "17900             The New York Times Just Hired a Racist      Youtube  \n",
       "17901  The New York Times Ignores Election Interferen...      Youtube  \n",
       "17902  The New York Times Runs on GCP: A Transformati...      Youtube  \n",
       "17903  The New York Times Art Leaders Network Highlig...      Youtube  \n",
       "17904  Chinese Embassy rejects allegations made in Th...      Youtube  \n",
       "17905  The New York Times Podcast Club, IRL: American...      Youtube  \n",
       "17906  The New York Times Journalists Maggie Haberman...      Youtube  \n",
       "17907  The New York Times Close Up with Sam Roberts -...      Youtube  \n",
       "17908        The New York Times DealBook Conference 2018      Youtube  \n",
       "17909  The New York Times Paywall Case Solution & Ana...      Youtube  \n",
       "17910         CNCF End User: Tony Li, The New York Times      Youtube  \n",
       "17911  Nick Kristof of the New York Times Thinks He I...      Youtube  \n",
       "17912          The New York Times Columnist David Brooks      Youtube  \n",
       "17913           Using the archives of the New York Times      Youtube  \n",
       "17914  TV Commercial | The Truth Has a Voice | The Ne...      Youtube  \n",
       "17915  Research 101: How to Search and Access the New...      Youtube  \n",
       "17916  \"La reinvención del The New York Times\" - Isma...      Youtube  \n",
       "17917  What About? The New York Times Magazine (Podcast)      Youtube  \n",
       "17918  NYC Summer Academy at The School of The New Yo...      Youtube  \n",
       "17919  Pre-College Division at The School of The New ...      Youtube  \n",
       "17920  The New York Times Close Up with Sam Roberts -...      Youtube  \n",
       "17921  Project Veritus Goes Inside the New York Times...      Youtube  \n",
       "17922  Hurricane Irma Churns Toward Florida | The New...      Youtube  \n",
       "17923  The Voyager Spacecraft's 40 Year Journey | The...      Youtube  \n",
       "17924  How Was Hurricane Harvey's Category Defined? |...      Youtube  \n",
       "17925  The Bridge Between Iraq and Connecticut? Cooki...      Youtube  \n",
       "17926  Newseum The New York Times–Ochs-Sulzberger Fam...      Youtube  \n",
       "17927  How the Violence Unfolded in Charlottesville |...      Youtube  \n",
       "17928  36 Hours in Granada, Spain | Daily 360 | The N...      Youtube  \n",
       "\n",
       "[17929 rows x 11 columns]"
      ]
     },
     "execution_count": 20,
     "metadata": {},
     "output_type": "execute_result"
    }
   ],
   "source": [
    "df"
   ]
  },
  {
   "cell_type": "code",
   "execution_count": 3,
   "metadata": {
    "extensions": {
     "jupyter_dashboards": {
      "version": 1,
      "views": {
       "grid_default": {},
       "report_default": {
        "hidden": true
       }
      }
     }
    }
   },
   "outputs": [],
   "source": [
    "identifier_dict = {'audioFormal':'Itunes Audiobook','textFormal':'Itunes Ebook','videoFormal':'Itunes Movie',\n",
    "                  'textInformal': 'Twitter', 'videoInformal': 'Youtube',\n",
    "                   'audioIntermediate': 'Itunes Podcast', 'textIntermediate': 'NewsApi', 'videoIntermediate': 'Youtube'}"
   ]
  },
  {
   "cell_type": "code",
   "execution_count": 4,
   "metadata": {
    "extensions": {
     "jupyter_dashboards": {
      "version": 1,
      "views": {
       "grid_default": {},
       "report_default": {
        "hidden": true
       }
      }
     }
    }
   },
   "outputs": [],
   "source": [
    "df = pd.DataFrame([{'content_url':content.content_url, 'image_url':content.image_url,'title':content.title\n",
    "                             , 'published': content.published, 'length': content.length, 'medium':content.medium.name,\n",
    "                             'provider': content.provider.name, 'api_id':content.provider.api_id, 'formality':content.provider.formality.type,\n",
    "                             'category':content.category.name} for content in session.query(Content).all()])\n",
    "df = add_scraping_source(df, identifier_dict)\n",
    "df = fix_NYT(df)\n",
    "\n",
    "df.to_csv('all_content.csv')"
   ]
  },
  {
   "cell_type": "markdown",
   "metadata": {
    "extensions": {
     "jupyter_dashboards": {
      "version": 1,
      "views": {
       "grid_default": {},
       "report_default": {
        "hidden": false
       }
      }
     }
    }
   },
   "source": [
    "# Total Content Per Medium & Formality"
   ]
  },
  {
   "cell_type": "code",
   "execution_count": 5,
   "metadata": {
    "extensions": {
     "jupyter_dashboards": {
      "version": 1,
      "views": {
       "grid_default": {},
       "report_default": {
        "hidden": false
       }
      }
     }
    }
   },
   "outputs": [
    {
     "data": {
      "text/html": [
       "<div>\n",
       "<style scoped>\n",
       "    .dataframe tbody tr th:only-of-type {\n",
       "        vertical-align: middle;\n",
       "    }\n",
       "\n",
       "    .dataframe tbody tr th {\n",
       "        vertical-align: top;\n",
       "    }\n",
       "\n",
       "    .dataframe thead th {\n",
       "        text-align: right;\n",
       "    }\n",
       "</style>\n",
       "<table border=\"1\" class=\"dataframe\">\n",
       "  <thead>\n",
       "    <tr style=\"text-align: right;\">\n",
       "      <th></th>\n",
       "      <th></th>\n",
       "      <th></th>\n",
       "      <th>content_url</th>\n",
       "    </tr>\n",
       "    <tr>\n",
       "      <th>formality</th>\n",
       "      <th>medium</th>\n",
       "      <th>scraped_from</th>\n",
       "      <th></th>\n",
       "    </tr>\n",
       "  </thead>\n",
       "  <tbody>\n",
       "    <tr>\n",
       "      <th rowspan=\"3\" valign=\"top\">Formal</th>\n",
       "      <th>audio</th>\n",
       "      <th>Itunes Audiobook</th>\n",
       "      <td>1572</td>\n",
       "    </tr>\n",
       "    <tr>\n",
       "      <th>text</th>\n",
       "      <th>Itunes Ebook</th>\n",
       "      <td>2630</td>\n",
       "    </tr>\n",
       "    <tr>\n",
       "      <th>video</th>\n",
       "      <th>Itunes Movie</th>\n",
       "      <td>127</td>\n",
       "    </tr>\n",
       "    <tr>\n",
       "      <th rowspan=\"2\" valign=\"top\">Informal</th>\n",
       "      <th>text</th>\n",
       "      <th>Twitter</th>\n",
       "      <td>1501</td>\n",
       "    </tr>\n",
       "    <tr>\n",
       "      <th>video</th>\n",
       "      <th>Youtube</th>\n",
       "      <td>6</td>\n",
       "    </tr>\n",
       "    <tr>\n",
       "      <th rowspan=\"4\" valign=\"top\">Intermediate</th>\n",
       "      <th>audio</th>\n",
       "      <th>Itunes Podcast</th>\n",
       "      <td>6959</td>\n",
       "    </tr>\n",
       "    <tr>\n",
       "      <th rowspan=\"2\" valign=\"top\">text</th>\n",
       "      <th>NYT API</th>\n",
       "      <td>517</td>\n",
       "    </tr>\n",
       "    <tr>\n",
       "      <th>NewsApi</th>\n",
       "      <td>670</td>\n",
       "    </tr>\n",
       "    <tr>\n",
       "      <th>video</th>\n",
       "      <th>Youtube</th>\n",
       "      <td>2644</td>\n",
       "    </tr>\n",
       "  </tbody>\n",
       "</table>\n",
       "</div>"
      ],
      "text/plain": [
       "                                      content_url\n",
       "formality    medium scraped_from                 \n",
       "Formal       audio  Itunes Audiobook         1572\n",
       "             text   Itunes Ebook             2630\n",
       "             video  Itunes Movie              127\n",
       "Informal     text   Twitter                  1501\n",
       "             video  Youtube                     6\n",
       "Intermediate audio  Itunes Podcast           6959\n",
       "             text   NYT API                   517\n",
       "                    NewsApi                   670\n",
       "             video  Youtube                  2644"
      ]
     },
     "execution_count": 5,
     "metadata": {},
     "output_type": "execute_result"
    }
   ],
   "source": [
    "total = df[['content_url','formality','medium','scraped_from']].groupby(['formality','medium','scraped_from']).nunique()\n",
    "total[['content_url']]"
   ]
  },
  {
   "cell_type": "markdown",
   "metadata": {
    "extensions": {
     "jupyter_dashboards": {
      "version": 1,
      "views": {
       "grid_default": {},
       "report_default": {
        "hidden": false
       }
      }
     }
    }
   },
   "source": [
    "# Total Unique Categories and Providers per Medium & Formality"
   ]
  },
  {
   "cell_type": "code",
   "execution_count": 6,
   "metadata": {
    "extensions": {
     "jupyter_dashboards": {
      "version": 1,
      "views": {
       "grid_default": {},
       "report_default": {
        "hidden": false
       }
      }
     }
    }
   },
   "outputs": [
    {
     "data": {
      "text/html": [
       "<div>\n",
       "<style scoped>\n",
       "    .dataframe tbody tr th:only-of-type {\n",
       "        vertical-align: middle;\n",
       "    }\n",
       "\n",
       "    .dataframe tbody tr th {\n",
       "        vertical-align: top;\n",
       "    }\n",
       "\n",
       "    .dataframe thead th {\n",
       "        text-align: right;\n",
       "    }\n",
       "</style>\n",
       "<table border=\"1\" class=\"dataframe\">\n",
       "  <thead>\n",
       "    <tr style=\"text-align: right;\">\n",
       "      <th></th>\n",
       "      <th></th>\n",
       "      <th></th>\n",
       "      <th>category</th>\n",
       "      <th>provider</th>\n",
       "    </tr>\n",
       "    <tr>\n",
       "      <th>formality</th>\n",
       "      <th>medium</th>\n",
       "      <th>scraped_from</th>\n",
       "      <th></th>\n",
       "      <th></th>\n",
       "    </tr>\n",
       "  </thead>\n",
       "  <tbody>\n",
       "    <tr>\n",
       "      <th rowspan=\"3\" valign=\"top\">Formal</th>\n",
       "      <th>audio</th>\n",
       "      <th>Itunes Audiobook</th>\n",
       "      <td>66</td>\n",
       "      <td>1111</td>\n",
       "    </tr>\n",
       "    <tr>\n",
       "      <th>text</th>\n",
       "      <th>Itunes Ebook</th>\n",
       "      <td>82</td>\n",
       "      <td>2040</td>\n",
       "    </tr>\n",
       "    <tr>\n",
       "      <th>video</th>\n",
       "      <th>Itunes Movie</th>\n",
       "      <td>14</td>\n",
       "      <td>112</td>\n",
       "    </tr>\n",
       "    <tr>\n",
       "      <th rowspan=\"2\" valign=\"top\">Informal</th>\n",
       "      <th>text</th>\n",
       "      <th>Twitter</th>\n",
       "      <td>287</td>\n",
       "      <td>76</td>\n",
       "    </tr>\n",
       "    <tr>\n",
       "      <th>video</th>\n",
       "      <th>Youtube</th>\n",
       "      <td>2</td>\n",
       "      <td>1</td>\n",
       "    </tr>\n",
       "    <tr>\n",
       "      <th rowspan=\"4\" valign=\"top\">Intermediate</th>\n",
       "      <th>audio</th>\n",
       "      <th>Itunes Podcast</th>\n",
       "      <td>41</td>\n",
       "      <td>41</td>\n",
       "    </tr>\n",
       "    <tr>\n",
       "      <th rowspan=\"2\" valign=\"top\">text</th>\n",
       "      <th>NYT API</th>\n",
       "      <td>88</td>\n",
       "      <td>1</td>\n",
       "    </tr>\n",
       "    <tr>\n",
       "      <th>NewsApi</th>\n",
       "      <td>93</td>\n",
       "      <td>48</td>\n",
       "    </tr>\n",
       "    <tr>\n",
       "      <th>video</th>\n",
       "      <th>Youtube</th>\n",
       "      <td>1064</td>\n",
       "      <td>1238</td>\n",
       "    </tr>\n",
       "  </tbody>\n",
       "</table>\n",
       "</div>"
      ],
      "text/plain": [
       "                                      category  provider\n",
       "formality    medium scraped_from                        \n",
       "Formal       audio  Itunes Audiobook        66      1111\n",
       "             text   Itunes Ebook            82      2040\n",
       "             video  Itunes Movie            14       112\n",
       "Informal     text   Twitter                287        76\n",
       "             video  Youtube                  2         1\n",
       "Intermediate audio  Itunes Podcast          41        41\n",
       "             text   NYT API                 88         1\n",
       "                    NewsApi                 93        48\n",
       "             video  Youtube               1064      1238"
      ]
     },
     "execution_count": 6,
     "metadata": {},
     "output_type": "execute_result"
    }
   ],
   "source": [
    "summary = df[['category','provider','formality','medium','scraped_from']].groupby(['formality','medium','scraped_from']).nunique()\n",
    "summary[['category','provider']]"
   ]
  },
  {
   "cell_type": "code",
   "execution_count": 7,
   "metadata": {
    "extensions": {
     "jupyter_dashboards": {
      "version": 1,
      "views": {
       "grid_default": {},
       "report_default": {
        "hidden": false
       }
      }
     }
    }
   },
   "outputs": [
    {
     "data": {
      "text/plain": [
       "category    1348\n",
       "provider    4428\n",
       "dtype: int64"
      ]
     },
     "execution_count": 7,
     "metadata": {},
     "output_type": "execute_result"
    }
   ],
   "source": [
    "df[['category','provider']].nunique()"
   ]
  },
  {
   "cell_type": "code",
   "execution_count": 8,
   "metadata": {
    "extensions": {
     "jupyter_dashboards": {
      "version": 1,
      "views": {
       "grid_default": {},
       "report_default": {
        "hidden": false
       }
      }
     }
    }
   },
   "outputs": [
    {
     "data": {
      "text/html": [
       "<iframe id=\"igraph\" scrolling=\"no\" style=\"border:none;\" seamless=\"seamless\" src=\"https://plot.ly/~mrethana/90.embed\" height=\"525px\" width=\"100%\"></iframe>"
      ],
      "text/plain": [
       "<plotly.tools.PlotlyDisplay object>"
      ]
     },
     "execution_count": 8,
     "metadata": {},
     "output_type": "execute_result"
    }
   ],
   "source": [
    "plot_stacked_OVERALL()"
   ]
  },
  {
   "cell_type": "markdown",
   "metadata": {
    "extensions": {
     "jupyter_dashboards": {
      "version": 1,
      "views": {
       "grid_default": {
        "col": 6,
        "height": 3,
        "hidden": false,
        "row": 0,
        "width": 6
       },
       "report_default": {
        "hidden": false
       }
      }
     }
    }
   },
   "source": [
    "# Ketogenic"
   ]
  },
  {
   "cell_type": "code",
   "execution_count": 9,
   "metadata": {
    "extensions": {
     "jupyter_dashboards": {
      "version": 1,
      "views": {
       "grid_default": {
        "col": 6,
        "height": 18,
        "hidden": false,
        "row": 3,
        "width": 6
       },
       "report_default": {
        "hidden": false
       }
      }
     }
    },
    "scrolled": false
   },
   "outputs": [
    {
     "data": {
      "application/vnd.jupyter.widget-view+json": {
       "model_id": "1f5476664c5a45aea2ae431ac60534ec",
       "version_major": 2,
       "version_minor": 0
      },
      "text/plain": [
       "interactive(children=(IntSlider(value=1, description='Limit', max=5, min=1), ToggleButtons(description='Medium…"
      ]
     },
     "metadata": {},
     "output_type": "display_data"
    }
   ],
   "source": [
    "Limit_widget1 = widgets.IntSlider(min=1, max=5, step=1, value=1)\n",
    "Medium_widget1 = widgets.ToggleButtons(options = ['text', 'audio','video'], description ='Medium', button_style='')\n",
    "topic_widget1 = widgets.Dropdown(options = nutrition_cats,value='keto', description ='Topic', disabled=False)\n",
    "expertise_widget1 = widgets.ToggleButtons(options = ['Informal', 'Intermediate','Formal'], description ='Formality', button_style='')\n",
    "max_length_widget1 = widgets.IntSlider(min=0, max=100, step=10, value=20)\n",
    "\n",
    "\n",
    "interact(query_content,Limit = Limit_widget1, Medium = Medium_widget1, search_param=topic_widget1, Formality = expertise_widget1, Max_Length = max_length_widget1);"
   ]
  },
  {
   "cell_type": "code",
   "execution_count": 10,
   "metadata": {
    "extensions": {
     "jupyter_dashboards": {
      "version": 1,
      "views": {
       "grid_default": {
        "col": 0,
        "height": 19,
        "hidden": false,
        "row": 77,
        "width": 4
       },
       "report_default": {
        "hidden": false
       }
      }
     }
    }
   },
   "outputs": [
    {
     "data": {
      "application/vnd.jupyter.widget-view+json": {
       "model_id": "25e92b8bd66e44549446ecacfbcf2595",
       "version_major": 2,
       "version_minor": 0
      },
      "text/plain": [
       "interactive(children=(Dropdown(description='Topic', options=('keto', 'mct', 'natural', 'corn-fed', 'cruciferou…"
      ]
     },
     "metadata": {},
     "output_type": "display_data"
    }
   ],
   "source": [
    "alt_widget_1 = widgets.Dropdown(options = nutrition_cats,value='keto', description ='Topic', disabled=False)\n",
    "\n",
    "interact(plot_stacked, param = alt_widget_1);"
   ]
  },
  {
   "cell_type": "markdown",
   "metadata": {
    "extensions": {
     "jupyter_dashboards": {
      "version": 1,
      "views": {
       "grid_default": {
        "col": 0,
        "height": 3,
        "hidden": false,
        "row": 0,
        "width": 6
       },
       "report_default": {
        "hidden": false
       }
      }
     }
    }
   },
   "source": [
    "# Paleolithic"
   ]
  },
  {
   "cell_type": "code",
   "execution_count": 11,
   "metadata": {
    "extensions": {
     "jupyter_dashboards": {
      "version": 1,
      "views": {
       "grid_default": {
        "col": 0,
        "height": 18,
        "hidden": false,
        "row": 3,
        "width": 6
       },
       "report_default": {
        "hidden": false
       }
      }
     }
    }
   },
   "outputs": [
    {
     "data": {
      "application/vnd.jupyter.widget-view+json": {
       "model_id": "cbf2d49ece4045f4861095001c01059e",
       "version_major": 2,
       "version_minor": 0
      },
      "text/plain": [
       "interactive(children=(IntSlider(value=1, description='Limit', max=5, min=1), ToggleButtons(description='Medium…"
      ]
     },
     "metadata": {},
     "output_type": "display_data"
    }
   ],
   "source": [
    "Limit_widget2 = widgets.IntSlider(min=1, max=5, step=1, value=1)\n",
    "Medium_widget2 = widgets.ToggleButtons(options = ['text', 'audio','video'], description ='Medium', button_style='')\n",
    "topic_widget2 = widgets.Dropdown(options = nutrition_cats,value='paleo', description ='Topic', disabled=False)\n",
    "expertise_widget2 = widgets.ToggleButtons(options = ['Informal', 'Intermediate','Formal'], description ='Formality', button_style='')\n",
    "max_length_widget2 = widgets.IntSlider(min=0, max=100, step=10, value=20)\n",
    "\n",
    "\n",
    "interact(query_content,Limit = Limit_widget2, Medium = Medium_widget2, search_param=topic_widget2, Formality = expertise_widget2, Max_Length = max_length_widget2);"
   ]
  },
  {
   "cell_type": "code",
   "execution_count": 12,
   "metadata": {
    "extensions": {
     "jupyter_dashboards": {
      "version": 1,
      "views": {
       "grid_default": {
        "col": 4,
        "height": 19,
        "hidden": false,
        "row": 77,
        "width": 4
       },
       "report_default": {
        "hidden": false
       }
      }
     }
    }
   },
   "outputs": [
    {
     "data": {
      "application/vnd.jupyter.widget-view+json": {
       "model_id": "2f8feabbd4654a38a751f94bdf25c639",
       "version_major": 2,
       "version_minor": 0
      },
      "text/plain": [
       "interactive(children=(Dropdown(description='Topic', index=15, options=('keto', 'mct', 'natural', 'corn-fed', '…"
      ]
     },
     "metadata": {},
     "output_type": "display_data"
    }
   ],
   "source": [
    "alt_widget_2 = widgets.Dropdown(options = nutrition_cats,value='paleo', description ='Topic', disabled=False)\n",
    "\n",
    "interact(plot_stacked, param = alt_widget_2);"
   ]
  },
  {
   "cell_type": "markdown",
   "metadata": {
    "extensions": {
     "jupyter_dashboards": {
      "version": 1,
      "views": {
       "grid_default": {
        "col": 6,
        "height": 3,
        "hidden": false,
        "row": 21,
        "width": 6
       },
       "report_default": {
        "hidden": false
       }
      }
     }
    }
   },
   "source": [
    "# Vegan"
   ]
  },
  {
   "cell_type": "code",
   "execution_count": 13,
   "metadata": {
    "extensions": {
     "jupyter_dashboards": {
      "version": 1,
      "views": {
       "grid_default": {
        "col": 6,
        "height": 18,
        "hidden": false,
        "row": 24,
        "width": 6
       },
       "report_default": {
        "hidden": false
       }
      }
     }
    },
    "scrolled": false
   },
   "outputs": [
    {
     "data": {
      "application/vnd.jupyter.widget-view+json": {
       "model_id": "15be5a5b6c794236839de0d86e650501",
       "version_major": 2,
       "version_minor": 0
      },
      "text/plain": [
       "interactive(children=(IntSlider(value=1, description='Limit', max=5, min=1), ToggleButtons(description='Medium…"
      ]
     },
     "metadata": {},
     "output_type": "display_data"
    }
   ],
   "source": [
    "Limit_widget3 = widgets.IntSlider(min=1, max=5, step=1, value=1)\n",
    "Medium_widget3 = widgets.ToggleButtons(options = ['text', 'audio','video'], description ='Medium', button_style='')\n",
    "topic_widget3 = widgets.Dropdown(options = nutrition_cats,value='vegan', description ='Topic', disabled=False)\n",
    "expertise_widget3 = widgets.ToggleButtons(options = ['Informal', 'Intermediate','Formal'], description ='Formality', button_style='')\n",
    "max_length_widget3 = widgets.IntSlider(min=0, max=100, step=10, value=20)\n",
    "\n",
    "\n",
    "interact(query_content,Limit = Limit_widget3, Medium = Medium_widget3, search_param=topic_widget3, Formality = expertise_widget3, Max_Length = max_length_widget3);"
   ]
  },
  {
   "cell_type": "code",
   "execution_count": 14,
   "metadata": {
    "extensions": {
     "jupyter_dashboards": {
      "version": 1,
      "views": {
       "grid_default": {
        "col": 8,
        "height": 19,
        "hidden": false,
        "row": 77,
        "width": 4
       },
       "report_default": {
        "hidden": false
       }
      }
     }
    }
   },
   "outputs": [
    {
     "data": {
      "application/vnd.jupyter.widget-view+json": {
       "model_id": "e1dfd72108fd47eba52afb6a8d569ae4",
       "version_major": 2,
       "version_minor": 0
      },
      "text/plain": [
       "interactive(children=(Dropdown(description='Topic', index=13, options=('keto', 'mct', 'natural', 'corn-fed', '…"
      ]
     },
     "metadata": {},
     "output_type": "display_data"
    }
   ],
   "source": [
    "alt_widget_3 = widgets.Dropdown(options = nutrition_cats,value='vegan', description ='Topic', disabled=False)\n",
    "\n",
    "interact(plot_stacked, param = alt_widget_3);"
   ]
  },
  {
   "cell_type": "markdown",
   "metadata": {
    "extensions": {
     "jupyter_dashboards": {
      "version": 1,
      "views": {
       "grid_default": {
        "col": 0,
        "height": 3,
        "hidden": false,
        "row": 21,
        "width": 6
       },
       "report_default": {
        "hidden": false
       }
      }
     }
    }
   },
   "source": [
    "# Vegetarian"
   ]
  },
  {
   "cell_type": "code",
   "execution_count": 15,
   "metadata": {
    "extensions": {
     "jupyter_dashboards": {
      "version": 1,
      "views": {
       "grid_default": {
        "col": 0,
        "height": 18,
        "hidden": false,
        "row": 24,
        "width": 6
       },
       "report_default": {
        "hidden": false
       }
      }
     }
    },
    "scrolled": false
   },
   "outputs": [
    {
     "data": {
      "application/vnd.jupyter.widget-view+json": {
       "model_id": "52049c53e4c142f8954c4c8f22e8f8dd",
       "version_major": 2,
       "version_minor": 0
      },
      "text/plain": [
       "interactive(children=(IntSlider(value=1, description='Limit', max=5, min=1), ToggleButtons(description='Medium…"
      ]
     },
     "metadata": {},
     "output_type": "display_data"
    }
   ],
   "source": [
    "Limit_widget4 = widgets.IntSlider(min=1, max=5, step=1, value=1)\n",
    "Medium_widget4 = widgets.ToggleButtons(options = ['text', 'audio','video'], description ='Medium', button_style='')\n",
    "topic_widget4 = widgets.Dropdown(options = nutrition_cats,value='vegetarian', description ='Topic', disabled=False)\n",
    "expertise_widget4 = widgets.ToggleButtons(options = ['Informal', 'Intermediate','Formal'], description ='Formality', button_style='')\n",
    "max_length_widget4 = widgets.IntSlider(min=0, max=200, step=10, value=20)\n",
    "\n",
    "\n",
    "interact(query_content,Limit = Limit_widget4, Medium = Medium_widget4, search_param=topic_widget4, Formality = expertise_widget4, Max_Length = max_length_widget4);"
   ]
  },
  {
   "cell_type": "code",
   "execution_count": 16,
   "metadata": {
    "extensions": {
     "jupyter_dashboards": {
      "version": 1,
      "views": {
       "grid_default": {
        "col": 0,
        "height": 19,
        "hidden": false,
        "row": 96,
        "width": 4
       },
       "report_default": {
        "hidden": false
       }
      }
     }
    }
   },
   "outputs": [
    {
     "data": {
      "application/vnd.jupyter.widget-view+json": {
       "model_id": "975c77a60e84472bbd38be1d58840679",
       "version_major": 2,
       "version_minor": 0
      },
      "text/plain": [
       "interactive(children=(Dropdown(description='Topic', index=14, options=('keto', 'mct', 'natural', 'corn-fed', '…"
      ]
     },
     "metadata": {},
     "output_type": "display_data"
    }
   ],
   "source": [
    "alt_widget_4 = widgets.Dropdown(options = nutrition_cats,value='vegetarian', description ='Topic', disabled=False)\n",
    "\n",
    "interact(plot_stacked, param = alt_widget_4);"
   ]
  },
  {
   "cell_type": "markdown",
   "metadata": {
    "extensions": {
     "jupyter_dashboards": {
      "version": 1,
      "views": {
       "grid_default": {},
       "report_default": {
        "hidden": false
       }
      }
     }
    }
   },
   "source": [
    "# General"
   ]
  },
  {
   "cell_type": "code",
   "execution_count": 17,
   "metadata": {
    "extensions": {
     "jupyter_dashboards": {
      "version": 1,
      "views": {
       "grid_default": {},
       "report_default": {
        "hidden": false
       }
      }
     }
    }
   },
   "outputs": [
    {
     "data": {
      "application/vnd.jupyter.widget-view+json": {
       "model_id": "29bf5e3a604d4c03a5a8076d03fb2478",
       "version_major": 2,
       "version_minor": 0
      },
      "text/plain": [
       "interactive(children=(IntSlider(value=1, description='Limit', max=5, min=1), ToggleButtons(description='Medium…"
      ]
     },
     "metadata": {},
     "output_type": "display_data"
    }
   ],
   "source": [
    "Limit_widget5 = widgets.IntSlider(min=1, max=5, step=1, value=1)\n",
    "Medium_widget5 = widgets.ToggleButtons(options = ['text', 'audio','video'], description ='Medium', button_style='')\n",
    "topic_widget5 = widgets.Dropdown(options = ['general'],value='general', description ='Topic', disabled=False)\n",
    "expertise_widget5 = widgets.ToggleButtons(options = ['Informal', 'Intermediate','Formal'], description ='Formality', button_style='')\n",
    "max_length_widget5 = widgets.IntSlider(min=0, max=300, step=10, value=20)\n",
    "\n",
    "\n",
    "interact(query_content,Limit = Limit_widget5, Medium = Medium_widget5, search_param=topic_widget5, Formality = expertise_widget5, Max_Length = max_length_widget5);"
   ]
  },
  {
   "cell_type": "code",
   "execution_count": 18,
   "metadata": {
    "extensions": {
     "jupyter_dashboards": {
      "version": 1,
      "views": {
       "grid_default": {},
       "report_default": {
        "hidden": false
       }
      }
     }
    }
   },
   "outputs": [
    {
     "data": {
      "application/vnd.jupyter.widget-view+json": {
       "model_id": "5027662bc045460aab5a39e44e32c53b",
       "version_major": 2,
       "version_minor": 0
      },
      "text/plain": [
       "interactive(children=(Dropdown(description='Topic', options=('general',), value='general'), Output()), _dom_cl…"
      ]
     },
     "metadata": {},
     "output_type": "display_data"
    }
   ],
   "source": [
    "alt_widget_5 = widgets.Dropdown(options = ['general'],value='general', description ='Topic', disabled=False)\n",
    "\n",
    "interact(plot_stacked, param = alt_widget_5);"
   ]
  },
  {
   "cell_type": "markdown",
   "metadata": {
    "extensions": {
     "jupyter_dashboards": {
      "version": 1,
      "views": {
       "grid_default": {
        "col": 0,
        "height": 4,
        "hidden": false,
        "row": 42,
        "width": 12
       },
       "report_default": {
        "hidden": false
       }
      }
     }
    }
   },
   "source": [
    "# Search"
   ]
  },
  {
   "cell_type": "code",
   "execution_count": 19,
   "metadata": {
    "extensions": {
     "jupyter_dashboards": {
      "version": 1,
      "views": {
       "grid_default": {
        "col": 0,
        "height": 31,
        "hidden": false,
        "row": 46,
        "width": 12
       },
       "report_default": {
        "hidden": true
       }
      }
     }
    }
   },
   "outputs": [],
   "source": [
    "# search_widget = widgets.Text(placeholder = 'Search News', description='Search:', disabled=False,continuous_update=False)\n",
    "# Limit_widget5 = widgets.IntSlider(min=1, max=5, step=1, value=1)\n",
    "# Medium_widget5 = widgets.ToggleButtons(options = ['text', 'audio','video'], description ='Medium', button_style='')\n",
    "\n",
    "\n",
    "\n",
    "\n",
    "# interact(query_content,search_param=search_widget,Limit = Limit_widget5, Medium = Medium_widget5);"
   ]
  }
 ],
 "metadata": {
  "extensions": {
   "jupyter_dashboards": {
    "activeView": "report_default",
    "version": 1,
    "views": {
     "grid_default": {
      "cellMargin": 10,
      "defaultCellHeight": 20,
      "maxColumns": 12,
      "name": "grid",
      "type": "grid"
     },
     "report_default": {
      "name": "report",
      "type": "report"
     }
    }
   }
  },
  "kernelspec": {
   "display_name": "Python 3",
   "language": "python",
   "name": "python3"
  },
  "language_info": {
   "codemirror_mode": {
    "name": "ipython",
    "version": 3
   },
   "file_extension": ".py",
   "mimetype": "text/x-python",
   "name": "python",
   "nbconvert_exporter": "python",
   "pygments_lexer": "ipython3",
   "version": "3.6.5"
  }
 },
 "nbformat": 4,
 "nbformat_minor": 2
}
