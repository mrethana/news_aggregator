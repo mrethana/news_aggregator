{
 "cells": [
  {
   "cell_type": "code",
   "execution_count": null,
   "metadata": {
    "extensions": {
     "jupyter_dashboards": {
      "version": 1,
      "views": {
       "grid_default": {
        "hidden": true
       },
       "report_default": {
        "hidden": false
       }
      }
     }
    }
   },
   "outputs": [],
   "source": [
    "import ipywidgets as widgets\n",
    "from ipywidgets import interact, interactive, fixed, interact_manual\n",
    "import ipywidgets as widgets\n",
    "from IPython.display import Image\n",
    "from IPython.core.display import HTML \n",
    "import time\n",
    "from ipywidgets import FloatProgress\n",
    "from IPython.display import display\n",
    "from bs4 import BeautifulSoup\n",
    "import requests\n",
    "import re\n",
    "from os import path\n",
    "from PIL import Image\n",
    "import pandas as pd\n",
    "import warnings\n",
    "warnings.filterwarnings(\"ignore\")\n",
    "from models import *\n",
    "from etl import *\n",
    "import plotly.plotly as py\n",
    "import plotly.graph_objs as go"
   ]
  },
  {
   "cell_type": "code",
   "execution_count": 2,
   "metadata": {
    "extensions": {
     "jupyter_dashboards": {
      "version": 1,
      "views": {
       "grid_default": {},
       "report_default": {
        "hidden": true
       }
      }
     }
    }
   },
   "outputs": [],
   "source": [
    "def add_scraping_source(df, identifier_dict):\n",
    "    scraped_source = []\n",
    "    for index, row in df.iterrows():\n",
    "        identifier = row.medium + row.formality\n",
    "        scraped_from = identifier_dict[identifier]\n",
    "        scraped_source.append(scraped_from)\n",
    "    df['scraped_from'] = scraped_source\n",
    "    return df\n",
    "def fix_NYT(df):\n",
    "    df.loc[(df.provider=='The New York Times') & (df.medium == 'text'), 'scraped_from'] = 'NYT API'\n",
    "    return df"
   ]
  },
  {
   "cell_type": "code",
   "execution_count": 3,
   "metadata": {
    "extensions": {
     "jupyter_dashboards": {
      "version": 1,
      "views": {
       "grid_default": {},
       "report_default": {
        "hidden": true
       }
      }
     }
    }
   },
   "outputs": [],
   "source": [
    "identifier_dict = {'audioFormal':'Itunes Audiobook','textFormal':'Itunes Ebook','videoFormal':'Itunes Movie',\n",
    "                  'textInformal': 'Twitter', 'videoInformal': 'Youtube',\n",
    "                   'audioIntermediate': 'Itunes Podcast', 'textIntermediate': 'NewsApi', 'videoIntermediate': 'Youtube'}"
   ]
  },
  {
   "cell_type": "code",
   "execution_count": 4,
   "metadata": {},
   "outputs": [],
   "source": [
    "pd.set_option('display.max_colwidth', -1)"
   ]
  },
  {
   "cell_type": "code",
   "execution_count": 5,
   "metadata": {
    "extensions": {
     "jupyter_dashboards": {
      "version": 1,
      "views": {
       "grid_default": {},
       "report_default": {
        "hidden": true
       }
      }
     }
    }
   },
   "outputs": [],
   "source": [
    "df = pd.DataFrame([{'id':content.id,'content_url':content.content_url, 'image_url':content.image_url,'title':content.title\n",
    "                             , 'published': content.published, 'length': content.length, 'medium':content.medium.name,\n",
    "                             'provider': content.provider.name, 'api_id':content.provider.api_id,\n",
    "                    'formality':content.provider.formality.type, 'difficulty':content.difficulty.type\n",
    "                             } for content in session.query(Content).all()])\n",
    "x = [[category.name for category in content.categories] for content in session.query(Content).all()]\n",
    "df['categories'] = x\n",
    "df = add_scraping_source(df, identifier_dict)\n",
    "df = fix_NYT(df)\n",
    "\n",
    "df.to_csv('all_content.csv')"
   ]
  },
  {
   "cell_type": "code",
   "execution_count": 6,
   "metadata": {},
   "outputs": [
    {
     "data": {
      "text/html": [
       "<div>\n",
       "<style scoped>\n",
       "    .dataframe tbody tr th:only-of-type {\n",
       "        vertical-align: middle;\n",
       "    }\n",
       "\n",
       "    .dataframe tbody tr th {\n",
       "        vertical-align: top;\n",
       "    }\n",
       "\n",
       "    .dataframe thead th {\n",
       "        text-align: right;\n",
       "    }\n",
       "</style>\n",
       "<table border=\"1\" class=\"dataframe\">\n",
       "  <thead>\n",
       "    <tr style=\"text-align: right;\">\n",
       "      <th></th>\n",
       "      <th>api_id</th>\n",
       "      <th>content_url</th>\n",
       "      <th>difficulty</th>\n",
       "      <th>formality</th>\n",
       "      <th>id</th>\n",
       "      <th>image_url</th>\n",
       "      <th>length</th>\n",
       "      <th>medium</th>\n",
       "      <th>provider</th>\n",
       "      <th>published</th>\n",
       "      <th>title</th>\n",
       "      <th>categories</th>\n",
       "      <th>scraped_from</th>\n",
       "    </tr>\n",
       "  </thead>\n",
       "  <tbody>\n",
       "    <tr>\n",
       "      <th>0</th>\n",
       "      <td>Itunes Podcast</td>\n",
       "      <td>http://traffic.libsyn.com/microbiome/TMP010.mp3</td>\n",
       "      <td>Hard</td>\n",
       "      <td>Intermediate</td>\n",
       "      <td>1</td>\n",
       "      <td>http://static.libsyn.com/p/assets/8/0/d/a/80da08206f966c8f/1400x1400-ami-microbiome-podcast.png</td>\n",
       "      <td>2705</td>\n",
       "      <td>audio</td>\n",
       "      <td>The Microbiome Podcast</td>\n",
       "      <td>2015-10-19</td>\n",
       "      <td>Episode 10: The microbiome and gut-brain communications with Dr. John Cryan</td>\n",
       "      <td>[gut, microbiome, null]</td>\n",
       "      <td>Itunes Podcast</td>\n",
       "    </tr>\n",
       "    <tr>\n",
       "      <th>1</th>\n",
       "      <td>Itunes Podcast</td>\n",
       "      <td>http://traffic.libsyn.com/microbiome/TMP009.mp3</td>\n",
       "      <td>Hard</td>\n",
       "      <td>Intermediate</td>\n",
       "      <td>2</td>\n",
       "      <td>http://static.libsyn.com/p/assets/8/0/d/a/80da08206f966c8f/1400x1400-ami-microbiome-podcast.png</td>\n",
       "      <td>3307</td>\n",
       "      <td>audio</td>\n",
       "      <td>The Microbiome Podcast</td>\n",
       "      <td>2015-06-15</td>\n",
       "      <td>Episode 9: The skin microbiome and AOBiome with Dr. Larry Weiss</td>\n",
       "      <td>[microbiome, null]</td>\n",
       "      <td>Itunes Podcast</td>\n",
       "    </tr>\n",
       "    <tr>\n",
       "      <th>2</th>\n",
       "      <td>Itunes Podcast</td>\n",
       "      <td>http://traffic.libsyn.com/microbiome/TMP008.mp3</td>\n",
       "      <td>Medium</td>\n",
       "      <td>Intermediate</td>\n",
       "      <td>3</td>\n",
       "      <td>http://static.libsyn.com/p/assets/8/0/d/a/80da08206f966c8f/1400x1400-ami-microbiome-podcast.png</td>\n",
       "      <td>2828</td>\n",
       "      <td>audio</td>\n",
       "      <td>The Microbiome Podcast</td>\n",
       "      <td>2015-06-01</td>\n",
       "      <td>Episode 8: The vaginal microbiome with Dr. Jacques Ravel</td>\n",
       "      <td>[microbiome, null]</td>\n",
       "      <td>Itunes Podcast</td>\n",
       "    </tr>\n",
       "    <tr>\n",
       "      <th>3</th>\n",
       "      <td>Itunes Podcast</td>\n",
       "      <td>http://traffic.libsyn.com/microbiome/TMP007.mp3</td>\n",
       "      <td>Medium</td>\n",
       "      <td>Intermediate</td>\n",
       "      <td>4</td>\n",
       "      <td>http://static.libsyn.com/p/assets/8/0/d/a/80da08206f966c8f/1400x1400-ami-microbiome-podcast.png</td>\n",
       "      <td>2522</td>\n",
       "      <td>audio</td>\n",
       "      <td>The Microbiome Podcast</td>\n",
       "      <td>2015-05-18</td>\n",
       "      <td>Episode 7: Gut bacteria and circadian clocks with Drs. Eugene Chang and Vanessa Leone</td>\n",
       "      <td>[gut, microbiome, null]</td>\n",
       "      <td>Itunes Podcast</td>\n",
       "    </tr>\n",
       "    <tr>\n",
       "      <th>4</th>\n",
       "      <td>Itunes Podcast</td>\n",
       "      <td>http://traffic.libsyn.com/microbiome/TMP006.mp3</td>\n",
       "      <td>Hard</td>\n",
       "      <td>Intermediate</td>\n",
       "      <td>5</td>\n",
       "      <td>http://static.libsyn.com/p/assets/8/0/d/a/80da08206f966c8f/1400x1400-ami-microbiome-podcast.png</td>\n",
       "      <td>3180</td>\n",
       "      <td>audio</td>\n",
       "      <td>The Microbiome Podcast</td>\n",
       "      <td>2015-05-04</td>\n",
       "      <td>Episode 6: The Microbiome, autism, and serotonin production with Dr. Elaine Hsiao</td>\n",
       "      <td>[gut, microbiome, null]</td>\n",
       "      <td>Itunes Podcast</td>\n",
       "    </tr>\n",
       "    <tr>\n",
       "      <th>5</th>\n",
       "      <td>Itunes Podcast</td>\n",
       "      <td>http://traffic.libsyn.com/microbiome/TMP005.mp3</td>\n",
       "      <td>Easy</td>\n",
       "      <td>Intermediate</td>\n",
       "      <td>6</td>\n",
       "      <td>http://static.libsyn.com/p/assets/8/0/d/a/80da08206f966c8f/1400x1400-ami-microbiome-podcast.png</td>\n",
       "      <td>3123</td>\n",
       "      <td>audio</td>\n",
       "      <td>The Microbiome Podcast</td>\n",
       "      <td>2015-04-21</td>\n",
       "      <td>Episode 5: Diet and its impact on our microbiota and health with Drs. Erica and Justin Sonnenburg</td>\n",
       "      <td>[gut, microbiome, null, fiber, mood]</td>\n",
       "      <td>Itunes Podcast</td>\n",
       "    </tr>\n",
       "    <tr>\n",
       "      <th>6</th>\n",
       "      <td>Itunes Podcast</td>\n",
       "      <td>http://traffic.libsyn.com/microbiome/TMP004.mp3</td>\n",
       "      <td>Easy</td>\n",
       "      <td>Intermediate</td>\n",
       "      <td>7</td>\n",
       "      <td>http://static.libsyn.com/p/assets/8/0/d/a/80da08206f966c8f/1400x1400-ami-microbiome-podcast.png</td>\n",
       "      <td>2764</td>\n",
       "      <td>audio</td>\n",
       "      <td>The Microbiome Podcast</td>\n",
       "      <td>2015-04-06</td>\n",
       "      <td>Episode 4: What's hot in the microbiome field with Kristina Campbell</td>\n",
       "      <td>[gut, microbiome, null]</td>\n",
       "      <td>Itunes Podcast</td>\n",
       "    </tr>\n",
       "    <tr>\n",
       "      <th>7</th>\n",
       "      <td>Itunes Podcast</td>\n",
       "      <td>http://traffic.libsyn.com/microbiome/TMP003.mp3</td>\n",
       "      <td>Medium</td>\n",
       "      <td>Intermediate</td>\n",
       "      <td>8</td>\n",
       "      <td>http://static.libsyn.com/p/assets/8/0/d/a/80da08206f966c8f/1400x1400-ami-microbiome-podcast.png</td>\n",
       "      <td>3007</td>\n",
       "      <td>audio</td>\n",
       "      <td>The Microbiome Podcast</td>\n",
       "      <td>2015-03-23</td>\n",
       "      <td>Episode 3: Emulsifiers in our food with Dr. Andrew Gewirtz</td>\n",
       "      <td>[microbiome, null]</td>\n",
       "      <td>Itunes Podcast</td>\n",
       "    </tr>\n",
       "    <tr>\n",
       "      <th>8</th>\n",
       "      <td>Itunes Podcast</td>\n",
       "      <td>http://traffic.libsyn.com/microbiome/TMP002.mp3</td>\n",
       "      <td>Easy</td>\n",
       "      <td>Intermediate</td>\n",
       "      <td>9</td>\n",
       "      <td>http://static.libsyn.com/p/assets/8/0/d/a/80da08206f966c8f/1400x1400-ami-microbiome-podcast.png</td>\n",
       "      <td>2649</td>\n",
       "      <td>audio</td>\n",
       "      <td>The Microbiome Podcast</td>\n",
       "      <td>2015-03-08</td>\n",
       "      <td>Episode 2: All things microbiome with Dr. Jonathan Eisen</td>\n",
       "      <td>[microbiome, null]</td>\n",
       "      <td>Itunes Podcast</td>\n",
       "    </tr>\n",
       "    <tr>\n",
       "      <th>9</th>\n",
       "      <td>Itunes Podcast</td>\n",
       "      <td>http://traffic.libsyn.com/microbiome/TMP001S.mp3</td>\n",
       "      <td>Easy</td>\n",
       "      <td>Intermediate</td>\n",
       "      <td>10</td>\n",
       "      <td>http://static.libsyn.com/p/assets/8/0/d/a/80da08206f966c8f/1400x1400-ami-microbiome-podcast.png</td>\n",
       "      <td>786</td>\n",
       "      <td>audio</td>\n",
       "      <td>The Microbiome Podcast</td>\n",
       "      <td>2015-02-23</td>\n",
       "      <td>Episode 1 Supplement: Microbiome of our transit systems with Dr. Chris Mason</td>\n",
       "      <td>[microbiome, null]</td>\n",
       "      <td>Itunes Podcast</td>\n",
       "    </tr>\n",
       "    <tr>\n",
       "      <th>10</th>\n",
       "      <td>Itunes Podcast</td>\n",
       "      <td>http://traffic.libsyn.com/microbiome/TMP001.mp3</td>\n",
       "      <td>Medium</td>\n",
       "      <td>Intermediate</td>\n",
       "      <td>11</td>\n",
       "      <td>http://static.libsyn.com/p/assets/8/0/d/a/80da08206f966c8f/1400x1400-ami-microbiome-podcast.png</td>\n",
       "      <td>2465</td>\n",
       "      <td>audio</td>\n",
       "      <td>The Microbiome Podcast</td>\n",
       "      <td>2015-02-23</td>\n",
       "      <td>Episode 1: Microbiome of our transit systems with Dr. Chris Mason</td>\n",
       "      <td>[microbiome, null]</td>\n",
       "      <td>Itunes Podcast</td>\n",
       "    </tr>\n",
       "    <tr>\n",
       "      <th>11</th>\n",
       "      <td>Itunes Podcast</td>\n",
       "      <td>http://paleomagazine.libsyn.com/pmr-245-sleep-drugs-and-a-new-way-to-track-your-health-with-humanos-founder-dan-pardi</td>\n",
       "      <td>Hard</td>\n",
       "      <td>Intermediate</td>\n",
       "      <td>12</td>\n",
       "      <td>http://static.libsyn.com/p/assets/c/1/0/8/c1088a7d62cc9e29/PMR_logo_2048x2048.jpg</td>\n",
       "      <td>61</td>\n",
       "      <td>audio</td>\n",
       "      <td>Paleo Magazine Radio</td>\n",
       "      <td>2018-12-18</td>\n",
       "      <td>PMR #245: Sleep, Drugs, and a New Way to Track Your Health — with humanOS Founder Dan Pardi</td>\n",
       "      <td>[null, paleo]</td>\n",
       "      <td>Itunes Podcast</td>\n",
       "    </tr>\n",
       "    <tr>\n",
       "      <th>12</th>\n",
       "      <td>Itunes Podcast</td>\n",
       "      <td>http://paleomagazine.libsyn.com/pmr-244-transitioning-dietary-choices-with-marni-wasserman</td>\n",
       "      <td>Easy</td>\n",
       "      <td>Intermediate</td>\n",
       "      <td>13</td>\n",
       "      <td>http://static.libsyn.com/p/assets/c/1/0/8/c1088a7d62cc9e29/PMR_logo_2048x2048.jpg</td>\n",
       "      <td>3244</td>\n",
       "      <td>audio</td>\n",
       "      <td>Paleo Magazine Radio</td>\n",
       "      <td>2018-12-14</td>\n",
       "      <td>PMR #244: Transitioning Dietary Choices — with Marni Wasserman</td>\n",
       "      <td>[paleo, cooking, simple, vegetarian diet, vegetarian]</td>\n",
       "      <td>Itunes Podcast</td>\n",
       "    </tr>\n",
       "    <tr>\n",
       "      <th>13</th>\n",
       "      <td>Itunes Podcast</td>\n",
       "      <td>http://paleomagazine.libsyn.com/pmr-243-theres-more-to-fitness-than-exercise-with-dr-mike-t-nelson</td>\n",
       "      <td>Hard</td>\n",
       "      <td>Intermediate</td>\n",
       "      <td>14</td>\n",
       "      <td>http://static.libsyn.com/p/assets/c/1/0/8/c1088a7d62cc9e29/PMR_logo_2048x2048.jpg</td>\n",
       "      <td>61</td>\n",
       "      <td>audio</td>\n",
       "      <td>Paleo Magazine Radio</td>\n",
       "      <td>2018-12-04</td>\n",
       "      <td>PMR #243: There's More to Fitness Than Exercise — with Dr. Mike T. Nelson</td>\n",
       "      <td>[null, paleo, ketogenic diet, ketogenic, carbs]</td>\n",
       "      <td>Itunes Podcast</td>\n",
       "    </tr>\n",
       "    <tr>\n",
       "      <th>14</th>\n",
       "      <td>Itunes Podcast</td>\n",
       "      <td>http://paleomagazine.libsyn.com/pmr-242-how-to-stay-healthy-this-winter-with-bone-broth</td>\n",
       "      <td>Easy</td>\n",
       "      <td>Intermediate</td>\n",
       "      <td>15</td>\n",
       "      <td>http://static.libsyn.com/p/assets/c/1/0/8/c1088a7d62cc9e29/PMR_logo_2048x2048.jpg</td>\n",
       "      <td>2829</td>\n",
       "      <td>audio</td>\n",
       "      <td>Paleo Magazine Radio</td>\n",
       "      <td>2018-11-27</td>\n",
       "      <td>PMR #242: How to Stay Healthy This Winter with Bone Broth</td>\n",
       "      <td>[gut, paleo, cooking, keto, amino]</td>\n",
       "      <td>Itunes Podcast</td>\n",
       "    </tr>\n",
       "    <tr>\n",
       "      <th>15</th>\n",
       "      <td>Itunes Podcast</td>\n",
       "      <td>http://paleomagazine.libsyn.com/pmr-241-living-an-optimal-life-and-changing-your-brainwith-ben-pakulski</td>\n",
       "      <td>Medium</td>\n",
       "      <td>Intermediate</td>\n",
       "      <td>16</td>\n",
       "      <td>http://static.libsyn.com/p/assets/c/1/0/8/c1088a7d62cc9e29/PMR_logo_2048x2048.jpg</td>\n",
       "      <td>65</td>\n",
       "      <td>audio</td>\n",
       "      <td>Paleo Magazine Radio</td>\n",
       "      <td>2018-11-20</td>\n",
       "      <td>PMR #241: Living an Optimal Life and Changing Your Brain—with Ben Pakulski</td>\n",
       "      <td>[null, paleo, keto]</td>\n",
       "      <td>Itunes Podcast</td>\n",
       "    </tr>\n",
       "    <tr>\n",
       "      <th>16</th>\n",
       "      <td>Itunes Podcast</td>\n",
       "      <td>http://paleomagazine.libsyn.com/pmr-240-learning-about-metabolic-health-and-nutritional-cancer-therapy-with-victoria-field</td>\n",
       "      <td>Easy</td>\n",
       "      <td>Intermediate</td>\n",
       "      <td>17</td>\n",
       "      <td>http://static.libsyn.com/p/assets/c/1/0/8/c1088a7d62cc9e29/PMR_logo_2048x2048.jpg</td>\n",
       "      <td>2882</td>\n",
       "      <td>audio</td>\n",
       "      <td>Paleo Magazine Radio</td>\n",
       "      <td>2018-11-13</td>\n",
       "      <td>PMR #240: Learning About Metabolic Health and Nutritional Cancer Therapy with Victoria Field</td>\n",
       "      <td>[paleo, ketogenic diet, ketogenic, keto, farm]</td>\n",
       "      <td>Itunes Podcast</td>\n",
       "    </tr>\n",
       "    <tr>\n",
       "      <th>17</th>\n",
       "      <td>Itunes Podcast</td>\n",
       "      <td>http://paleomagazine.libsyn.com/pmr-239-the-importance-of-sleep-for-health-and-success-with-dr-rebecca-robbins</td>\n",
       "      <td>Hard</td>\n",
       "      <td>Intermediate</td>\n",
       "      <td>18</td>\n",
       "      <td>http://static.libsyn.com/p/assets/c/1/0/8/c1088a7d62cc9e29/PMR_logo_2048x2048.jpg</td>\n",
       "      <td>2226</td>\n",
       "      <td>audio</td>\n",
       "      <td>Paleo Magazine Radio</td>\n",
       "      <td>2018-11-06</td>\n",
       "      <td>PMR #239: The Importance of Sleep for Health and Success, with Dr. Rebecca Robbins</td>\n",
       "      <td>[null, mood, paleo]</td>\n",
       "      <td>Itunes Podcast</td>\n",
       "    </tr>\n",
       "    <tr>\n",
       "      <th>18</th>\n",
       "      <td>Itunes Podcast</td>\n",
       "      <td>http://paleomagazine.libsyn.com/pmr-238-are-health-podcasts-actually-making-us-healthier-a-discussion-with-mind-pumps-sal-di-stefano</td>\n",
       "      <td>Easy</td>\n",
       "      <td>Intermediate</td>\n",
       "      <td>19</td>\n",
       "      <td>http://static.libsyn.com/p/assets/c/1/0/8/c1088a7d62cc9e29/PMR_logo_2048x2048.jpg</td>\n",
       "      <td>64</td>\n",
       "      <td>audio</td>\n",
       "      <td>Paleo Magazine Radio</td>\n",
       "      <td>2018-10-30</td>\n",
       "      <td>PMR #238: Are Health Podcasts Actually Making Us Healthier? A Discussion with Mind Pump's Sal Di Stefano</td>\n",
       "      <td>[null, paleo, paleo diet]</td>\n",
       "      <td>Itunes Podcast</td>\n",
       "    </tr>\n",
       "    <tr>\n",
       "      <th>19</th>\n",
       "      <td>Itunes Podcast</td>\n",
       "      <td>http://paleomagazine.libsyn.com/pmr-237-aroused-the-history-of-hormoneswith-dr-randi-epstein</td>\n",
       "      <td>Easy</td>\n",
       "      <td>Intermediate</td>\n",
       "      <td>20</td>\n",
       "      <td>http://static.libsyn.com/p/assets/c/1/0/8/c1088a7d62cc9e29/PMR_logo_2048x2048.jpg</td>\n",
       "      <td>64</td>\n",
       "      <td>audio</td>\n",
       "      <td>Paleo Magazine Radio</td>\n",
       "      <td>2018-10-23</td>\n",
       "      <td>PMR #237: Aroused: The History of Hormones—with Dr. Randi Epstein</td>\n",
       "      <td>[null, paleo, hormone]</td>\n",
       "      <td>Itunes Podcast</td>\n",
       "    </tr>\n",
       "    <tr>\n",
       "      <th>20</th>\n",
       "      <td>Itunes Podcast</td>\n",
       "      <td>http://paleomagazine.libsyn.com/pmr-236-best-of-paleo-magazine-radiogut-health-edition</td>\n",
       "      <td>Medium</td>\n",
       "      <td>Intermediate</td>\n",
       "      <td>21</td>\n",
       "      <td>http://static.libsyn.com/p/assets/c/1/0/8/c1088a7d62cc9e29/PMR_logo_2048x2048.jpg</td>\n",
       "      <td>3543</td>\n",
       "      <td>audio</td>\n",
       "      <td>Paleo Magazine Radio</td>\n",
       "      <td>2018-10-16</td>\n",
       "      <td>PMR #236: Best of Paleo Magazine Radio—Gut Health Edition</td>\n",
       "      <td>[gut, paleo, paleo diet, inflammation, gut health]</td>\n",
       "      <td>Itunes Podcast</td>\n",
       "    </tr>\n",
       "    <tr>\n",
       "      <th>21</th>\n",
       "      <td>Itunes Podcast</td>\n",
       "      <td>http://paleomagazine.libsyn.com/pmr-235-the-latest-research-on-nutrition-and-alzheimers-disease-prevention-with-professor-rona-mulcahy</td>\n",
       "      <td>Easy</td>\n",
       "      <td>Intermediate</td>\n",
       "      <td>22</td>\n",
       "      <td>http://static.libsyn.com/p/assets/c/1/0/8/c1088a7d62cc9e29/PMR_logo_2048x2048.jpg</td>\n",
       "      <td>1864</td>\n",
       "      <td>audio</td>\n",
       "      <td>Paleo Magazine Radio</td>\n",
       "      <td>2018-10-09</td>\n",
       "      <td>PMR #235: The Latest Research on Nutrition and Alzheimer's Disease Prevention with Professor Ríona Mulcahy</td>\n",
       "      <td>[null, paleo, supplements]</td>\n",
       "      <td>Itunes Podcast</td>\n",
       "    </tr>\n",
       "    <tr>\n",
       "      <th>22</th>\n",
       "      <td>Itunes Podcast</td>\n",
       "      <td>http://paleomagazine.libsyn.com/pmr-234-dont-worry-wine-is-paleo-making-better-healthier-wine-with-fitvine</td>\n",
       "      <td>Medium</td>\n",
       "      <td>Intermediate</td>\n",
       "      <td>23</td>\n",
       "      <td>http://static.libsyn.com/p/assets/c/1/0/8/c1088a7d62cc9e29/PMR_logo_2048x2048.jpg</td>\n",
       "      <td>2644</td>\n",
       "      <td>audio</td>\n",
       "      <td>Paleo Magazine Radio</td>\n",
       "      <td>2018-10-02</td>\n",
       "      <td>PMR #234: Don't Worry, Wine Is Paleo! Making Better, Healthier Wine with FitVine</td>\n",
       "      <td>[null, paleo, sugar]</td>\n",
       "      <td>Itunes Podcast</td>\n",
       "    </tr>\n",
       "    <tr>\n",
       "      <th>23</th>\n",
       "      <td>Itunes Podcast</td>\n",
       "      <td>http://paleomagazine.libsyn.com/pmr-233</td>\n",
       "      <td>Medium</td>\n",
       "      <td>Intermediate</td>\n",
       "      <td>24</td>\n",
       "      <td>http://static.libsyn.com/p/assets/c/1/0/8/c1088a7d62cc9e29/PMR_logo_2048x2048.jpg</td>\n",
       "      <td>3547</td>\n",
       "      <td>audio</td>\n",
       "      <td>Paleo Magazine Radio</td>\n",
       "      <td>2018-09-25</td>\n",
       "      <td>PMR #233: Perfect Keto's Anthony Gustin Explains How to Be Your Own N=1 Experiment</td>\n",
       "      <td>[null, paleo, ketogenic diet, ketogenic, keto]</td>\n",
       "      <td>Itunes Podcast</td>\n",
       "    </tr>\n",
       "    <tr>\n",
       "      <th>24</th>\n",
       "      <td>Itunes Podcast</td>\n",
       "      <td>http://paleomagazine.libsyn.com/pmr-232-how-aggressively-organic-is-changing-the-way-we-grow-and-eat-vegetables-with-jonathanpartlow</td>\n",
       "      <td>Hard</td>\n",
       "      <td>Intermediate</td>\n",
       "      <td>25</td>\n",
       "      <td>http://static.libsyn.com/p/assets/c/1/0/8/c1088a7d62cc9e29/PMR_logo_2048x2048.jpg</td>\n",
       "      <td>3002</td>\n",
       "      <td>audio</td>\n",
       "      <td>Paleo Magazine Radio</td>\n",
       "      <td>2018-09-18</td>\n",
       "      <td>PMR #232: How Aggressively Organic Is Changing the Way We Grow and Eat Vegetables, with Jonathan Partlow</td>\n",
       "      <td>[paleo, keto, vegetable, factory farming, organic]</td>\n",
       "      <td>Itunes Podcast</td>\n",
       "    </tr>\n",
       "    <tr>\n",
       "      <th>25</th>\n",
       "      <td>Itunes Podcast</td>\n",
       "      <td>http://paleomagazine.libsyn.com/pmr-231-the-art-of-breath-with-rob-wilson</td>\n",
       "      <td>Easy</td>\n",
       "      <td>Intermediate</td>\n",
       "      <td>26</td>\n",
       "      <td>http://static.libsyn.com/p/assets/c/1/0/8/c1088a7d62cc9e29/PMR_logo_2048x2048.jpg</td>\n",
       "      <td>65</td>\n",
       "      <td>audio</td>\n",
       "      <td>Paleo Magazine Radio</td>\n",
       "      <td>2018-09-11</td>\n",
       "      <td>PMR #231: The Art of Breath, with Rob Wilson</td>\n",
       "      <td>[null, paleo]</td>\n",
       "      <td>Itunes Podcast</td>\n",
       "    </tr>\n",
       "    <tr>\n",
       "      <th>26</th>\n",
       "      <td>Itunes Podcast</td>\n",
       "      <td>http://paleomagazine.libsyn.com/pmr-230-the-best-of-paleo-magazine-radioathlete-edition</td>\n",
       "      <td>Hard</td>\n",
       "      <td>Intermediate</td>\n",
       "      <td>27</td>\n",
       "      <td>http://static.libsyn.com/p/assets/c/1/0/8/c1088a7d62cc9e29/PMR_logo_2048x2048.jpg</td>\n",
       "      <td>3303</td>\n",
       "      <td>audio</td>\n",
       "      <td>Paleo Magazine Radio</td>\n",
       "      <td>2018-09-04</td>\n",
       "      <td>PMR #230: The Best of Paleo Magazine Radio—Athlete Edition!</td>\n",
       "      <td>[null, paleo, protein]</td>\n",
       "      <td>Itunes Podcast</td>\n",
       "    </tr>\n",
       "    <tr>\n",
       "      <th>27</th>\n",
       "      <td>Itunes Podcast</td>\n",
       "      <td>http://paleomagazine.libsyn.com/always-starting-with-the-thyroid-with-elle-russ</td>\n",
       "      <td>Easy</td>\n",
       "      <td>Intermediate</td>\n",
       "      <td>28</td>\n",
       "      <td>http://static.libsyn.com/p/assets/c/1/0/8/c1088a7d62cc9e29/PMR_logo_2048x2048.jpg</td>\n",
       "      <td>65</td>\n",
       "      <td>audio</td>\n",
       "      <td>Paleo Magazine Radio</td>\n",
       "      <td>2018-08-28</td>\n",
       "      <td>PMR #229: Always Start with the Thyroid, with Elle Russ</td>\n",
       "      <td>[null, paleo, keto]</td>\n",
       "      <td>Itunes Podcast</td>\n",
       "    </tr>\n",
       "    <tr>\n",
       "      <th>28</th>\n",
       "      <td>Itunes Podcast</td>\n",
       "      <td>http://paleomagazine.libsyn.com/pmr-228-dietary-minerals-101-what-you-need-to-know-with-joy-stephenson-laws</td>\n",
       "      <td>Medium</td>\n",
       "      <td>Intermediate</td>\n",
       "      <td>29</td>\n",
       "      <td>http://static.libsyn.com/p/assets/c/1/0/8/c1088a7d62cc9e29/PMR_logo_2048x2048.jpg</td>\n",
       "      <td>2945</td>\n",
       "      <td>audio</td>\n",
       "      <td>Paleo Magazine Radio</td>\n",
       "      <td>2018-08-21</td>\n",
       "      <td>PMR #228: Dietary Minerals 101: What You Need to Know with Joy Stephenson-Laws</td>\n",
       "      <td>[null, paleo, supplements, vitamins, fats]</td>\n",
       "      <td>Itunes Podcast</td>\n",
       "    </tr>\n",
       "    <tr>\n",
       "      <th>29</th>\n",
       "      <td>Itunes Podcast</td>\n",
       "      <td>http://paleomagazine.libsyn.com/pmr-227-what-does-a-paleo-vacation-look-like-talking-with-the-founder-of-prime-retreats-ryan-carroll</td>\n",
       "      <td>Hard</td>\n",
       "      <td>Intermediate</td>\n",
       "      <td>30</td>\n",
       "      <td>http://static.libsyn.com/p/assets/c/1/0/8/c1088a7d62cc9e29/PMR_logo_2048x2048.jpg</td>\n",
       "      <td>2284</td>\n",
       "      <td>audio</td>\n",
       "      <td>Paleo Magazine Radio</td>\n",
       "      <td>2018-08-14</td>\n",
       "      <td>PMR #227: What Does a Paleo Vacation Look Like? Talking With the Founder of Prime Retreats, Ryan Carroll</td>\n",
       "      <td>[null, paleo]</td>\n",
       "      <td>Itunes Podcast</td>\n",
       "    </tr>\n",
       "    <tr>\n",
       "      <th>...</th>\n",
       "      <td>...</td>\n",
       "      <td>...</td>\n",
       "      <td>...</td>\n",
       "      <td>...</td>\n",
       "      <td>...</td>\n",
       "      <td>...</td>\n",
       "      <td>...</td>\n",
       "      <td>...</td>\n",
       "      <td>...</td>\n",
       "      <td>...</td>\n",
       "      <td>...</td>\n",
       "      <td>...</td>\n",
       "      <td>...</td>\n",
       "    </tr>\n",
       "    <tr>\n",
       "      <th>7082</th>\n",
       "      <td>Itunes Podcast</td>\n",
       "      <td>http://nomnompaleo.net/2015/06/episode-10-essential-cooking-tools/</td>\n",
       "      <td>Easy</td>\n",
       "      <td>Intermediate</td>\n",
       "      <td>7083</td>\n",
       "      <td>http://nomnompaleo.net/wp-content/uploads/2015/04/NomNomPaleoPodcastiTunesImage1.jpg</td>\n",
       "      <td>2700</td>\n",
       "      <td>audio</td>\n",
       "      <td>Nom Nom Paleo Podcast</td>\n",
       "      <td>2015-06-28</td>\n",
       "      <td>Episode 10: Essential Cooking Tools</td>\n",
       "      <td>[null, cooking]</td>\n",
       "      <td>Itunes Podcast</td>\n",
       "    </tr>\n",
       "    <tr>\n",
       "      <th>7083</th>\n",
       "      <td>Itunes Podcast</td>\n",
       "      <td>http://nomnompaleo.net/2015/06/episode-9-the-perfect-steak/</td>\n",
       "      <td>Medium</td>\n",
       "      <td>Intermediate</td>\n",
       "      <td>7084</td>\n",
       "      <td>http://nomnompaleo.net/wp-content/uploads/2015/04/NomNomPaleoPodcastiTunesImage1.jpg</td>\n",
       "      <td>2160</td>\n",
       "      <td>audio</td>\n",
       "      <td>Nom Nom Paleo Podcast</td>\n",
       "      <td>2015-06-16</td>\n",
       "      <td>Episode 9: The Perfect Steak</td>\n",
       "      <td>[null, cooking]</td>\n",
       "      <td>Itunes Podcast</td>\n",
       "    </tr>\n",
       "    <tr>\n",
       "      <th>7084</th>\n",
       "      <td>Itunes Podcast</td>\n",
       "      <td>http://nomnompaleo.net/2015/06/episode-8-a-day-in-the-life/</td>\n",
       "      <td>Hard</td>\n",
       "      <td>Intermediate</td>\n",
       "      <td>7085</td>\n",
       "      <td>http://nomnompaleo.net/wp-content/uploads/2015/04/NomNomPaleoPodcastiTunesImage1.jpg</td>\n",
       "      <td>2945</td>\n",
       "      <td>audio</td>\n",
       "      <td>Nom Nom Paleo Podcast</td>\n",
       "      <td>2015-06-06</td>\n",
       "      <td>Episode 8: A Day In The Life</td>\n",
       "      <td>[null, paleo]</td>\n",
       "      <td>Itunes Podcast</td>\n",
       "    </tr>\n",
       "    <tr>\n",
       "      <th>7085</th>\n",
       "      <td>Itunes Podcast</td>\n",
       "      <td>http://nomnompaleo.net/2015/05/episode-7-traveling-while-paleo/</td>\n",
       "      <td>Hard</td>\n",
       "      <td>Intermediate</td>\n",
       "      <td>7086</td>\n",
       "      <td>http://nomnompaleo.net/wp-content/uploads/2015/04/NomNomPaleoPodcastiTunesImage1.jpg</td>\n",
       "      <td>2346</td>\n",
       "      <td>audio</td>\n",
       "      <td>Nom Nom Paleo Podcast</td>\n",
       "      <td>2015-05-29</td>\n",
       "      <td>Episode 7: Traveling While Paleo!</td>\n",
       "      <td>[null, paleo]</td>\n",
       "      <td>Itunes Podcast</td>\n",
       "    </tr>\n",
       "    <tr>\n",
       "      <th>7086</th>\n",
       "      <td>Itunes Podcast</td>\n",
       "      <td>http://nomnompaleo.net/2015/05/episode-6-party-on/</td>\n",
       "      <td>Hard</td>\n",
       "      <td>Intermediate</td>\n",
       "      <td>7087</td>\n",
       "      <td>http://nomnompaleo.net/wp-content/uploads/2015/04/NomNomPaleoPodcastiTunesImage1.jpg</td>\n",
       "      <td>2228</td>\n",
       "      <td>audio</td>\n",
       "      <td>Nom Nom Paleo Podcast</td>\n",
       "      <td>2015-05-22</td>\n",
       "      <td>Episode 6: Party On!</td>\n",
       "      <td>[null, paleo]</td>\n",
       "      <td>Itunes Podcast</td>\n",
       "    </tr>\n",
       "    <tr>\n",
       "      <th>7087</th>\n",
       "      <td>Itunes Podcast</td>\n",
       "      <td>http://nomnompaleo.net/2015/05/episode-5-desperation-dinners/</td>\n",
       "      <td>Easy</td>\n",
       "      <td>Intermediate</td>\n",
       "      <td>7088</td>\n",
       "      <td>http://nomnompaleo.net/wp-content/uploads/2015/04/NomNomPaleoPodcastiTunesImage1.jpg</td>\n",
       "      <td>2284</td>\n",
       "      <td>audio</td>\n",
       "      <td>Nom Nom Paleo Podcast</td>\n",
       "      <td>2015-05-15</td>\n",
       "      <td>Episode 5: Desperation Dinners!</td>\n",
       "      <td>[null, paleo, cooking]</td>\n",
       "      <td>Itunes Podcast</td>\n",
       "    </tr>\n",
       "    <tr>\n",
       "      <th>7088</th>\n",
       "      <td>Itunes Podcast</td>\n",
       "      <td>http://nomnompaleo.net/2015/05/episode-4-viva-las-veggies/</td>\n",
       "      <td>Hard</td>\n",
       "      <td>Intermediate</td>\n",
       "      <td>7089</td>\n",
       "      <td>http://nomnompaleo.net/wp-content/uploads/2015/04/NomNomPaleoPodcastiTunesImage1.jpg</td>\n",
       "      <td>2587</td>\n",
       "      <td>audio</td>\n",
       "      <td>Nom Nom Paleo Podcast</td>\n",
       "      <td>2015-05-07</td>\n",
       "      <td>Episode 4: Viva Las Veggies!</td>\n",
       "      <td>[null, paleo, meat]</td>\n",
       "      <td>Itunes Podcast</td>\n",
       "    </tr>\n",
       "    <tr>\n",
       "      <th>7089</th>\n",
       "      <td>Itunes Podcast</td>\n",
       "      <td>http://nomnompaleo.net/2015/04/episode-3-top-chefs-gregory-gourdet/</td>\n",
       "      <td>Medium</td>\n",
       "      <td>Intermediate</td>\n",
       "      <td>7090</td>\n",
       "      <td>http://nomnompaleo.net/wp-content/uploads/2015/04/NomNomPaleoPodcastiTunesImage1.jpg</td>\n",
       "      <td>3365</td>\n",
       "      <td>audio</td>\n",
       "      <td>Nom Nom Paleo Podcast</td>\n",
       "      <td>2015-05-01</td>\n",
       "      <td>Episode 3: Top Chef’s Gregory Gourdet</td>\n",
       "      <td>[null, general_nutrition]</td>\n",
       "      <td>Itunes Podcast</td>\n",
       "    </tr>\n",
       "    <tr>\n",
       "      <th>7090</th>\n",
       "      <td>Itunes Podcast</td>\n",
       "      <td>http://nomnompaleo.net/2015/04/episode-2-oooh-mommy/</td>\n",
       "      <td>Medium</td>\n",
       "      <td>Intermediate</td>\n",
       "      <td>7091</td>\n",
       "      <td>http://nomnompaleo.net/wp-content/uploads/2015/04/NomNomPaleoPodcastiTunesImage1.jpg</td>\n",
       "      <td>1980</td>\n",
       "      <td>audio</td>\n",
       "      <td>Nom Nom Paleo Podcast</td>\n",
       "      <td>2015-04-23</td>\n",
       "      <td>Episode 2: Oooh, Mommy!</td>\n",
       "      <td>[null, paleo]</td>\n",
       "      <td>Itunes Podcast</td>\n",
       "    </tr>\n",
       "    <tr>\n",
       "      <th>7091</th>\n",
       "      <td>Itunes Podcast</td>\n",
       "      <td>http://nomnompaleo.net/2015/04/episode-1-the-saga-begins/</td>\n",
       "      <td>Easy</td>\n",
       "      <td>Intermediate</td>\n",
       "      <td>7092</td>\n",
       "      <td>http://nomnompaleo.net/wp-content/uploads/2015/04/NomNomPaleoPodcastiTunesImage1.jpg</td>\n",
       "      <td>2402</td>\n",
       "      <td>audio</td>\n",
       "      <td>Nom Nom Paleo Podcast</td>\n",
       "      <td>2015-04-17</td>\n",
       "      <td>Episode 1: The Saga Begins</td>\n",
       "      <td>[null, paleo]</td>\n",
       "      <td>Itunes Podcast</td>\n",
       "    </tr>\n",
       "    <tr>\n",
       "      <th>7092</th>\n",
       "      <td>Itunes Podcast</td>\n",
       "      <td>https://wellnessmama.com/podcast/sunlighten/</td>\n",
       "      <td>Medium</td>\n",
       "      <td>Intermediate</td>\n",
       "      <td>7093</td>\n",
       "      <td>https://wellnessmama.com/wp-content/uploads/wellness-mama-podcast-logo.jpg</td>\n",
       "      <td>60</td>\n",
       "      <td>audio</td>\n",
       "      <td>The Wellness Mama Podcast</td>\n",
       "      <td>2018-12-27</td>\n",
       "      <td>217: Do Saunas Work? Understanding the Benefits With Sunlighten Founder Connie Zack</td>\n",
       "      <td>[null, general_nutrition]</td>\n",
       "      <td>Itunes Podcast</td>\n",
       "    </tr>\n",
       "    <tr>\n",
       "      <th>7093</th>\n",
       "      <td>Itunes Podcast</td>\n",
       "      <td>https://wellnessmama.com/podcast/powerful-lessons/</td>\n",
       "      <td>Easy</td>\n",
       "      <td>Intermediate</td>\n",
       "      <td>7094</td>\n",
       "      <td>https://wellnessmama.com/wp-content/uploads/wellness-mama-podcast-logo.jpg</td>\n",
       "      <td>3</td>\n",
       "      <td>audio</td>\n",
       "      <td>The Wellness Mama Podcast</td>\n",
       "      <td>2018-12-24</td>\n",
       "      <td>216: A Look Back: 9 Powerful Lessons I Learned the Hard Way This Year</td>\n",
       "      <td>[null, general_nutrition]</td>\n",
       "      <td>Itunes Podcast</td>\n",
       "    </tr>\n",
       "    <tr>\n",
       "      <th>7094</th>\n",
       "      <td>Itunes Podcast</td>\n",
       "      <td>https://wellnessmama.com/podcast/krisstina-wise/</td>\n",
       "      <td>Easy</td>\n",
       "      <td>Intermediate</td>\n",
       "      <td>7095</td>\n",
       "      <td>https://wellnessmama.com/wp-content/uploads/wellness-mama-podcast-logo.jpg</td>\n",
       "      <td>63</td>\n",
       "      <td>audio</td>\n",
       "      <td>The Wellness Mama Podcast</td>\n",
       "      <td>2018-12-20</td>\n",
       "      <td>215: Breaking Financial Stress to Create Wealth and Wellth for Life With Krisstina Wise</td>\n",
       "      <td>[null, general_nutrition]</td>\n",
       "      <td>Itunes Podcast</td>\n",
       "    </tr>\n",
       "    <tr>\n",
       "      <th>7095</th>\n",
       "      <td>Itunes Podcast</td>\n",
       "      <td>https://wellnessmama.com/podcast/dane-johnson/</td>\n",
       "      <td>Medium</td>\n",
       "      <td>Intermediate</td>\n",
       "      <td>7096</td>\n",
       "      <td>https://wellnessmama.com/wp-content/uploads/wellness-mama-podcast-logo.jpg</td>\n",
       "      <td>60</td>\n",
       "      <td>audio</td>\n",
       "      <td>The Wellness Mama Podcast</td>\n",
       "      <td>2018-12-17</td>\n",
       "      <td>214: Using Mindset and Personalization to Make Lifelong Health Changes With Dane Johnson</td>\n",
       "      <td>[null, general_nutrition]</td>\n",
       "      <td>Itunes Podcast</td>\n",
       "    </tr>\n",
       "    <tr>\n",
       "      <th>7096</th>\n",
       "      <td>Itunes Podcast</td>\n",
       "      <td>https://wellnessmama.com/podcast/ready-set-food/</td>\n",
       "      <td>Easy</td>\n",
       "      <td>Intermediate</td>\n",
       "      <td>7097</td>\n",
       "      <td>https://wellnessmama.com/wp-content/uploads/wellness-mama-podcast-logo.jpg</td>\n",
       "      <td>61</td>\n",
       "      <td>audio</td>\n",
       "      <td>The Wellness Mama Podcast</td>\n",
       "      <td>2018-12-13</td>\n",
       "      <td>213: Making Food Allergy Prevention Easier With Ready, Set, Food!</td>\n",
       "      <td>[null, general_nutrition]</td>\n",
       "      <td>Itunes Podcast</td>\n",
       "    </tr>\n",
       "    <tr>\n",
       "      <th>7097</th>\n",
       "      <td>Itunes Podcast</td>\n",
       "      <td>https://wellnessmama.com/podcast/emotional-eating/</td>\n",
       "      <td>Hard</td>\n",
       "      <td>Intermediate</td>\n",
       "      <td>7098</td>\n",
       "      <td>https://wellnessmama.com/wp-content/uploads/wellness-mama-podcast-logo.jpg</td>\n",
       "      <td>4</td>\n",
       "      <td>audio</td>\n",
       "      <td>The Wellness Mama Podcast</td>\n",
       "      <td>2018-12-10</td>\n",
       "      <td>212: How to Release Cravings and Emotional Eating With EFT</td>\n",
       "      <td>[null, general_nutrition]</td>\n",
       "      <td>Itunes Podcast</td>\n",
       "    </tr>\n",
       "    <tr>\n",
       "      <th>7098</th>\n",
       "      <td>Itunes Podcast</td>\n",
       "      <td>https://wellnessmama.com/podcast/junger/</td>\n",
       "      <td>Hard</td>\n",
       "      <td>Intermediate</td>\n",
       "      <td>7099</td>\n",
       "      <td>https://wellnessmama.com/wp-content/uploads/wellness-mama-podcast-logo.jpg</td>\n",
       "      <td>1</td>\n",
       "      <td>audio</td>\n",
       "      <td>The Wellness Mama Podcast</td>\n",
       "      <td>2018-12-06</td>\n",
       "      <td>211: How to Boost Your Adrenals and Cleanse Using Food With Dr. Alejandro Junger</td>\n",
       "      <td>[gut, null]</td>\n",
       "      <td>Itunes Podcast</td>\n",
       "    </tr>\n",
       "    <tr>\n",
       "      <th>7099</th>\n",
       "      <td>Itunes Podcast</td>\n",
       "      <td>https://wellnessmama.com/podcast/shayne-morris/</td>\n",
       "      <td>Easy</td>\n",
       "      <td>Intermediate</td>\n",
       "      <td>7100</td>\n",
       "      <td>https://wellnessmama.com/wp-content/uploads/wellness-mama-podcast-logo.jpg</td>\n",
       "      <td>63</td>\n",
       "      <td>audio</td>\n",
       "      <td>The Wellness Mama Podcast</td>\n",
       "      <td>2018-12-03</td>\n",
       "      <td>210: Why Most Detox Methods Are Dangerous &amp; What to Do Instead With Dr. Shayne Morris</td>\n",
       "      <td>[null, general_nutrition]</td>\n",
       "      <td>Itunes Podcast</td>\n",
       "    </tr>\n",
       "    <tr>\n",
       "      <th>7100</th>\n",
       "      <td>Itunes Podcast</td>\n",
       "      <td>https://wellnessmama.com/podcast/polypodium-leucotomos/</td>\n",
       "      <td>Easy</td>\n",
       "      <td>Intermediate</td>\n",
       "      <td>7101</td>\n",
       "      <td>https://wellnessmama.com/wp-content/uploads/wellness-mama-podcast-logo.jpg</td>\n",
       "      <td>6</td>\n",
       "      <td>audio</td>\n",
       "      <td>The Wellness Mama Podcast</td>\n",
       "      <td>2018-11-29</td>\n",
       "      <td>209: Sun Protection and Anti-Aging From the Inside Out With Polypodium Leucotomos</td>\n",
       "      <td>[null, general_nutrition]</td>\n",
       "      <td>Itunes Podcast</td>\n",
       "    </tr>\n",
       "    <tr>\n",
       "      <th>7101</th>\n",
       "      <td>Itunes Podcast</td>\n",
       "      <td>https://wellnessmama.com/podcast/marjory-wildcraft/</td>\n",
       "      <td>Easy</td>\n",
       "      <td>Intermediate</td>\n",
       "      <td>7102</td>\n",
       "      <td>https://wellnessmama.com/wp-content/uploads/wellness-mama-podcast-logo.jpg</td>\n",
       "      <td>65</td>\n",
       "      <td>audio</td>\n",
       "      <td>The Wellness Mama Podcast</td>\n",
       "      <td>2018-11-26</td>\n",
       "      <td>208: Understanding Superbugs &amp; Antibiotic Resistance With Marjory Wildcraft</td>\n",
       "      <td>[null, general_nutrition]</td>\n",
       "      <td>Itunes Podcast</td>\n",
       "    </tr>\n",
       "    <tr>\n",
       "      <th>7102</th>\n",
       "      <td>Itunes Podcast</td>\n",
       "      <td>https://wellnessmama.com/podcast/santa-sold-shrooms/</td>\n",
       "      <td>Medium</td>\n",
       "      <td>Intermediate</td>\n",
       "      <td>7103</td>\n",
       "      <td>https://wellnessmama.com/wp-content/uploads/wellness-mama-podcast-logo.jpg</td>\n",
       "      <td>4</td>\n",
       "      <td>audio</td>\n",
       "      <td>The Wellness Mama Podcast</td>\n",
       "      <td>2018-11-22</td>\n",
       "      <td>207: Santa Sold Shrooms? The Untold Story of St. Nick (&amp; How to Stay Healthy Over the Holidays) With Tero Isokauppila</td>\n",
       "      <td>[null, general_nutrition]</td>\n",
       "      <td>Itunes Podcast</td>\n",
       "    </tr>\n",
       "    <tr>\n",
       "      <th>7103</th>\n",
       "      <td>Itunes Podcast</td>\n",
       "      <td>https://wellnessmama.com/podcast/parenting-mojo/</td>\n",
       "      <td>Hard</td>\n",
       "      <td>Intermediate</td>\n",
       "      <td>7104</td>\n",
       "      <td>https://wellnessmama.com/wp-content/uploads/wellness-mama-podcast-logo.jpg</td>\n",
       "      <td>2</td>\n",
       "      <td>audio</td>\n",
       "      <td>The Wellness Mama Podcast</td>\n",
       "      <td>2018-11-19</td>\n",
       "      <td>206: Your Parenting Mojo on Why We Need to Let Our Kids Take More Risks</td>\n",
       "      <td>[null, general_nutrition]</td>\n",
       "      <td>Itunes Podcast</td>\n",
       "    </tr>\n",
       "    <tr>\n",
       "      <th>7104</th>\n",
       "      <td>Itunes Podcast</td>\n",
       "      <td>https://wellnessmama.com/podcast/zach-bush/</td>\n",
       "      <td>Hard</td>\n",
       "      <td>Intermediate</td>\n",
       "      <td>7105</td>\n",
       "      <td>https://wellnessmama.com/wp-content/uploads/wellness-mama-podcast-logo.jpg</td>\n",
       "      <td>65</td>\n",
       "      <td>audio</td>\n",
       "      <td>The Wellness Mama Podcast</td>\n",
       "      <td>2018-11-15</td>\n",
       "      <td>205: Everything You Need to Know About GMOs, Glyphosate, and Gut Health With Dr. Zach Bush</td>\n",
       "      <td>[null, general_nutrition]</td>\n",
       "      <td>Itunes Podcast</td>\n",
       "    </tr>\n",
       "    <tr>\n",
       "      <th>7105</th>\n",
       "      <td>Itunes Podcast</td>\n",
       "      <td>https://wellnessmama.com/podcast/guillermo-ruiz/</td>\n",
       "      <td>Medium</td>\n",
       "      <td>Intermediate</td>\n",
       "      <td>7106</td>\n",
       "      <td>https://wellnessmama.com/wp-content/uploads/wellness-mama-podcast-logo.jpg</td>\n",
       "      <td>63</td>\n",
       "      <td>audio</td>\n",
       "      <td>The Wellness Mama Podcast</td>\n",
       "      <td>2018-11-12</td>\n",
       "      <td>204: The Rise of Autoimmune Disease (&amp; How to Thrive Even If You Have It) With Dr. Guillermo Ruiz</td>\n",
       "      <td>[null, general_nutrition]</td>\n",
       "      <td>Itunes Podcast</td>\n",
       "    </tr>\n",
       "    <tr>\n",
       "      <th>7106</th>\n",
       "      <td>Itunes Podcast</td>\n",
       "      <td>https://wellnessmama.com/podcast/brian-hoyer/</td>\n",
       "      <td>Easy</td>\n",
       "      <td>Intermediate</td>\n",
       "      <td>7107</td>\n",
       "      <td>https://wellnessmama.com/wp-content/uploads/wellness-mama-podcast-logo.jpg</td>\n",
       "      <td>1</td>\n",
       "      <td>audio</td>\n",
       "      <td>The Wellness Mama Podcast</td>\n",
       "      <td>2018-11-08</td>\n",
       "      <td>203: Hidden EMF Dangers and How to Mitigate Them With Geobiologist Brian Hoyer</td>\n",
       "      <td>[null, general_nutrition]</td>\n",
       "      <td>Itunes Podcast</td>\n",
       "    </tr>\n",
       "    <tr>\n",
       "      <th>7107</th>\n",
       "      <td>Itunes Podcast</td>\n",
       "      <td>https://wellnessmama.com/podcast/aline/</td>\n",
       "      <td>Easy</td>\n",
       "      <td>Intermediate</td>\n",
       "      <td>7108</td>\n",
       "      <td>https://wellnessmama.com/wp-content/uploads/wellness-mama-podcast-logo.jpg</td>\n",
       "      <td>64</td>\n",
       "      <td>audio</td>\n",
       "      <td>The Wellness Mama Podcast</td>\n",
       "      <td>2018-11-05</td>\n",
       "      <td>202: How Footwear Affects Posture, Alignment, &amp; Movement With Gordon Hay From ALINE</td>\n",
       "      <td>[null, general_nutrition]</td>\n",
       "      <td>Itunes Podcast</td>\n",
       "    </tr>\n",
       "    <tr>\n",
       "      <th>7108</th>\n",
       "      <td>Itunes Podcast</td>\n",
       "      <td>https://wellnessmama.com/podcast/instant-pot-tips/</td>\n",
       "      <td>Medium</td>\n",
       "      <td>Intermediate</td>\n",
       "      <td>7109</td>\n",
       "      <td>https://wellnessmama.com/wp-content/uploads/wellness-mama-podcast-logo.jpg</td>\n",
       "      <td>4</td>\n",
       "      <td>audio</td>\n",
       "      <td>The Wellness Mama Podcast</td>\n",
       "      <td>2018-11-01</td>\n",
       "      <td>201: Understanding Fasting &amp; Keto for Women (Even During Pregnancy or Breastfeeding) + Instant Pot Tips</td>\n",
       "      <td>[null, ketogenic, keto]</td>\n",
       "      <td>Itunes Podcast</td>\n",
       "    </tr>\n",
       "    <tr>\n",
       "      <th>7109</th>\n",
       "      <td>Itunes Podcast</td>\n",
       "      <td>https://wellnessmama.com/podcast/200th-episode/</td>\n",
       "      <td>Medium</td>\n",
       "      <td>Intermediate</td>\n",
       "      <td>7110</td>\n",
       "      <td>https://wellnessmama.com/wp-content/uploads/wellness-mama-podcast-logo.jpg</td>\n",
       "      <td>62</td>\n",
       "      <td>audio</td>\n",
       "      <td>The Wellness Mama Podcast</td>\n",
       "      <td>2018-10-29</td>\n",
       "      <td>200th Episode – Most Important Thing for Health</td>\n",
       "      <td>[null, general_nutrition]</td>\n",
       "      <td>Itunes Podcast</td>\n",
       "    </tr>\n",
       "    <tr>\n",
       "      <th>7110</th>\n",
       "      <td>Itunes Podcast</td>\n",
       "      <td>https://wellnessmama.com/podcast/paleovalley/</td>\n",
       "      <td>Easy</td>\n",
       "      <td>Intermediate</td>\n",
       "      <td>7111</td>\n",
       "      <td>https://wellnessmama.com/wp-content/uploads/wellness-mama-podcast-logo.jpg</td>\n",
       "      <td>0</td>\n",
       "      <td>audio</td>\n",
       "      <td>The Wellness Mama Podcast</td>\n",
       "      <td>2018-10-25</td>\n",
       "      <td>199: How Diet Directly Affects Mental Health With Autumn Smith of Paleovalley</td>\n",
       "      <td>[null, general_nutrition]</td>\n",
       "      <td>Itunes Podcast</td>\n",
       "    </tr>\n",
       "    <tr>\n",
       "      <th>7111</th>\n",
       "      <td>Itunes Podcast</td>\n",
       "      <td>https://wellnessmama.com/podcast/green-enough/</td>\n",
       "      <td>Easy</td>\n",
       "      <td>Intermediate</td>\n",
       "      <td>7112</td>\n",
       "      <td>https://wellnessmama.com/wp-content/uploads/wellness-mama-podcast-logo.jpg</td>\n",
       "      <td>8</td>\n",
       "      <td>audio</td>\n",
       "      <td>The Wellness Mama Podcast</td>\n",
       "      <td>2018-10-22</td>\n",
       "      <td>198: How to Be Green Enough &amp; Avoid the Worst Offenders in Your Home With Leah Segedie</td>\n",
       "      <td>[null, general_nutrition]</td>\n",
       "      <td>Itunes Podcast</td>\n",
       "    </tr>\n",
       "  </tbody>\n",
       "</table>\n",
       "<p>7112 rows × 13 columns</p>\n",
       "</div>"
      ],
      "text/plain": [
       "              api_id  \\\n",
       "0     Itunes Podcast   \n",
       "1     Itunes Podcast   \n",
       "2     Itunes Podcast   \n",
       "3     Itunes Podcast   \n",
       "4     Itunes Podcast   \n",
       "5     Itunes Podcast   \n",
       "6     Itunes Podcast   \n",
       "7     Itunes Podcast   \n",
       "8     Itunes Podcast   \n",
       "9     Itunes Podcast   \n",
       "10    Itunes Podcast   \n",
       "11    Itunes Podcast   \n",
       "12    Itunes Podcast   \n",
       "13    Itunes Podcast   \n",
       "14    Itunes Podcast   \n",
       "15    Itunes Podcast   \n",
       "16    Itunes Podcast   \n",
       "17    Itunes Podcast   \n",
       "18    Itunes Podcast   \n",
       "19    Itunes Podcast   \n",
       "20    Itunes Podcast   \n",
       "21    Itunes Podcast   \n",
       "22    Itunes Podcast   \n",
       "23    Itunes Podcast   \n",
       "24    Itunes Podcast   \n",
       "25    Itunes Podcast   \n",
       "26    Itunes Podcast   \n",
       "27    Itunes Podcast   \n",
       "28    Itunes Podcast   \n",
       "29    Itunes Podcast   \n",
       "...              ...   \n",
       "7082  Itunes Podcast   \n",
       "7083  Itunes Podcast   \n",
       "7084  Itunes Podcast   \n",
       "7085  Itunes Podcast   \n",
       "7086  Itunes Podcast   \n",
       "7087  Itunes Podcast   \n",
       "7088  Itunes Podcast   \n",
       "7089  Itunes Podcast   \n",
       "7090  Itunes Podcast   \n",
       "7091  Itunes Podcast   \n",
       "7092  Itunes Podcast   \n",
       "7093  Itunes Podcast   \n",
       "7094  Itunes Podcast   \n",
       "7095  Itunes Podcast   \n",
       "7096  Itunes Podcast   \n",
       "7097  Itunes Podcast   \n",
       "7098  Itunes Podcast   \n",
       "7099  Itunes Podcast   \n",
       "7100  Itunes Podcast   \n",
       "7101  Itunes Podcast   \n",
       "7102  Itunes Podcast   \n",
       "7103  Itunes Podcast   \n",
       "7104  Itunes Podcast   \n",
       "7105  Itunes Podcast   \n",
       "7106  Itunes Podcast   \n",
       "7107  Itunes Podcast   \n",
       "7108  Itunes Podcast   \n",
       "7109  Itunes Podcast   \n",
       "7110  Itunes Podcast   \n",
       "7111  Itunes Podcast   \n",
       "\n",
       "                                                                                                                                 content_url  \\\n",
       "0     http://traffic.libsyn.com/microbiome/TMP010.mp3                                                                                          \n",
       "1     http://traffic.libsyn.com/microbiome/TMP009.mp3                                                                                          \n",
       "2     http://traffic.libsyn.com/microbiome/TMP008.mp3                                                                                          \n",
       "3     http://traffic.libsyn.com/microbiome/TMP007.mp3                                                                                          \n",
       "4     http://traffic.libsyn.com/microbiome/TMP006.mp3                                                                                          \n",
       "5     http://traffic.libsyn.com/microbiome/TMP005.mp3                                                                                          \n",
       "6     http://traffic.libsyn.com/microbiome/TMP004.mp3                                                                                          \n",
       "7     http://traffic.libsyn.com/microbiome/TMP003.mp3                                                                                          \n",
       "8     http://traffic.libsyn.com/microbiome/TMP002.mp3                                                                                          \n",
       "9     http://traffic.libsyn.com/microbiome/TMP001S.mp3                                                                                         \n",
       "10    http://traffic.libsyn.com/microbiome/TMP001.mp3                                                                                          \n",
       "11    http://paleomagazine.libsyn.com/pmr-245-sleep-drugs-and-a-new-way-to-track-your-health-with-humanos-founder-dan-pardi                    \n",
       "12    http://paleomagazine.libsyn.com/pmr-244-transitioning-dietary-choices-with-marni-wasserman                                               \n",
       "13    http://paleomagazine.libsyn.com/pmr-243-theres-more-to-fitness-than-exercise-with-dr-mike-t-nelson                                       \n",
       "14    http://paleomagazine.libsyn.com/pmr-242-how-to-stay-healthy-this-winter-with-bone-broth                                                  \n",
       "15    http://paleomagazine.libsyn.com/pmr-241-living-an-optimal-life-and-changing-your-brainwith-ben-pakulski                                  \n",
       "16    http://paleomagazine.libsyn.com/pmr-240-learning-about-metabolic-health-and-nutritional-cancer-therapy-with-victoria-field               \n",
       "17    http://paleomagazine.libsyn.com/pmr-239-the-importance-of-sleep-for-health-and-success-with-dr-rebecca-robbins                           \n",
       "18    http://paleomagazine.libsyn.com/pmr-238-are-health-podcasts-actually-making-us-healthier-a-discussion-with-mind-pumps-sal-di-stefano     \n",
       "19    http://paleomagazine.libsyn.com/pmr-237-aroused-the-history-of-hormoneswith-dr-randi-epstein                                             \n",
       "20    http://paleomagazine.libsyn.com/pmr-236-best-of-paleo-magazine-radiogut-health-edition                                                   \n",
       "21    http://paleomagazine.libsyn.com/pmr-235-the-latest-research-on-nutrition-and-alzheimers-disease-prevention-with-professor-rona-mulcahy   \n",
       "22    http://paleomagazine.libsyn.com/pmr-234-dont-worry-wine-is-paleo-making-better-healthier-wine-with-fitvine                               \n",
       "23    http://paleomagazine.libsyn.com/pmr-233                                                                                                  \n",
       "24    http://paleomagazine.libsyn.com/pmr-232-how-aggressively-organic-is-changing-the-way-we-grow-and-eat-vegetables-with-jonathanpartlow     \n",
       "25    http://paleomagazine.libsyn.com/pmr-231-the-art-of-breath-with-rob-wilson                                                                \n",
       "26    http://paleomagazine.libsyn.com/pmr-230-the-best-of-paleo-magazine-radioathlete-edition                                                  \n",
       "27    http://paleomagazine.libsyn.com/always-starting-with-the-thyroid-with-elle-russ                                                          \n",
       "28    http://paleomagazine.libsyn.com/pmr-228-dietary-minerals-101-what-you-need-to-know-with-joy-stephenson-laws                              \n",
       "29    http://paleomagazine.libsyn.com/pmr-227-what-does-a-paleo-vacation-look-like-talking-with-the-founder-of-prime-retreats-ryan-carroll     \n",
       "...                                                                                                                                    ...     \n",
       "7082  http://nomnompaleo.net/2015/06/episode-10-essential-cooking-tools/                                                                       \n",
       "7083  http://nomnompaleo.net/2015/06/episode-9-the-perfect-steak/                                                                              \n",
       "7084  http://nomnompaleo.net/2015/06/episode-8-a-day-in-the-life/                                                                              \n",
       "7085  http://nomnompaleo.net/2015/05/episode-7-traveling-while-paleo/                                                                          \n",
       "7086  http://nomnompaleo.net/2015/05/episode-6-party-on/                                                                                       \n",
       "7087  http://nomnompaleo.net/2015/05/episode-5-desperation-dinners/                                                                            \n",
       "7088  http://nomnompaleo.net/2015/05/episode-4-viva-las-veggies/                                                                               \n",
       "7089  http://nomnompaleo.net/2015/04/episode-3-top-chefs-gregory-gourdet/                                                                      \n",
       "7090  http://nomnompaleo.net/2015/04/episode-2-oooh-mommy/                                                                                     \n",
       "7091  http://nomnompaleo.net/2015/04/episode-1-the-saga-begins/                                                                                \n",
       "7092  https://wellnessmama.com/podcast/sunlighten/                                                                                             \n",
       "7093  https://wellnessmama.com/podcast/powerful-lessons/                                                                                       \n",
       "7094  https://wellnessmama.com/podcast/krisstina-wise/                                                                                         \n",
       "7095  https://wellnessmama.com/podcast/dane-johnson/                                                                                           \n",
       "7096  https://wellnessmama.com/podcast/ready-set-food/                                                                                         \n",
       "7097  https://wellnessmama.com/podcast/emotional-eating/                                                                                       \n",
       "7098  https://wellnessmama.com/podcast/junger/                                                                                                 \n",
       "7099  https://wellnessmama.com/podcast/shayne-morris/                                                                                          \n",
       "7100  https://wellnessmama.com/podcast/polypodium-leucotomos/                                                                                  \n",
       "7101  https://wellnessmama.com/podcast/marjory-wildcraft/                                                                                      \n",
       "7102  https://wellnessmama.com/podcast/santa-sold-shrooms/                                                                                     \n",
       "7103  https://wellnessmama.com/podcast/parenting-mojo/                                                                                         \n",
       "7104  https://wellnessmama.com/podcast/zach-bush/                                                                                              \n",
       "7105  https://wellnessmama.com/podcast/guillermo-ruiz/                                                                                         \n",
       "7106  https://wellnessmama.com/podcast/brian-hoyer/                                                                                            \n",
       "7107  https://wellnessmama.com/podcast/aline/                                                                                                  \n",
       "7108  https://wellnessmama.com/podcast/instant-pot-tips/                                                                                       \n",
       "7109  https://wellnessmama.com/podcast/200th-episode/                                                                                          \n",
       "7110  https://wellnessmama.com/podcast/paleovalley/                                                                                            \n",
       "7111  https://wellnessmama.com/podcast/green-enough/                                                                                           \n",
       "\n",
       "     difficulty     formality    id  \\\n",
       "0     Hard       Intermediate  1      \n",
       "1     Hard       Intermediate  2      \n",
       "2     Medium     Intermediate  3      \n",
       "3     Medium     Intermediate  4      \n",
       "4     Hard       Intermediate  5      \n",
       "5     Easy       Intermediate  6      \n",
       "6     Easy       Intermediate  7      \n",
       "7     Medium     Intermediate  8      \n",
       "8     Easy       Intermediate  9      \n",
       "9     Easy       Intermediate  10     \n",
       "10    Medium     Intermediate  11     \n",
       "11    Hard       Intermediate  12     \n",
       "12    Easy       Intermediate  13     \n",
       "13    Hard       Intermediate  14     \n",
       "14    Easy       Intermediate  15     \n",
       "15    Medium     Intermediate  16     \n",
       "16    Easy       Intermediate  17     \n",
       "17    Hard       Intermediate  18     \n",
       "18    Easy       Intermediate  19     \n",
       "19    Easy       Intermediate  20     \n",
       "20    Medium     Intermediate  21     \n",
       "21    Easy       Intermediate  22     \n",
       "22    Medium     Intermediate  23     \n",
       "23    Medium     Intermediate  24     \n",
       "24    Hard       Intermediate  25     \n",
       "25    Easy       Intermediate  26     \n",
       "26    Hard       Intermediate  27     \n",
       "27    Easy       Intermediate  28     \n",
       "28    Medium     Intermediate  29     \n",
       "29    Hard       Intermediate  30     \n",
       "...    ...                ...  ..     \n",
       "7082  Easy       Intermediate  7083   \n",
       "7083  Medium     Intermediate  7084   \n",
       "7084  Hard       Intermediate  7085   \n",
       "7085  Hard       Intermediate  7086   \n",
       "7086  Hard       Intermediate  7087   \n",
       "7087  Easy       Intermediate  7088   \n",
       "7088  Hard       Intermediate  7089   \n",
       "7089  Medium     Intermediate  7090   \n",
       "7090  Medium     Intermediate  7091   \n",
       "7091  Easy       Intermediate  7092   \n",
       "7092  Medium     Intermediate  7093   \n",
       "7093  Easy       Intermediate  7094   \n",
       "7094  Easy       Intermediate  7095   \n",
       "7095  Medium     Intermediate  7096   \n",
       "7096  Easy       Intermediate  7097   \n",
       "7097  Hard       Intermediate  7098   \n",
       "7098  Hard       Intermediate  7099   \n",
       "7099  Easy       Intermediate  7100   \n",
       "7100  Easy       Intermediate  7101   \n",
       "7101  Easy       Intermediate  7102   \n",
       "7102  Medium     Intermediate  7103   \n",
       "7103  Hard       Intermediate  7104   \n",
       "7104  Hard       Intermediate  7105   \n",
       "7105  Medium     Intermediate  7106   \n",
       "7106  Easy       Intermediate  7107   \n",
       "7107  Easy       Intermediate  7108   \n",
       "7108  Medium     Intermediate  7109   \n",
       "7109  Medium     Intermediate  7110   \n",
       "7110  Easy       Intermediate  7111   \n",
       "7111  Easy       Intermediate  7112   \n",
       "\n",
       "                                                                                            image_url  \\\n",
       "0     http://static.libsyn.com/p/assets/8/0/d/a/80da08206f966c8f/1400x1400-ami-microbiome-podcast.png   \n",
       "1     http://static.libsyn.com/p/assets/8/0/d/a/80da08206f966c8f/1400x1400-ami-microbiome-podcast.png   \n",
       "2     http://static.libsyn.com/p/assets/8/0/d/a/80da08206f966c8f/1400x1400-ami-microbiome-podcast.png   \n",
       "3     http://static.libsyn.com/p/assets/8/0/d/a/80da08206f966c8f/1400x1400-ami-microbiome-podcast.png   \n",
       "4     http://static.libsyn.com/p/assets/8/0/d/a/80da08206f966c8f/1400x1400-ami-microbiome-podcast.png   \n",
       "5     http://static.libsyn.com/p/assets/8/0/d/a/80da08206f966c8f/1400x1400-ami-microbiome-podcast.png   \n",
       "6     http://static.libsyn.com/p/assets/8/0/d/a/80da08206f966c8f/1400x1400-ami-microbiome-podcast.png   \n",
       "7     http://static.libsyn.com/p/assets/8/0/d/a/80da08206f966c8f/1400x1400-ami-microbiome-podcast.png   \n",
       "8     http://static.libsyn.com/p/assets/8/0/d/a/80da08206f966c8f/1400x1400-ami-microbiome-podcast.png   \n",
       "9     http://static.libsyn.com/p/assets/8/0/d/a/80da08206f966c8f/1400x1400-ami-microbiome-podcast.png   \n",
       "10    http://static.libsyn.com/p/assets/8/0/d/a/80da08206f966c8f/1400x1400-ami-microbiome-podcast.png   \n",
       "11    http://static.libsyn.com/p/assets/c/1/0/8/c1088a7d62cc9e29/PMR_logo_2048x2048.jpg                 \n",
       "12    http://static.libsyn.com/p/assets/c/1/0/8/c1088a7d62cc9e29/PMR_logo_2048x2048.jpg                 \n",
       "13    http://static.libsyn.com/p/assets/c/1/0/8/c1088a7d62cc9e29/PMR_logo_2048x2048.jpg                 \n",
       "14    http://static.libsyn.com/p/assets/c/1/0/8/c1088a7d62cc9e29/PMR_logo_2048x2048.jpg                 \n",
       "15    http://static.libsyn.com/p/assets/c/1/0/8/c1088a7d62cc9e29/PMR_logo_2048x2048.jpg                 \n",
       "16    http://static.libsyn.com/p/assets/c/1/0/8/c1088a7d62cc9e29/PMR_logo_2048x2048.jpg                 \n",
       "17    http://static.libsyn.com/p/assets/c/1/0/8/c1088a7d62cc9e29/PMR_logo_2048x2048.jpg                 \n",
       "18    http://static.libsyn.com/p/assets/c/1/0/8/c1088a7d62cc9e29/PMR_logo_2048x2048.jpg                 \n",
       "19    http://static.libsyn.com/p/assets/c/1/0/8/c1088a7d62cc9e29/PMR_logo_2048x2048.jpg                 \n",
       "20    http://static.libsyn.com/p/assets/c/1/0/8/c1088a7d62cc9e29/PMR_logo_2048x2048.jpg                 \n",
       "21    http://static.libsyn.com/p/assets/c/1/0/8/c1088a7d62cc9e29/PMR_logo_2048x2048.jpg                 \n",
       "22    http://static.libsyn.com/p/assets/c/1/0/8/c1088a7d62cc9e29/PMR_logo_2048x2048.jpg                 \n",
       "23    http://static.libsyn.com/p/assets/c/1/0/8/c1088a7d62cc9e29/PMR_logo_2048x2048.jpg                 \n",
       "24    http://static.libsyn.com/p/assets/c/1/0/8/c1088a7d62cc9e29/PMR_logo_2048x2048.jpg                 \n",
       "25    http://static.libsyn.com/p/assets/c/1/0/8/c1088a7d62cc9e29/PMR_logo_2048x2048.jpg                 \n",
       "26    http://static.libsyn.com/p/assets/c/1/0/8/c1088a7d62cc9e29/PMR_logo_2048x2048.jpg                 \n",
       "27    http://static.libsyn.com/p/assets/c/1/0/8/c1088a7d62cc9e29/PMR_logo_2048x2048.jpg                 \n",
       "28    http://static.libsyn.com/p/assets/c/1/0/8/c1088a7d62cc9e29/PMR_logo_2048x2048.jpg                 \n",
       "29    http://static.libsyn.com/p/assets/c/1/0/8/c1088a7d62cc9e29/PMR_logo_2048x2048.jpg                 \n",
       "...                                                                                 ...                 \n",
       "7082  http://nomnompaleo.net/wp-content/uploads/2015/04/NomNomPaleoPodcastiTunesImage1.jpg              \n",
       "7083  http://nomnompaleo.net/wp-content/uploads/2015/04/NomNomPaleoPodcastiTunesImage1.jpg              \n",
       "7084  http://nomnompaleo.net/wp-content/uploads/2015/04/NomNomPaleoPodcastiTunesImage1.jpg              \n",
       "7085  http://nomnompaleo.net/wp-content/uploads/2015/04/NomNomPaleoPodcastiTunesImage1.jpg              \n",
       "7086  http://nomnompaleo.net/wp-content/uploads/2015/04/NomNomPaleoPodcastiTunesImage1.jpg              \n",
       "7087  http://nomnompaleo.net/wp-content/uploads/2015/04/NomNomPaleoPodcastiTunesImage1.jpg              \n",
       "7088  http://nomnompaleo.net/wp-content/uploads/2015/04/NomNomPaleoPodcastiTunesImage1.jpg              \n",
       "7089  http://nomnompaleo.net/wp-content/uploads/2015/04/NomNomPaleoPodcastiTunesImage1.jpg              \n",
       "7090  http://nomnompaleo.net/wp-content/uploads/2015/04/NomNomPaleoPodcastiTunesImage1.jpg              \n",
       "7091  http://nomnompaleo.net/wp-content/uploads/2015/04/NomNomPaleoPodcastiTunesImage1.jpg              \n",
       "7092  https://wellnessmama.com/wp-content/uploads/wellness-mama-podcast-logo.jpg                        \n",
       "7093  https://wellnessmama.com/wp-content/uploads/wellness-mama-podcast-logo.jpg                        \n",
       "7094  https://wellnessmama.com/wp-content/uploads/wellness-mama-podcast-logo.jpg                        \n",
       "7095  https://wellnessmama.com/wp-content/uploads/wellness-mama-podcast-logo.jpg                        \n",
       "7096  https://wellnessmama.com/wp-content/uploads/wellness-mama-podcast-logo.jpg                        \n",
       "7097  https://wellnessmama.com/wp-content/uploads/wellness-mama-podcast-logo.jpg                        \n",
       "7098  https://wellnessmama.com/wp-content/uploads/wellness-mama-podcast-logo.jpg                        \n",
       "7099  https://wellnessmama.com/wp-content/uploads/wellness-mama-podcast-logo.jpg                        \n",
       "7100  https://wellnessmama.com/wp-content/uploads/wellness-mama-podcast-logo.jpg                        \n",
       "7101  https://wellnessmama.com/wp-content/uploads/wellness-mama-podcast-logo.jpg                        \n",
       "7102  https://wellnessmama.com/wp-content/uploads/wellness-mama-podcast-logo.jpg                        \n",
       "7103  https://wellnessmama.com/wp-content/uploads/wellness-mama-podcast-logo.jpg                        \n",
       "7104  https://wellnessmama.com/wp-content/uploads/wellness-mama-podcast-logo.jpg                        \n",
       "7105  https://wellnessmama.com/wp-content/uploads/wellness-mama-podcast-logo.jpg                        \n",
       "7106  https://wellnessmama.com/wp-content/uploads/wellness-mama-podcast-logo.jpg                        \n",
       "7107  https://wellnessmama.com/wp-content/uploads/wellness-mama-podcast-logo.jpg                        \n",
       "7108  https://wellnessmama.com/wp-content/uploads/wellness-mama-podcast-logo.jpg                        \n",
       "7109  https://wellnessmama.com/wp-content/uploads/wellness-mama-podcast-logo.jpg                        \n",
       "7110  https://wellnessmama.com/wp-content/uploads/wellness-mama-podcast-logo.jpg                        \n",
       "7111  https://wellnessmama.com/wp-content/uploads/wellness-mama-podcast-logo.jpg                        \n",
       "\n",
       "      length medium                   provider   published  \\\n",
       "0     2705    audio  The Microbiome Podcast     2015-10-19   \n",
       "1     3307    audio  The Microbiome Podcast     2015-06-15   \n",
       "2     2828    audio  The Microbiome Podcast     2015-06-01   \n",
       "3     2522    audio  The Microbiome Podcast     2015-05-18   \n",
       "4     3180    audio  The Microbiome Podcast     2015-05-04   \n",
       "5     3123    audio  The Microbiome Podcast     2015-04-21   \n",
       "6     2764    audio  The Microbiome Podcast     2015-04-06   \n",
       "7     3007    audio  The Microbiome Podcast     2015-03-23   \n",
       "8     2649    audio  The Microbiome Podcast     2015-03-08   \n",
       "9     786     audio  The Microbiome Podcast     2015-02-23   \n",
       "10    2465    audio  The Microbiome Podcast     2015-02-23   \n",
       "11    61      audio  Paleo Magazine Radio       2018-12-18   \n",
       "12    3244    audio  Paleo Magazine Radio       2018-12-14   \n",
       "13    61      audio  Paleo Magazine Radio       2018-12-04   \n",
       "14    2829    audio  Paleo Magazine Radio       2018-11-27   \n",
       "15    65      audio  Paleo Magazine Radio       2018-11-20   \n",
       "16    2882    audio  Paleo Magazine Radio       2018-11-13   \n",
       "17    2226    audio  Paleo Magazine Radio       2018-11-06   \n",
       "18    64      audio  Paleo Magazine Radio       2018-10-30   \n",
       "19    64      audio  Paleo Magazine Radio       2018-10-23   \n",
       "20    3543    audio  Paleo Magazine Radio       2018-10-16   \n",
       "21    1864    audio  Paleo Magazine Radio       2018-10-09   \n",
       "22    2644    audio  Paleo Magazine Radio       2018-10-02   \n",
       "23    3547    audio  Paleo Magazine Radio       2018-09-25   \n",
       "24    3002    audio  Paleo Magazine Radio       2018-09-18   \n",
       "25    65      audio  Paleo Magazine Radio       2018-09-11   \n",
       "26    3303    audio  Paleo Magazine Radio       2018-09-04   \n",
       "27    65      audio  Paleo Magazine Radio       2018-08-28   \n",
       "28    2945    audio  Paleo Magazine Radio       2018-08-21   \n",
       "29    2284    audio  Paleo Magazine Radio       2018-08-14   \n",
       "...    ...      ...                   ...              ...   \n",
       "7082  2700    audio  Nom Nom Paleo Podcast      2015-06-28   \n",
       "7083  2160    audio  Nom Nom Paleo Podcast      2015-06-16   \n",
       "7084  2945    audio  Nom Nom Paleo Podcast      2015-06-06   \n",
       "7085  2346    audio  Nom Nom Paleo Podcast      2015-05-29   \n",
       "7086  2228    audio  Nom Nom Paleo Podcast      2015-05-22   \n",
       "7087  2284    audio  Nom Nom Paleo Podcast      2015-05-15   \n",
       "7088  2587    audio  Nom Nom Paleo Podcast      2015-05-07   \n",
       "7089  3365    audio  Nom Nom Paleo Podcast      2015-05-01   \n",
       "7090  1980    audio  Nom Nom Paleo Podcast      2015-04-23   \n",
       "7091  2402    audio  Nom Nom Paleo Podcast      2015-04-17   \n",
       "7092  60      audio  The Wellness Mama Podcast  2018-12-27   \n",
       "7093  3       audio  The Wellness Mama Podcast  2018-12-24   \n",
       "7094  63      audio  The Wellness Mama Podcast  2018-12-20   \n",
       "7095  60      audio  The Wellness Mama Podcast  2018-12-17   \n",
       "7096  61      audio  The Wellness Mama Podcast  2018-12-13   \n",
       "7097  4       audio  The Wellness Mama Podcast  2018-12-10   \n",
       "7098  1       audio  The Wellness Mama Podcast  2018-12-06   \n",
       "7099  63      audio  The Wellness Mama Podcast  2018-12-03   \n",
       "7100  6       audio  The Wellness Mama Podcast  2018-11-29   \n",
       "7101  65      audio  The Wellness Mama Podcast  2018-11-26   \n",
       "7102  4       audio  The Wellness Mama Podcast  2018-11-22   \n",
       "7103  2       audio  The Wellness Mama Podcast  2018-11-19   \n",
       "7104  65      audio  The Wellness Mama Podcast  2018-11-15   \n",
       "7105  63      audio  The Wellness Mama Podcast  2018-11-12   \n",
       "7106  1       audio  The Wellness Mama Podcast  2018-11-08   \n",
       "7107  64      audio  The Wellness Mama Podcast  2018-11-05   \n",
       "7108  4       audio  The Wellness Mama Podcast  2018-11-01   \n",
       "7109  62      audio  The Wellness Mama Podcast  2018-10-29   \n",
       "7110  0       audio  The Wellness Mama Podcast  2018-10-25   \n",
       "7111  8       audio  The Wellness Mama Podcast  2018-10-22   \n",
       "\n",
       "                                                                                                                      title  \\\n",
       "0     Episode 10: The microbiome and gut-brain communications with Dr. John Cryan                                             \n",
       "1     Episode 9: The skin microbiome and AOBiome with Dr. Larry Weiss                                                         \n",
       "2     Episode 8: The vaginal microbiome with Dr. Jacques Ravel                                                                \n",
       "3     Episode 7: Gut bacteria and circadian clocks with Drs. Eugene Chang and Vanessa Leone                                   \n",
       "4     Episode 6: The Microbiome, autism, and serotonin production with Dr. Elaine Hsiao                                       \n",
       "5     Episode 5: Diet and its impact on our microbiota and health with Drs. Erica and Justin Sonnenburg                       \n",
       "6     Episode 4: What's hot in the microbiome field with Kristina Campbell                                                    \n",
       "7     Episode 3: Emulsifiers in our food with Dr. Andrew Gewirtz                                                              \n",
       "8     Episode 2: All things microbiome with Dr. Jonathan Eisen                                                                \n",
       "9     Episode 1 Supplement: Microbiome of our transit systems with Dr. Chris Mason                                            \n",
       "10    Episode 1: Microbiome of our transit systems with Dr. Chris Mason                                                       \n",
       "11    PMR #245: Sleep, Drugs, and a New Way to Track Your Health — with humanOS Founder Dan Pardi                             \n",
       "12    PMR #244: Transitioning Dietary Choices — with Marni Wasserman                                                          \n",
       "13    PMR #243: There's More to Fitness Than Exercise — with Dr. Mike T. Nelson                                               \n",
       "14    PMR #242: How to Stay Healthy This Winter with Bone Broth                                                               \n",
       "15    PMR #241: Living an Optimal Life and Changing Your Brain—with Ben Pakulski                                              \n",
       "16    PMR #240: Learning About Metabolic Health and Nutritional Cancer Therapy with Victoria Field                            \n",
       "17    PMR #239: The Importance of Sleep for Health and Success, with Dr. Rebecca Robbins                                      \n",
       "18    PMR #238: Are Health Podcasts Actually Making Us Healthier? A Discussion with Mind Pump's Sal Di Stefano                \n",
       "19    PMR #237: Aroused: The History of Hormones—with Dr. Randi Epstein                                                       \n",
       "20    PMR #236: Best of Paleo Magazine Radio—Gut Health Edition                                                               \n",
       "21    PMR #235: The Latest Research on Nutrition and Alzheimer's Disease Prevention with Professor Ríona Mulcahy              \n",
       "22    PMR #234: Don't Worry, Wine Is Paleo! Making Better, Healthier Wine with FitVine                                        \n",
       "23    PMR #233: Perfect Keto's Anthony Gustin Explains How to Be Your Own N=1 Experiment                                      \n",
       "24    PMR #232: How Aggressively Organic Is Changing the Way We Grow and Eat Vegetables, with Jonathan Partlow                \n",
       "25    PMR #231: The Art of Breath, with Rob Wilson                                                                            \n",
       "26    PMR #230: The Best of Paleo Magazine Radio—Athlete Edition!                                                             \n",
       "27    PMR #229: Always Start with the Thyroid, with Elle Russ                                                                 \n",
       "28    PMR #228: Dietary Minerals 101: What You Need to Know with Joy Stephenson-Laws                                          \n",
       "29    PMR #227: What Does a Paleo Vacation Look Like? Talking With the Founder of Prime Retreats, Ryan Carroll                \n",
       "...                                                                                                        ...                \n",
       "7082  Episode 10: Essential Cooking Tools                                                                                     \n",
       "7083  Episode 9: The Perfect Steak                                                                                            \n",
       "7084  Episode 8: A Day In The Life                                                                                            \n",
       "7085  Episode 7: Traveling While Paleo!                                                                                       \n",
       "7086  Episode 6: Party On!                                                                                                    \n",
       "7087  Episode 5: Desperation Dinners!                                                                                         \n",
       "7088  Episode 4: Viva Las Veggies!                                                                                            \n",
       "7089  Episode 3: Top Chef’s Gregory Gourdet                                                                                   \n",
       "7090  Episode 2: Oooh, Mommy!                                                                                                 \n",
       "7091  Episode 1: The Saga Begins                                                                                              \n",
       "7092  217: Do Saunas Work? Understanding the Benefits With Sunlighten Founder Connie Zack                                     \n",
       "7093  216: A Look Back: 9 Powerful Lessons I Learned the Hard Way This Year                                                   \n",
       "7094  215: Breaking Financial Stress to Create Wealth and Wellth for Life With Krisstina Wise                                 \n",
       "7095  214: Using Mindset and Personalization to Make Lifelong Health Changes With Dane Johnson                                \n",
       "7096  213: Making Food Allergy Prevention Easier With Ready, Set, Food!                                                       \n",
       "7097  212: How to Release Cravings and Emotional Eating With EFT                                                              \n",
       "7098  211: How to Boost Your Adrenals and Cleanse Using Food With Dr. Alejandro Junger                                        \n",
       "7099  210: Why Most Detox Methods Are Dangerous & What to Do Instead With Dr. Shayne Morris                                   \n",
       "7100  209: Sun Protection and Anti-Aging From the Inside Out With Polypodium Leucotomos                                       \n",
       "7101  208: Understanding Superbugs & Antibiotic Resistance With Marjory Wildcraft                                             \n",
       "7102  207: Santa Sold Shrooms? The Untold Story of St. Nick (& How to Stay Healthy Over the Holidays) With Tero Isokauppila   \n",
       "7103  206: Your Parenting Mojo on Why We Need to Let Our Kids Take More Risks                                                 \n",
       "7104  205: Everything You Need to Know About GMOs, Glyphosate, and Gut Health With Dr. Zach Bush                              \n",
       "7105  204: The Rise of Autoimmune Disease (& How to Thrive Even If You Have It) With Dr. Guillermo Ruiz                       \n",
       "7106  203: Hidden EMF Dangers and How to Mitigate Them With Geobiologist Brian Hoyer                                          \n",
       "7107  202: How Footwear Affects Posture, Alignment, & Movement With Gordon Hay From ALINE                                     \n",
       "7108  201: Understanding Fasting & Keto for Women (Even During Pregnancy or Breastfeeding) + Instant Pot Tips                 \n",
       "7109  200th Episode – Most Important Thing for Health                                                                         \n",
       "7110  199: How Diet Directly Affects Mental Health With Autumn Smith of Paleovalley                                           \n",
       "7111  198: How to Be Green Enough & Avoid the Worst Offenders in Your Home With Leah Segedie                                  \n",
       "\n",
       "                                                 categories    scraped_from  \n",
       "0     [gut, microbiome, null]                                Itunes Podcast  \n",
       "1     [microbiome, null]                                     Itunes Podcast  \n",
       "2     [microbiome, null]                                     Itunes Podcast  \n",
       "3     [gut, microbiome, null]                                Itunes Podcast  \n",
       "4     [gut, microbiome, null]                                Itunes Podcast  \n",
       "5     [gut, microbiome, null, fiber, mood]                   Itunes Podcast  \n",
       "6     [gut, microbiome, null]                                Itunes Podcast  \n",
       "7     [microbiome, null]                                     Itunes Podcast  \n",
       "8     [microbiome, null]                                     Itunes Podcast  \n",
       "9     [microbiome, null]                                     Itunes Podcast  \n",
       "10    [microbiome, null]                                     Itunes Podcast  \n",
       "11    [null, paleo]                                          Itunes Podcast  \n",
       "12    [paleo, cooking, simple, vegetarian diet, vegetarian]  Itunes Podcast  \n",
       "13    [null, paleo, ketogenic diet, ketogenic, carbs]        Itunes Podcast  \n",
       "14    [gut, paleo, cooking, keto, amino]                     Itunes Podcast  \n",
       "15    [null, paleo, keto]                                    Itunes Podcast  \n",
       "16    [paleo, ketogenic diet, ketogenic, keto, farm]         Itunes Podcast  \n",
       "17    [null, mood, paleo]                                    Itunes Podcast  \n",
       "18    [null, paleo, paleo diet]                              Itunes Podcast  \n",
       "19    [null, paleo, hormone]                                 Itunes Podcast  \n",
       "20    [gut, paleo, paleo diet, inflammation, gut health]     Itunes Podcast  \n",
       "21    [null, paleo, supplements]                             Itunes Podcast  \n",
       "22    [null, paleo, sugar]                                   Itunes Podcast  \n",
       "23    [null, paleo, ketogenic diet, ketogenic, keto]         Itunes Podcast  \n",
       "24    [paleo, keto, vegetable, factory farming, organic]     Itunes Podcast  \n",
       "25    [null, paleo]                                          Itunes Podcast  \n",
       "26    [null, paleo, protein]                                 Itunes Podcast  \n",
       "27    [null, paleo, keto]                                    Itunes Podcast  \n",
       "28    [null, paleo, supplements, vitamins, fats]             Itunes Podcast  \n",
       "29    [null, paleo]                                          Itunes Podcast  \n",
       "...             ...                                                     ...  \n",
       "7082  [null, cooking]                                        Itunes Podcast  \n",
       "7083  [null, cooking]                                        Itunes Podcast  \n",
       "7084  [null, paleo]                                          Itunes Podcast  \n",
       "7085  [null, paleo]                                          Itunes Podcast  \n",
       "7086  [null, paleo]                                          Itunes Podcast  \n",
       "7087  [null, paleo, cooking]                                 Itunes Podcast  \n",
       "7088  [null, paleo, meat]                                    Itunes Podcast  \n",
       "7089  [null, general_nutrition]                              Itunes Podcast  \n",
       "7090  [null, paleo]                                          Itunes Podcast  \n",
       "7091  [null, paleo]                                          Itunes Podcast  \n",
       "7092  [null, general_nutrition]                              Itunes Podcast  \n",
       "7093  [null, general_nutrition]                              Itunes Podcast  \n",
       "7094  [null, general_nutrition]                              Itunes Podcast  \n",
       "7095  [null, general_nutrition]                              Itunes Podcast  \n",
       "7096  [null, general_nutrition]                              Itunes Podcast  \n",
       "7097  [null, general_nutrition]                              Itunes Podcast  \n",
       "7098  [gut, null]                                            Itunes Podcast  \n",
       "7099  [null, general_nutrition]                              Itunes Podcast  \n",
       "7100  [null, general_nutrition]                              Itunes Podcast  \n",
       "7101  [null, general_nutrition]                              Itunes Podcast  \n",
       "7102  [null, general_nutrition]                              Itunes Podcast  \n",
       "7103  [null, general_nutrition]                              Itunes Podcast  \n",
       "7104  [null, general_nutrition]                              Itunes Podcast  \n",
       "7105  [null, general_nutrition]                              Itunes Podcast  \n",
       "7106  [null, general_nutrition]                              Itunes Podcast  \n",
       "7107  [null, general_nutrition]                              Itunes Podcast  \n",
       "7108  [null, ketogenic, keto]                                Itunes Podcast  \n",
       "7109  [null, general_nutrition]                              Itunes Podcast  \n",
       "7110  [null, general_nutrition]                              Itunes Podcast  \n",
       "7111  [null, general_nutrition]                              Itunes Podcast  \n",
       "\n",
       "[7112 rows x 13 columns]"
      ]
     },
     "execution_count": 6,
     "metadata": {},
     "output_type": "execute_result"
    }
   ],
   "source": [
    "df"
   ]
  },
  {
   "cell_type": "code",
   "execution_count": 7,
   "metadata": {},
   "outputs": [],
   "source": [
    "# x = [[category.name for category in content.categories] for content in session.query(Content).all()]\n",
    "# y = [l for l in x if len(l) > 2]"
   ]
  },
  {
   "cell_type": "markdown",
   "metadata": {
    "extensions": {
     "jupyter_dashboards": {
      "version": 1,
      "views": {
       "grid_default": {},
       "report_default": {
        "hidden": false
       }
      }
     }
    }
   },
   "source": [
    "# Total Content Per Medium & Formality"
   ]
  },
  {
   "cell_type": "code",
   "execution_count": 10,
   "metadata": {},
   "outputs": [
    {
     "data": {
      "text/html": [
       "<div>\n",
       "<style scoped>\n",
       "    .dataframe tbody tr th:only-of-type {\n",
       "        vertical-align: middle;\n",
       "    }\n",
       "\n",
       "    .dataframe tbody tr th {\n",
       "        vertical-align: top;\n",
       "    }\n",
       "\n",
       "    .dataframe thead th {\n",
       "        text-align: right;\n",
       "    }\n",
       "</style>\n",
       "<table border=\"1\" class=\"dataframe\">\n",
       "  <thead>\n",
       "    <tr style=\"text-align: right;\">\n",
       "      <th></th>\n",
       "      <th></th>\n",
       "      <th></th>\n",
       "      <th>content_url</th>\n",
       "    </tr>\n",
       "    <tr>\n",
       "      <th>formality</th>\n",
       "      <th>medium</th>\n",
       "      <th>api_id</th>\n",
       "      <th></th>\n",
       "    </tr>\n",
       "  </thead>\n",
       "  <tbody>\n",
       "    <tr>\n",
       "      <th>Intermediate</th>\n",
       "      <th>audio</th>\n",
       "      <th>Itunes Podcast</th>\n",
       "      <td>7109</td>\n",
       "    </tr>\n",
       "  </tbody>\n",
       "</table>\n",
       "</div>"
      ],
      "text/plain": [
       "                                    content_url\n",
       "formality    medium api_id                     \n",
       "Intermediate audio  Itunes Podcast  7109       "
      ]
     },
     "execution_count": 10,
     "metadata": {},
     "output_type": "execute_result"
    }
   ],
   "source": [
    "total = df[['content_url','formality','medium','api_id']].groupby(['formality','medium','api_id']).nunique()\n",
    "total[['content_url']]"
   ]
  },
  {
   "cell_type": "code",
   "execution_count": 11,
   "metadata": {
    "extensions": {
     "jupyter_dashboards": {
      "version": 1,
      "views": {
       "grid_default": {},
       "report_default": {
        "hidden": false
       }
      }
     }
    }
   },
   "outputs": [
    {
     "data": {
      "text/html": [
       "<div>\n",
       "<style scoped>\n",
       "    .dataframe tbody tr th:only-of-type {\n",
       "        vertical-align: middle;\n",
       "    }\n",
       "\n",
       "    .dataframe tbody tr th {\n",
       "        vertical-align: top;\n",
       "    }\n",
       "\n",
       "    .dataframe thead th {\n",
       "        text-align: right;\n",
       "    }\n",
       "</style>\n",
       "<table border=\"1\" class=\"dataframe\">\n",
       "  <thead>\n",
       "    <tr style=\"text-align: right;\">\n",
       "      <th></th>\n",
       "      <th></th>\n",
       "      <th></th>\n",
       "      <th></th>\n",
       "      <th>content_url</th>\n",
       "    </tr>\n",
       "    <tr>\n",
       "      <th>formality</th>\n",
       "      <th>medium</th>\n",
       "      <th>difficulty</th>\n",
       "      <th>api_id</th>\n",
       "      <th></th>\n",
       "    </tr>\n",
       "  </thead>\n",
       "  <tbody>\n",
       "    <tr>\n",
       "      <th rowspan=\"3\" valign=\"top\">Intermediate</th>\n",
       "      <th rowspan=\"3\" valign=\"top\">audio</th>\n",
       "      <th>Easy</th>\n",
       "      <th>Itunes Podcast</th>\n",
       "      <td>2355</td>\n",
       "    </tr>\n",
       "    <tr>\n",
       "      <th>Hard</th>\n",
       "      <th>Itunes Podcast</th>\n",
       "      <td>2403</td>\n",
       "    </tr>\n",
       "    <tr>\n",
       "      <th>Medium</th>\n",
       "      <th>Itunes Podcast</th>\n",
       "      <td>2351</td>\n",
       "    </tr>\n",
       "  </tbody>\n",
       "</table>\n",
       "</div>"
      ],
      "text/plain": [
       "                                               content_url\n",
       "formality    medium difficulty api_id                     \n",
       "Intermediate audio  Easy       Itunes Podcast  2355       \n",
       "                    Hard       Itunes Podcast  2403       \n",
       "                    Medium     Itunes Podcast  2351       "
      ]
     },
     "execution_count": 11,
     "metadata": {},
     "output_type": "execute_result"
    }
   ],
   "source": [
    "total = df[['content_url','formality','medium','difficulty','api_id']].groupby(['formality','medium','difficulty','api_id']).nunique()\n",
    "total[['content_url']]"
   ]
  },
  {
   "cell_type": "markdown",
   "metadata": {
    "extensions": {
     "jupyter_dashboards": {
      "version": 1,
      "views": {
       "grid_default": {},
       "report_default": {
        "hidden": false
       }
      }
     }
    }
   },
   "source": [
    "# Total Unique Categories and Providers per Medium & Formality"
   ]
  },
  {
   "cell_type": "code",
   "execution_count": 10,
   "metadata": {
    "extensions": {
     "jupyter_dashboards": {
      "version": 1,
      "views": {
       "grid_default": {},
       "report_default": {
        "hidden": false
       }
      }
     }
    }
   },
   "outputs": [
    {
     "ename": "IndexError",
     "evalue": "list index out of range",
     "output_type": "error",
     "traceback": [
      "\u001b[0;31m---------------------------------------------------------------------------\u001b[0m",
      "\u001b[0;31mIndexError\u001b[0m                                Traceback (most recent call last)",
      "\u001b[0;32m<ipython-input-10-cd7f78646ae2>\u001b[0m in \u001b[0;36m<module>\u001b[0;34m()\u001b[0m\n\u001b[0;32m----> 1\u001b[0;31m \u001b[0mplot_stacked_OVERALL\u001b[0m\u001b[0;34m(\u001b[0m\u001b[0;34m)\u001b[0m\u001b[0;34m\u001b[0m\u001b[0m\n\u001b[0m",
      "\u001b[0;32m~/Documents/Flatiron School/rabbit/newspackage/etl.py\u001b[0m in \u001b[0;36mplot_stacked_OVERALL\u001b[0;34m()\u001b[0m\n\u001b[1;32m    142\u001b[0m     trace1 = go.Bar(\n\u001b[1;32m    143\u001b[0m         \u001b[0mx\u001b[0m\u001b[0;34m=\u001b[0m \u001b[0mx\u001b[0m\u001b[0;34m,\u001b[0m\u001b[0;34m\u001b[0m\u001b[0m\n\u001b[0;32m--> 144\u001b[0;31m         \u001b[0my\u001b[0m\u001b[0;34m=\u001b[0m\u001b[0;34m[\u001b[0m\u001b[0mcount_formality_per_medium_OVERALL\u001b[0m\u001b[0;34m(\u001b[0m\u001b[0mx\u001b[0m\u001b[0;34m[\u001b[0m\u001b[0;36m0\u001b[0m\u001b[0;34m]\u001b[0m\u001b[0;34m,\u001b[0m\u001b[0;34m'Informal'\u001b[0m\u001b[0;34m)\u001b[0m\u001b[0;34m,\u001b[0m\u001b[0mcount_formality_per_medium_OVERALL\u001b[0m\u001b[0;34m(\u001b[0m\u001b[0mx\u001b[0m\u001b[0;34m[\u001b[0m\u001b[0;36m1\u001b[0m\u001b[0;34m]\u001b[0m\u001b[0;34m,\u001b[0m\u001b[0;34m'Informal'\u001b[0m\u001b[0;34m)\u001b[0m\u001b[0;34m,\u001b[0m\u001b[0mcount_formality_per_medium_OVERALL\u001b[0m\u001b[0;34m(\u001b[0m\u001b[0mx\u001b[0m\u001b[0;34m[\u001b[0m\u001b[0;36m2\u001b[0m\u001b[0;34m]\u001b[0m\u001b[0;34m,\u001b[0m\u001b[0;34m'Informal'\u001b[0m\u001b[0;34m)\u001b[0m\u001b[0;34m]\u001b[0m\u001b[0;34m,\u001b[0m\u001b[0;34m\u001b[0m\u001b[0m\n\u001b[0m\u001b[1;32m    145\u001b[0m         name='Informal')\n\u001b[1;32m    146\u001b[0m \u001b[0;34m\u001b[0m\u001b[0m\n",
      "\u001b[0;31mIndexError\u001b[0m: list index out of range"
     ]
    }
   ],
   "source": [
    "plot_stacked_OVERALL()"
   ]
  },
  {
   "cell_type": "markdown",
   "metadata": {
    "extensions": {
     "jupyter_dashboards": {
      "version": 1,
      "views": {
       "grid_default": {
        "col": 6,
        "height": 3,
        "hidden": false,
        "row": 0,
        "width": 6
       },
       "report_default": {
        "hidden": false
       }
      }
     }
    }
   },
   "source": [
    "# Ketogenic"
   ]
  },
  {
   "cell_type": "code",
   "execution_count": 11,
   "metadata": {
    "extensions": {
     "jupyter_dashboards": {
      "version": 1,
      "views": {
       "grid_default": {
        "col": 6,
        "height": 18,
        "hidden": false,
        "row": 3,
        "width": 6
       },
       "report_default": {
        "hidden": false
       }
      }
     }
    },
    "scrolled": false
   },
   "outputs": [
    {
     "data": {
      "application/vnd.jupyter.widget-view+json": {
       "model_id": "dfe878b6b3bd423380b999456448e3e5",
       "version_major": 2,
       "version_minor": 0
      },
      "text/plain": [
       "interactive(children=(IntSlider(value=1, description='Limit', max=5, min=1), ToggleButtons(description='Medium…"
      ]
     },
     "metadata": {},
     "output_type": "display_data"
    }
   ],
   "source": [
    "Limit_widget1 = widgets.IntSlider(min=1, max=5, step=1, value=1)\n",
    "Medium_widget1 = widgets.ToggleButtons(options = ['text', 'audio','video'], description ='Medium', button_style='')\n",
    "topic_widget1 = widgets.Dropdown(options = nutrition_cats,value='keto', description ='Topic', disabled=False)\n",
    "expertise_widget1 = widgets.ToggleButtons(options = ['Informal', 'Intermediate','Formal'], description ='Formality', button_style='')\n",
    "max_length_widget1 = widgets.IntSlider(min=0, max=100, step=10, value=20)\n",
    "difficulty_widget1 = widgets.ToggleButtons(options = ['Easy', 'Medium','Hard'], description ='Difficulty', button_style='')\n",
    "\n",
    "\n",
    "interact(query_content,Limit = Limit_widget1, Medium = Medium_widget1, search_param=topic_widget1, Formality = expertise_widget1, Max_Length = max_length_widget1,Difficulty = difficulty_widget1);"
   ]
  },
  {
   "cell_type": "code",
   "execution_count": 11,
   "metadata": {
    "extensions": {
     "jupyter_dashboards": {
      "version": 1,
      "views": {
       "grid_default": {
        "col": 0,
        "height": 19,
        "hidden": false,
        "row": 77,
        "width": 4
       },
       "report_default": {
        "hidden": false
       }
      }
     }
    }
   },
   "outputs": [
    {
     "data": {
      "application/vnd.jupyter.widget-view+json": {
       "model_id": "3b20a8415460457eb3fbc919a9ab9512",
       "version_major": 2,
       "version_minor": 0
      },
      "text/plain": [
       "interactive(children=(Dropdown(description='Topic', options=('keto', 'mct', 'natural', 'corn-fed', 'cruciferou…"
      ]
     },
     "metadata": {},
     "output_type": "display_data"
    }
   ],
   "source": [
    "alt_widget_1 = widgets.Dropdown(options = nutrition_cats,value='keto', description ='Topic', disabled=False)\n",
    "\n",
    "interact(plot_stacked, param = alt_widget_1);"
   ]
  },
  {
   "cell_type": "markdown",
   "metadata": {
    "extensions": {
     "jupyter_dashboards": {
      "version": 1,
      "views": {
       "grid_default": {
        "col": 0,
        "height": 3,
        "hidden": false,
        "row": 0,
        "width": 6
       },
       "report_default": {
        "hidden": false
       }
      }
     }
    }
   },
   "source": [
    "# Paleolithic"
   ]
  },
  {
   "cell_type": "code",
   "execution_count": 12,
   "metadata": {
    "extensions": {
     "jupyter_dashboards": {
      "version": 1,
      "views": {
       "grid_default": {
        "col": 0,
        "height": 18,
        "hidden": false,
        "row": 3,
        "width": 6
       },
       "report_default": {
        "hidden": false
       }
      }
     }
    }
   },
   "outputs": [
    {
     "data": {
      "application/vnd.jupyter.widget-view+json": {
       "model_id": "84d99f4c77c94d62a828c9f1faa7fa6f",
       "version_major": 2,
       "version_minor": 0
      },
      "text/plain": [
       "interactive(children=(IntSlider(value=1, description='Limit', max=5, min=1), ToggleButtons(description='Medium…"
      ]
     },
     "metadata": {},
     "output_type": "display_data"
    }
   ],
   "source": [
    "Limit_widget2 = widgets.IntSlider(min=1, max=5, step=1, value=1)\n",
    "Medium_widget2 = widgets.ToggleButtons(options = ['text', 'audio','video'], description ='Medium', button_style='')\n",
    "topic_widget2 = widgets.Dropdown(options = nutrition_cats,value='paleo', description ='Topic', disabled=False)\n",
    "expertise_widget2 = widgets.ToggleButtons(options = ['Informal', 'Intermediate','Formal'], description ='Formality', button_style='')\n",
    "max_length_widget2 = widgets.IntSlider(min=0, max=100, step=10, value=20)\n",
    "difficulty_widget2 = widgets.ToggleButtons(options = ['Easy', 'Medium','Hard'], description ='Difficulty', button_style='')\n",
    "\n",
    "\n",
    "interact(query_content,Limit = Limit_widget2, Medium = Medium_widget2, search_param=topic_widget2, Formality = expertise_widget2, Max_Length = max_length_widget2,Difficulty = difficulty_widget2);"
   ]
  },
  {
   "cell_type": "code",
   "execution_count": 13,
   "metadata": {
    "extensions": {
     "jupyter_dashboards": {
      "version": 1,
      "views": {
       "grid_default": {
        "col": 4,
        "height": 19,
        "hidden": false,
        "row": 77,
        "width": 4
       },
       "report_default": {
        "hidden": false
       }
      }
     }
    }
   },
   "outputs": [
    {
     "data": {
      "application/vnd.jupyter.widget-view+json": {
       "model_id": "6f9f5c4ac5de493dad2d378efcaf173e",
       "version_major": 2,
       "version_minor": 0
      },
      "text/plain": [
       "interactive(children=(Dropdown(description='Topic', index=14, options=('keto', 'mct', 'natural', 'corn-fed', '…"
      ]
     },
     "metadata": {},
     "output_type": "display_data"
    }
   ],
   "source": [
    "alt_widget_2 = widgets.Dropdown(options = nutrition_cats,value='paleo', description ='Topic', disabled=False)\n",
    "\n",
    "interact(plot_stacked, param = alt_widget_2);"
   ]
  },
  {
   "cell_type": "markdown",
   "metadata": {
    "extensions": {
     "jupyter_dashboards": {
      "version": 1,
      "views": {
       "grid_default": {
        "col": 6,
        "height": 3,
        "hidden": false,
        "row": 21,
        "width": 6
       },
       "report_default": {
        "hidden": false
       }
      }
     }
    }
   },
   "source": [
    "# Vegan"
   ]
  },
  {
   "cell_type": "code",
   "execution_count": 13,
   "metadata": {
    "extensions": {
     "jupyter_dashboards": {
      "version": 1,
      "views": {
       "grid_default": {
        "col": 6,
        "height": 18,
        "hidden": false,
        "row": 24,
        "width": 6
       },
       "report_default": {
        "hidden": false
       }
      }
     }
    },
    "scrolled": false
   },
   "outputs": [
    {
     "data": {
      "application/vnd.jupyter.widget-view+json": {
       "model_id": "15be5a5b6c794236839de0d86e650501",
       "version_major": 2,
       "version_minor": 0
      },
      "text/plain": [
       "interactive(children=(IntSlider(value=1, description='Limit', max=5, min=1), ToggleButtons(description='Medium…"
      ]
     },
     "metadata": {},
     "output_type": "display_data"
    }
   ],
   "source": [
    "Limit_widget3 = widgets.IntSlider(min=1, max=5, step=1, value=1)\n",
    "Medium_widget3 = widgets.ToggleButtons(options = ['text', 'audio','video'], description ='Medium', button_style='')\n",
    "topic_widget3 = widgets.Dropdown(options = nutrition_cats,value='vegan', description ='Topic', disabled=False)\n",
    "expertise_widget3 = widgets.ToggleButtons(options = ['Informal', 'Intermediate','Formal'], description ='Formality', button_style='')\n",
    "max_length_widget3 = widgets.IntSlider(min=0, max=100, step=10, value=20)\n",
    "difficulty_widget3 = widgets.ToggleButtons(options = ['Easy', 'Medium','Hard'], description ='Difficulty', button_style='')\n",
    "\n",
    "\n",
    "interact(query_content,Limit = Limit_widget3, Medium = Medium_widget3, search_param=topic_widget3, Formality = expertise_widget3, Max_Length = max_length_widget3, Difficulty = difficulty_widget3);"
   ]
  },
  {
   "cell_type": "code",
   "execution_count": 14,
   "metadata": {
    "extensions": {
     "jupyter_dashboards": {
      "version": 1,
      "views": {
       "grid_default": {
        "col": 8,
        "height": 19,
        "hidden": false,
        "row": 77,
        "width": 4
       },
       "report_default": {
        "hidden": false
       }
      }
     }
    }
   },
   "outputs": [
    {
     "data": {
      "application/vnd.jupyter.widget-view+json": {
       "model_id": "e1dfd72108fd47eba52afb6a8d569ae4",
       "version_major": 2,
       "version_minor": 0
      },
      "text/plain": [
       "interactive(children=(Dropdown(description='Topic', index=13, options=('keto', 'mct', 'natural', 'corn-fed', '…"
      ]
     },
     "metadata": {},
     "output_type": "display_data"
    }
   ],
   "source": [
    "alt_widget_3 = widgets.Dropdown(options = nutrition_cats,value='vegan', description ='Topic', disabled=False)\n",
    "\n",
    "interact(plot_stacked, param = alt_widget_3);"
   ]
  },
  {
   "cell_type": "markdown",
   "metadata": {
    "extensions": {
     "jupyter_dashboards": {
      "version": 1,
      "views": {
       "grid_default": {
        "col": 0,
        "height": 3,
        "hidden": false,
        "row": 21,
        "width": 6
       },
       "report_default": {
        "hidden": false
       }
      }
     }
    }
   },
   "source": [
    "# Vegetarian"
   ]
  },
  {
   "cell_type": "code",
   "execution_count": 15,
   "metadata": {
    "extensions": {
     "jupyter_dashboards": {
      "version": 1,
      "views": {
       "grid_default": {
        "col": 0,
        "height": 18,
        "hidden": false,
        "row": 24,
        "width": 6
       },
       "report_default": {
        "hidden": false
       }
      }
     }
    },
    "scrolled": false
   },
   "outputs": [
    {
     "data": {
      "application/vnd.jupyter.widget-view+json": {
       "model_id": "52049c53e4c142f8954c4c8f22e8f8dd",
       "version_major": 2,
       "version_minor": 0
      },
      "text/plain": [
       "interactive(children=(IntSlider(value=1, description='Limit', max=5, min=1), ToggleButtons(description='Medium…"
      ]
     },
     "metadata": {},
     "output_type": "display_data"
    }
   ],
   "source": [
    "Limit_widget4 = widgets.IntSlider(min=1, max=5, step=1, value=1)\n",
    "Medium_widget4 = widgets.ToggleButtons(options = ['text', 'audio','video'], description ='Medium', button_style='')\n",
    "topic_widget4 = widgets.Dropdown(options = nutrition_cats,value='vegetarian', description ='Topic', disabled=False)\n",
    "expertise_widget4 = widgets.ToggleButtons(options = ['Informal', 'Intermediate','Formal'], description ='Formality', button_style='')\n",
    "max_length_widget4 = widgets.IntSlider(min=0, max=200, step=10, value=20)\n",
    "difficulty_widget4 = widgets.ToggleButtons(options = ['Easy', 'Medium','Hard'], description ='Difficulty', button_style='')\n",
    "\n",
    "interact(query_content,Limit = Limit_widget4, Medium = Medium_widget4, search_param=topic_widget4, Formality = expertise_widget4, Max_Length = max_length_widget4, Difficulty = difficulty_widget4);"
   ]
  },
  {
   "cell_type": "code",
   "execution_count": 16,
   "metadata": {
    "extensions": {
     "jupyter_dashboards": {
      "version": 1,
      "views": {
       "grid_default": {
        "col": 0,
        "height": 19,
        "hidden": false,
        "row": 96,
        "width": 4
       },
       "report_default": {
        "hidden": false
       }
      }
     }
    }
   },
   "outputs": [
    {
     "data": {
      "application/vnd.jupyter.widget-view+json": {
       "model_id": "975c77a60e84472bbd38be1d58840679",
       "version_major": 2,
       "version_minor": 0
      },
      "text/plain": [
       "interactive(children=(Dropdown(description='Topic', index=14, options=('keto', 'mct', 'natural', 'corn-fed', '…"
      ]
     },
     "metadata": {},
     "output_type": "display_data"
    }
   ],
   "source": [
    "alt_widget_4 = widgets.Dropdown(options = nutrition_cats,value='vegetarian', description ='Topic', disabled=False)\n",
    "\n",
    "interact(plot_stacked, param = alt_widget_4);"
   ]
  },
  {
   "cell_type": "markdown",
   "metadata": {
    "extensions": {
     "jupyter_dashboards": {
      "version": 1,
      "views": {
       "grid_default": {},
       "report_default": {
        "hidden": false
       }
      }
     }
    }
   },
   "source": [
    "# General"
   ]
  },
  {
   "cell_type": "code",
   "execution_count": 17,
   "metadata": {
    "extensions": {
     "jupyter_dashboards": {
      "version": 1,
      "views": {
       "grid_default": {},
       "report_default": {
        "hidden": false
       }
      }
     }
    }
   },
   "outputs": [
    {
     "data": {
      "application/vnd.jupyter.widget-view+json": {
       "model_id": "29bf5e3a604d4c03a5a8076d03fb2478",
       "version_major": 2,
       "version_minor": 0
      },
      "text/plain": [
       "interactive(children=(IntSlider(value=1, description='Limit', max=5, min=1), ToggleButtons(description='Medium…"
      ]
     },
     "metadata": {},
     "output_type": "display_data"
    }
   ],
   "source": [
    "Limit_widget5 = widgets.IntSlider(min=1, max=5, step=1, value=1)\n",
    "Medium_widget5 = widgets.ToggleButtons(options = ['text', 'audio','video'], description ='Medium', button_style='')\n",
    "topic_widget5 = widgets.Dropdown(options = ['general'],value='general', description ='Topic', disabled=False)\n",
    "expertise_widget5 = widgets.ToggleButtons(options = ['Informal', 'Intermediate','Formal'], description ='Formality', button_style='')\n",
    "max_length_widget5 = widgets.IntSlider(min=0, max=300, step=10, value=20)\n",
    "difficulty_widget5 = widgets.ToggleButtons(options = ['Easy', 'Medium','Hard'], description ='Difficulty', button_style='')\n",
    "\n",
    "interact(query_content,Limit = Limit_widget5, Medium = Medium_widget5, search_param=topic_widget5, Formality = expertise_widget5, Max_Length = max_length_widget5,Difficulty - difficulty_widget5);"
   ]
  },
  {
   "cell_type": "code",
   "execution_count": 18,
   "metadata": {
    "extensions": {
     "jupyter_dashboards": {
      "version": 1,
      "views": {
       "grid_default": {},
       "report_default": {
        "hidden": false
       }
      }
     }
    }
   },
   "outputs": [
    {
     "data": {
      "application/vnd.jupyter.widget-view+json": {
       "model_id": "5027662bc045460aab5a39e44e32c53b",
       "version_major": 2,
       "version_minor": 0
      },
      "text/plain": [
       "interactive(children=(Dropdown(description='Topic', options=('general',), value='general'), Output()), _dom_cl…"
      ]
     },
     "metadata": {},
     "output_type": "display_data"
    }
   ],
   "source": [
    "alt_widget_5 = widgets.Dropdown(options = ['general'],value='general', description ='Topic', disabled=False)\n",
    "\n",
    "interact(plot_stacked, param = alt_widget_5);"
   ]
  },
  {
   "cell_type": "markdown",
   "metadata": {
    "extensions": {
     "jupyter_dashboards": {
      "version": 1,
      "views": {
       "grid_default": {
        "col": 0,
        "height": 4,
        "hidden": false,
        "row": 42,
        "width": 12
       },
       "report_default": {
        "hidden": false
       }
      }
     }
    }
   },
   "source": [
    "# Search"
   ]
  },
  {
   "cell_type": "code",
   "execution_count": 19,
   "metadata": {
    "extensions": {
     "jupyter_dashboards": {
      "version": 1,
      "views": {
       "grid_default": {
        "col": 0,
        "height": 31,
        "hidden": false,
        "row": 46,
        "width": 12
       },
       "report_default": {
        "hidden": true
       }
      }
     }
    }
   },
   "outputs": [],
   "source": [
    "# search_widget = widgets.Text(placeholder = 'Search News', description='Search:', disabled=False,continuous_update=False)\n",
    "# Limit_widget5 = widgets.IntSlider(min=1, max=5, step=1, value=1)\n",
    "# Medium_widget5 = widgets.ToggleButtons(options = ['text', 'audio','video'], description ='Medium', button_style='')\n",
    "\n",
    "\n",
    "\n",
    "\n",
    "# interact(query_content,search_param=search_widget,Limit = Limit_widget5, Medium = Medium_widget5);"
   ]
  }
 ],
 "metadata": {
  "extensions": {
   "jupyter_dashboards": {
    "activeView": "report_default",
    "version": 1,
    "views": {
     "grid_default": {
      "cellMargin": 10,
      "defaultCellHeight": 20,
      "maxColumns": 12,
      "name": "grid",
      "type": "grid"
     },
     "report_default": {
      "name": "report",
      "type": "report"
     }
    }
   }
  },
  "kernelspec": {
   "display_name": "Python 3",
   "language": "python",
   "name": "python3"
  },
  "language_info": {
   "codemirror_mode": {
    "name": "ipython",
    "version": 3
   },
   "file_extension": ".py",
   "mimetype": "text/x-python",
   "name": "python",
   "nbconvert_exporter": "python",
   "pygments_lexer": "ipython3",
   "version": "3.6.5"
  }
 },
 "nbformat": 4,
 "nbformat_minor": 2
}
